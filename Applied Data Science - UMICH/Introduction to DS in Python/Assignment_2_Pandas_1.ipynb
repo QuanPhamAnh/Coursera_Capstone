{
  "nbformat": 4,
  "nbformat_minor": 0,
  "metadata": {
    "anaconda-cloud": {},
    "coursera": {
      "schema_names": [
        "mooc_adswpy_1_v2_assignment2"
      ]
    },
    "hide_code_all_hidden": false,
    "kernelspec": {
      "display_name": "Python 3",
      "language": "python",
      "name": "python3"
    },
    "language_info": {
      "codemirror_mode": {
        "name": "ipython",
        "version": 3
      },
      "file_extension": ".py",
      "mimetype": "text/x-python",
      "name": "python",
      "nbconvert_exporter": "python",
      "pygments_lexer": "ipython3",
      "version": "3.7.3"
    },
    "colab": {
      "name": "Assignment 2 - Pandas 1.ipynb",
      "provenance": [],
      "toc_visible": true,
      "include_colab_link": true
    }
  },
  "cells": [
    {
      "cell_type": "markdown",
      "metadata": {
        "id": "view-in-github",
        "colab_type": "text"
      },
      "source": [
        "<a href=\"https://colab.research.google.com/github/QuanPhamAnh/Coursera_Capstone/blob/main/Applied%20Data%20Science%20-%20UMICH/Introduction%20to%20DS%20in%20Python/Assignment_2_Pandas_1.ipynb\" target=\"_parent\"><img src=\"https://colab.research.google.com/assets/colab-badge.svg\" alt=\"Open In Colab\"/></a>"
      ]
    },
    {
      "cell_type": "markdown",
      "metadata": {
        "deletable": false,
        "editable": false,
        "nbgrader": {
          "checksum": "5a8d839ee00398fa3bd3bc58ec642beb",
          "grade": false,
          "grade_id": "cell-a839e7b47494b4c3",
          "locked": true,
          "schema_version": 1,
          "solution": false
        },
        "id": "9pHrW3st5v0c"
      },
      "source": [
        "# Assignment 2\n",
        "For this assignment you'll be looking at 2017 data on immunizations from the CDC. Your datafile for this assignment is in [assets/NISPUF17.csv](assets/NISPUF17.csv). A data users guide for this, which you'll need to map the variables in the data to the questions being asked, is available at [assets/NIS-PUF17-DUG.pdf](assets/NIS-PUF17-DUG.pdf). **Note: you may have to go to your Jupyter tree (click on the Coursera image) and navigate to the assignment 2 assets folder to see this PDF file).**"
      ]
    },
    {
      "cell_type": "code",
      "metadata": {
        "id": "2wVR_3Y86gwA"
      },
      "source": [
        "import pandas as pd\n",
        "import numpy as np\n",
        "df = pd.read_csv('/content/NISPUF17.csv', index_col = 0)"
      ],
      "execution_count": 1,
      "outputs": []
    },
    {
      "cell_type": "code",
      "metadata": {
        "colab": {
          "base_uri": "https://localhost:8080/",
          "height": 160
        },
        "id": "U5-bJtTy6siB",
        "outputId": "30b2baf1-1413-4fc3-e5f8-e3b1e22ff3c0"
      },
      "source": [
        "df.head(2)"
      ],
      "execution_count": 2,
      "outputs": [
        {
          "output_type": "execute_result",
          "data": {
            "text/html": [
              "<div>\n",
              "<style scoped>\n",
              "    .dataframe tbody tr th:only-of-type {\n",
              "        vertical-align: middle;\n",
              "    }\n",
              "\n",
              "    .dataframe tbody tr th {\n",
              "        vertical-align: top;\n",
              "    }\n",
              "\n",
              "    .dataframe thead th {\n",
              "        text-align: right;\n",
              "    }\n",
              "</style>\n",
              "<table border=\"1\" class=\"dataframe\">\n",
              "  <thead>\n",
              "    <tr style=\"text-align: right;\">\n",
              "      <th></th>\n",
              "      <th>SEQNUMC</th>\n",
              "      <th>SEQNUMHH</th>\n",
              "      <th>PDAT</th>\n",
              "      <th>PROVWT_D</th>\n",
              "      <th>RDDWT_D</th>\n",
              "      <th>STRATUM</th>\n",
              "      <th>YEAR</th>\n",
              "      <th>AGECPOXR</th>\n",
              "      <th>HAD_CPOX</th>\n",
              "      <th>AGEGRP</th>\n",
              "      <th>BF_ENDR06</th>\n",
              "      <th>BF_EXCLR06</th>\n",
              "      <th>BF_FORMR08</th>\n",
              "      <th>BFENDFL06</th>\n",
              "      <th>BFFORMFL06</th>\n",
              "      <th>C1R</th>\n",
              "      <th>C5R</th>\n",
              "      <th>CBF_01</th>\n",
              "      <th>CEN_REG</th>\n",
              "      <th>CHILDNM</th>\n",
              "      <th>CWIC_01</th>\n",
              "      <th>CWIC_02</th>\n",
              "      <th>EDUC1</th>\n",
              "      <th>FRSTBRN</th>\n",
              "      <th>I_HISP_K</th>\n",
              "      <th>INCPORAR</th>\n",
              "      <th>INCPORAR_I</th>\n",
              "      <th>INCPOV1</th>\n",
              "      <th>INCQ298A</th>\n",
              "      <th>LANGUAGE</th>\n",
              "      <th>M_AGEGRP2</th>\n",
              "      <th>MARITAL2</th>\n",
              "      <th>MOBIL_I</th>\n",
              "      <th>NUM_PHONE</th>\n",
              "      <th>NUM_CELLS_HH</th>\n",
              "      <th>NUM_CELLS_PARENTS</th>\n",
              "      <th>RACE_K</th>\n",
              "      <th>RACEETHK</th>\n",
              "      <th>RENT_OWN</th>\n",
              "      <th>SEX</th>\n",
              "      <th>...</th>\n",
              "      <th>XMMRTY8</th>\n",
              "      <th>XMMRTY9</th>\n",
              "      <th>XPCVTY1</th>\n",
              "      <th>XPCVTY2</th>\n",
              "      <th>XPCVTY3</th>\n",
              "      <th>XPCVTY4</th>\n",
              "      <th>XPCVTY5</th>\n",
              "      <th>XPCVTY6</th>\n",
              "      <th>XPCVTY7</th>\n",
              "      <th>XPCVTY8</th>\n",
              "      <th>XPCVTY9</th>\n",
              "      <th>XPOLTY1</th>\n",
              "      <th>XPOLTY2</th>\n",
              "      <th>XPOLTY3</th>\n",
              "      <th>XPOLTY4</th>\n",
              "      <th>XPOLTY5</th>\n",
              "      <th>XPOLTY6</th>\n",
              "      <th>XPOLTY7</th>\n",
              "      <th>XPOLTY8</th>\n",
              "      <th>XPOLTY9</th>\n",
              "      <th>XROTTY1</th>\n",
              "      <th>XROTTY2</th>\n",
              "      <th>XROTTY3</th>\n",
              "      <th>XROTTY4</th>\n",
              "      <th>XROTTY5</th>\n",
              "      <th>XROTTY6</th>\n",
              "      <th>XROTTY7</th>\n",
              "      <th>XROTTY8</th>\n",
              "      <th>XROTTY9</th>\n",
              "      <th>XVRCTY1</th>\n",
              "      <th>XVRCTY2</th>\n",
              "      <th>XVRCTY3</th>\n",
              "      <th>XVRCTY4</th>\n",
              "      <th>XVRCTY5</th>\n",
              "      <th>XVRCTY6</th>\n",
              "      <th>XVRCTY7</th>\n",
              "      <th>XVRCTY8</th>\n",
              "      <th>XVRCTY9</th>\n",
              "      <th>INS_STAT2_I</th>\n",
              "      <th>INS_BREAK_I</th>\n",
              "    </tr>\n",
              "  </thead>\n",
              "  <tbody>\n",
              "    <tr>\n",
              "      <th>1</th>\n",
              "      <td>128521</td>\n",
              "      <td>12852</td>\n",
              "      <td>2</td>\n",
              "      <td>NaN</td>\n",
              "      <td>235.916956</td>\n",
              "      <td>1031</td>\n",
              "      <td>2017</td>\n",
              "      <td>NaN</td>\n",
              "      <td>2</td>\n",
              "      <td>1</td>\n",
              "      <td>395.6875</td>\n",
              "      <td>121.75</td>\n",
              "      <td>182.625</td>\n",
              "      <td>NaN</td>\n",
              "      <td>NaN</td>\n",
              "      <td>8</td>\n",
              "      <td>1</td>\n",
              "      <td>1</td>\n",
              "      <td>3</td>\n",
              "      <td>3</td>\n",
              "      <td>1</td>\n",
              "      <td>1.0</td>\n",
              "      <td>4</td>\n",
              "      <td>1</td>\n",
              "      <td>2</td>\n",
              "      <td>1.807991</td>\n",
              "      <td>1.807991</td>\n",
              "      <td>1</td>\n",
              "      <td>14</td>\n",
              "      <td>1</td>\n",
              "      <td>2</td>\n",
              "      <td>2</td>\n",
              "      <td>2</td>\n",
              "      <td>1.0</td>\n",
              "      <td>3</td>\n",
              "      <td>1.0</td>\n",
              "      <td>1</td>\n",
              "      <td>2</td>\n",
              "      <td>1</td>\n",
              "      <td>1</td>\n",
              "      <td>...</td>\n",
              "      <td>NaN</td>\n",
              "      <td>NaN</td>\n",
              "      <td>NaN</td>\n",
              "      <td>NaN</td>\n",
              "      <td>NaN</td>\n",
              "      <td>NaN</td>\n",
              "      <td>NaN</td>\n",
              "      <td>NaN</td>\n",
              "      <td>NaN</td>\n",
              "      <td>NaN</td>\n",
              "      <td>NaN</td>\n",
              "      <td></td>\n",
              "      <td></td>\n",
              "      <td></td>\n",
              "      <td></td>\n",
              "      <td></td>\n",
              "      <td></td>\n",
              "      <td>NaN</td>\n",
              "      <td>NaN</td>\n",
              "      <td>NaN</td>\n",
              "      <td></td>\n",
              "      <td></td>\n",
              "      <td></td>\n",
              "      <td></td>\n",
              "      <td>NaN</td>\n",
              "      <td>NaN</td>\n",
              "      <td>NaN</td>\n",
              "      <td>NaN</td>\n",
              "      <td>NaN</td>\n",
              "      <td></td>\n",
              "      <td></td>\n",
              "      <td></td>\n",
              "      <td>NaN</td>\n",
              "      <td>NaN</td>\n",
              "      <td>NaN</td>\n",
              "      <td>NaN</td>\n",
              "      <td>NaN</td>\n",
              "      <td>NaN</td>\n",
              "      <td>NaN</td>\n",
              "      <td>NaN</td>\n",
              "    </tr>\n",
              "    <tr>\n",
              "      <th>2</th>\n",
              "      <td>10741</td>\n",
              "      <td>1074</td>\n",
              "      <td>2</td>\n",
              "      <td>NaN</td>\n",
              "      <td>957.353840</td>\n",
              "      <td>1068</td>\n",
              "      <td>2017</td>\n",
              "      <td>NaN</td>\n",
              "      <td>2</td>\n",
              "      <td>1</td>\n",
              "      <td>NaN</td>\n",
              "      <td>NaN</td>\n",
              "      <td>NaN</td>\n",
              "      <td>NaN</td>\n",
              "      <td>NaN</td>\n",
              "      <td>6</td>\n",
              "      <td>1</td>\n",
              "      <td>2</td>\n",
              "      <td>4</td>\n",
              "      <td>3</td>\n",
              "      <td>1</td>\n",
              "      <td>2.0</td>\n",
              "      <td>3</td>\n",
              "      <td>1</td>\n",
              "      <td>2</td>\n",
              "      <td>2.338634</td>\n",
              "      <td>2.338634</td>\n",
              "      <td>2</td>\n",
              "      <td>13</td>\n",
              "      <td>1</td>\n",
              "      <td>2</td>\n",
              "      <td>1</td>\n",
              "      <td>2</td>\n",
              "      <td>1.0</td>\n",
              "      <td>3</td>\n",
              "      <td>3.0</td>\n",
              "      <td>2</td>\n",
              "      <td>3</td>\n",
              "      <td>1</td>\n",
              "      <td>1</td>\n",
              "      <td>...</td>\n",
              "      <td>NaN</td>\n",
              "      <td>NaN</td>\n",
              "      <td>NaN</td>\n",
              "      <td>NaN</td>\n",
              "      <td>NaN</td>\n",
              "      <td>NaN</td>\n",
              "      <td>NaN</td>\n",
              "      <td>NaN</td>\n",
              "      <td>NaN</td>\n",
              "      <td>NaN</td>\n",
              "      <td>NaN</td>\n",
              "      <td></td>\n",
              "      <td></td>\n",
              "      <td></td>\n",
              "      <td></td>\n",
              "      <td></td>\n",
              "      <td></td>\n",
              "      <td>NaN</td>\n",
              "      <td>NaN</td>\n",
              "      <td>NaN</td>\n",
              "      <td></td>\n",
              "      <td></td>\n",
              "      <td></td>\n",
              "      <td></td>\n",
              "      <td>NaN</td>\n",
              "      <td>NaN</td>\n",
              "      <td>NaN</td>\n",
              "      <td>NaN</td>\n",
              "      <td>NaN</td>\n",
              "      <td></td>\n",
              "      <td></td>\n",
              "      <td></td>\n",
              "      <td>NaN</td>\n",
              "      <td>NaN</td>\n",
              "      <td>NaN</td>\n",
              "      <td>NaN</td>\n",
              "      <td>NaN</td>\n",
              "      <td>NaN</td>\n",
              "      <td>NaN</td>\n",
              "      <td>NaN</td>\n",
              "    </tr>\n",
              "  </tbody>\n",
              "</table>\n",
              "<p>2 rows × 453 columns</p>\n",
              "</div>"
            ],
            "text/plain": [
              "   SEQNUMC  SEQNUMHH  PDAT  ...  XVRCTY9  INS_STAT2_I  INS_BREAK_I\n",
              "1   128521     12852     2  ...      NaN          NaN          NaN\n",
              "2    10741      1074     2  ...      NaN          NaN          NaN\n",
              "\n",
              "[2 rows x 453 columns]"
            ]
          },
          "metadata": {
            "tags": []
          },
          "execution_count": 2
        }
      ]
    },
    {
      "cell_type": "code",
      "metadata": {
        "colab": {
          "base_uri": "https://localhost:8080/"
        },
        "id": "SaNcvb5o6vLT",
        "outputId": "228c7111-2f90-42f7-8a79-b5be9b3863de"
      },
      "source": [
        "df.shape"
      ],
      "execution_count": 3,
      "outputs": [
        {
          "output_type": "execute_result",
          "data": {
            "text/plain": [
              "(28465, 453)"
            ]
          },
          "metadata": {
            "tags": []
          },
          "execution_count": 3
        }
      ]
    },
    {
      "cell_type": "markdown",
      "metadata": {
        "deletable": false,
        "editable": false,
        "hideCode": false,
        "hidePrompt": false,
        "nbgrader": {
          "checksum": "aaa5e730f40ba21c1bc94f864bad4742",
          "grade": false,
          "grade_id": "cell-58fc2e5938733f6a",
          "locked": true,
          "schema_version": 1,
          "solution": false
        },
        "id": "fD7Degj_5v0q"
      },
      "source": [
        "## Question 1\n",
        "Write a function called `proportion_of_education` which returns the proportion of children in the dataset who had a mother with the education levels equal to less than high school (<12), high school (12), more than high school but not a college graduate (>12) and college degree.\n",
        "\n",
        "*This function should return a dictionary in the form of (use the correct numbers, do not round numbers):* \n",
        "```\n",
        "    {\"less than high school\":0.2,\n",
        "    \"high school\":0.4,\n",
        "    \"more than high school but not college\":0.2,\n",
        "    \"college\":0.2}\n",
        "```\n"
      ]
    },
    {
      "cell_type": "code",
      "metadata": {
        "deletable": false,
        "nbgrader": {
          "checksum": "0ac58deb3f5ac988c643e903cbee7f3a",
          "grade": false,
          "grade_id": "cell-eea16d020eb52ae7",
          "locked": false,
          "schema_version": 1,
          "solution": true
        },
        "id": "OXc5p4PO5v0r"
      },
      "source": [
        "def proportion_of_education():\n",
        "    # your code goes here\n",
        "\n",
        "    educ = {}\n",
        "    all = df['EDUC1'].count()\n",
        "    less_than_high_school = len(df[df['EDUC1'] == 1])/all\n",
        "    high_school = len(df[df['EDUC1'] == 2])/all\n",
        "    more_than_high_school = len(df[df['EDUC1'] == 3])/all\n",
        "    college = len(df[df['EDUC1'] == 4])/all\n",
        "\n",
        "    educ['less than high school'] = less_than_high_school\n",
        "    educ['high school'] = high_school\n",
        "    educ['more than high school but not college'] = more_than_high_school\n",
        "    educ['college'] = college\n",
        "\n",
        "    return educ\n",
        "\n",
        "    # YOUR CODE HERE\n",
        "    raise NotImplementedError()"
      ],
      "execution_count": 4,
      "outputs": []
    },
    {
      "cell_type": "code",
      "metadata": {
        "deletable": false,
        "editable": false,
        "hideCode": false,
        "hidePrompt": false,
        "nbgrader": {
          "checksum": "ac5d91a24a7f72f66c25d242c3d24a50",
          "grade": true,
          "grade_id": "cell-c0eeef201366f51c",
          "locked": true,
          "points": 1,
          "schema_version": 1,
          "solution": false
        },
        "id": "6Hi0OonF5v0u"
      },
      "source": [
        "assert type(proportion_of_education())==type({}), \"You must return a dictionary.\"\n",
        "assert len(proportion_of_education()) == 4, \"You have not returned a dictionary with four items in it.\"\n",
        "assert \"less than high school\" in proportion_of_education().keys(), \"You have not returned a dictionary with the correct keys.\"\n",
        "assert \"high school\" in proportion_of_education().keys(), \"You have not returned a dictionary with the correct keys.\"\n",
        "assert \"more than high school but not college\" in proportion_of_education().keys(), \"You have not returned a dictionary with the correct keys.\"\n",
        "assert \"college\" in proportion_of_education().keys(), \"You have not returned a dictionary with the correct keys.\"\n"
      ],
      "execution_count": 5,
      "outputs": []
    },
    {
      "cell_type": "code",
      "metadata": {
        "colab": {
          "base_uri": "https://localhost:8080/"
        },
        "id": "YCjNR7199Q-j",
        "outputId": "618a1811-14f0-447d-ea59-0857484d596e"
      },
      "source": [
        "proportion_of_education()"
      ],
      "execution_count": 6,
      "outputs": [
        {
          "output_type": "execute_result",
          "data": {
            "text/plain": [
              "{'college': 0.47974705779026877,\n",
              " 'high school': 0.172352011241876,\n",
              " 'less than high school': 0.10202002459160373,\n",
              " 'more than high school but not college': 0.24588090637625154}"
            ]
          },
          "metadata": {
            "tags": []
          },
          "execution_count": 6
        }
      ]
    },
    {
      "cell_type": "markdown",
      "metadata": {
        "deletable": false,
        "editable": false,
        "nbgrader": {
          "checksum": "562b78b7b9b79580269be0a3bebf4b42",
          "grade": false,
          "grade_id": "cell-8fcbb64516283f52",
          "locked": true,
          "schema_version": 1,
          "solution": false
        },
        "id": "ycOv71Qs5v0w"
      },
      "source": [
        "## Question 2\n",
        "\n",
        "Let's explore the relationship between being fed breastmilk as a child and getting a seasonal influenza vaccine from a healthcare provider. Return a tuple of the average number of influenza vaccines for those children we know received breastmilk as a child and those who know did not.\n",
        "\n",
        "*This function should return a tuple in the form (use the correct numbers:*\n",
        "```\n",
        "(2.5, 0.1)\n",
        "```"
      ]
    },
    {
      "cell_type": "code",
      "metadata": {
        "deletable": false,
        "nbgrader": {
          "checksum": "a405d639063c4a6408365479f29c95c9",
          "grade": false,
          "grade_id": "cell-77f18c512324eabb",
          "locked": false,
          "schema_version": 1,
          "solution": true
        },
        "id": "1qReZC8S5v0y"
      },
      "source": [
        "def average_influenza_doses():\n",
        "    \n",
        "    breastmilk = df[df['CBF_01'] == 1]['P_NUMFLU'].sum()/len(df[df['CBF_01'] == 1]['P_NUMFLU'].dropna())\n",
        "    not_breastmilk = df[df['CBF_01'] == 2]['P_NUMFLU'].sum()/len(df[df['CBF_01'] == 2]['P_NUMFLU'].dropna())\n",
        "\n",
        "    return (breastmilk, not_breastmilk)\n",
        "\n",
        "    raise NotImplementedError()"
      ],
      "execution_count": 7,
      "outputs": []
    },
    {
      "cell_type": "code",
      "metadata": {
        "deletable": false,
        "editable": false,
        "nbgrader": {
          "checksum": "19be955e97fdf7162d43fbb7c2c40951",
          "grade": true,
          "grade_id": "cell-54a3ba6cff31caa7",
          "locked": true,
          "points": 1,
          "schema_version": 1,
          "solution": false
        },
        "id": "beC8o4s_5v0y"
      },
      "source": [
        "assert len(average_influenza_doses())==2, \"Return two values in a tuple, the first for yes and the second for no.\"\n"
      ],
      "execution_count": 8,
      "outputs": []
    },
    {
      "cell_type": "code",
      "metadata": {
        "colab": {
          "base_uri": "https://localhost:8080/"
        },
        "id": "CPoHJ92ABmYi",
        "outputId": "58116d2c-2f8f-4fda-b220-86b665f4cd36"
      },
      "source": [
        "average_influenza_doses()"
      ],
      "execution_count": 9,
      "outputs": [
        {
          "output_type": "execute_result",
          "data": {
            "text/plain": [
              "(1.8799187420058687, 1.5963945918878317)"
            ]
          },
          "metadata": {
            "tags": []
          },
          "execution_count": 9
        }
      ]
    },
    {
      "cell_type": "markdown",
      "metadata": {
        "deletable": false,
        "editable": false,
        "nbgrader": {
          "checksum": "e10e2163f5957a0c398ef4f0b76b4efe",
          "grade": false,
          "grade_id": "cell-f63377f3c97aa7c4",
          "locked": true,
          "schema_version": 1,
          "solution": false
        },
        "id": "gmjgk39P5v0z"
      },
      "source": [
        "## Question 3\n",
        "It would be interesting to see if there is any evidence of a link between vaccine effectiveness and sex of the child. Calculate the ratio of the number of children who contracted chickenpox but were vaccinated against it (at least one varicella dose) versus those who were vaccinated but did not contract chicken pox. Return results by sex. \n",
        "\n",
        "*This function should return a dictionary in the form of (use the correct numbers):* \n",
        "```\n",
        "    {\"male\":0.2,\n",
        "    \"female\":0.4}\n",
        "```\n",
        "\n",
        "Note: To aid in verification, the `chickenpox_by_sex()['female']` value the autograder is looking for starts with the digits `0.0077`."
      ]
    },
    {
      "cell_type": "code",
      "metadata": {
        "deletable": false,
        "nbgrader": {
          "checksum": "b4d1b58acae002bc73eb0b19f95bc4af",
          "grade": false,
          "grade_id": "cell-a0a9e6fe67698006",
          "locked": false,
          "schema_version": 1,
          "solution": true
        },
        "id": "6mNMlyfQ5v0z"
      },
      "source": [
        "def chickenpox_by_sex():\n",
        "    # YOUR CODE HERE\n",
        "\n",
        "    male = len(df[(df['P_NUMVRC'].gt(0)) & (df['HAD_CPOX'] == 1) & (df['SEX'] == 1)])/\\\n",
        "    len(df[(df['P_NUMVRC'].gt(0)) & (df['HAD_CPOX'] == 2) & (df['SEX'] == 1)]) \n",
        "    female = len(df[(df['P_NUMVRC'].gt(0)) & (df['HAD_CPOX'] == 1) & (df['SEX'] == 2)])/\\\n",
        "    len(df[(df['P_NUMVRC'].gt(0)) & (df['HAD_CPOX'] == 2) & (df['SEX'] == 2)])\n",
        "\n",
        "    return {'male' : male, 'female' : female}\n",
        "\n",
        "    raise NotImplementedError()"
      ],
      "execution_count": 10,
      "outputs": []
    },
    {
      "cell_type": "code",
      "metadata": {
        "deletable": false,
        "editable": false,
        "nbgrader": {
          "checksum": "1b6a113a633c55699ae478a3a9ee9c33",
          "grade": true,
          "grade_id": "cell-c4f1714db100c865",
          "locked": true,
          "points": 1,
          "schema_version": 1,
          "solution": false
        },
        "id": "nNqnK3vH5v00"
      },
      "source": [
        "assert len(chickenpox_by_sex())==2, \"Return a dictionary with two items, the first for males and the second for females.\"\n"
      ],
      "execution_count": 12,
      "outputs": []
    },
    {
      "cell_type": "code",
      "metadata": {
        "colab": {
          "base_uri": "https://localhost:8080/"
        },
        "id": "SnL7E8yAqwuS",
        "outputId": "6d51f8bc-c69b-42c5-b0a7-f58b90ee0e71"
      },
      "source": [
        "chickenpox_by_sex()"
      ],
      "execution_count": 11,
      "outputs": [
        {
          "output_type": "execute_result",
          "data": {
            "text/plain": [
              "{'female': 0.0077918259335489565, 'male': 0.009675583380762664}"
            ]
          },
          "metadata": {
            "tags": []
          },
          "execution_count": 11
        }
      ]
    },
    {
      "cell_type": "markdown",
      "metadata": {
        "id": "65I6J8eh5v01"
      },
      "source": [
        "## Question 4\n",
        "A correlation is a statistical relationship between two variables. If we wanted to know if vaccines work, we might look at the correlation between the use of the vaccine and whether it results in prevention of the infection or disease [1]. In this question, you are to see if there is a correlation between having had the chicken pox and the number of chickenpox vaccine doses given (varicella).\n",
        "\n",
        "Some notes on interpreting the answer. The `had_chickenpox_column` is either `1` (for yes) or `2` (for no), and the `num_chickenpox_vaccine_column` is the number of doses a child has been given of the varicella vaccine. A positive correlation (e.g., `corr > 0`) means that an increase in `had_chickenpox_column` (which means more no’s) would also increase the values of `num_chickenpox_vaccine_column` (which means more doses of vaccine). If there is a negative correlation (e.g., `corr < 0`), it indicates that having had chickenpox is related to an increase in the number of vaccine doses.\n",
        "\n",
        "Also, `pval` is the probability that we observe a correlation between `had_chickenpox_column` and `num_chickenpox_vaccine_column` which is greater than or equal to a particular value occurred by chance. A small `pval` means that the observed correlation is highly unlikely to occur by chance. In this case, `pval` should be very small (will end in `e-18` indicating a very small number).\n",
        "\n",
        "[1] This isn’t really the full picture, since we are not looking at when the dose was given. It’s possible that children had chickenpox and then their parents went to get them the vaccine. Does this dataset have the data we would need to investigate the timing of the dose?"
      ]
    },
    {
      "cell_type": "code",
      "metadata": {
        "deletable": false,
        "nbgrader": {
          "checksum": "3e645859949447913cd11d30eb33cb1e",
          "grade": false,
          "grade_id": "cell-8afff07f564cf79a",
          "locked": false,
          "schema_version": 1,
          "solution": true
        },
        "id": "UTR2iGd25v02"
      },
      "source": [
        "def corr_chickenpox():\n",
        "    import scipy.stats as stats\n",
        "    import numpy as np\n",
        "    import pandas as pd\n",
        "    \n",
        "    # this is just an example dataframe\n",
        "    #df=pd.DataFrame({\"had_chickenpox_column\":np.random.randint(1,3,size=(100)),\n",
        "    #              \"num_chickenpox_vaccine_column\":np.random.randint(0,6,size=(100))})\n",
        "    cpox_df = df[df['HAD_CPOX'].lt(3)].loc[:,['HAD_CPOX','P_NUMVRC']].dropna()\n",
        "    cpox_df.columns=['had_chickenpox_column','num_chickenpox_vaccine_column']    \n",
        "\n",
        "    # here is some stub code to actually run the correlation\n",
        "    corr, pval=stats.pearsonr(cpox_df[\"had_chickenpox_column\"], cpox_df[\"num_chickenpox_vaccine_column\"])\n",
        "    \n",
        "    # just return the correlation\n",
        "    \n",
        "    return corr\n",
        "\n",
        "    # YOUR CODE HERE\n",
        "    raise NotImplementedError()"
      ],
      "execution_count": 14,
      "outputs": []
    },
    {
      "cell_type": "code",
      "metadata": {
        "deletable": false,
        "editable": false,
        "nbgrader": {
          "checksum": "ac50ccb747b99f6bbcc76da017e66528",
          "grade": true,
          "grade_id": "cell-73408733533a29a5",
          "locked": true,
          "points": 1,
          "schema_version": 1,
          "solution": false
        },
        "id": "-NiEqW6v5v02"
      },
      "source": [
        "assert -1<=corr_chickenpox()<=1, \"You must return a float number between -1.0 and 1.0.\"\n"
      ],
      "execution_count": 15,
      "outputs": []
    },
    {
      "cell_type": "code",
      "metadata": {
        "colab": {
          "base_uri": "https://localhost:8080/"
        },
        "id": "6vZFK5rqsQ20",
        "outputId": "f45fb829-252f-4783-c172-54cb8ed21131"
      },
      "source": [
        "corr_chickenpox()"
      ],
      "execution_count": 16,
      "outputs": [
        {
          "output_type": "execute_result",
          "data": {
            "text/plain": [
              "0.07044873460148046"
            ]
          },
          "metadata": {
            "tags": []
          },
          "execution_count": 16
        }
      ]
    },
    {
      "cell_type": "code",
      "metadata": {
        "id": "ozE0hCEhsfOO"
      },
      "source": [
        ""
      ],
      "execution_count": 16,
      "outputs": []
    }
  ]
}