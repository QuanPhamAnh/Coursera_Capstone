{
  "nbformat": 4,
  "nbformat_minor": 0,
  "metadata": {
    "colab": {
      "name": "Improve data quality.ipynb",
      "provenance": [],
      "collapsed_sections": [],
      "include_colab_link": true
    },
    "kernelspec": {
      "display_name": "Python 3",
      "language": "python",
      "name": "python3"
    },
    "language_info": {
      "codemirror_mode": {
        "name": "ipython",
        "version": 2
      },
      "file_extension": ".py",
      "mimetype": "text/x-python",
      "name": "python",
      "nbconvert_exporter": "python",
      "pygments_lexer": "ipython2",
      "version": "2.7.18"
    }
  },
  "cells": [
    {
      "cell_type": "markdown",
      "metadata": {
        "id": "view-in-github",
        "colab_type": "text"
      },
      "source": [
        "<a href=\"https://colab.research.google.com/github/QuanPhamAnh/Coursera_Capstone/blob/main/Machine%20Learning%20with%20TensorFlow%20on%20Google%20Cloud%20Platform/Launching%20into%20ML/Improve_data_quality.ipynb\" target=\"_parent\"><img src=\"https://colab.research.google.com/assets/colab-badge.svg\" alt=\"Open In Colab\"/></a>"
      ]
    },
    {
      "cell_type": "markdown",
      "metadata": {
        "id": "rNdWfPXCjTjY"
      },
      "source": [
        "# Improving Data Quality\n",
        "\n",
        "**Learning Objectives**\n",
        "\n",
        "\n",
        "1. Resolve missing values\n",
        "2. Convert the Date feature column to a datetime format\n",
        "3. Rename a feature column, remove a value from a feature column\n",
        "4. Create one-hot encoding features\n",
        "5. Understand temporal feature conversions \n",
        "\n",
        "\n",
        "## Introduction \n",
        "\n",
        "Recall that machine learning models can only consume numeric data, and that numeric data should be \"1\"s or \"0\"s.  Data is said to be \"messy\" or \"untidy\" if it is missing attribute values, contains noise or outliers, has duplicates, wrong data, upper/lower case column names, and is essentially not ready for ingestion by a machine learning algorithm.  \n",
        "\n",
        "This notebook presents and solves some of the most common issues of \"untidy\" data.  Note that different problems will require different methods, and they are beyond the scope of this notebook.\n",
        "\n",
        "Each learning objective will correspond to a _#TODO_ in this student lab notebook -- try to complete this notebook first and then review the [solution notebook](https://github.com/GoogleCloudPlatform/training-data-analyst/blob/master/courses/machine_learning/deepdive2/launching_into_ml/solutions/improve_data_quality.ipynb)."
      ]
    },
    {
      "cell_type": "code",
      "metadata": {
        "colab": {
          "base_uri": "https://localhost:8080/"
        },
        "id": "lSyNueCCbi4E",
        "outputId": "4462adae-500e-468a-cee7-e3c42ab4fb00"
      },
      "source": [
        "!sudo chown -R jupyter:jupyter /home/jupyter/training-data-analyst"
      ],
      "execution_count": 1,
      "outputs": [
        {
          "output_type": "stream",
          "text": [
            "chown: invalid user: ‘jupyter:jupyter’\n"
          ],
          "name": "stdout"
        }
      ]
    },
    {
      "cell_type": "code",
      "metadata": {
        "colab": {
          "base_uri": "https://localhost:8080/"
        },
        "id": "kpdGAfOebi4F",
        "outputId": "a883427d-83ab-4e83-f8ef-49919655db79"
      },
      "source": [
        "# Ensure the right version of Tensorflow is installed.\n",
        "!pip freeze | grep tensorflow==2.1 || pip install tensorflow==2.1"
      ],
      "execution_count": 2,
      "outputs": [
        {
          "output_type": "stream",
          "text": [
            "Collecting tensorflow==2.1\n",
            "\u001b[?25l  Downloading https://files.pythonhosted.org/packages/1d/56/0dbdae2a3c527a119bec0d5cf441655fe030ce1daa6fa6b9542f7dbd8664/tensorflow-2.1.0-cp37-cp37m-manylinux2010_x86_64.whl (421.8MB)\n",
            "\u001b[K     |████████████████████████████████| 421.8MB 35kB/s \n",
            "\u001b[?25hRequirement already satisfied: six>=1.12.0 in /usr/local/lib/python3.7/dist-packages (from tensorflow==2.1) (1.15.0)\n",
            "Requirement already satisfied: grpcio>=1.8.6 in /usr/local/lib/python3.7/dist-packages (from tensorflow==2.1) (1.32.0)\n",
            "Collecting tensorboard<2.2.0,>=2.1.0\n",
            "\u001b[?25l  Downloading https://files.pythonhosted.org/packages/d9/41/bbf49b61370e4f4d245d4c6051dfb6db80cec672605c91b1652ac8cc3d38/tensorboard-2.1.1-py3-none-any.whl (3.8MB)\n",
            "\u001b[K     |████████████████████████████████| 3.9MB 46.0MB/s \n",
            "\u001b[?25hRequirement already satisfied: termcolor>=1.1.0 in /usr/local/lib/python3.7/dist-packages (from tensorflow==2.1) (1.1.0)\n",
            "Requirement already satisfied: absl-py>=0.7.0 in /usr/local/lib/python3.7/dist-packages (from tensorflow==2.1) (0.12.0)\n",
            "Requirement already satisfied: wheel>=0.26; python_version >= \"3\" in /usr/local/lib/python3.7/dist-packages (from tensorflow==2.1) (0.36.2)\n",
            "Requirement already satisfied: numpy<2.0,>=1.16.0 in /usr/local/lib/python3.7/dist-packages (from tensorflow==2.1) (1.19.5)\n",
            "Requirement already satisfied: keras-preprocessing>=1.1.0 in /usr/local/lib/python3.7/dist-packages (from tensorflow==2.1) (1.1.2)\n",
            "Requirement already satisfied: google-pasta>=0.1.6 in /usr/local/lib/python3.7/dist-packages (from tensorflow==2.1) (0.2.0)\n",
            "Collecting keras-applications>=1.0.8\n",
            "\u001b[?25l  Downloading https://files.pythonhosted.org/packages/71/e3/19762fdfc62877ae9102edf6342d71b28fbfd9dea3d2f96a882ce099b03f/Keras_Applications-1.0.8-py3-none-any.whl (50kB)\n",
            "\u001b[K     |████████████████████████████████| 51kB 5.2MB/s \n",
            "\u001b[?25hRequirement already satisfied: opt-einsum>=2.3.2 in /usr/local/lib/python3.7/dist-packages (from tensorflow==2.1) (3.3.0)\n",
            "Collecting tensorflow-estimator<2.2.0,>=2.1.0rc0\n",
            "\u001b[?25l  Downloading https://files.pythonhosted.org/packages/18/90/b77c328a1304437ab1310b463e533fa7689f4bfc41549593056d812fab8e/tensorflow_estimator-2.1.0-py2.py3-none-any.whl (448kB)\n",
            "\u001b[K     |████████████████████████████████| 450kB 47.3MB/s \n",
            "\u001b[?25hRequirement already satisfied: scipy==1.4.1; python_version >= \"3\" in /usr/local/lib/python3.7/dist-packages (from tensorflow==2.1) (1.4.1)\n",
            "Requirement already satisfied: wrapt>=1.11.1 in /usr/local/lib/python3.7/dist-packages (from tensorflow==2.1) (1.12.1)\n",
            "Collecting gast==0.2.2\n",
            "  Downloading https://files.pythonhosted.org/packages/4e/35/11749bf99b2d4e3cceb4d55ca22590b0d7c2c62b9de38ac4a4a7f4687421/gast-0.2.2.tar.gz\n",
            "Requirement already satisfied: protobuf>=3.8.0 in /usr/local/lib/python3.7/dist-packages (from tensorflow==2.1) (3.12.4)\n",
            "Requirement already satisfied: astor>=0.6.0 in /usr/local/lib/python3.7/dist-packages (from tensorflow==2.1) (0.8.1)\n",
            "Requirement already satisfied: requests<3,>=2.21.0 in /usr/local/lib/python3.7/dist-packages (from tensorboard<2.2.0,>=2.1.0->tensorflow==2.1) (2.23.0)\n",
            "Requirement already satisfied: google-auth<2,>=1.6.3 in /usr/local/lib/python3.7/dist-packages (from tensorboard<2.2.0,>=2.1.0->tensorflow==2.1) (1.28.0)\n",
            "Requirement already satisfied: werkzeug>=0.11.15 in /usr/local/lib/python3.7/dist-packages (from tensorboard<2.2.0,>=2.1.0->tensorflow==2.1) (1.0.1)\n",
            "Requirement already satisfied: markdown>=2.6.8 in /usr/local/lib/python3.7/dist-packages (from tensorboard<2.2.0,>=2.1.0->tensorflow==2.1) (3.3.4)\n",
            "Requirement already satisfied: google-auth-oauthlib<0.5,>=0.4.1 in /usr/local/lib/python3.7/dist-packages (from tensorboard<2.2.0,>=2.1.0->tensorflow==2.1) (0.4.3)\n",
            "Requirement already satisfied: setuptools>=41.0.0 in /usr/local/lib/python3.7/dist-packages (from tensorboard<2.2.0,>=2.1.0->tensorflow==2.1) (54.2.0)\n",
            "Requirement already satisfied: h5py in /usr/local/lib/python3.7/dist-packages (from keras-applications>=1.0.8->tensorflow==2.1) (2.10.0)\n",
            "Requirement already satisfied: chardet<4,>=3.0.2 in /usr/local/lib/python3.7/dist-packages (from requests<3,>=2.21.0->tensorboard<2.2.0,>=2.1.0->tensorflow==2.1) (3.0.4)\n",
            "Requirement already satisfied: idna<3,>=2.5 in /usr/local/lib/python3.7/dist-packages (from requests<3,>=2.21.0->tensorboard<2.2.0,>=2.1.0->tensorflow==2.1) (2.10)\n",
            "Requirement already satisfied: certifi>=2017.4.17 in /usr/local/lib/python3.7/dist-packages (from requests<3,>=2.21.0->tensorboard<2.2.0,>=2.1.0->tensorflow==2.1) (2020.12.5)\n",
            "Requirement already satisfied: urllib3!=1.25.0,!=1.25.1,<1.26,>=1.21.1 in /usr/local/lib/python3.7/dist-packages (from requests<3,>=2.21.0->tensorboard<2.2.0,>=2.1.0->tensorflow==2.1) (1.24.3)\n",
            "Requirement already satisfied: rsa<5,>=3.1.4; python_version >= \"3.6\" in /usr/local/lib/python3.7/dist-packages (from google-auth<2,>=1.6.3->tensorboard<2.2.0,>=2.1.0->tensorflow==2.1) (4.7.2)\n",
            "Requirement already satisfied: cachetools<5.0,>=2.0.0 in /usr/local/lib/python3.7/dist-packages (from google-auth<2,>=1.6.3->tensorboard<2.2.0,>=2.1.0->tensorflow==2.1) (4.2.1)\n",
            "Requirement already satisfied: pyasn1-modules>=0.2.1 in /usr/local/lib/python3.7/dist-packages (from google-auth<2,>=1.6.3->tensorboard<2.2.0,>=2.1.0->tensorflow==2.1) (0.2.8)\n",
            "Requirement already satisfied: importlib-metadata; python_version < \"3.8\" in /usr/local/lib/python3.7/dist-packages (from markdown>=2.6.8->tensorboard<2.2.0,>=2.1.0->tensorflow==2.1) (3.8.1)\n",
            "Requirement already satisfied: requests-oauthlib>=0.7.0 in /usr/local/lib/python3.7/dist-packages (from google-auth-oauthlib<0.5,>=0.4.1->tensorboard<2.2.0,>=2.1.0->tensorflow==2.1) (1.3.0)\n",
            "Requirement already satisfied: pyasn1>=0.1.3 in /usr/local/lib/python3.7/dist-packages (from rsa<5,>=3.1.4; python_version >= \"3.6\"->google-auth<2,>=1.6.3->tensorboard<2.2.0,>=2.1.0->tensorflow==2.1) (0.4.8)\n",
            "Requirement already satisfied: zipp>=0.5 in /usr/local/lib/python3.7/dist-packages (from importlib-metadata; python_version < \"3.8\"->markdown>=2.6.8->tensorboard<2.2.0,>=2.1.0->tensorflow==2.1) (3.4.1)\n",
            "Requirement already satisfied: typing-extensions>=3.6.4; python_version < \"3.8\" in /usr/local/lib/python3.7/dist-packages (from importlib-metadata; python_version < \"3.8\"->markdown>=2.6.8->tensorboard<2.2.0,>=2.1.0->tensorflow==2.1) (3.7.4.3)\n",
            "Requirement already satisfied: oauthlib>=3.0.0 in /usr/local/lib/python3.7/dist-packages (from requests-oauthlib>=0.7.0->google-auth-oauthlib<0.5,>=0.4.1->tensorboard<2.2.0,>=2.1.0->tensorflow==2.1) (3.1.0)\n",
            "Building wheels for collected packages: gast\n",
            "  Building wheel for gast (setup.py) ... \u001b[?25l\u001b[?25hdone\n",
            "  Created wheel for gast: filename=gast-0.2.2-cp37-none-any.whl size=7540 sha256=bb7e4fcd1167a47c3b50c44b2fb3828d62bb0fd1d15c53ba0c4f2dba7a648516\n",
            "  Stored in directory: /root/.cache/pip/wheels/5c/2e/7e/a1d4d4fcebe6c381f378ce7743a3ced3699feb89bcfbdadadd\n",
            "Successfully built gast\n",
            "\u001b[31mERROR: tensorflow-probability 0.12.1 has requirement gast>=0.3.2, but you'll have gast 0.2.2 which is incompatible.\u001b[0m\n",
            "Installing collected packages: tensorboard, keras-applications, tensorflow-estimator, gast, tensorflow\n",
            "  Found existing installation: tensorboard 2.4.1\n",
            "    Uninstalling tensorboard-2.4.1:\n",
            "      Successfully uninstalled tensorboard-2.4.1\n",
            "  Found existing installation: tensorflow-estimator 2.4.0\n",
            "    Uninstalling tensorflow-estimator-2.4.0:\n",
            "      Successfully uninstalled tensorflow-estimator-2.4.0\n",
            "  Found existing installation: gast 0.3.3\n",
            "    Uninstalling gast-0.3.3:\n",
            "      Successfully uninstalled gast-0.3.3\n",
            "  Found existing installation: tensorflow 2.4.1\n",
            "    Uninstalling tensorflow-2.4.1:\n",
            "      Successfully uninstalled tensorflow-2.4.1\n",
            "Successfully installed gast-0.2.2 keras-applications-1.0.8 tensorboard-2.1.1 tensorflow-2.1.0 tensorflow-estimator-2.1.0\n"
          ],
          "name": "stdout"
        }
      ]
    },
    {
      "cell_type": "markdown",
      "metadata": {
        "id": "LkQ3UIvjbi4G"
      },
      "source": [
        "Please ignore any incompatibility warnings and errors and re-run the cell to view the installed tensorflow version.\n"
      ]
    },
    {
      "cell_type": "markdown",
      "metadata": {
        "id": "VxyBFc_kKazA"
      },
      "source": [
        "Start by importing the necessary libraries for this lab."
      ]
    },
    {
      "cell_type": "markdown",
      "metadata": {
        "id": "dvyLentqbi4G"
      },
      "source": [
        "### Import Libraries"
      ]
    },
    {
      "cell_type": "code",
      "metadata": {
        "id": "VpwIJ55Nbi4G"
      },
      "source": [
        "import os\n",
        "import pandas as pd  # First, we'll import Pandas, a data processing and CSV file I/O library\n",
        "import numpy as np\n",
        "from datetime import datetime\n",
        "import matplotlib.pyplot as plt\n",
        "import seaborn as sns\n",
        "%matplotlib inline"
      ],
      "execution_count": 3,
      "outputs": []
    },
    {
      "cell_type": "markdown",
      "metadata": {
        "id": "ZU1rMN48bi4H"
      },
      "source": [
        "### Load the Dataset"
      ]
    },
    {
      "cell_type": "markdown",
      "metadata": {
        "id": "XWD1wW3jbi4H"
      },
      "source": [
        "The dataset is based on California's [Vehicle Fuel Type Count by Zip Code](https://data.ca.gov/dataset/vehicle-fuel-type-count-by-zip-codeSynthetic) report.  The dataset has been modified to make the data \"untidy\" and is thus a synthetic representation that can be used for learning purposes.  \n",
        "  \n",
        "Let's download the raw .csv data by copying the data from a cloud storage bucket.\n"
      ]
    },
    {
      "cell_type": "code",
      "metadata": {
        "id": "Ke4W4L6Rbi4H"
      },
      "source": [
        "if not os.path.isdir(\"../data/transport\"):\n",
        "    os.makedirs(\"../data/transport\")"
      ],
      "execution_count": 4,
      "outputs": []
    },
    {
      "cell_type": "code",
      "metadata": {
        "colab": {
          "base_uri": "https://localhost:8080/"
        },
        "id": "yuayRu5Qbi4I",
        "outputId": "cba40503-db5e-4b45-cdd2-a260d809c91c"
      },
      "source": [
        "!gsutil cp gs://cloud-training-demos/feat_eng/transport/untidy_vehicle_data.csv ../data/transport"
      ],
      "execution_count": 5,
      "outputs": [
        {
          "output_type": "stream",
          "text": [
            "Copying gs://cloud-training-demos/feat_eng/transport/untidy_vehicle_data.csv...\n",
            "/ [0 files][    0.0 B/ 47.2 KiB]                                                \r/ [1 files][ 47.2 KiB/ 47.2 KiB]                                                \r\n",
            "Operation completed over 1 objects/47.2 KiB.                                     \n"
          ],
          "name": "stdout"
        }
      ]
    },
    {
      "cell_type": "code",
      "metadata": {
        "colab": {
          "base_uri": "https://localhost:8080/"
        },
        "id": "KYaR7COCbi4J",
        "outputId": "56287eee-b252-4662-ceb1-d558dbfe2a02"
      },
      "source": [
        "!ls -l ../data/transport"
      ],
      "execution_count": 6,
      "outputs": [
        {
          "output_type": "stream",
          "text": [
            "total 48\n",
            "-rw-r--r-- 1 root root 48343 Mar 31 08:39 untidy_vehicle_data.csv\n"
          ],
          "name": "stdout"
        }
      ]
    },
    {
      "cell_type": "markdown",
      "metadata": {
        "id": "dO70DuyWbi4J"
      },
      "source": [
        "### Read Dataset into a Pandas DataFrame"
      ]
    },
    {
      "cell_type": "markdown",
      "metadata": {
        "id": "lM6-n6xntv3t"
      },
      "source": [
        "Next, let's read in the dataset just copied from the cloud storage bucket and create a Pandas DataFrame.  We also add a Pandas .head() function to show you the top 5 rows of data in the DataFrame. Head() and Tail() are \"best-practice\" functions used to investigate datasets.  "
      ]
    },
    {
      "cell_type": "code",
      "metadata": {
        "colab": {
          "base_uri": "https://localhost:8080/",
          "height": 204
        },
        "id": "REZ57BXCLdfG",
        "outputId": "b56394a9-4d8f-4962-a0ec-9a622e2fd5f5"
      },
      "source": [
        "df_transport = pd.read_csv('../data/transport/untidy_vehicle_data.csv')\n",
        "df_transport.head() # Output the first five rows."
      ],
      "execution_count": 7,
      "outputs": [
        {
          "output_type": "execute_result",
          "data": {
            "text/html": [
              "<div>\n",
              "<style scoped>\n",
              "    .dataframe tbody tr th:only-of-type {\n",
              "        vertical-align: middle;\n",
              "    }\n",
              "\n",
              "    .dataframe tbody tr th {\n",
              "        vertical-align: top;\n",
              "    }\n",
              "\n",
              "    .dataframe thead th {\n",
              "        text-align: right;\n",
              "    }\n",
              "</style>\n",
              "<table border=\"1\" class=\"dataframe\">\n",
              "  <thead>\n",
              "    <tr style=\"text-align: right;\">\n",
              "      <th></th>\n",
              "      <th>Date</th>\n",
              "      <th>Zip Code</th>\n",
              "      <th>Model Year</th>\n",
              "      <th>Fuel</th>\n",
              "      <th>Make</th>\n",
              "      <th>Light_Duty</th>\n",
              "      <th>Vehicles</th>\n",
              "    </tr>\n",
              "  </thead>\n",
              "  <tbody>\n",
              "    <tr>\n",
              "      <th>0</th>\n",
              "      <td>10/1/2018</td>\n",
              "      <td>90000</td>\n",
              "      <td>2006</td>\n",
              "      <td>Gasoline</td>\n",
              "      <td>OTHER/UNK</td>\n",
              "      <td>NaN</td>\n",
              "      <td>1.0</td>\n",
              "    </tr>\n",
              "    <tr>\n",
              "      <th>1</th>\n",
              "      <td>10/1/2018</td>\n",
              "      <td>NaN</td>\n",
              "      <td>2014</td>\n",
              "      <td>Gasoline</td>\n",
              "      <td>NaN</td>\n",
              "      <td>Yes</td>\n",
              "      <td>1.0</td>\n",
              "    </tr>\n",
              "    <tr>\n",
              "      <th>2</th>\n",
              "      <td>NaN</td>\n",
              "      <td>90000</td>\n",
              "      <td>NaN</td>\n",
              "      <td>Gasoline</td>\n",
              "      <td>OTHER/UNK</td>\n",
              "      <td>Yes</td>\n",
              "      <td>NaN</td>\n",
              "    </tr>\n",
              "    <tr>\n",
              "      <th>3</th>\n",
              "      <td>10/1/2018</td>\n",
              "      <td>90000</td>\n",
              "      <td>2017</td>\n",
              "      <td>Gasoline</td>\n",
              "      <td>OTHER/UNK</td>\n",
              "      <td>Yes</td>\n",
              "      <td>1.0</td>\n",
              "    </tr>\n",
              "    <tr>\n",
              "      <th>4</th>\n",
              "      <td>10/1/2018</td>\n",
              "      <td>90000</td>\n",
              "      <td>&lt;2006</td>\n",
              "      <td>Diesel and Diesel Hybrid</td>\n",
              "      <td>OTHER/UNK</td>\n",
              "      <td>No</td>\n",
              "      <td>55.0</td>\n",
              "    </tr>\n",
              "  </tbody>\n",
              "</table>\n",
              "</div>"
            ],
            "text/plain": [
              "        Date Zip Code Model Year  ...       Make Light_Duty Vehicles\n",
              "0  10/1/2018    90000       2006  ...  OTHER/UNK        NaN      1.0\n",
              "1  10/1/2018      NaN       2014  ...        NaN        Yes      1.0\n",
              "2        NaN    90000        NaN  ...  OTHER/UNK        Yes      NaN\n",
              "3  10/1/2018    90000       2017  ...  OTHER/UNK        Yes      1.0\n",
              "4  10/1/2018    90000      <2006  ...  OTHER/UNK         No     55.0\n",
              "\n",
              "[5 rows x 7 columns]"
            ]
          },
          "metadata": {
            "tags": []
          },
          "execution_count": 7
        }
      ]
    },
    {
      "cell_type": "markdown",
      "metadata": {
        "id": "pE4xC8o3bi4K"
      },
      "source": [
        "### DataFrame Column Data Types\n",
        "\n",
        "DataFrames may have heterogenous or \"mixed\" data types, that is, some columns are numbers, some are strings, and some are dates etc. Because CSV files do not contain information on what data types are contained in each column, Pandas infers the data types when loading the data, e.g. if a column contains only numbers, Pandas will set that column’s data type to numeric: integer or float.\n",
        "\n",
        "Run the next cell to see information on the DataFrame."
      ]
    },
    {
      "cell_type": "code",
      "metadata": {
        "colab": {
          "base_uri": "https://localhost:8080/"
        },
        "id": "ypznYivVbi4L",
        "outputId": "cf32c809-d488-4ebf-8068-8f96ad4ba7a3"
      },
      "source": [
        "df_transport.info()"
      ],
      "execution_count": 8,
      "outputs": [
        {
          "output_type": "stream",
          "text": [
            "<class 'pandas.core.frame.DataFrame'>\n",
            "RangeIndex: 999 entries, 0 to 998\n",
            "Data columns (total 7 columns):\n",
            " #   Column      Non-Null Count  Dtype  \n",
            "---  ------      --------------  -----  \n",
            " 0   Date        997 non-null    object \n",
            " 1   Zip Code    997 non-null    object \n",
            " 2   Model Year  997 non-null    object \n",
            " 3   Fuel        996 non-null    object \n",
            " 4   Make        996 non-null    object \n",
            " 5   Light_Duty  996 non-null    object \n",
            " 6   Vehicles    996 non-null    float64\n",
            "dtypes: float64(1), object(6)\n",
            "memory usage: 54.8+ KB\n"
          ],
          "name": "stdout"
        }
      ]
    },
    {
      "cell_type": "markdown",
      "metadata": {
        "id": "tSo6fIIabi4L"
      },
      "source": [
        "From what the .info() function shows us, we have six string objects and one float object.  Let's print out the first and last five rows of each column. We can definitely see more of the \"string\" object values now!"
      ]
    },
    {
      "cell_type": "code",
      "metadata": {
        "colab": {
          "base_uri": "https://localhost:8080/"
        },
        "id": "aJ41ECcgbi4L",
        "outputId": "fe1949ff-1163-4d5c-aa8d-f592efefc253"
      },
      "source": [
        "print(df_transport,5)"
      ],
      "execution_count": 9,
      "outputs": [
        {
          "output_type": "stream",
          "text": [
            "          Date Zip Code Model Year  ...       Make Light_Duty Vehicles\n",
            "0    10/1/2018    90000       2006  ...  OTHER/UNK        NaN      1.0\n",
            "1    10/1/2018      NaN       2014  ...        NaN        Yes      1.0\n",
            "2          NaN    90000        NaN  ...  OTHER/UNK        Yes      NaN\n",
            "3    10/1/2018    90000       2017  ...  OTHER/UNK        Yes      1.0\n",
            "4    10/1/2018    90000      <2006  ...  OTHER/UNK         No     55.0\n",
            "..         ...      ...        ...  ...        ...        ...      ...\n",
            "994   6/7/2019    90003       2012  ...     Type_R        Yes     26.0\n",
            "995   6/8/2019    90003       2012  ...  OTHER/UNK        Yes      4.0\n",
            "996   6/9/2019    90003       2012  ...     Type_Q        Yes     25.0\n",
            "997  6/10/2019    90003       2012  ...  OTHER/UNK        Yes      1.0\n",
            "998  6/11/2019    90003       2012  ...  OTHER/UNK        Yes      3.0\n",
            "\n",
            "[999 rows x 7 columns] 5\n"
          ],
          "name": "stdout"
        }
      ]
    },
    {
      "cell_type": "markdown",
      "metadata": {
        "id": "i6wgnmt8bi4L"
      },
      "source": [
        "### Summary Statistics \n",
        "\n",
        "At this point, we have only one column which contains a numerical value (e.g. Vehicles).  For features which contain numerical values, we are often interested in various statistical measures relating to those values.  We can use .describe() to see some summary statistics for the numeric fields in our dataframe. Note, that because we only have one numeric feature, we see only one summary stastic - for now.  "
      ]
    },
    {
      "cell_type": "code",
      "metadata": {
        "colab": {
          "base_uri": "https://localhost:8080/",
          "height": 297
        },
        "id": "PsxkT7oNbi4M",
        "outputId": "69c9bce2-e8cc-4602-debf-987d93e83ea0"
      },
      "source": [
        "df_transport.describe()"
      ],
      "execution_count": 10,
      "outputs": [
        {
          "output_type": "execute_result",
          "data": {
            "text/html": [
              "<div>\n",
              "<style scoped>\n",
              "    .dataframe tbody tr th:only-of-type {\n",
              "        vertical-align: middle;\n",
              "    }\n",
              "\n",
              "    .dataframe tbody tr th {\n",
              "        vertical-align: top;\n",
              "    }\n",
              "\n",
              "    .dataframe thead th {\n",
              "        text-align: right;\n",
              "    }\n",
              "</style>\n",
              "<table border=\"1\" class=\"dataframe\">\n",
              "  <thead>\n",
              "    <tr style=\"text-align: right;\">\n",
              "      <th></th>\n",
              "      <th>Vehicles</th>\n",
              "    </tr>\n",
              "  </thead>\n",
              "  <tbody>\n",
              "    <tr>\n",
              "      <th>count</th>\n",
              "      <td>996.000000</td>\n",
              "    </tr>\n",
              "    <tr>\n",
              "      <th>mean</th>\n",
              "      <td>72.878514</td>\n",
              "    </tr>\n",
              "    <tr>\n",
              "      <th>std</th>\n",
              "      <td>229.696895</td>\n",
              "    </tr>\n",
              "    <tr>\n",
              "      <th>min</th>\n",
              "      <td>1.000000</td>\n",
              "    </tr>\n",
              "    <tr>\n",
              "      <th>25%</th>\n",
              "      <td>13.000000</td>\n",
              "    </tr>\n",
              "    <tr>\n",
              "      <th>50%</th>\n",
              "      <td>23.000000</td>\n",
              "    </tr>\n",
              "    <tr>\n",
              "      <th>75%</th>\n",
              "      <td>57.250000</td>\n",
              "    </tr>\n",
              "    <tr>\n",
              "      <th>max</th>\n",
              "      <td>3178.000000</td>\n",
              "    </tr>\n",
              "  </tbody>\n",
              "</table>\n",
              "</div>"
            ],
            "text/plain": [
              "          Vehicles\n",
              "count   996.000000\n",
              "mean     72.878514\n",
              "std     229.696895\n",
              "min       1.000000\n",
              "25%      13.000000\n",
              "50%      23.000000\n",
              "75%      57.250000\n",
              "max    3178.000000"
            ]
          },
          "metadata": {
            "tags": []
          },
          "execution_count": 10
        }
      ]
    },
    {
      "cell_type": "markdown",
      "metadata": {
        "id": "Oki0JYT1bi4M"
      },
      "source": [
        "Let's investigate a bit more of our data by using the .groupby() function."
      ]
    },
    {
      "cell_type": "code",
      "metadata": {
        "colab": {
          "base_uri": "https://localhost:8080/",
          "height": 328
        },
        "id": "E0T4JcHdbi4M",
        "outputId": "6f892127-708d-4bb6-efa8-2010fbcea2af"
      },
      "source": [
        "grouped_data = df_transport.groupby(['Zip Code','Model Year','Fuel','Make','Light_Duty','Vehicles'])\n",
        "df_transport.groupby('Fuel').first() # Get the first entry for each month. "
      ],
      "execution_count": 11,
      "outputs": [
        {
          "output_type": "execute_result",
          "data": {
            "text/html": [
              "<div>\n",
              "<style scoped>\n",
              "    .dataframe tbody tr th:only-of-type {\n",
              "        vertical-align: middle;\n",
              "    }\n",
              "\n",
              "    .dataframe tbody tr th {\n",
              "        vertical-align: top;\n",
              "    }\n",
              "\n",
              "    .dataframe thead th {\n",
              "        text-align: right;\n",
              "    }\n",
              "</style>\n",
              "<table border=\"1\" class=\"dataframe\">\n",
              "  <thead>\n",
              "    <tr style=\"text-align: right;\">\n",
              "      <th></th>\n",
              "      <th>Date</th>\n",
              "      <th>Zip Code</th>\n",
              "      <th>Model Year</th>\n",
              "      <th>Make</th>\n",
              "      <th>Light_Duty</th>\n",
              "      <th>Vehicles</th>\n",
              "    </tr>\n",
              "    <tr>\n",
              "      <th>Fuel</th>\n",
              "      <th></th>\n",
              "      <th></th>\n",
              "      <th></th>\n",
              "      <th></th>\n",
              "      <th></th>\n",
              "      <th></th>\n",
              "    </tr>\n",
              "  </thead>\n",
              "  <tbody>\n",
              "    <tr>\n",
              "      <th>Battery Electric</th>\n",
              "      <td>10/1/2018</td>\n",
              "      <td>90000</td>\n",
              "      <td>&lt;2006</td>\n",
              "      <td>OTHER/UNK</td>\n",
              "      <td>No</td>\n",
              "      <td>4.0</td>\n",
              "    </tr>\n",
              "    <tr>\n",
              "      <th>Diesel and Diesel Hybrid</th>\n",
              "      <td>10/1/2018</td>\n",
              "      <td>90000</td>\n",
              "      <td>&lt;2006</td>\n",
              "      <td>OTHER/UNK</td>\n",
              "      <td>No</td>\n",
              "      <td>55.0</td>\n",
              "    </tr>\n",
              "    <tr>\n",
              "      <th>Flex-Fuel</th>\n",
              "      <td>10/14/2018</td>\n",
              "      <td>90001</td>\n",
              "      <td>2007</td>\n",
              "      <td>Type_A</td>\n",
              "      <td>Yes</td>\n",
              "      <td>78.0</td>\n",
              "    </tr>\n",
              "    <tr>\n",
              "      <th>Gasoline</th>\n",
              "      <td>10/1/2018</td>\n",
              "      <td>90000</td>\n",
              "      <td>2006</td>\n",
              "      <td>OTHER/UNK</td>\n",
              "      <td>Yes</td>\n",
              "      <td>1.0</td>\n",
              "    </tr>\n",
              "    <tr>\n",
              "      <th>Hybrid Gasoline</th>\n",
              "      <td>10/24/2018</td>\n",
              "      <td>90001</td>\n",
              "      <td>2009</td>\n",
              "      <td>OTHER/UNK</td>\n",
              "      <td>Yes</td>\n",
              "      <td>18.0</td>\n",
              "    </tr>\n",
              "    <tr>\n",
              "      <th>Natural Gas</th>\n",
              "      <td>10/25/2018</td>\n",
              "      <td>90001</td>\n",
              "      <td>2009</td>\n",
              "      <td>OTHER/UNK</td>\n",
              "      <td>No</td>\n",
              "      <td>2.0</td>\n",
              "    </tr>\n",
              "    <tr>\n",
              "      <th>Other</th>\n",
              "      <td>10/8/2018</td>\n",
              "      <td>90000</td>\n",
              "      <td>&lt;2006</td>\n",
              "      <td>OTHER/UNK</td>\n",
              "      <td>Yes</td>\n",
              "      <td>6.0</td>\n",
              "    </tr>\n",
              "    <tr>\n",
              "      <th>Plug-in Hybrid</th>\n",
              "      <td>11/2/2018</td>\n",
              "      <td>90001</td>\n",
              "      <td>2012</td>\n",
              "      <td>OTHER/UNK</td>\n",
              "      <td>Yes</td>\n",
              "      <td>1.0</td>\n",
              "    </tr>\n",
              "  </tbody>\n",
              "</table>\n",
              "</div>"
            ],
            "text/plain": [
              "                                Date Zip Code  ... Light_Duty Vehicles\n",
              "Fuel                                           ...                    \n",
              "Battery Electric           10/1/2018    90000  ...         No      4.0\n",
              "Diesel and Diesel Hybrid   10/1/2018    90000  ...         No     55.0\n",
              "Flex-Fuel                 10/14/2018    90001  ...        Yes     78.0\n",
              "Gasoline                   10/1/2018    90000  ...        Yes      1.0\n",
              "Hybrid Gasoline           10/24/2018    90001  ...        Yes     18.0\n",
              "Natural Gas               10/25/2018    90001  ...         No      2.0\n",
              "Other                      10/8/2018    90000  ...        Yes      6.0\n",
              "Plug-in Hybrid             11/2/2018    90001  ...        Yes      1.0\n",
              "\n",
              "[8 rows x 6 columns]"
            ]
          },
          "metadata": {
            "tags": []
          },
          "execution_count": 11
        }
      ]
    },
    {
      "cell_type": "markdown",
      "metadata": {
        "id": "4ufa4YMNbi4M"
      },
      "source": [
        "#### Checking for Missing Values\n",
        "\n",
        "Missing values adversely impact data quality, as they can lead the machine learning model to make inaccurate inferences about the data. Missing values can be the result of numerous factors, e.g. \"bits\" lost during streaming transmission, data entry, or perhaps a user forgot to fill in a field.  Note that Pandas recognizes both empty cells and “NaN” types as missing values. "
      ]
    },
    {
      "cell_type": "markdown",
      "metadata": {
        "id": "8_QIzVUebi4N"
      },
      "source": [
        "Let's show the null values for all features in the DataFrame."
      ]
    },
    {
      "cell_type": "code",
      "metadata": {
        "colab": {
          "base_uri": "https://localhost:8080/"
        },
        "id": "a04n_-PRbi4N",
        "outputId": "d09b2c0e-edc0-4170-bd56-d831ae139055"
      },
      "source": [
        "df_transport.isnull().sum()"
      ],
      "execution_count": 12,
      "outputs": [
        {
          "output_type": "execute_result",
          "data": {
            "text/plain": [
              "Date          2\n",
              "Zip Code      2\n",
              "Model Year    2\n",
              "Fuel          3\n",
              "Make          3\n",
              "Light_Duty    3\n",
              "Vehicles      3\n",
              "dtype: int64"
            ]
          },
          "metadata": {
            "tags": []
          },
          "execution_count": 12
        }
      ]
    },
    {
      "cell_type": "markdown",
      "metadata": {
        "id": "P7JUcbfXbi4N"
      },
      "source": [
        "To see a sampling of which values are missing, enter the feature column name.  You'll notice that \"False\" and \"True\" correpond to the presence or abscence of a value by index number."
      ]
    },
    {
      "cell_type": "code",
      "metadata": {
        "colab": {
          "base_uri": "https://localhost:8080/"
        },
        "id": "UUoK-yJWbi4N",
        "outputId": "42aac6d2-c014-474c-9f56-ea50bd148d92"
      },
      "source": [
        "print (df_transport['Date'])\n",
        "print (df_transport['Date'].isnull())"
      ],
      "execution_count": 13,
      "outputs": [
        {
          "output_type": "stream",
          "text": [
            "0      10/1/2018\n",
            "1      10/1/2018\n",
            "2            NaN\n",
            "3      10/1/2018\n",
            "4      10/1/2018\n",
            "         ...    \n",
            "994     6/7/2019\n",
            "995     6/8/2019\n",
            "996     6/9/2019\n",
            "997    6/10/2019\n",
            "998    6/11/2019\n",
            "Name: Date, Length: 999, dtype: object\n",
            "0      False\n",
            "1      False\n",
            "2       True\n",
            "3      False\n",
            "4      False\n",
            "       ...  \n",
            "994    False\n",
            "995    False\n",
            "996    False\n",
            "997    False\n",
            "998    False\n",
            "Name: Date, Length: 999, dtype: bool\n"
          ],
          "name": "stdout"
        }
      ]
    },
    {
      "cell_type": "code",
      "metadata": {
        "colab": {
          "base_uri": "https://localhost:8080/"
        },
        "id": "yc_yomABbi4O",
        "outputId": "4e7b5455-0f28-45a6-f83e-711a97d5effb"
      },
      "source": [
        "print (df_transport['Make'])\n",
        "print (df_transport['Make'].isnull())"
      ],
      "execution_count": 14,
      "outputs": [
        {
          "output_type": "stream",
          "text": [
            "0      OTHER/UNK\n",
            "1            NaN\n",
            "2      OTHER/UNK\n",
            "3      OTHER/UNK\n",
            "4      OTHER/UNK\n",
            "         ...    \n",
            "994       Type_R\n",
            "995    OTHER/UNK\n",
            "996       Type_Q\n",
            "997    OTHER/UNK\n",
            "998    OTHER/UNK\n",
            "Name: Make, Length: 999, dtype: object\n",
            "0      False\n",
            "1       True\n",
            "2      False\n",
            "3      False\n",
            "4      False\n",
            "       ...  \n",
            "994    False\n",
            "995    False\n",
            "996    False\n",
            "997    False\n",
            "998    False\n",
            "Name: Make, Length: 999, dtype: bool\n"
          ],
          "name": "stdout"
        }
      ]
    },
    {
      "cell_type": "code",
      "metadata": {
        "colab": {
          "base_uri": "https://localhost:8080/"
        },
        "id": "ifXV_Kf5bi4O",
        "outputId": "832b1e10-2912-401d-e9c3-c059ce9f988c"
      },
      "source": [
        "print (df_transport['Model Year'])\n",
        "print (df_transport['Model Year'].isnull())"
      ],
      "execution_count": 15,
      "outputs": [
        {
          "output_type": "stream",
          "text": [
            "0       2006\n",
            "1       2014\n",
            "2        NaN\n",
            "3       2017\n",
            "4      <2006\n",
            "       ...  \n",
            "994     2012\n",
            "995     2012\n",
            "996     2012\n",
            "997     2012\n",
            "998     2012\n",
            "Name: Model Year, Length: 999, dtype: object\n",
            "0      False\n",
            "1      False\n",
            "2       True\n",
            "3      False\n",
            "4      False\n",
            "       ...  \n",
            "994    False\n",
            "995    False\n",
            "996    False\n",
            "997    False\n",
            "998    False\n",
            "Name: Model Year, Length: 999, dtype: bool\n"
          ],
          "name": "stdout"
        }
      ]
    },
    {
      "cell_type": "markdown",
      "metadata": {
        "id": "KJqZ3KyVbi4O"
      },
      "source": [
        "### What can we deduce about the data at this point?\n",
        "\n",
        "First, let's summarize our data by row, column, features, unique, and missing values,"
      ]
    },
    {
      "cell_type": "code",
      "metadata": {
        "colab": {
          "base_uri": "https://localhost:8080/"
        },
        "id": "yVTlGTpHbi4O",
        "outputId": "490b9844-cd99-4841-f144-f28b2223ce59"
      },
      "source": [
        "print (\"Rows     : \" ,df_transport.shape[0])\n",
        "print (\"Columns  : \" ,df_transport.shape[1])\n",
        "print (\"\\nFeatures : \\n\" ,df_transport.columns.tolist())\n",
        "print (\"\\nUnique values :  \\n\",df_transport.nunique())\n",
        "print (\"\\nMissing values :  \", df_transport.isnull().sum().values.sum())\n"
      ],
      "execution_count": 16,
      "outputs": [
        {
          "output_type": "stream",
          "text": [
            "Rows     :  999\n",
            "Columns  :  7\n",
            "\n",
            "Features : \n",
            " ['Date', 'Zip Code', 'Model Year', 'Fuel', 'Make', 'Light_Duty', 'Vehicles']\n",
            "\n",
            "Unique values :  \n",
            " Date          248\n",
            "Zip Code        6\n",
            "Model Year     15\n",
            "Fuel            8\n",
            "Make           43\n",
            "Light_Duty      3\n",
            "Vehicles      210\n",
            "dtype: int64\n",
            "\n",
            "Missing values :   18\n"
          ],
          "name": "stdout"
        }
      ]
    },
    {
      "cell_type": "markdown",
      "metadata": {
        "id": "MM0kCszwbi4P"
      },
      "source": [
        "Let's see the data again -- this time the last five rows in the dataset."
      ]
    },
    {
      "cell_type": "code",
      "metadata": {
        "colab": {
          "base_uri": "https://localhost:8080/",
          "height": 204
        },
        "id": "hx7EaglUbi4P",
        "outputId": "be7bd6f5-310a-4db3-a35d-ca4612924e55"
      },
      "source": [
        "df_transport.tail()"
      ],
      "execution_count": 17,
      "outputs": [
        {
          "output_type": "execute_result",
          "data": {
            "text/html": [
              "<div>\n",
              "<style scoped>\n",
              "    .dataframe tbody tr th:only-of-type {\n",
              "        vertical-align: middle;\n",
              "    }\n",
              "\n",
              "    .dataframe tbody tr th {\n",
              "        vertical-align: top;\n",
              "    }\n",
              "\n",
              "    .dataframe thead th {\n",
              "        text-align: right;\n",
              "    }\n",
              "</style>\n",
              "<table border=\"1\" class=\"dataframe\">\n",
              "  <thead>\n",
              "    <tr style=\"text-align: right;\">\n",
              "      <th></th>\n",
              "      <th>Date</th>\n",
              "      <th>Zip Code</th>\n",
              "      <th>Model Year</th>\n",
              "      <th>Fuel</th>\n",
              "      <th>Make</th>\n",
              "      <th>Light_Duty</th>\n",
              "      <th>Vehicles</th>\n",
              "    </tr>\n",
              "  </thead>\n",
              "  <tbody>\n",
              "    <tr>\n",
              "      <th>994</th>\n",
              "      <td>6/7/2019</td>\n",
              "      <td>90003</td>\n",
              "      <td>2012</td>\n",
              "      <td>Gasoline</td>\n",
              "      <td>Type_R</td>\n",
              "      <td>Yes</td>\n",
              "      <td>26.0</td>\n",
              "    </tr>\n",
              "    <tr>\n",
              "      <th>995</th>\n",
              "      <td>6/8/2019</td>\n",
              "      <td>90003</td>\n",
              "      <td>2012</td>\n",
              "      <td>Hybrid Gasoline</td>\n",
              "      <td>OTHER/UNK</td>\n",
              "      <td>Yes</td>\n",
              "      <td>4.0</td>\n",
              "    </tr>\n",
              "    <tr>\n",
              "      <th>996</th>\n",
              "      <td>6/9/2019</td>\n",
              "      <td>90003</td>\n",
              "      <td>2012</td>\n",
              "      <td>Hybrid Gasoline</td>\n",
              "      <td>Type_Q</td>\n",
              "      <td>Yes</td>\n",
              "      <td>25.0</td>\n",
              "    </tr>\n",
              "    <tr>\n",
              "      <th>997</th>\n",
              "      <td>6/10/2019</td>\n",
              "      <td>90003</td>\n",
              "      <td>2012</td>\n",
              "      <td>Natural Gas</td>\n",
              "      <td>OTHER/UNK</td>\n",
              "      <td>Yes</td>\n",
              "      <td>1.0</td>\n",
              "    </tr>\n",
              "    <tr>\n",
              "      <th>998</th>\n",
              "      <td>6/11/2019</td>\n",
              "      <td>90003</td>\n",
              "      <td>2012</td>\n",
              "      <td>Plug-in Hybrid</td>\n",
              "      <td>OTHER/UNK</td>\n",
              "      <td>Yes</td>\n",
              "      <td>3.0</td>\n",
              "    </tr>\n",
              "  </tbody>\n",
              "</table>\n",
              "</div>"
            ],
            "text/plain": [
              "          Date Zip Code Model Year  ...       Make Light_Duty Vehicles\n",
              "994   6/7/2019    90003       2012  ...     Type_R        Yes     26.0\n",
              "995   6/8/2019    90003       2012  ...  OTHER/UNK        Yes      4.0\n",
              "996   6/9/2019    90003       2012  ...     Type_Q        Yes     25.0\n",
              "997  6/10/2019    90003       2012  ...  OTHER/UNK        Yes      1.0\n",
              "998  6/11/2019    90003       2012  ...  OTHER/UNK        Yes      3.0\n",
              "\n",
              "[5 rows x 7 columns]"
            ]
          },
          "metadata": {
            "tags": []
          },
          "execution_count": 17
        }
      ]
    },
    {
      "cell_type": "markdown",
      "metadata": {
        "id": "qe28JD8dbi4P"
      },
      "source": [
        "### What Are Our Data Quality Issues?\n",
        "\n",
        "1. **Data Quality Issue #1**:  \n",
        "> **Missing Values**:\n",
        "Each feature column has multiple missing values.  In fact, we have a total of 18 missing values.\n",
        "2. **Data Quality Issue #2**: \n",
        "> **Date DataType**:  Date is shown as an \"object\" datatype and should be a datetime.  In addition, Date is in one column.  Our business requirement is to see the Date parsed out to year, month, and day.  \n",
        "3. **Data Quality Issue #3**: \n",
        "> **Model Year**: We are only interested in years greater than 2006, not \"<2006\".\n",
        "4. **Data Quality Issue #4**:  \n",
        "> **Categorical Columns**:  The feature column \"Light_Duty\" is categorical and has a \"Yes/No\" choice.  We cannot feed values like this into a machine learning model.  In addition, we need to \"one-hot encode the remaining \"string\"/\"object\" columns.\n",
        "5. **Data Quality Issue #5**:  \n",
        "> **Temporal Features**:  How do we handle year, month, and day?\n"
      ]
    },
    {
      "cell_type": "markdown",
      "metadata": {
        "id": "EycUkfSRbi4P"
      },
      "source": [
        "#### Data Quality Issue #1:  \n",
        "##### Resolving Missing Values"
      ]
    },
    {
      "cell_type": "markdown",
      "metadata": {
        "id": "HIE-zXW5bi4Q"
      },
      "source": [
        "Most algorithms do not accept missing values.  Yet, when we see missing values in our dataset, there is always a tendency to just \"drop all the rows\" with missing values.  Although Pandas will fill in the blank space with “NaN\", we should \"handle\" them in some way.\n",
        "\n",
        "While all the methods to handle missing values is beyond the scope of this lab, there are a few methods you should consider.  For numeric columns, use the \"mean\" values to fill in the missing numeric values.  For categorical columns, use the \"mode\" (or most frequent values) to fill in missing categorical values. \n",
        "\n",
        "In this lab, we use the .apply and Lambda functions to fill every column with its own most frequent value.  You'll learn more about Lambda functions later in the lab."
      ]
    },
    {
      "cell_type": "markdown",
      "metadata": {
        "id": "vmyQ19U1bi4Q"
      },
      "source": [
        "Let's check again for missing values by showing how many rows contain NaN values for each feature column."
      ]
    },
    {
      "cell_type": "markdown",
      "metadata": {
        "id": "OLdbmPzCbi4Q"
      },
      "source": [
        "**Lab Task #1a:** Check for missing values by showing how many rows contain NaN values for each feature column."
      ]
    },
    {
      "cell_type": "code",
      "metadata": {
        "colab": {
          "base_uri": "https://localhost:8080/"
        },
        "id": "U4dUm4iObi4R",
        "outputId": "4c4d6cf0-fdd9-4726-e72c-4cf2e55d6fa5"
      },
      "source": [
        "# TODO 1a\n",
        "# TODO -- Your code here.\n",
        "df_transport.isnull().sum()"
      ],
      "execution_count": 18,
      "outputs": [
        {
          "output_type": "execute_result",
          "data": {
            "text/plain": [
              "Date          2\n",
              "Zip Code      2\n",
              "Model Year    2\n",
              "Fuel          3\n",
              "Make          3\n",
              "Light_Duty    3\n",
              "Vehicles      3\n",
              "dtype: int64"
            ]
          },
          "metadata": {
            "tags": []
          },
          "execution_count": 18
        }
      ]
    },
    {
      "cell_type": "markdown",
      "metadata": {
        "id": "r7GPURlqbi4R"
      },
      "source": [
        "**Lab Task #1b:** Apply the lambda function."
      ]
    },
    {
      "cell_type": "code",
      "metadata": {
        "id": "hxW7u9Xjbi4R"
      },
      "source": [
        "# TODO 1b\n",
        "# TODO -- Your code here.\n",
        "df_transport = df_transport.apply(lambda x:x.fillna(x.value_counts().index[0]))"
      ],
      "execution_count": 19,
      "outputs": []
    },
    {
      "cell_type": "markdown",
      "metadata": {
        "id": "9ffEK8TYbi4R"
      },
      "source": [
        "**Lab Task #1c:** Check again for missing values."
      ]
    },
    {
      "cell_type": "code",
      "metadata": {
        "colab": {
          "base_uri": "https://localhost:8080/"
        },
        "id": "aDOhS_2Ebi4S",
        "outputId": "d9d87aca-a779-4f1c-ec9c-e708ae3ba740"
      },
      "source": [
        "# TODO 1c\n",
        "# TODO -- Your code here.\n",
        "df_transport.isnull().sum()"
      ],
      "execution_count": 20,
      "outputs": [
        {
          "output_type": "execute_result",
          "data": {
            "text/plain": [
              "Date          0\n",
              "Zip Code      0\n",
              "Model Year    0\n",
              "Fuel          0\n",
              "Make          0\n",
              "Light_Duty    0\n",
              "Vehicles      0\n",
              "dtype: int64"
            ]
          },
          "metadata": {
            "tags": []
          },
          "execution_count": 20
        }
      ]
    },
    {
      "cell_type": "markdown",
      "metadata": {
        "id": "DG7zz1Qubi4S"
      },
      "source": [
        "#### Data Quality Issue #2:  \n",
        "##### Convert the Date Feature Column to a Datetime Format"
      ]
    },
    {
      "cell_type": "markdown",
      "metadata": {
        "id": "QY0_zLqCbi4S"
      },
      "source": [
        "The date column is indeed shown as a string object."
      ]
    },
    {
      "cell_type": "markdown",
      "metadata": {
        "id": "FtAjcwGLbi4S"
      },
      "source": [
        "**Lab Task #2a:** Convert the datetime datatype with the to_datetime() function in Pandas."
      ]
    },
    {
      "cell_type": "code",
      "metadata": {
        "id": "kN-TWa3lbi4S"
      },
      "source": [
        "# TODO 2a\n",
        "# TODO -- Your code here.\n",
        "df_transport['Date'] = pd.to_datetime(df_transport['Date'], format='%m/%d/%Y')"
      ],
      "execution_count": 21,
      "outputs": []
    },
    {
      "cell_type": "markdown",
      "metadata": {
        "id": "dCYT23Qmbi4S"
      },
      "source": [
        "**Lab Task #2b:** Show the converted Date."
      ]
    },
    {
      "cell_type": "code",
      "metadata": {
        "colab": {
          "base_uri": "https://localhost:8080/"
        },
        "id": "FGCe1eEbbi4T",
        "outputId": "f7469d64-a7e9-44da-c379-0fc1e4dd43d4"
      },
      "source": [
        "# TODO 2b\n",
        "# TODO -- Your code here.\n",
        "df_transport.info()"
      ],
      "execution_count": 22,
      "outputs": [
        {
          "output_type": "stream",
          "text": [
            "<class 'pandas.core.frame.DataFrame'>\n",
            "RangeIndex: 999 entries, 0 to 998\n",
            "Data columns (total 7 columns):\n",
            " #   Column      Non-Null Count  Dtype         \n",
            "---  ------      --------------  -----         \n",
            " 0   Date        999 non-null    datetime64[ns]\n",
            " 1   Zip Code    999 non-null    object        \n",
            " 2   Model Year  999 non-null    object        \n",
            " 3   Fuel        999 non-null    object        \n",
            " 4   Make        999 non-null    object        \n",
            " 5   Light_Duty  999 non-null    object        \n",
            " 6   Vehicles    999 non-null    float64       \n",
            "dtypes: datetime64[ns](1), float64(1), object(5)\n",
            "memory usage: 54.8+ KB\n"
          ],
          "name": "stdout"
        }
      ]
    },
    {
      "cell_type": "markdown",
      "metadata": {
        "id": "ldAJOUm-bi4T"
      },
      "source": [
        "Let's parse Date into three columns, e.g. year, month, and day."
      ]
    },
    {
      "cell_type": "code",
      "metadata": {
        "colab": {
          "base_uri": "https://localhost:8080/"
        },
        "id": "MKusxKH0bi4T",
        "outputId": "747ad082-c46b-4cdd-ceb1-a8e058099ec3"
      },
      "source": [
        "df_transport['year'] = df_transport['Date'].dt.year\n",
        "df_transport['month'] = df_transport['Date'].dt.month\n",
        "df_transport['day'] = df_transport['Date'].dt.day\n",
        "#df['hour'] = df['date'].dt.hour - you could use this if your date format included hour.\n",
        "#df['minute'] = df['date'].dt.minute - you could use this if your date format included minute.\n",
        "df_transport.info()"
      ],
      "execution_count": 23,
      "outputs": [
        {
          "output_type": "stream",
          "text": [
            "<class 'pandas.core.frame.DataFrame'>\n",
            "RangeIndex: 999 entries, 0 to 998\n",
            "Data columns (total 10 columns):\n",
            " #   Column      Non-Null Count  Dtype         \n",
            "---  ------      --------------  -----         \n",
            " 0   Date        999 non-null    datetime64[ns]\n",
            " 1   Zip Code    999 non-null    object        \n",
            " 2   Model Year  999 non-null    object        \n",
            " 3   Fuel        999 non-null    object        \n",
            " 4   Make        999 non-null    object        \n",
            " 5   Light_Duty  999 non-null    object        \n",
            " 6   Vehicles    999 non-null    float64       \n",
            " 7   year        999 non-null    int64         \n",
            " 8   month       999 non-null    int64         \n",
            " 9   day         999 non-null    int64         \n",
            "dtypes: datetime64[ns](1), float64(1), int64(3), object(5)\n",
            "memory usage: 78.2+ KB\n"
          ],
          "name": "stdout"
        }
      ]
    },
    {
      "cell_type": "markdown",
      "metadata": {
        "id": "qT_Dc14ibi4T"
      },
      "source": [
        "Next, let's confirm the Date parsing.  This will also give us a another visualization of the data."
      ]
    },
    {
      "cell_type": "code",
      "metadata": {
        "colab": {
          "base_uri": "https://localhost:8080/",
          "height": 577
        },
        "id": "EzKQMRNAbi4U",
        "outputId": "559312b9-08d3-4fb7-9fd1-79e21e36c882"
      },
      "source": [
        "# Here, we are creating a new dataframe called \"grouped_data\" and grouping by on the column \"Make\"\n",
        "grouped_data = df_transport.groupby(['Make'])\n",
        "\n",
        "# Get the first entry for each month.\n",
        "df_transport.groupby('month').first()"
      ],
      "execution_count": 24,
      "outputs": [
        {
          "output_type": "execute_result",
          "data": {
            "text/html": [
              "<div>\n",
              "<style scoped>\n",
              "    .dataframe tbody tr th:only-of-type {\n",
              "        vertical-align: middle;\n",
              "    }\n",
              "\n",
              "    .dataframe tbody tr th {\n",
              "        vertical-align: top;\n",
              "    }\n",
              "\n",
              "    .dataframe thead th {\n",
              "        text-align: right;\n",
              "    }\n",
              "</style>\n",
              "<table border=\"1\" class=\"dataframe\">\n",
              "  <thead>\n",
              "    <tr style=\"text-align: right;\">\n",
              "      <th></th>\n",
              "      <th>Date</th>\n",
              "      <th>Zip Code</th>\n",
              "      <th>Model Year</th>\n",
              "      <th>Fuel</th>\n",
              "      <th>Make</th>\n",
              "      <th>Light_Duty</th>\n",
              "      <th>Vehicles</th>\n",
              "      <th>year</th>\n",
              "      <th>day</th>\n",
              "    </tr>\n",
              "    <tr>\n",
              "      <th>month</th>\n",
              "      <th></th>\n",
              "      <th></th>\n",
              "      <th></th>\n",
              "      <th></th>\n",
              "      <th></th>\n",
              "      <th></th>\n",
              "      <th></th>\n",
              "      <th></th>\n",
              "      <th></th>\n",
              "    </tr>\n",
              "  </thead>\n",
              "  <tbody>\n",
              "    <tr>\n",
              "      <th>1</th>\n",
              "      <td>2019-01-01</td>\n",
              "      <td>90001</td>\n",
              "      <td>2016</td>\n",
              "      <td>Gasoline</td>\n",
              "      <td>Type_G</td>\n",
              "      <td>Yes</td>\n",
              "      <td>18.0</td>\n",
              "      <td>2019</td>\n",
              "      <td>1</td>\n",
              "    </tr>\n",
              "    <tr>\n",
              "      <th>2</th>\n",
              "      <td>2019-02-01</td>\n",
              "      <td>90001</td>\n",
              "      <td>2017</td>\n",
              "      <td>Gasoline</td>\n",
              "      <td>Type_D</td>\n",
              "      <td>Yes</td>\n",
              "      <td>13.0</td>\n",
              "      <td>2019</td>\n",
              "      <td>1</td>\n",
              "    </tr>\n",
              "    <tr>\n",
              "      <th>3</th>\n",
              "      <td>2019-03-01</td>\n",
              "      <td>90001</td>\n",
              "      <td>2018</td>\n",
              "      <td>Gasoline</td>\n",
              "      <td>Type_C</td>\n",
              "      <td>Yes</td>\n",
              "      <td>32.0</td>\n",
              "      <td>2019</td>\n",
              "      <td>1</td>\n",
              "    </tr>\n",
              "    <tr>\n",
              "      <th>4</th>\n",
              "      <td>2019-04-01</td>\n",
              "      <td>90003</td>\n",
              "      <td>2006</td>\n",
              "      <td>Gasoline</td>\n",
              "      <td>Type_U</td>\n",
              "      <td>Yes</td>\n",
              "      <td>13.0</td>\n",
              "      <td>2019</td>\n",
              "      <td>1</td>\n",
              "    </tr>\n",
              "    <tr>\n",
              "      <th>5</th>\n",
              "      <td>2019-05-01</td>\n",
              "      <td>90003</td>\n",
              "      <td>2007</td>\n",
              "      <td>Gasoline</td>\n",
              "      <td>Type_GG</td>\n",
              "      <td>Yes</td>\n",
              "      <td>13.0</td>\n",
              "      <td>2019</td>\n",
              "      <td>1</td>\n",
              "    </tr>\n",
              "    <tr>\n",
              "      <th>6</th>\n",
              "      <td>2019-06-01</td>\n",
              "      <td>90003</td>\n",
              "      <td>2008</td>\n",
              "      <td>Gasoline</td>\n",
              "      <td>Type_J</td>\n",
              "      <td>Yes</td>\n",
              "      <td>15.0</td>\n",
              "      <td>2019</td>\n",
              "      <td>1</td>\n",
              "    </tr>\n",
              "    <tr>\n",
              "      <th>7</th>\n",
              "      <td>2019-07-01</td>\n",
              "      <td>90003</td>\n",
              "      <td>2009</td>\n",
              "      <td>Gasoline</td>\n",
              "      <td>Type_J</td>\n",
              "      <td>Yes</td>\n",
              "      <td>141.0</td>\n",
              "      <td>2019</td>\n",
              "      <td>1</td>\n",
              "    </tr>\n",
              "    <tr>\n",
              "      <th>10</th>\n",
              "      <td>2018-10-01</td>\n",
              "      <td>90000</td>\n",
              "      <td>2006</td>\n",
              "      <td>Gasoline</td>\n",
              "      <td>OTHER/UNK</td>\n",
              "      <td>Yes</td>\n",
              "      <td>1.0</td>\n",
              "      <td>2018</td>\n",
              "      <td>1</td>\n",
              "    </tr>\n",
              "    <tr>\n",
              "      <th>11</th>\n",
              "      <td>2018-11-01</td>\n",
              "      <td>90001</td>\n",
              "      <td>2007</td>\n",
              "      <td>Gasoline</td>\n",
              "      <td>Type_M</td>\n",
              "      <td>Yes</td>\n",
              "      <td>15.0</td>\n",
              "      <td>2018</td>\n",
              "      <td>1</td>\n",
              "    </tr>\n",
              "    <tr>\n",
              "      <th>12</th>\n",
              "      <td>2018-12-02</td>\n",
              "      <td>90001</td>\n",
              "      <td>2015</td>\n",
              "      <td>Gasoline</td>\n",
              "      <td>Type_G</td>\n",
              "      <td>Yes</td>\n",
              "      <td>19.0</td>\n",
              "      <td>2018</td>\n",
              "      <td>2</td>\n",
              "    </tr>\n",
              "  </tbody>\n",
              "</table>\n",
              "</div>"
            ],
            "text/plain": [
              "            Date Zip Code Model Year      Fuel  ... Light_Duty Vehicles  year  day\n",
              "month                                           ...                               \n",
              "1     2019-01-01    90001       2016  Gasoline  ...        Yes     18.0  2019    1\n",
              "2     2019-02-01    90001       2017  Gasoline  ...        Yes     13.0  2019    1\n",
              "3     2019-03-01    90001       2018  Gasoline  ...        Yes     32.0  2019    1\n",
              "4     2019-04-01    90003       2006  Gasoline  ...        Yes     13.0  2019    1\n",
              "5     2019-05-01    90003       2007  Gasoline  ...        Yes     13.0  2019    1\n",
              "6     2019-06-01    90003       2008  Gasoline  ...        Yes     15.0  2019    1\n",
              "7     2019-07-01    90003       2009  Gasoline  ...        Yes    141.0  2019    1\n",
              "10    2018-10-01    90000       2006  Gasoline  ...        Yes      1.0  2018    1\n",
              "11    2018-11-01    90001       2007  Gasoline  ...        Yes     15.0  2018    1\n",
              "12    2018-12-02    90001       2015  Gasoline  ...        Yes     19.0  2018    2\n",
              "\n",
              "[10 rows x 9 columns]"
            ]
          },
          "metadata": {
            "tags": []
          },
          "execution_count": 24
        }
      ]
    },
    {
      "cell_type": "markdown",
      "metadata": {
        "id": "oTU0Lx2Ibi4U"
      },
      "source": [
        "Now that we have Dates as a integers, let's do some additional plotting."
      ]
    },
    {
      "cell_type": "code",
      "metadata": {
        "colab": {
          "base_uri": "https://localhost:8080/",
          "height": 475
        },
        "id": "JnEZtlpPbi4U",
        "outputId": "3ec095a1-949d-49fa-90fd-83b11fe8998a"
      },
      "source": [
        "plt.figure(figsize=(10,6))\n",
        "sns.jointplot(x='month',y='Vehicles',data=df_transport)\n",
        "#plt.title('Vehicles by Month')"
      ],
      "execution_count": 25,
      "outputs": [
        {
          "output_type": "execute_result",
          "data": {
            "text/plain": [
              "<seaborn.axisgrid.JointGrid at 0x7fe12c0101d0>"
            ]
          },
          "metadata": {
            "tags": []
          },
          "execution_count": 25
        },
        {
          "output_type": "display_data",
          "data": {
            "text/plain": [
              "<Figure size 720x432 with 0 Axes>"
            ]
          },
          "metadata": {
            "tags": []
          }
        },
        {
          "output_type": "display_data",
          "data": {
            "image/png": "[encoded data removed]",
            "text/plain": [
              "<Figure size 432x432 with 3 Axes>"
            ]
          },
          "metadata": {
            "tags": [],
            "needs_background": "light"
          }
        }
      ]
    },
    {
      "cell_type": "markdown",
      "metadata": {
        "id": "LnBh9DCabi4V"
      },
      "source": [
        "#### Data Quality Issue #3:  \n",
        "##### Rename a Feature Column and Remove a Value.  \n",
        "\n",
        "Our feature columns have different \"capitalizations\" in their names, e.g. both upper and lower \"case\".  In addition, there are \"spaces\" in some of the column names.  In addition, we are only interested in years greater than 2006, not \"<2006\".  "
      ]
    },
    {
      "cell_type": "markdown",
      "metadata": {
        "id": "aCVozavHbi4V"
      },
      "source": [
        "**Lab Task #3a:** Remove all the spaces for feature columns by renaming them."
      ]
    },
    {
      "cell_type": "code",
      "metadata": {
        "colab": {
          "base_uri": "https://localhost:8080/",
          "height": 145
        },
        "id": "UxV-zRhWbi4V",
        "outputId": "dcba6319-c12f-4309-9816-9d4747ee2223"
      },
      "source": [
        "# TODO 3a\n",
        "# TODO -- Your code here.\n",
        "new_columns = [x.replace(' ','').replace('_','').lower() for x in df_transport.columns]\n",
        "df_transport.columns = new_columns\n",
        "df_transport.head(2)"
      ],
      "execution_count": 26,
      "outputs": [
        {
          "output_type": "execute_result",
          "data": {
            "text/html": [
              "<div>\n",
              "<style scoped>\n",
              "    .dataframe tbody tr th:only-of-type {\n",
              "        vertical-align: middle;\n",
              "    }\n",
              "\n",
              "    .dataframe tbody tr th {\n",
              "        vertical-align: top;\n",
              "    }\n",
              "\n",
              "    .dataframe thead th {\n",
              "        text-align: right;\n",
              "    }\n",
              "</style>\n",
              "<table border=\"1\" class=\"dataframe\">\n",
              "  <thead>\n",
              "    <tr style=\"text-align: right;\">\n",
              "      <th></th>\n",
              "      <th>date</th>\n",
              "      <th>zipcode</th>\n",
              "      <th>modelyear</th>\n",
              "      <th>fuel</th>\n",
              "      <th>make</th>\n",
              "      <th>lightduty</th>\n",
              "      <th>vehicles</th>\n",
              "      <th>year</th>\n",
              "      <th>month</th>\n",
              "      <th>day</th>\n",
              "    </tr>\n",
              "  </thead>\n",
              "  <tbody>\n",
              "    <tr>\n",
              "      <th>0</th>\n",
              "      <td>2018-10-01</td>\n",
              "      <td>90000</td>\n",
              "      <td>2006</td>\n",
              "      <td>Gasoline</td>\n",
              "      <td>OTHER/UNK</td>\n",
              "      <td>Yes</td>\n",
              "      <td>1.0</td>\n",
              "      <td>2018</td>\n",
              "      <td>10</td>\n",
              "      <td>1</td>\n",
              "    </tr>\n",
              "    <tr>\n",
              "      <th>1</th>\n",
              "      <td>2018-10-01</td>\n",
              "      <td>90002</td>\n",
              "      <td>2014</td>\n",
              "      <td>Gasoline</td>\n",
              "      <td>OTHER/UNK</td>\n",
              "      <td>Yes</td>\n",
              "      <td>1.0</td>\n",
              "      <td>2018</td>\n",
              "      <td>10</td>\n",
              "      <td>1</td>\n",
              "    </tr>\n",
              "  </tbody>\n",
              "</table>\n",
              "</div>"
            ],
            "text/plain": [
              "        date zipcode modelyear      fuel  ... vehicles  year  month  day\n",
              "0 2018-10-01   90000      2006  Gasoline  ...      1.0  2018     10    1\n",
              "1 2018-10-01   90002      2014  Gasoline  ...      1.0  2018     10    1\n",
              "\n",
              "[2 rows x 10 columns]"
            ]
          },
          "metadata": {
            "tags": []
          },
          "execution_count": 26
        }
      ]
    },
    {
      "cell_type": "markdown",
      "metadata": {
        "id": "iLtjtkAjbi4V"
      },
      "source": [
        " **Note:** Next we create a copy of the dataframe to avoid the \"SettingWithCopyWarning: A value is trying to be set on a copy of a slice from a DataFrame\" warning.  Run the cell to remove the value '<2006' from the modelyear feature column. "
      ]
    },
    {
      "cell_type": "markdown",
      "metadata": {
        "id": "4DwOW268bi4V"
      },
      "source": [
        "**Lab Task #3b:** Create a copy of the dataframe to avoid copy warning issues."
      ]
    },
    {
      "cell_type": "code",
      "metadata": {
        "id": "g-XiW3J6bi4W"
      },
      "source": [
        "# TODO 3b\n",
        "# TODO -- Your code here.\n",
        "df = df_transport[df_transport['modelyear'] != '<2006'].copy()"
      ],
      "execution_count": 27,
      "outputs": []
    },
    {
      "cell_type": "markdown",
      "metadata": {
        "id": "zOOoi1A0bi4W"
      },
      "source": [
        "Next, confirm that the modelyear value '<2006' has been removed by doing a value count."
      ]
    },
    {
      "cell_type": "code",
      "metadata": {
        "colab": {
          "base_uri": "https://localhost:8080/"
        },
        "id": "IdTszPVDbi4W",
        "outputId": "ab8c63f6-e8e5-4922-fc30-59edab02ffed"
      },
      "source": [
        "df['modelyear'].value_counts()"
      ],
      "execution_count": 28,
      "outputs": [
        {
          "output_type": "execute_result",
          "data": {
            "text/plain": [
              "2007    87\n",
              "2012    81\n",
              "2008    79\n",
              "2011    77\n",
              "2010    71\n",
              "2006    70\n",
              "2015    61\n",
              "2014    59\n",
              "2017    57\n",
              "2016    57\n",
              "2009    53\n",
              "2013    52\n",
              "2018    42\n",
              "2019     6\n",
              "Name: modelyear, dtype: int64"
            ]
          },
          "metadata": {
            "tags": []
          },
          "execution_count": 28
        }
      ]
    },
    {
      "cell_type": "markdown",
      "metadata": {
        "id": "dVbBqp3Tbi4W"
      },
      "source": [
        "#### Data Quality Issue #4:  \n",
        "##### Handling Categorical Columns\n",
        "\n",
        "The feature column \"lightduty\" is categorical and has a \"Yes/No\" choice.  We cannot feed values like this into a machine learning model.  We need to convert the binary answers from strings of yes/no to integers of 1/0.  There are various methods to achieve this.  We will use the \"apply\" method with a lambda expression.  Pandas. apply() takes a function and applies it to all values of a Pandas series.\n",
        "\n",
        "##### What is a Lambda Function?\n",
        "\n",
        "Typically, Python requires that you define a function using the def keyword. However, lambda functions are anonymous -- which means there is no need to name them. The most common use case for lambda functions is in code that requires a simple one-line function (e.g. lambdas only have a single expression).  \n",
        "\n",
        "As you progress through the Course Specialization, you will see many examples where lambda functions are being used.  Now is a good time to become familiar with them."
      ]
    },
    {
      "cell_type": "markdown",
      "metadata": {
        "id": "jWGiOtUybi4W"
      },
      "source": [
        "First, lets count the number of \"Yes\" and\"No's\" in the 'lightduty' feature column."
      ]
    },
    {
      "cell_type": "code",
      "metadata": {
        "colab": {
          "base_uri": "https://localhost:8080/"
        },
        "id": "WzVWn--Xbi4W",
        "outputId": "cd4cb4bd-e056-4d56-aa33-7c1c80ddbe1e"
      },
      "source": [
        "df['lightduty'].value_counts()"
      ],
      "execution_count": 29,
      "outputs": [
        {
          "output_type": "execute_result",
          "data": {
            "text/plain": [
              "Yes    771\n",
              "No      80\n",
              "--       1\n",
              "Name: lightduty, dtype: int64"
            ]
          },
          "metadata": {
            "tags": []
          },
          "execution_count": 29
        }
      ]
    },
    {
      "cell_type": "markdown",
      "metadata": {
        "id": "3h0pBAp-bi4X"
      },
      "source": [
        "Let's convert the Yes to 1 and No to 0. Pandas. apply()  . apply takes a function and applies it to all values of a Pandas series (e.g. lightduty). "
      ]
    },
    {
      "cell_type": "code",
      "metadata": {
        "colab": {
          "base_uri": "https://localhost:8080/"
        },
        "id": "iF2vBJpEbi4X",
        "outputId": "8b8ced9d-1ed1-429c-d614-3250ca9fc89e"
      },
      "source": [
        "df.loc[:,'lightduty'] = df['lightduty'].apply(lambda x: 0 if x=='No' else 1)\n",
        "df['lightduty'].value_counts()"
      ],
      "execution_count": 30,
      "outputs": [
        {
          "output_type": "execute_result",
          "data": {
            "text/plain": [
              "1    772\n",
              "0     80\n",
              "Name: lightduty, dtype: int64"
            ]
          },
          "metadata": {
            "tags": []
          },
          "execution_count": 30
        }
      ]
    },
    {
      "cell_type": "code",
      "metadata": {
        "colab": {
          "base_uri": "https://localhost:8080/",
          "height": 323
        },
        "id": "r2AuFFx1bi4X",
        "outputId": "9ba1ac9d-ad80-4a61-e7af-ef55d32955ba"
      },
      "source": [
        "# Confirm that \"lightduty\" has been converted.\n",
        "\n",
        "df.head()"
      ],
      "execution_count": 31,
      "outputs": [
        {
          "output_type": "execute_result",
          "data": {
            "text/html": [
              "<div>\n",
              "<style scoped>\n",
              "    .dataframe tbody tr th:only-of-type {\n",
              "        vertical-align: middle;\n",
              "    }\n",
              "\n",
              "    .dataframe tbody tr th {\n",
              "        vertical-align: top;\n",
              "    }\n",
              "\n",
              "    .dataframe thead th {\n",
              "        text-align: right;\n",
              "    }\n",
              "</style>\n",
              "<table border=\"1\" class=\"dataframe\">\n",
              "  <thead>\n",
              "    <tr style=\"text-align: right;\">\n",
              "      <th></th>\n",
              "      <th>date</th>\n",
              "      <th>zipcode</th>\n",
              "      <th>modelyear</th>\n",
              "      <th>fuel</th>\n",
              "      <th>make</th>\n",
              "      <th>lightduty</th>\n",
              "      <th>vehicles</th>\n",
              "      <th>year</th>\n",
              "      <th>month</th>\n",
              "      <th>day</th>\n",
              "    </tr>\n",
              "  </thead>\n",
              "  <tbody>\n",
              "    <tr>\n",
              "      <th>0</th>\n",
              "      <td>2018-10-01</td>\n",
              "      <td>90000</td>\n",
              "      <td>2006</td>\n",
              "      <td>Gasoline</td>\n",
              "      <td>OTHER/UNK</td>\n",
              "      <td>1</td>\n",
              "      <td>1.0</td>\n",
              "      <td>2018</td>\n",
              "      <td>10</td>\n",
              "      <td>1</td>\n",
              "    </tr>\n",
              "    <tr>\n",
              "      <th>1</th>\n",
              "      <td>2018-10-01</td>\n",
              "      <td>90002</td>\n",
              "      <td>2014</td>\n",
              "      <td>Gasoline</td>\n",
              "      <td>OTHER/UNK</td>\n",
              "      <td>1</td>\n",
              "      <td>1.0</td>\n",
              "      <td>2018</td>\n",
              "      <td>10</td>\n",
              "      <td>1</td>\n",
              "    </tr>\n",
              "    <tr>\n",
              "      <th>3</th>\n",
              "      <td>2018-10-01</td>\n",
              "      <td>90000</td>\n",
              "      <td>2017</td>\n",
              "      <td>Gasoline</td>\n",
              "      <td>OTHER/UNK</td>\n",
              "      <td>1</td>\n",
              "      <td>1.0</td>\n",
              "      <td>2018</td>\n",
              "      <td>10</td>\n",
              "      <td>1</td>\n",
              "    </tr>\n",
              "    <tr>\n",
              "      <th>16</th>\n",
              "      <td>2018-10-09</td>\n",
              "      <td>90001</td>\n",
              "      <td>2006</td>\n",
              "      <td>Diesel and Diesel Hybrid</td>\n",
              "      <td>Type_C</td>\n",
              "      <td>0</td>\n",
              "      <td>16.0</td>\n",
              "      <td>2018</td>\n",
              "      <td>10</td>\n",
              "      <td>9</td>\n",
              "    </tr>\n",
              "    <tr>\n",
              "      <th>17</th>\n",
              "      <td>2018-10-10</td>\n",
              "      <td>90001</td>\n",
              "      <td>2006</td>\n",
              "      <td>Diesel and Diesel Hybrid</td>\n",
              "      <td>OTHER/UNK</td>\n",
              "      <td>0</td>\n",
              "      <td>23.0</td>\n",
              "      <td>2018</td>\n",
              "      <td>10</td>\n",
              "      <td>10</td>\n",
              "    </tr>\n",
              "  </tbody>\n",
              "</table>\n",
              "</div>"
            ],
            "text/plain": [
              "         date zipcode modelyear  ...  year month  day\n",
              "0  2018-10-01   90000      2006  ...  2018    10    1\n",
              "1  2018-10-01   90002      2014  ...  2018    10    1\n",
              "3  2018-10-01   90000      2017  ...  2018    10    1\n",
              "16 2018-10-09   90001      2006  ...  2018    10    9\n",
              "17 2018-10-10   90001      2006  ...  2018    10   10\n",
              "\n",
              "[5 rows x 10 columns]"
            ]
          },
          "metadata": {
            "tags": []
          },
          "execution_count": 31
        }
      ]
    },
    {
      "cell_type": "markdown",
      "metadata": {
        "id": "HDXwk9DUbi4X"
      },
      "source": [
        "#### One-Hot Encoding Categorical Feature Columns\n",
        "\n",
        "Machine learning algorithms expect input vectors and not categorical features. Specifically, they cannot handle text or string values.  Thus, it is often useful to transform categorical features into vectors.\n",
        "\n",
        "One transformation method is to create dummy variables for our categorical features.  Dummy variables are a set of binary (0 or 1) variables that each represent a single class from a categorical feature.  We simply  encode the categorical variable as a one-hot vector, i.e. a vector where only one element is non-zero, or hot.  With one-hot encoding, a categorical feature becomes an array whose size is the number of possible choices for that feature."
      ]
    },
    {
      "cell_type": "markdown",
      "metadata": {
        "id": "71sd7Mf3bi4X"
      },
      "source": [
        "Panda provides a function called \"get_dummies\" to convert a categorical variable into dummy/indicator variables."
      ]
    },
    {
      "cell_type": "code",
      "metadata": {
        "colab": {
          "base_uri": "https://localhost:8080/",
          "height": 258
        },
        "id": "rOLkj_YDbi4Y",
        "outputId": "2f5df760-259e-4236-fd2f-3cf93dc2374b"
      },
      "source": [
        "# Making dummy variables for categorical data with more inputs.  \n",
        "\n",
        "data_dummy = pd.get_dummies(df[['zipcode','modelyear', 'fuel', 'make']], drop_first=True)\n",
        "data_dummy.head()"
      ],
      "execution_count": 33,
      "outputs": [
        {
          "output_type": "execute_result",
          "data": {
            "text/html": [
              "<div>\n",
              "<style scoped>\n",
              "    .dataframe tbody tr th:only-of-type {\n",
              "        vertical-align: middle;\n",
              "    }\n",
              "\n",
              "    .dataframe tbody tr th {\n",
              "        vertical-align: top;\n",
              "    }\n",
              "\n",
              "    .dataframe thead th {\n",
              "        text-align: right;\n",
              "    }\n",
              "</style>\n",
              "<table border=\"1\" class=\"dataframe\">\n",
              "  <thead>\n",
              "    <tr style=\"text-align: right;\">\n",
              "      <th></th>\n",
              "      <th>zipcode_90001</th>\n",
              "      <th>zipcode_90002</th>\n",
              "      <th>zipcode_90003</th>\n",
              "      <th>zipcode_9001</th>\n",
              "      <th>zipcode_na</th>\n",
              "      <th>modelyear_2007</th>\n",
              "      <th>modelyear_2008</th>\n",
              "      <th>modelyear_2009</th>\n",
              "      <th>modelyear_2010</th>\n",
              "      <th>modelyear_2011</th>\n",
              "      <th>modelyear_2012</th>\n",
              "      <th>modelyear_2013</th>\n",
              "      <th>modelyear_2014</th>\n",
              "      <th>modelyear_2015</th>\n",
              "      <th>modelyear_2016</th>\n",
              "      <th>modelyear_2017</th>\n",
              "      <th>modelyear_2018</th>\n",
              "      <th>modelyear_2019</th>\n",
              "      <th>fuel_Diesel and Diesel Hybrid</th>\n",
              "      <th>fuel_Flex-Fuel</th>\n",
              "      <th>fuel_Gasoline</th>\n",
              "      <th>fuel_Hybrid Gasoline</th>\n",
              "      <th>fuel_Natural Gas</th>\n",
              "      <th>fuel_Plug-in Hybrid</th>\n",
              "      <th>make_Type_A</th>\n",
              "      <th>make_Type_AA</th>\n",
              "      <th>make_Type_B</th>\n",
              "      <th>make_Type_C</th>\n",
              "      <th>make_Type_D</th>\n",
              "      <th>make_Type_F</th>\n",
              "      <th>make_Type_FF</th>\n",
              "      <th>make_Type_G</th>\n",
              "      <th>make_Type_GG</th>\n",
              "      <th>make_Type_H</th>\n",
              "      <th>make_Type_I</th>\n",
              "      <th>make_Type_II</th>\n",
              "      <th>make_Type_J</th>\n",
              "      <th>make_Type_K</th>\n",
              "      <th>make_Type_L</th>\n",
              "      <th>make_Type_M</th>\n",
              "      <th>make_Type_MM</th>\n",
              "      <th>make_Type_N</th>\n",
              "      <th>make_Type_NN</th>\n",
              "      <th>make_Type_O</th>\n",
              "      <th>make_Type_OO</th>\n",
              "      <th>make_Type_P</th>\n",
              "      <th>make_Type_Q</th>\n",
              "      <th>make_Type_R</th>\n",
              "      <th>make_Type_S</th>\n",
              "      <th>make_Type_T</th>\n",
              "      <th>make_Type_U</th>\n",
              "      <th>make_Type_V</th>\n",
              "      <th>make_Type_W</th>\n",
              "      <th>make_Type_X</th>\n",
              "      <th>make_Type_Y</th>\n",
              "      <th>make_Type_Z</th>\n",
              "    </tr>\n",
              "  </thead>\n",
              "  <tbody>\n",
              "    <tr>\n",
              "      <th>0</th>\n",
              "      <td>0</td>\n",
              "      <td>0</td>\n",
              "      <td>0</td>\n",
              "      <td>0</td>\n",
              "      <td>0</td>\n",
              "      <td>0</td>\n",
              "      <td>0</td>\n",
              "      <td>0</td>\n",
              "      <td>0</td>\n",
              "      <td>0</td>\n",
              "      <td>0</td>\n",
              "      <td>0</td>\n",
              "      <td>0</td>\n",
              "      <td>0</td>\n",
              "      <td>0</td>\n",
              "      <td>0</td>\n",
              "      <td>0</td>\n",
              "      <td>0</td>\n",
              "      <td>0</td>\n",
              "      <td>0</td>\n",
              "      <td>1</td>\n",
              "      <td>0</td>\n",
              "      <td>0</td>\n",
              "      <td>0</td>\n",
              "      <td>0</td>\n",
              "      <td>0</td>\n",
              "      <td>0</td>\n",
              "      <td>0</td>\n",
              "      <td>0</td>\n",
              "      <td>0</td>\n",
              "      <td>0</td>\n",
              "      <td>0</td>\n",
              "      <td>0</td>\n",
              "      <td>0</td>\n",
              "      <td>0</td>\n",
              "      <td>0</td>\n",
              "      <td>0</td>\n",
              "      <td>0</td>\n",
              "      <td>0</td>\n",
              "      <td>0</td>\n",
              "      <td>0</td>\n",
              "      <td>0</td>\n",
              "      <td>0</td>\n",
              "      <td>0</td>\n",
              "      <td>0</td>\n",
              "      <td>0</td>\n",
              "      <td>0</td>\n",
              "      <td>0</td>\n",
              "      <td>0</td>\n",
              "      <td>0</td>\n",
              "      <td>0</td>\n",
              "      <td>0</td>\n",
              "      <td>0</td>\n",
              "      <td>0</td>\n",
              "      <td>0</td>\n",
              "      <td>0</td>\n",
              "    </tr>\n",
              "    <tr>\n",
              "      <th>1</th>\n",
              "      <td>0</td>\n",
              "      <td>1</td>\n",
              "      <td>0</td>\n",
              "      <td>0</td>\n",
              "      <td>0</td>\n",
              "      <td>0</td>\n",
              "      <td>0</td>\n",
              "      <td>0</td>\n",
              "      <td>0</td>\n",
              "      <td>0</td>\n",
              "      <td>0</td>\n",
              "      <td>0</td>\n",
              "      <td>1</td>\n",
              "      <td>0</td>\n",
              "      <td>0</td>\n",
              "      <td>0</td>\n",
              "      <td>0</td>\n",
              "      <td>0</td>\n",
              "      <td>0</td>\n",
              "      <td>0</td>\n",
              "      <td>1</td>\n",
              "      <td>0</td>\n",
              "      <td>0</td>\n",
              "      <td>0</td>\n",
              "      <td>0</td>\n",
              "      <td>0</td>\n",
              "      <td>0</td>\n",
              "      <td>0</td>\n",
              "      <td>0</td>\n",
              "      <td>0</td>\n",
              "      <td>0</td>\n",
              "      <td>0</td>\n",
              "      <td>0</td>\n",
              "      <td>0</td>\n",
              "      <td>0</td>\n",
              "      <td>0</td>\n",
              "      <td>0</td>\n",
              "      <td>0</td>\n",
              "      <td>0</td>\n",
              "      <td>0</td>\n",
              "      <td>0</td>\n",
              "      <td>0</td>\n",
              "      <td>0</td>\n",
              "      <td>0</td>\n",
              "      <td>0</td>\n",
              "      <td>0</td>\n",
              "      <td>0</td>\n",
              "      <td>0</td>\n",
              "      <td>0</td>\n",
              "      <td>0</td>\n",
              "      <td>0</td>\n",
              "      <td>0</td>\n",
              "      <td>0</td>\n",
              "      <td>0</td>\n",
              "      <td>0</td>\n",
              "      <td>0</td>\n",
              "    </tr>\n",
              "    <tr>\n",
              "      <th>3</th>\n",
              "      <td>0</td>\n",
              "      <td>0</td>\n",
              "      <td>0</td>\n",
              "      <td>0</td>\n",
              "      <td>0</td>\n",
              "      <td>0</td>\n",
              "      <td>0</td>\n",
              "      <td>0</td>\n",
              "      <td>0</td>\n",
              "      <td>0</td>\n",
              "      <td>0</td>\n",
              "      <td>0</td>\n",
              "      <td>0</td>\n",
              "      <td>0</td>\n",
              "      <td>0</td>\n",
              "      <td>1</td>\n",
              "      <td>0</td>\n",
              "      <td>0</td>\n",
              "      <td>0</td>\n",
              "      <td>0</td>\n",
              "      <td>1</td>\n",
              "      <td>0</td>\n",
              "      <td>0</td>\n",
              "      <td>0</td>\n",
              "      <td>0</td>\n",
              "      <td>0</td>\n",
              "      <td>0</td>\n",
              "      <td>0</td>\n",
              "      <td>0</td>\n",
              "      <td>0</td>\n",
              "      <td>0</td>\n",
              "      <td>0</td>\n",
              "      <td>0</td>\n",
              "      <td>0</td>\n",
              "      <td>0</td>\n",
              "      <td>0</td>\n",
              "      <td>0</td>\n",
              "      <td>0</td>\n",
              "      <td>0</td>\n",
              "      <td>0</td>\n",
              "      <td>0</td>\n",
              "      <td>0</td>\n",
              "      <td>0</td>\n",
              "      <td>0</td>\n",
              "      <td>0</td>\n",
              "      <td>0</td>\n",
              "      <td>0</td>\n",
              "      <td>0</td>\n",
              "      <td>0</td>\n",
              "      <td>0</td>\n",
              "      <td>0</td>\n",
              "      <td>0</td>\n",
              "      <td>0</td>\n",
              "      <td>0</td>\n",
              "      <td>0</td>\n",
              "      <td>0</td>\n",
              "    </tr>\n",
              "    <tr>\n",
              "      <th>16</th>\n",
              "      <td>1</td>\n",
              "      <td>0</td>\n",
              "      <td>0</td>\n",
              "      <td>0</td>\n",
              "      <td>0</td>\n",
              "      <td>0</td>\n",
              "      <td>0</td>\n",
              "      <td>0</td>\n",
              "      <td>0</td>\n",
              "      <td>0</td>\n",
              "      <td>0</td>\n",
              "      <td>0</td>\n",
              "      <td>0</td>\n",
              "      <td>0</td>\n",
              "      <td>0</td>\n",
              "      <td>0</td>\n",
              "      <td>0</td>\n",
              "      <td>0</td>\n",
              "      <td>1</td>\n",
              "      <td>0</td>\n",
              "      <td>0</td>\n",
              "      <td>0</td>\n",
              "      <td>0</td>\n",
              "      <td>0</td>\n",
              "      <td>0</td>\n",
              "      <td>0</td>\n",
              "      <td>0</td>\n",
              "      <td>1</td>\n",
              "      <td>0</td>\n",
              "      <td>0</td>\n",
              "      <td>0</td>\n",
              "      <td>0</td>\n",
              "      <td>0</td>\n",
              "      <td>0</td>\n",
              "      <td>0</td>\n",
              "      <td>0</td>\n",
              "      <td>0</td>\n",
              "      <td>0</td>\n",
              "      <td>0</td>\n",
              "      <td>0</td>\n",
              "      <td>0</td>\n",
              "      <td>0</td>\n",
              "      <td>0</td>\n",
              "      <td>0</td>\n",
              "      <td>0</td>\n",
              "      <td>0</td>\n",
              "      <td>0</td>\n",
              "      <td>0</td>\n",
              "      <td>0</td>\n",
              "      <td>0</td>\n",
              "      <td>0</td>\n",
              "      <td>0</td>\n",
              "      <td>0</td>\n",
              "      <td>0</td>\n",
              "      <td>0</td>\n",
              "      <td>0</td>\n",
              "    </tr>\n",
              "    <tr>\n",
              "      <th>17</th>\n",
              "      <td>1</td>\n",
              "      <td>0</td>\n",
              "      <td>0</td>\n",
              "      <td>0</td>\n",
              "      <td>0</td>\n",
              "      <td>0</td>\n",
              "      <td>0</td>\n",
              "      <td>0</td>\n",
              "      <td>0</td>\n",
              "      <td>0</td>\n",
              "      <td>0</td>\n",
              "      <td>0</td>\n",
              "      <td>0</td>\n",
              "      <td>0</td>\n",
              "      <td>0</td>\n",
              "      <td>0</td>\n",
              "      <td>0</td>\n",
              "      <td>0</td>\n",
              "      <td>1</td>\n",
              "      <td>0</td>\n",
              "      <td>0</td>\n",
              "      <td>0</td>\n",
              "      <td>0</td>\n",
              "      <td>0</td>\n",
              "      <td>0</td>\n",
              "      <td>0</td>\n",
              "      <td>0</td>\n",
              "      <td>0</td>\n",
              "      <td>0</td>\n",
              "      <td>0</td>\n",
              "      <td>0</td>\n",
              "      <td>0</td>\n",
              "      <td>0</td>\n",
              "      <td>0</td>\n",
              "      <td>0</td>\n",
              "      <td>0</td>\n",
              "      <td>0</td>\n",
              "      <td>0</td>\n",
              "      <td>0</td>\n",
              "      <td>0</td>\n",
              "      <td>0</td>\n",
              "      <td>0</td>\n",
              "      <td>0</td>\n",
              "      <td>0</td>\n",
              "      <td>0</td>\n",
              "      <td>0</td>\n",
              "      <td>0</td>\n",
              "      <td>0</td>\n",
              "      <td>0</td>\n",
              "      <td>0</td>\n",
              "      <td>0</td>\n",
              "      <td>0</td>\n",
              "      <td>0</td>\n",
              "      <td>0</td>\n",
              "      <td>0</td>\n",
              "      <td>0</td>\n",
              "    </tr>\n",
              "  </tbody>\n",
              "</table>\n",
              "</div>"
            ],
            "text/plain": [
              "    zipcode_90001  zipcode_90002  ...  make_Type_Y  make_Type_Z\n",
              "0               0              0  ...            0            0\n",
              "1               0              1  ...            0            0\n",
              "3               0              0  ...            0            0\n",
              "16              1              0  ...            0            0\n",
              "17              1              0  ...            0            0\n",
              "\n",
              "[5 rows x 56 columns]"
            ]
          },
          "metadata": {
            "tags": []
          },
          "execution_count": 33
        }
      ]
    },
    {
      "cell_type": "markdown",
      "metadata": {
        "id": "x31JFoEJbi4Y"
      },
      "source": [
        "**Lab Task #4a:** Merge (concatenate) original data frame with 'dummy' dataframe."
      ]
    },
    {
      "cell_type": "code",
      "metadata": {
        "colab": {
          "base_uri": "https://localhost:8080/",
          "height": 411
        },
        "id": "_EJKbBbsbi4Y",
        "outputId": "cc3691d6-e8fa-4981-8e7f-c9c99c4c84e7"
      },
      "source": [
        "# TODO 4a\n",
        "# TODO -- Your code here.\n",
        "df = pd.concat([df,data_dummy], axis=1)\n",
        "df.head()"
      ],
      "execution_count": 34,
      "outputs": [
        {
          "output_type": "execute_result",
          "data": {
            "text/html": [
              "<div>\n",
              "<style scoped>\n",
              "    .dataframe tbody tr th:only-of-type {\n",
              "        vertical-align: middle;\n",
              "    }\n",
              "\n",
              "    .dataframe tbody tr th {\n",
              "        vertical-align: top;\n",
              "    }\n",
              "\n",
              "    .dataframe thead th {\n",
              "        text-align: right;\n",
              "    }\n",
              "</style>\n",
              "<table border=\"1\" class=\"dataframe\">\n",
              "  <thead>\n",
              "    <tr style=\"text-align: right;\">\n",
              "      <th></th>\n",
              "      <th>date</th>\n",
              "      <th>zipcode</th>\n",
              "      <th>modelyear</th>\n",
              "      <th>fuel</th>\n",
              "      <th>make</th>\n",
              "      <th>lightduty</th>\n",
              "      <th>vehicles</th>\n",
              "      <th>year</th>\n",
              "      <th>month</th>\n",
              "      <th>day</th>\n",
              "      <th>zipcode_90001</th>\n",
              "      <th>zipcode_90002</th>\n",
              "      <th>zipcode_90003</th>\n",
              "      <th>zipcode_9001</th>\n",
              "      <th>zipcode_na</th>\n",
              "      <th>modelyear_2007</th>\n",
              "      <th>modelyear_2008</th>\n",
              "      <th>modelyear_2009</th>\n",
              "      <th>modelyear_2010</th>\n",
              "      <th>modelyear_2011</th>\n",
              "      <th>modelyear_2012</th>\n",
              "      <th>modelyear_2013</th>\n",
              "      <th>modelyear_2014</th>\n",
              "      <th>modelyear_2015</th>\n",
              "      <th>modelyear_2016</th>\n",
              "      <th>modelyear_2017</th>\n",
              "      <th>modelyear_2018</th>\n",
              "      <th>modelyear_2019</th>\n",
              "      <th>fuel_Diesel and Diesel Hybrid</th>\n",
              "      <th>fuel_Flex-Fuel</th>\n",
              "      <th>fuel_Gasoline</th>\n",
              "      <th>fuel_Hybrid Gasoline</th>\n",
              "      <th>fuel_Natural Gas</th>\n",
              "      <th>fuel_Plug-in Hybrid</th>\n",
              "      <th>make_Type_A</th>\n",
              "      <th>make_Type_AA</th>\n",
              "      <th>make_Type_B</th>\n",
              "      <th>make_Type_C</th>\n",
              "      <th>make_Type_D</th>\n",
              "      <th>make_Type_F</th>\n",
              "      <th>make_Type_FF</th>\n",
              "      <th>make_Type_G</th>\n",
              "      <th>make_Type_GG</th>\n",
              "      <th>make_Type_H</th>\n",
              "      <th>make_Type_I</th>\n",
              "      <th>make_Type_II</th>\n",
              "      <th>make_Type_J</th>\n",
              "      <th>make_Type_K</th>\n",
              "      <th>make_Type_L</th>\n",
              "      <th>make_Type_M</th>\n",
              "      <th>make_Type_MM</th>\n",
              "      <th>make_Type_N</th>\n",
              "      <th>make_Type_NN</th>\n",
              "      <th>make_Type_O</th>\n",
              "      <th>make_Type_OO</th>\n",
              "      <th>make_Type_P</th>\n",
              "      <th>make_Type_Q</th>\n",
              "      <th>make_Type_R</th>\n",
              "      <th>make_Type_S</th>\n",
              "      <th>make_Type_T</th>\n",
              "      <th>make_Type_U</th>\n",
              "      <th>make_Type_V</th>\n",
              "      <th>make_Type_W</th>\n",
              "      <th>make_Type_X</th>\n",
              "      <th>make_Type_Y</th>\n",
              "      <th>make_Type_Z</th>\n",
              "    </tr>\n",
              "  </thead>\n",
              "  <tbody>\n",
              "    <tr>\n",
              "      <th>0</th>\n",
              "      <td>2018-10-01</td>\n",
              "      <td>90000</td>\n",
              "      <td>2006</td>\n",
              "      <td>Gasoline</td>\n",
              "      <td>OTHER/UNK</td>\n",
              "      <td>1</td>\n",
              "      <td>1.0</td>\n",
              "      <td>2018</td>\n",
              "      <td>10</td>\n",
              "      <td>1</td>\n",
              "      <td>0</td>\n",
              "      <td>0</td>\n",
              "      <td>0</td>\n",
              "      <td>0</td>\n",
              "      <td>0</td>\n",
              "      <td>0</td>\n",
              "      <td>0</td>\n",
              "      <td>0</td>\n",
              "      <td>0</td>\n",
              "      <td>0</td>\n",
              "      <td>0</td>\n",
              "      <td>0</td>\n",
              "      <td>0</td>\n",
              "      <td>0</td>\n",
              "      <td>0</td>\n",
              "      <td>0</td>\n",
              "      <td>0</td>\n",
              "      <td>0</td>\n",
              "      <td>0</td>\n",
              "      <td>0</td>\n",
              "      <td>1</td>\n",
              "      <td>0</td>\n",
              "      <td>0</td>\n",
              "      <td>0</td>\n",
              "      <td>0</td>\n",
              "      <td>0</td>\n",
              "      <td>0</td>\n",
              "      <td>0</td>\n",
              "      <td>0</td>\n",
              "      <td>0</td>\n",
              "      <td>0</td>\n",
              "      <td>0</td>\n",
              "      <td>0</td>\n",
              "      <td>0</td>\n",
              "      <td>0</td>\n",
              "      <td>0</td>\n",
              "      <td>0</td>\n",
              "      <td>0</td>\n",
              "      <td>0</td>\n",
              "      <td>0</td>\n",
              "      <td>0</td>\n",
              "      <td>0</td>\n",
              "      <td>0</td>\n",
              "      <td>0</td>\n",
              "      <td>0</td>\n",
              "      <td>0</td>\n",
              "      <td>0</td>\n",
              "      <td>0</td>\n",
              "      <td>0</td>\n",
              "      <td>0</td>\n",
              "      <td>0</td>\n",
              "      <td>0</td>\n",
              "      <td>0</td>\n",
              "      <td>0</td>\n",
              "      <td>0</td>\n",
              "      <td>0</td>\n",
              "    </tr>\n",
              "    <tr>\n",
              "      <th>1</th>\n",
              "      <td>2018-10-01</td>\n",
              "      <td>90002</td>\n",
              "      <td>2014</td>\n",
              "      <td>Gasoline</td>\n",
              "      <td>OTHER/UNK</td>\n",
              "      <td>1</td>\n",
              "      <td>1.0</td>\n",
              "      <td>2018</td>\n",
              "      <td>10</td>\n",
              "      <td>1</td>\n",
              "      <td>0</td>\n",
              "      <td>1</td>\n",
              "      <td>0</td>\n",
              "      <td>0</td>\n",
              "      <td>0</td>\n",
              "      <td>0</td>\n",
              "      <td>0</td>\n",
              "      <td>0</td>\n",
              "      <td>0</td>\n",
              "      <td>0</td>\n",
              "      <td>0</td>\n",
              "      <td>0</td>\n",
              "      <td>1</td>\n",
              "      <td>0</td>\n",
              "      <td>0</td>\n",
              "      <td>0</td>\n",
              "      <td>0</td>\n",
              "      <td>0</td>\n",
              "      <td>0</td>\n",
              "      <td>0</td>\n",
              "      <td>1</td>\n",
              "      <td>0</td>\n",
              "      <td>0</td>\n",
              "      <td>0</td>\n",
              "      <td>0</td>\n",
              "      <td>0</td>\n",
              "      <td>0</td>\n",
              "      <td>0</td>\n",
              "      <td>0</td>\n",
              "      <td>0</td>\n",
              "      <td>0</td>\n",
              "      <td>0</td>\n",
              "      <td>0</td>\n",
              "      <td>0</td>\n",
              "      <td>0</td>\n",
              "      <td>0</td>\n",
              "      <td>0</td>\n",
              "      <td>0</td>\n",
              "      <td>0</td>\n",
              "      <td>0</td>\n",
              "      <td>0</td>\n",
              "      <td>0</td>\n",
              "      <td>0</td>\n",
              "      <td>0</td>\n",
              "      <td>0</td>\n",
              "      <td>0</td>\n",
              "      <td>0</td>\n",
              "      <td>0</td>\n",
              "      <td>0</td>\n",
              "      <td>0</td>\n",
              "      <td>0</td>\n",
              "      <td>0</td>\n",
              "      <td>0</td>\n",
              "      <td>0</td>\n",
              "      <td>0</td>\n",
              "      <td>0</td>\n",
              "    </tr>\n",
              "    <tr>\n",
              "      <th>3</th>\n",
              "      <td>2018-10-01</td>\n",
              "      <td>90000</td>\n",
              "      <td>2017</td>\n",
              "      <td>Gasoline</td>\n",
              "      <td>OTHER/UNK</td>\n",
              "      <td>1</td>\n",
              "      <td>1.0</td>\n",
              "      <td>2018</td>\n",
              "      <td>10</td>\n",
              "      <td>1</td>\n",
              "      <td>0</td>\n",
              "      <td>0</td>\n",
              "      <td>0</td>\n",
              "      <td>0</td>\n",
              "      <td>0</td>\n",
              "      <td>0</td>\n",
              "      <td>0</td>\n",
              "      <td>0</td>\n",
              "      <td>0</td>\n",
              "      <td>0</td>\n",
              "      <td>0</td>\n",
              "      <td>0</td>\n",
              "      <td>0</td>\n",
              "      <td>0</td>\n",
              "      <td>0</td>\n",
              "      <td>1</td>\n",
              "      <td>0</td>\n",
              "      <td>0</td>\n",
              "      <td>0</td>\n",
              "      <td>0</td>\n",
              "      <td>1</td>\n",
              "      <td>0</td>\n",
              "      <td>0</td>\n",
              "      <td>0</td>\n",
              "      <td>0</td>\n",
              "      <td>0</td>\n",
              "      <td>0</td>\n",
              "      <td>0</td>\n",
              "      <td>0</td>\n",
              "      <td>0</td>\n",
              "      <td>0</td>\n",
              "      <td>0</td>\n",
              "      <td>0</td>\n",
              "      <td>0</td>\n",
              "      <td>0</td>\n",
              "      <td>0</td>\n",
              "      <td>0</td>\n",
              "      <td>0</td>\n",
              "      <td>0</td>\n",
              "      <td>0</td>\n",
              "      <td>0</td>\n",
              "      <td>0</td>\n",
              "      <td>0</td>\n",
              "      <td>0</td>\n",
              "      <td>0</td>\n",
              "      <td>0</td>\n",
              "      <td>0</td>\n",
              "      <td>0</td>\n",
              "      <td>0</td>\n",
              "      <td>0</td>\n",
              "      <td>0</td>\n",
              "      <td>0</td>\n",
              "      <td>0</td>\n",
              "      <td>0</td>\n",
              "      <td>0</td>\n",
              "      <td>0</td>\n",
              "    </tr>\n",
              "    <tr>\n",
              "      <th>16</th>\n",
              "      <td>2018-10-09</td>\n",
              "      <td>90001</td>\n",
              "      <td>2006</td>\n",
              "      <td>Diesel and Diesel Hybrid</td>\n",
              "      <td>Type_C</td>\n",
              "      <td>0</td>\n",
              "      <td>16.0</td>\n",
              "      <td>2018</td>\n",
              "      <td>10</td>\n",
              "      <td>9</td>\n",
              "      <td>1</td>\n",
              "      <td>0</td>\n",
              "      <td>0</td>\n",
              "      <td>0</td>\n",
              "      <td>0</td>\n",
              "      <td>0</td>\n",
              "      <td>0</td>\n",
              "      <td>0</td>\n",
              "      <td>0</td>\n",
              "      <td>0</td>\n",
              "      <td>0</td>\n",
              "      <td>0</td>\n",
              "      <td>0</td>\n",
              "      <td>0</td>\n",
              "      <td>0</td>\n",
              "      <td>0</td>\n",
              "      <td>0</td>\n",
              "      <td>0</td>\n",
              "      <td>1</td>\n",
              "      <td>0</td>\n",
              "      <td>0</td>\n",
              "      <td>0</td>\n",
              "      <td>0</td>\n",
              "      <td>0</td>\n",
              "      <td>0</td>\n",
              "      <td>0</td>\n",
              "      <td>0</td>\n",
              "      <td>1</td>\n",
              "      <td>0</td>\n",
              "      <td>0</td>\n",
              "      <td>0</td>\n",
              "      <td>0</td>\n",
              "      <td>0</td>\n",
              "      <td>0</td>\n",
              "      <td>0</td>\n",
              "      <td>0</td>\n",
              "      <td>0</td>\n",
              "      <td>0</td>\n",
              "      <td>0</td>\n",
              "      <td>0</td>\n",
              "      <td>0</td>\n",
              "      <td>0</td>\n",
              "      <td>0</td>\n",
              "      <td>0</td>\n",
              "      <td>0</td>\n",
              "      <td>0</td>\n",
              "      <td>0</td>\n",
              "      <td>0</td>\n",
              "      <td>0</td>\n",
              "      <td>0</td>\n",
              "      <td>0</td>\n",
              "      <td>0</td>\n",
              "      <td>0</td>\n",
              "      <td>0</td>\n",
              "      <td>0</td>\n",
              "      <td>0</td>\n",
              "    </tr>\n",
              "    <tr>\n",
              "      <th>17</th>\n",
              "      <td>2018-10-10</td>\n",
              "      <td>90001</td>\n",
              "      <td>2006</td>\n",
              "      <td>Diesel and Diesel Hybrid</td>\n",
              "      <td>OTHER/UNK</td>\n",
              "      <td>0</td>\n",
              "      <td>23.0</td>\n",
              "      <td>2018</td>\n",
              "      <td>10</td>\n",
              "      <td>10</td>\n",
              "      <td>1</td>\n",
              "      <td>0</td>\n",
              "      <td>0</td>\n",
              "      <td>0</td>\n",
              "      <td>0</td>\n",
              "      <td>0</td>\n",
              "      <td>0</td>\n",
              "      <td>0</td>\n",
              "      <td>0</td>\n",
              "      <td>0</td>\n",
              "      <td>0</td>\n",
              "      <td>0</td>\n",
              "      <td>0</td>\n",
              "      <td>0</td>\n",
              "      <td>0</td>\n",
              "      <td>0</td>\n",
              "      <td>0</td>\n",
              "      <td>0</td>\n",
              "      <td>1</td>\n",
              "      <td>0</td>\n",
              "      <td>0</td>\n",
              "      <td>0</td>\n",
              "      <td>0</td>\n",
              "      <td>0</td>\n",
              "      <td>0</td>\n",
              "      <td>0</td>\n",
              "      <td>0</td>\n",
              "      <td>0</td>\n",
              "      <td>0</td>\n",
              "      <td>0</td>\n",
              "      <td>0</td>\n",
              "      <td>0</td>\n",
              "      <td>0</td>\n",
              "      <td>0</td>\n",
              "      <td>0</td>\n",
              "      <td>0</td>\n",
              "      <td>0</td>\n",
              "      <td>0</td>\n",
              "      <td>0</td>\n",
              "      <td>0</td>\n",
              "      <td>0</td>\n",
              "      <td>0</td>\n",
              "      <td>0</td>\n",
              "      <td>0</td>\n",
              "      <td>0</td>\n",
              "      <td>0</td>\n",
              "      <td>0</td>\n",
              "      <td>0</td>\n",
              "      <td>0</td>\n",
              "      <td>0</td>\n",
              "      <td>0</td>\n",
              "      <td>0</td>\n",
              "      <td>0</td>\n",
              "      <td>0</td>\n",
              "      <td>0</td>\n",
              "      <td>0</td>\n",
              "    </tr>\n",
              "  </tbody>\n",
              "</table>\n",
              "</div>"
            ],
            "text/plain": [
              "         date zipcode modelyear  ... make_Type_X make_Type_Y  make_Type_Z\n",
              "0  2018-10-01   90000      2006  ...           0           0            0\n",
              "1  2018-10-01   90002      2014  ...           0           0            0\n",
              "3  2018-10-01   90000      2017  ...           0           0            0\n",
              "16 2018-10-09   90001      2006  ...           0           0            0\n",
              "17 2018-10-10   90001      2006  ...           0           0            0\n",
              "\n",
              "[5 rows x 66 columns]"
            ]
          },
          "metadata": {
            "tags": []
          },
          "execution_count": 34
        }
      ]
    },
    {
      "cell_type": "markdown",
      "metadata": {
        "id": "aUSDMRr8bi4Z"
      },
      "source": [
        "**Lab Task #4b:** Drop attributes for which we made dummy variables."
      ]
    },
    {
      "cell_type": "code",
      "metadata": {
        "id": "mb_LF0Z5bi4Z"
      },
      "source": [
        "# TODO 4b\n",
        "# TODO -- Your code here.\n",
        "df.drop(columns = ['date', 'zipcode','modelyear', 'fuel', 'make'], inplace = True)"
      ],
      "execution_count": 35,
      "outputs": []
    },
    {
      "cell_type": "code",
      "metadata": {
        "colab": {
          "base_uri": "https://localhost:8080/",
          "height": 258
        },
        "id": "3WIe-_Mrbi4Z",
        "outputId": "63e4298d-28d4-456e-abe9-caa0d6b9f966"
      },
      "source": [
        "# Confirm that 'zipcode','modelyear', 'fuel', and 'make' have been dropped.\n",
        "\n",
        "df.head()"
      ],
      "execution_count": 36,
      "outputs": [
        {
          "output_type": "execute_result",
          "data": {
            "text/html": [
              "<div>\n",
              "<style scoped>\n",
              "    .dataframe tbody tr th:only-of-type {\n",
              "        vertical-align: middle;\n",
              "    }\n",
              "\n",
              "    .dataframe tbody tr th {\n",
              "        vertical-align: top;\n",
              "    }\n",
              "\n",
              "    .dataframe thead th {\n",
              "        text-align: right;\n",
              "    }\n",
              "</style>\n",
              "<table border=\"1\" class=\"dataframe\">\n",
              "  <thead>\n",
              "    <tr style=\"text-align: right;\">\n",
              "      <th></th>\n",
              "      <th>lightduty</th>\n",
              "      <th>vehicles</th>\n",
              "      <th>year</th>\n",
              "      <th>month</th>\n",
              "      <th>day</th>\n",
              "      <th>zipcode_90001</th>\n",
              "      <th>zipcode_90002</th>\n",
              "      <th>zipcode_90003</th>\n",
              "      <th>zipcode_9001</th>\n",
              "      <th>zipcode_na</th>\n",
              "      <th>modelyear_2007</th>\n",
              "      <th>modelyear_2008</th>\n",
              "      <th>modelyear_2009</th>\n",
              "      <th>modelyear_2010</th>\n",
              "      <th>modelyear_2011</th>\n",
              "      <th>modelyear_2012</th>\n",
              "      <th>modelyear_2013</th>\n",
              "      <th>modelyear_2014</th>\n",
              "      <th>modelyear_2015</th>\n",
              "      <th>modelyear_2016</th>\n",
              "      <th>modelyear_2017</th>\n",
              "      <th>modelyear_2018</th>\n",
              "      <th>modelyear_2019</th>\n",
              "      <th>fuel_Diesel and Diesel Hybrid</th>\n",
              "      <th>fuel_Flex-Fuel</th>\n",
              "      <th>fuel_Gasoline</th>\n",
              "      <th>fuel_Hybrid Gasoline</th>\n",
              "      <th>fuel_Natural Gas</th>\n",
              "      <th>fuel_Plug-in Hybrid</th>\n",
              "      <th>make_Type_A</th>\n",
              "      <th>make_Type_AA</th>\n",
              "      <th>make_Type_B</th>\n",
              "      <th>make_Type_C</th>\n",
              "      <th>make_Type_D</th>\n",
              "      <th>make_Type_F</th>\n",
              "      <th>make_Type_FF</th>\n",
              "      <th>make_Type_G</th>\n",
              "      <th>make_Type_GG</th>\n",
              "      <th>make_Type_H</th>\n",
              "      <th>make_Type_I</th>\n",
              "      <th>make_Type_II</th>\n",
              "      <th>make_Type_J</th>\n",
              "      <th>make_Type_K</th>\n",
              "      <th>make_Type_L</th>\n",
              "      <th>make_Type_M</th>\n",
              "      <th>make_Type_MM</th>\n",
              "      <th>make_Type_N</th>\n",
              "      <th>make_Type_NN</th>\n",
              "      <th>make_Type_O</th>\n",
              "      <th>make_Type_OO</th>\n",
              "      <th>make_Type_P</th>\n",
              "      <th>make_Type_Q</th>\n",
              "      <th>make_Type_R</th>\n",
              "      <th>make_Type_S</th>\n",
              "      <th>make_Type_T</th>\n",
              "      <th>make_Type_U</th>\n",
              "      <th>make_Type_V</th>\n",
              "      <th>make_Type_W</th>\n",
              "      <th>make_Type_X</th>\n",
              "      <th>make_Type_Y</th>\n",
              "      <th>make_Type_Z</th>\n",
              "    </tr>\n",
              "  </thead>\n",
              "  <tbody>\n",
              "    <tr>\n",
              "      <th>0</th>\n",
              "      <td>1</td>\n",
              "      <td>1.0</td>\n",
              "      <td>2018</td>\n",
              "      <td>10</td>\n",
              "      <td>1</td>\n",
              "      <td>0</td>\n",
              "      <td>0</td>\n",
              "      <td>0</td>\n",
              "      <td>0</td>\n",
              "      <td>0</td>\n",
              "      <td>0</td>\n",
              "      <td>0</td>\n",
              "      <td>0</td>\n",
              "      <td>0</td>\n",
              "      <td>0</td>\n",
              "      <td>0</td>\n",
              "      <td>0</td>\n",
              "      <td>0</td>\n",
              "      <td>0</td>\n",
              "      <td>0</td>\n",
              "      <td>0</td>\n",
              "      <td>0</td>\n",
              "      <td>0</td>\n",
              "      <td>0</td>\n",
              "      <td>0</td>\n",
              "      <td>1</td>\n",
              "      <td>0</td>\n",
              "      <td>0</td>\n",
              "      <td>0</td>\n",
              "      <td>0</td>\n",
              "      <td>0</td>\n",
              "      <td>0</td>\n",
              "      <td>0</td>\n",
              "      <td>0</td>\n",
              "      <td>0</td>\n",
              "      <td>0</td>\n",
              "      <td>0</td>\n",
              "      <td>0</td>\n",
              "      <td>0</td>\n",
              "      <td>0</td>\n",
              "      <td>0</td>\n",
              "      <td>0</td>\n",
              "      <td>0</td>\n",
              "      <td>0</td>\n",
              "      <td>0</td>\n",
              "      <td>0</td>\n",
              "      <td>0</td>\n",
              "      <td>0</td>\n",
              "      <td>0</td>\n",
              "      <td>0</td>\n",
              "      <td>0</td>\n",
              "      <td>0</td>\n",
              "      <td>0</td>\n",
              "      <td>0</td>\n",
              "      <td>0</td>\n",
              "      <td>0</td>\n",
              "      <td>0</td>\n",
              "      <td>0</td>\n",
              "      <td>0</td>\n",
              "      <td>0</td>\n",
              "      <td>0</td>\n",
              "    </tr>\n",
              "    <tr>\n",
              "      <th>1</th>\n",
              "      <td>1</td>\n",
              "      <td>1.0</td>\n",
              "      <td>2018</td>\n",
              "      <td>10</td>\n",
              "      <td>1</td>\n",
              "      <td>0</td>\n",
              "      <td>1</td>\n",
              "      <td>0</td>\n",
              "      <td>0</td>\n",
              "      <td>0</td>\n",
              "      <td>0</td>\n",
              "      <td>0</td>\n",
              "      <td>0</td>\n",
              "      <td>0</td>\n",
              "      <td>0</td>\n",
              "      <td>0</td>\n",
              "      <td>0</td>\n",
              "      <td>1</td>\n",
              "      <td>0</td>\n",
              "      <td>0</td>\n",
              "      <td>0</td>\n",
              "      <td>0</td>\n",
              "      <td>0</td>\n",
              "      <td>0</td>\n",
              "      <td>0</td>\n",
              "      <td>1</td>\n",
              "      <td>0</td>\n",
              "      <td>0</td>\n",
              "      <td>0</td>\n",
              "      <td>0</td>\n",
              "      <td>0</td>\n",
              "      <td>0</td>\n",
              "      <td>0</td>\n",
              "      <td>0</td>\n",
              "      <td>0</td>\n",
              "      <td>0</td>\n",
              "      <td>0</td>\n",
              "      <td>0</td>\n",
              "      <td>0</td>\n",
              "      <td>0</td>\n",
              "      <td>0</td>\n",
              "      <td>0</td>\n",
              "      <td>0</td>\n",
              "      <td>0</td>\n",
              "      <td>0</td>\n",
              "      <td>0</td>\n",
              "      <td>0</td>\n",
              "      <td>0</td>\n",
              "      <td>0</td>\n",
              "      <td>0</td>\n",
              "      <td>0</td>\n",
              "      <td>0</td>\n",
              "      <td>0</td>\n",
              "      <td>0</td>\n",
              "      <td>0</td>\n",
              "      <td>0</td>\n",
              "      <td>0</td>\n",
              "      <td>0</td>\n",
              "      <td>0</td>\n",
              "      <td>0</td>\n",
              "      <td>0</td>\n",
              "    </tr>\n",
              "    <tr>\n",
              "      <th>3</th>\n",
              "      <td>1</td>\n",
              "      <td>1.0</td>\n",
              "      <td>2018</td>\n",
              "      <td>10</td>\n",
              "      <td>1</td>\n",
              "      <td>0</td>\n",
              "      <td>0</td>\n",
              "      <td>0</td>\n",
              "      <td>0</td>\n",
              "      <td>0</td>\n",
              "      <td>0</td>\n",
              "      <td>0</td>\n",
              "      <td>0</td>\n",
              "      <td>0</td>\n",
              "      <td>0</td>\n",
              "      <td>0</td>\n",
              "      <td>0</td>\n",
              "      <td>0</td>\n",
              "      <td>0</td>\n",
              "      <td>0</td>\n",
              "      <td>1</td>\n",
              "      <td>0</td>\n",
              "      <td>0</td>\n",
              "      <td>0</td>\n",
              "      <td>0</td>\n",
              "      <td>1</td>\n",
              "      <td>0</td>\n",
              "      <td>0</td>\n",
              "      <td>0</td>\n",
              "      <td>0</td>\n",
              "      <td>0</td>\n",
              "      <td>0</td>\n",
              "      <td>0</td>\n",
              "      <td>0</td>\n",
              "      <td>0</td>\n",
              "      <td>0</td>\n",
              "      <td>0</td>\n",
              "      <td>0</td>\n",
              "      <td>0</td>\n",
              "      <td>0</td>\n",
              "      <td>0</td>\n",
              "      <td>0</td>\n",
              "      <td>0</td>\n",
              "      <td>0</td>\n",
              "      <td>0</td>\n",
              "      <td>0</td>\n",
              "      <td>0</td>\n",
              "      <td>0</td>\n",
              "      <td>0</td>\n",
              "      <td>0</td>\n",
              "      <td>0</td>\n",
              "      <td>0</td>\n",
              "      <td>0</td>\n",
              "      <td>0</td>\n",
              "      <td>0</td>\n",
              "      <td>0</td>\n",
              "      <td>0</td>\n",
              "      <td>0</td>\n",
              "      <td>0</td>\n",
              "      <td>0</td>\n",
              "      <td>0</td>\n",
              "    </tr>\n",
              "    <tr>\n",
              "      <th>16</th>\n",
              "      <td>0</td>\n",
              "      <td>16.0</td>\n",
              "      <td>2018</td>\n",
              "      <td>10</td>\n",
              "      <td>9</td>\n",
              "      <td>1</td>\n",
              "      <td>0</td>\n",
              "      <td>0</td>\n",
              "      <td>0</td>\n",
              "      <td>0</td>\n",
              "      <td>0</td>\n",
              "      <td>0</td>\n",
              "      <td>0</td>\n",
              "      <td>0</td>\n",
              "      <td>0</td>\n",
              "      <td>0</td>\n",
              "      <td>0</td>\n",
              "      <td>0</td>\n",
              "      <td>0</td>\n",
              "      <td>0</td>\n",
              "      <td>0</td>\n",
              "      <td>0</td>\n",
              "      <td>0</td>\n",
              "      <td>1</td>\n",
              "      <td>0</td>\n",
              "      <td>0</td>\n",
              "      <td>0</td>\n",
              "      <td>0</td>\n",
              "      <td>0</td>\n",
              "      <td>0</td>\n",
              "      <td>0</td>\n",
              "      <td>0</td>\n",
              "      <td>1</td>\n",
              "      <td>0</td>\n",
              "      <td>0</td>\n",
              "      <td>0</td>\n",
              "      <td>0</td>\n",
              "      <td>0</td>\n",
              "      <td>0</td>\n",
              "      <td>0</td>\n",
              "      <td>0</td>\n",
              "      <td>0</td>\n",
              "      <td>0</td>\n",
              "      <td>0</td>\n",
              "      <td>0</td>\n",
              "      <td>0</td>\n",
              "      <td>0</td>\n",
              "      <td>0</td>\n",
              "      <td>0</td>\n",
              "      <td>0</td>\n",
              "      <td>0</td>\n",
              "      <td>0</td>\n",
              "      <td>0</td>\n",
              "      <td>0</td>\n",
              "      <td>0</td>\n",
              "      <td>0</td>\n",
              "      <td>0</td>\n",
              "      <td>0</td>\n",
              "      <td>0</td>\n",
              "      <td>0</td>\n",
              "      <td>0</td>\n",
              "    </tr>\n",
              "    <tr>\n",
              "      <th>17</th>\n",
              "      <td>0</td>\n",
              "      <td>23.0</td>\n",
              "      <td>2018</td>\n",
              "      <td>10</td>\n",
              "      <td>10</td>\n",
              "      <td>1</td>\n",
              "      <td>0</td>\n",
              "      <td>0</td>\n",
              "      <td>0</td>\n",
              "      <td>0</td>\n",
              "      <td>0</td>\n",
              "      <td>0</td>\n",
              "      <td>0</td>\n",
              "      <td>0</td>\n",
              "      <td>0</td>\n",
              "      <td>0</td>\n",
              "      <td>0</td>\n",
              "      <td>0</td>\n",
              "      <td>0</td>\n",
              "      <td>0</td>\n",
              "      <td>0</td>\n",
              "      <td>0</td>\n",
              "      <td>0</td>\n",
              "      <td>1</td>\n",
              "      <td>0</td>\n",
              "      <td>0</td>\n",
              "      <td>0</td>\n",
              "      <td>0</td>\n",
              "      <td>0</td>\n",
              "      <td>0</td>\n",
              "      <td>0</td>\n",
              "      <td>0</td>\n",
              "      <td>0</td>\n",
              "      <td>0</td>\n",
              "      <td>0</td>\n",
              "      <td>0</td>\n",
              "      <td>0</td>\n",
              "      <td>0</td>\n",
              "      <td>0</td>\n",
              "      <td>0</td>\n",
              "      <td>0</td>\n",
              "      <td>0</td>\n",
              "      <td>0</td>\n",
              "      <td>0</td>\n",
              "      <td>0</td>\n",
              "      <td>0</td>\n",
              "      <td>0</td>\n",
              "      <td>0</td>\n",
              "      <td>0</td>\n",
              "      <td>0</td>\n",
              "      <td>0</td>\n",
              "      <td>0</td>\n",
              "      <td>0</td>\n",
              "      <td>0</td>\n",
              "      <td>0</td>\n",
              "      <td>0</td>\n",
              "      <td>0</td>\n",
              "      <td>0</td>\n",
              "      <td>0</td>\n",
              "      <td>0</td>\n",
              "      <td>0</td>\n",
              "    </tr>\n",
              "  </tbody>\n",
              "</table>\n",
              "</div>"
            ],
            "text/plain": [
              "    lightduty  vehicles  year  ...  make_Type_X  make_Type_Y  make_Type_Z\n",
              "0           1       1.0  2018  ...            0            0            0\n",
              "1           1       1.0  2018  ...            0            0            0\n",
              "3           1       1.0  2018  ...            0            0            0\n",
              "16          0      16.0  2018  ...            0            0            0\n",
              "17          0      23.0  2018  ...            0            0            0\n",
              "\n",
              "[5 rows x 61 columns]"
            ]
          },
          "metadata": {
            "tags": []
          },
          "execution_count": 36
        }
      ]
    },
    {
      "cell_type": "markdown",
      "metadata": {
        "id": "-ck2N6xZbi4Z"
      },
      "source": [
        "#### Data Quality Issue #5:  \n",
        "##### Temporal Feature Columns\n",
        "\n",
        "Our dataset now contains year, month, and day feature columns.  Let's convert the month and day feature columns to meaningful representations as a way to get us thinking about changing temporal features -- as they are sometimes overlooked.  \n",
        "\n",
        "Note that the Feature Engineering course in this Specialization will provide more depth on methods to handle year, month, day, and hour feature columns.\n",
        "\n",
        "First, let's print the unique values for \"month\" and \"day\" in our dataset."
      ]
    },
    {
      "cell_type": "code",
      "metadata": {
        "colab": {
          "base_uri": "https://localhost:8080/"
        },
        "id": "MZqi9vjpbi4Z",
        "outputId": "faa88381-304f-48a5-eabf-0e5028f76184"
      },
      "source": [
        "print ('Unique values of month:',df.month.unique())\n",
        "print ('Unique values of day:',df.day.unique())\n",
        "print ('Unique values of year:',df.year.unique())"
      ],
      "execution_count": 37,
      "outputs": [
        {
          "output_type": "stream",
          "text": [
            "Unique values of month: [10 11 12  1  2  3  4  5  6  7]\n",
            "Unique values of day: [ 1  9 10 11 12 13 14 15 16 17 18 19 20 21 22 23 24 25 26 27 28 29 30 31\n",
            "  2  3  4  5  6  7  8]\n",
            "Unique values of year: [2018 2019]\n"
          ],
          "name": "stdout"
        }
      ]
    },
    {
      "cell_type": "markdown",
      "metadata": {
        "id": "WRIpkqL4bi4a"
      },
      "source": [
        "Next, we map each temporal variable onto a circle such that the lowest value for that variable appears right next to the largest value. We compute the x- and y- component of that point using sin and cos trigonometric functions.   Don't worry, this is the last time we will use this code, as you can develop an input pipeline to address these temporal feature columns in TensorFlow and Keras - and it is much easier!  But, sometimes you need to appreciate what you're not going to encounter as you move through the course!\n",
        "\n",
        "Run the cell to view the output."
      ]
    },
    {
      "cell_type": "markdown",
      "metadata": {
        "id": "1pr7sdeqbi4a"
      },
      "source": [
        "**Lab Task #5:** Drop month, and day"
      ]
    },
    {
      "cell_type": "code",
      "metadata": {
        "id": "16HrxNdPbi4a"
      },
      "source": [
        "df['day_sin'] = np.sin(df.day*(2.*np.pi/31))\n",
        "df['day_cos'] = np.cos(df.day*(2.*np.pi/31))\n",
        "df['month_sin'] = np.sin((df.month-1)*(2.*np.pi/12))\n",
        "df['month_cos'] = np.cos((df.month-1)*(2.*np.pi/12))\n",
        "\n",
        "# TODO 5\n",
        "# TODO -- Your code here.\n",
        "df.drop(columns = ['month','day','year'], inplace = True)\n"
      ],
      "execution_count": 39,
      "outputs": []
    },
    {
      "cell_type": "code",
      "metadata": {
        "colab": {
          "base_uri": "https://localhost:8080/",
          "height": 227
        },
        "id": "hzoUfDFsbi4a",
        "outputId": "5e104dd4-e203-4186-df09-0b665cc017b9"
      },
      "source": [
        "# scroll left to see the converted month and day coluumns.\n",
        "df.tail(4)"
      ],
      "execution_count": 40,
      "outputs": [
        {
          "output_type": "execute_result",
          "data": {
            "text/html": [
              "<div>\n",
              "<style scoped>\n",
              "    .dataframe tbody tr th:only-of-type {\n",
              "        vertical-align: middle;\n",
              "    }\n",
              "\n",
              "    .dataframe tbody tr th {\n",
              "        vertical-align: top;\n",
              "    }\n",
              "\n",
              "    .dataframe thead th {\n",
              "        text-align: right;\n",
              "    }\n",
              "</style>\n",
              "<table border=\"1\" class=\"dataframe\">\n",
              "  <thead>\n",
              "    <tr style=\"text-align: right;\">\n",
              "      <th></th>\n",
              "      <th>lightduty</th>\n",
              "      <th>vehicles</th>\n",
              "      <th>zipcode_90001</th>\n",
              "      <th>zipcode_90002</th>\n",
              "      <th>zipcode_90003</th>\n",
              "      <th>zipcode_9001</th>\n",
              "      <th>zipcode_na</th>\n",
              "      <th>modelyear_2007</th>\n",
              "      <th>modelyear_2008</th>\n",
              "      <th>modelyear_2009</th>\n",
              "      <th>modelyear_2010</th>\n",
              "      <th>modelyear_2011</th>\n",
              "      <th>modelyear_2012</th>\n",
              "      <th>modelyear_2013</th>\n",
              "      <th>modelyear_2014</th>\n",
              "      <th>modelyear_2015</th>\n",
              "      <th>modelyear_2016</th>\n",
              "      <th>modelyear_2017</th>\n",
              "      <th>modelyear_2018</th>\n",
              "      <th>modelyear_2019</th>\n",
              "      <th>fuel_Diesel and Diesel Hybrid</th>\n",
              "      <th>fuel_Flex-Fuel</th>\n",
              "      <th>fuel_Gasoline</th>\n",
              "      <th>fuel_Hybrid Gasoline</th>\n",
              "      <th>fuel_Natural Gas</th>\n",
              "      <th>fuel_Plug-in Hybrid</th>\n",
              "      <th>make_Type_A</th>\n",
              "      <th>make_Type_AA</th>\n",
              "      <th>make_Type_B</th>\n",
              "      <th>make_Type_C</th>\n",
              "      <th>make_Type_D</th>\n",
              "      <th>make_Type_F</th>\n",
              "      <th>make_Type_FF</th>\n",
              "      <th>make_Type_G</th>\n",
              "      <th>make_Type_GG</th>\n",
              "      <th>make_Type_H</th>\n",
              "      <th>make_Type_I</th>\n",
              "      <th>make_Type_II</th>\n",
              "      <th>make_Type_J</th>\n",
              "      <th>make_Type_K</th>\n",
              "      <th>make_Type_L</th>\n",
              "      <th>make_Type_M</th>\n",
              "      <th>make_Type_MM</th>\n",
              "      <th>make_Type_N</th>\n",
              "      <th>make_Type_NN</th>\n",
              "      <th>make_Type_O</th>\n",
              "      <th>make_Type_OO</th>\n",
              "      <th>make_Type_P</th>\n",
              "      <th>make_Type_Q</th>\n",
              "      <th>make_Type_R</th>\n",
              "      <th>make_Type_S</th>\n",
              "      <th>make_Type_T</th>\n",
              "      <th>make_Type_U</th>\n",
              "      <th>make_Type_V</th>\n",
              "      <th>make_Type_W</th>\n",
              "      <th>make_Type_X</th>\n",
              "      <th>make_Type_Y</th>\n",
              "      <th>make_Type_Z</th>\n",
              "      <th>day_sin</th>\n",
              "      <th>day_cos</th>\n",
              "      <th>month_sin</th>\n",
              "      <th>month_cos</th>\n",
              "    </tr>\n",
              "  </thead>\n",
              "  <tbody>\n",
              "    <tr>\n",
              "      <th>995</th>\n",
              "      <td>1</td>\n",
              "      <td>4.0</td>\n",
              "      <td>0</td>\n",
              "      <td>0</td>\n",
              "      <td>1</td>\n",
              "      <td>0</td>\n",
              "      <td>0</td>\n",
              "      <td>0</td>\n",
              "      <td>0</td>\n",
              "      <td>0</td>\n",
              "      <td>0</td>\n",
              "      <td>0</td>\n",
              "      <td>1</td>\n",
              "      <td>0</td>\n",
              "      <td>0</td>\n",
              "      <td>0</td>\n",
              "      <td>0</td>\n",
              "      <td>0</td>\n",
              "      <td>0</td>\n",
              "      <td>0</td>\n",
              "      <td>0</td>\n",
              "      <td>0</td>\n",
              "      <td>0</td>\n",
              "      <td>1</td>\n",
              "      <td>0</td>\n",
              "      <td>0</td>\n",
              "      <td>0</td>\n",
              "      <td>0</td>\n",
              "      <td>0</td>\n",
              "      <td>0</td>\n",
              "      <td>0</td>\n",
              "      <td>0</td>\n",
              "      <td>0</td>\n",
              "      <td>0</td>\n",
              "      <td>0</td>\n",
              "      <td>0</td>\n",
              "      <td>0</td>\n",
              "      <td>0</td>\n",
              "      <td>0</td>\n",
              "      <td>0</td>\n",
              "      <td>0</td>\n",
              "      <td>0</td>\n",
              "      <td>0</td>\n",
              "      <td>0</td>\n",
              "      <td>0</td>\n",
              "      <td>0</td>\n",
              "      <td>0</td>\n",
              "      <td>0</td>\n",
              "      <td>0</td>\n",
              "      <td>0</td>\n",
              "      <td>0</td>\n",
              "      <td>0</td>\n",
              "      <td>0</td>\n",
              "      <td>0</td>\n",
              "      <td>0</td>\n",
              "      <td>0</td>\n",
              "      <td>0</td>\n",
              "      <td>0</td>\n",
              "      <td>0.998717</td>\n",
              "      <td>-0.050649</td>\n",
              "      <td>0.5</td>\n",
              "      <td>-0.866025</td>\n",
              "    </tr>\n",
              "    <tr>\n",
              "      <th>996</th>\n",
              "      <td>1</td>\n",
              "      <td>25.0</td>\n",
              "      <td>0</td>\n",
              "      <td>0</td>\n",
              "      <td>1</td>\n",
              "      <td>0</td>\n",
              "      <td>0</td>\n",
              "      <td>0</td>\n",
              "      <td>0</td>\n",
              "      <td>0</td>\n",
              "      <td>0</td>\n",
              "      <td>0</td>\n",
              "      <td>1</td>\n",
              "      <td>0</td>\n",
              "      <td>0</td>\n",
              "      <td>0</td>\n",
              "      <td>0</td>\n",
              "      <td>0</td>\n",
              "      <td>0</td>\n",
              "      <td>0</td>\n",
              "      <td>0</td>\n",
              "      <td>0</td>\n",
              "      <td>0</td>\n",
              "      <td>1</td>\n",
              "      <td>0</td>\n",
              "      <td>0</td>\n",
              "      <td>0</td>\n",
              "      <td>0</td>\n",
              "      <td>0</td>\n",
              "      <td>0</td>\n",
              "      <td>0</td>\n",
              "      <td>0</td>\n",
              "      <td>0</td>\n",
              "      <td>0</td>\n",
              "      <td>0</td>\n",
              "      <td>0</td>\n",
              "      <td>0</td>\n",
              "      <td>0</td>\n",
              "      <td>0</td>\n",
              "      <td>0</td>\n",
              "      <td>0</td>\n",
              "      <td>0</td>\n",
              "      <td>0</td>\n",
              "      <td>0</td>\n",
              "      <td>0</td>\n",
              "      <td>0</td>\n",
              "      <td>0</td>\n",
              "      <td>0</td>\n",
              "      <td>1</td>\n",
              "      <td>0</td>\n",
              "      <td>0</td>\n",
              "      <td>0</td>\n",
              "      <td>0</td>\n",
              "      <td>0</td>\n",
              "      <td>0</td>\n",
              "      <td>0</td>\n",
              "      <td>0</td>\n",
              "      <td>0</td>\n",
              "      <td>0.968077</td>\n",
              "      <td>-0.250653</td>\n",
              "      <td>0.5</td>\n",
              "      <td>-0.866025</td>\n",
              "    </tr>\n",
              "    <tr>\n",
              "      <th>997</th>\n",
              "      <td>1</td>\n",
              "      <td>1.0</td>\n",
              "      <td>0</td>\n",
              "      <td>0</td>\n",
              "      <td>1</td>\n",
              "      <td>0</td>\n",
              "      <td>0</td>\n",
              "      <td>0</td>\n",
              "      <td>0</td>\n",
              "      <td>0</td>\n",
              "      <td>0</td>\n",
              "      <td>0</td>\n",
              "      <td>1</td>\n",
              "      <td>0</td>\n",
              "      <td>0</td>\n",
              "      <td>0</td>\n",
              "      <td>0</td>\n",
              "      <td>0</td>\n",
              "      <td>0</td>\n",
              "      <td>0</td>\n",
              "      <td>0</td>\n",
              "      <td>0</td>\n",
              "      <td>0</td>\n",
              "      <td>0</td>\n",
              "      <td>1</td>\n",
              "      <td>0</td>\n",
              "      <td>0</td>\n",
              "      <td>0</td>\n",
              "      <td>0</td>\n",
              "      <td>0</td>\n",
              "      <td>0</td>\n",
              "      <td>0</td>\n",
              "      <td>0</td>\n",
              "      <td>0</td>\n",
              "      <td>0</td>\n",
              "      <td>0</td>\n",
              "      <td>0</td>\n",
              "      <td>0</td>\n",
              "      <td>0</td>\n",
              "      <td>0</td>\n",
              "      <td>0</td>\n",
              "      <td>0</td>\n",
              "      <td>0</td>\n",
              "      <td>0</td>\n",
              "      <td>0</td>\n",
              "      <td>0</td>\n",
              "      <td>0</td>\n",
              "      <td>0</td>\n",
              "      <td>0</td>\n",
              "      <td>0</td>\n",
              "      <td>0</td>\n",
              "      <td>0</td>\n",
              "      <td>0</td>\n",
              "      <td>0</td>\n",
              "      <td>0</td>\n",
              "      <td>0</td>\n",
              "      <td>0</td>\n",
              "      <td>0</td>\n",
              "      <td>0.897805</td>\n",
              "      <td>-0.440394</td>\n",
              "      <td>0.5</td>\n",
              "      <td>-0.866025</td>\n",
              "    </tr>\n",
              "    <tr>\n",
              "      <th>998</th>\n",
              "      <td>1</td>\n",
              "      <td>3.0</td>\n",
              "      <td>0</td>\n",
              "      <td>0</td>\n",
              "      <td>1</td>\n",
              "      <td>0</td>\n",
              "      <td>0</td>\n",
              "      <td>0</td>\n",
              "      <td>0</td>\n",
              "      <td>0</td>\n",
              "      <td>0</td>\n",
              "      <td>0</td>\n",
              "      <td>1</td>\n",
              "      <td>0</td>\n",
              "      <td>0</td>\n",
              "      <td>0</td>\n",
              "      <td>0</td>\n",
              "      <td>0</td>\n",
              "      <td>0</td>\n",
              "      <td>0</td>\n",
              "      <td>0</td>\n",
              "      <td>0</td>\n",
              "      <td>0</td>\n",
              "      <td>0</td>\n",
              "      <td>0</td>\n",
              "      <td>1</td>\n",
              "      <td>0</td>\n",
              "      <td>0</td>\n",
              "      <td>0</td>\n",
              "      <td>0</td>\n",
              "      <td>0</td>\n",
              "      <td>0</td>\n",
              "      <td>0</td>\n",
              "      <td>0</td>\n",
              "      <td>0</td>\n",
              "      <td>0</td>\n",
              "      <td>0</td>\n",
              "      <td>0</td>\n",
              "      <td>0</td>\n",
              "      <td>0</td>\n",
              "      <td>0</td>\n",
              "      <td>0</td>\n",
              "      <td>0</td>\n",
              "      <td>0</td>\n",
              "      <td>0</td>\n",
              "      <td>0</td>\n",
              "      <td>0</td>\n",
              "      <td>0</td>\n",
              "      <td>0</td>\n",
              "      <td>0</td>\n",
              "      <td>0</td>\n",
              "      <td>0</td>\n",
              "      <td>0</td>\n",
              "      <td>0</td>\n",
              "      <td>0</td>\n",
              "      <td>0</td>\n",
              "      <td>0</td>\n",
              "      <td>0</td>\n",
              "      <td>0.790776</td>\n",
              "      <td>-0.612106</td>\n",
              "      <td>0.5</td>\n",
              "      <td>-0.866025</td>\n",
              "    </tr>\n",
              "  </tbody>\n",
              "</table>\n",
              "</div>"
            ],
            "text/plain": [
              "     lightduty  vehicles  zipcode_90001  ...   day_cos  month_sin  month_cos\n",
              "995          1       4.0              0  ... -0.050649        0.5  -0.866025\n",
              "996          1      25.0              0  ... -0.250653        0.5  -0.866025\n",
              "997          1       1.0              0  ... -0.440394        0.5  -0.866025\n",
              "998          1       3.0              0  ... -0.612106        0.5  -0.866025\n",
              "\n",
              "[4 rows x 62 columns]"
            ]
          },
          "metadata": {
            "tags": []
          },
          "execution_count": 40
        }
      ]
    },
    {
      "cell_type": "markdown",
      "metadata": {
        "id": "p4o-_PNHbi4a"
      },
      "source": [
        "### Conclusion\n",
        "\n",
        "This notebook introduced a few concepts to improve data quality.  We resolved missing values, converted the Date feature column to a datetime format, renamed feature columns, removed a value from a feature column, created one-hot encoding features, and converted temporal features to meaningful representations.  By the end of our lab, we gained an understanding as to why data should be \"cleaned\" and \"pre-processed\" before input into a machine learning model."
      ]
    },
    {
      "cell_type": "markdown",
      "metadata": {
        "id": "k7iTrJGBbi4a"
      },
      "source": [
        "Copyright 2020 Google Inc.\n",
        "Licensed under the Apache License, Version 2.0 (the \"License\"); you may not use this file except in compliance with the License. You may obtain a copy of the License at\n",
        "http://www.apache.org/licenses/LICENSE-2.0\n",
        "Unless required by applicable law or agreed to in writing, software distributed under the License is distributed on an \"AS IS\" BASIS, WITHOUT WARRANTIES OR CONDITIONS OF ANY KIND, either express or implied. See the License for the specific language governing permissions and limitations under the License."
      ]
    }
  ]
}