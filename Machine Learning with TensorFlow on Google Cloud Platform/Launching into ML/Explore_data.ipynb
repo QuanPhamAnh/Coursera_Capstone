{
  "nbformat": 4,
  "nbformat_minor": 0,
  "metadata": {
    "kernelspec": {
      "display_name": "Python 3",
      "language": "python",
      "name": "python3"
    },
    "language_info": {
      "codemirror_mode": {
        "name": "ipython",
        "version": 3
      },
      "file_extension": ".py",
      "mimetype": "text/x-python",
      "name": "python",
      "nbconvert_exporter": "python",
      "pygments_lexer": "ipython3",
      "version": "3.5.3"
    },
    "colab": {
      "name": "Explore data.ipynb",
      "provenance": [],
      "include_colab_link": true
    }
  },
  "cells": [
    {
      "cell_type": "markdown",
      "metadata": {
        "id": "view-in-github",
        "colab_type": "text"
      },
      "source": [
        "<a href=\"https://colab.research.google.com/github/QuanPhamAnh/Coursera_Capstone/blob/main/Machine%20Learning%20with%20TensorFlow%20on%20Google%20Cloud%20Platform/Launching%20into%20ML/Explore_data.ipynb\" target=\"_parent\"><img src=\"https://colab.research.google.com/assets/colab-badge.svg\" alt=\"Open In Colab\"/></a>"
      ]
    },
    {
      "cell_type": "markdown",
      "metadata": {
        "id": "CduMsVqhwiAY"
      },
      "source": [
        "# Explore and create ML datasets\n",
        "\n",
        "In this notebook, we will explore data corresponding to taxi rides in New York City to build a Machine Learning model in support of a fare-estimation tool. The idea is to suggest a likely fare to taxi riders so that they are not surprised, and so that they can protest if the charge is much higher than expected.\n",
        "\n",
        "## Learning Objectives\n",
        "1. Access and explore a public BigQuery dataset on NYC Taxi Cab rides\n",
        "2. Visualize your dataset using the Seaborn library\n",
        "3. Inspect and clean-up the dataset for future ML model training\n",
        "4. Create a benchmark to judge future ML model performance off of\n",
        "\n",
        "Each learning objective will correspond to a __#TODO__ in this student lab notebook -- try to complete this notebook first and then review the [solution notebook](../solutions/explore_data.ipynb).  \n",
        "\n",
        "Let's start with the Python imports that we need."
      ]
    },
    {
      "cell_type": "code",
      "metadata": {
        "id": "aUEeC7F4wiAe"
      },
      "source": [
        "!sudo chown -R jupyter:jupyter /home/jupyter/training-data-analyst"
      ],
      "execution_count": null,
      "outputs": []
    },
    {
      "cell_type": "code",
      "metadata": {
        "id": "d87CRicLwiAf"
      },
      "source": [
        "from google.cloud import bigquery\n",
        "import seaborn as sns\n",
        "import matplotlib.pyplot as plt\n",
        "import pandas as pd\n",
        "import numpy as np"
      ],
      "execution_count": null,
      "outputs": []
    },
    {
      "cell_type": "markdown",
      "metadata": {
        "id": "7tM2VVMXwiAf"
      },
      "source": [
        "<h3> Extract sample data from BigQuery </h3>\n",
        "\n",
        "The dataset that we will use is <a href=\"https://bigquery.cloud.google.com/table/nyc-tlc:yellow.trips\">a BigQuery public dataset</a>. Click on the link, and look at the column names. Switch to the Details tab to verify that the number of records is one billion, and then switch to the Preview tab to look at a few rows.\n",
        "\n",
        "Let's write a SQL query to pick up interesting fields from the dataset. It's a good idea to get the timestamp in a predictable format."
      ]
    },
    {
      "cell_type": "code",
      "metadata": {
        "id": "1sWrQvqOwiAg",
        "outputId": "a1a30d45-044a-40fa-e5ed-d6d4edbd9ff1"
      },
      "source": [
        "%%bigquery\n",
        "SELECT\n",
        "    FORMAT_TIMESTAMP(\n",
        "        \"%Y-%m-%d %H:%M:%S %Z\", pickup_datetime) AS pickup_datetime,\n",
        "    pickup_longitude, pickup_latitude, dropoff_longitude,\n",
        "    dropoff_latitude, passenger_count, trip_distance, tolls_amount, \n",
        "    fare_amount, total_amount \n",
        "# TODO 1: Set correct BigQuery public dataset for nyc-tlc yellow taxi cab trips\n",
        "# Tip: For projects with hyphens '-' be sure to escape with backticks ``\n",
        "FROM\n",
        "    `nyc-tlc.yellow.trips`\n",
        "LIMIT 10"
      ],
      "execution_count": null,
      "outputs": [
        {
          "output_type": "execute_result",
          "data": {
            "text/html": [
              "<div>\n",
              "<style scoped>\n",
              "    .dataframe tbody tr th:only-of-type {\n",
              "        vertical-align: middle;\n",
              "    }\n",
              "\n",
              "    .dataframe tbody tr th {\n",
              "        vertical-align: top;\n",
              "    }\n",
              "\n",
              "    .dataframe thead th {\n",
              "        text-align: right;\n",
              "    }\n",
              "</style>\n",
              "<table border=\"1\" class=\"dataframe\">\n",
              "  <thead>\n",
              "    <tr style=\"text-align: right;\">\n",
              "      <th></th>\n",
              "      <th>pickup_datetime</th>\n",
              "      <th>pickup_longitude</th>\n",
              "      <th>pickup_latitude</th>\n",
              "      <th>dropoff_longitude</th>\n",
              "      <th>dropoff_latitude</th>\n",
              "      <th>passenger_count</th>\n",
              "      <th>trip_distance</th>\n",
              "      <th>tolls_amount</th>\n",
              "      <th>fare_amount</th>\n",
              "      <th>total_amount</th>\n",
              "    </tr>\n",
              "  </thead>\n",
              "  <tbody>\n",
              "    <tr>\n",
              "      <th>0</th>\n",
              "      <td>2010-02-05 01:20:05 UTC</td>\n",
              "      <td>-73.979935</td>\n",
              "      <td>40.761105</td>\n",
              "      <td>-73.966230</td>\n",
              "      <td>40.689831</td>\n",
              "      <td>1</td>\n",
              "      <td>84.8</td>\n",
              "      <td>0.0</td>\n",
              "      <td>0.0</td>\n",
              "      <td>0.0</td>\n",
              "    </tr>\n",
              "    <tr>\n",
              "      <th>1</th>\n",
              "      <td>2010-03-07 00:58:45 UTC</td>\n",
              "      <td>-74.001449</td>\n",
              "      <td>40.726071</td>\n",
              "      <td>-73.980448</td>\n",
              "      <td>40.744253</td>\n",
              "      <td>2</td>\n",
              "      <td>2.2</td>\n",
              "      <td>0.0</td>\n",
              "      <td>0.0</td>\n",
              "      <td>0.0</td>\n",
              "    </tr>\n",
              "    <tr>\n",
              "      <th>2</th>\n",
              "      <td>2010-03-05 20:17:51 UTC</td>\n",
              "      <td>-73.863740</td>\n",
              "      <td>40.734245</td>\n",
              "      <td>-73.991364</td>\n",
              "      <td>40.750096</td>\n",
              "      <td>1</td>\n",
              "      <td>7.6</td>\n",
              "      <td>0.0</td>\n",
              "      <td>0.0</td>\n",
              "      <td>0.0</td>\n",
              "    </tr>\n",
              "    <tr>\n",
              "      <th>3</th>\n",
              "      <td>2010-03-29 08:12:38 UTC</td>\n",
              "      <td>-73.993394</td>\n",
              "      <td>40.747158</td>\n",
              "      <td>-73.790150</td>\n",
              "      <td>40.646883</td>\n",
              "      <td>1</td>\n",
              "      <td>171.1</td>\n",
              "      <td>0.0</td>\n",
              "      <td>0.0</td>\n",
              "      <td>0.0</td>\n",
              "    </tr>\n",
              "    <tr>\n",
              "      <th>4</th>\n",
              "      <td>2015-02-22 22:40:31 UTC</td>\n",
              "      <td>-73.937363</td>\n",
              "      <td>40.758041</td>\n",
              "      <td>-73.937386</td>\n",
              "      <td>40.758060</td>\n",
              "      <td>1</td>\n",
              "      <td>0.0</td>\n",
              "      <td>0.0</td>\n",
              "      <td>0.0</td>\n",
              "      <td>0.0</td>\n",
              "    </tr>\n",
              "    <tr>\n",
              "      <th>5</th>\n",
              "      <td>2010-03-14 05:27:23 UTC</td>\n",
              "      <td>-73.993982</td>\n",
              "      <td>40.770577</td>\n",
              "      <td>-73.997214</td>\n",
              "      <td>40.762466</td>\n",
              "      <td>1</td>\n",
              "      <td>12.4</td>\n",
              "      <td>0.0</td>\n",
              "      <td>0.0</td>\n",
              "      <td>0.0</td>\n",
              "    </tr>\n",
              "    <tr>\n",
              "      <th>6</th>\n",
              "      <td>2010-02-04 22:41:28 UTC</td>\n",
              "      <td>-73.991934</td>\n",
              "      <td>40.730339</td>\n",
              "      <td>-73.991934</td>\n",
              "      <td>40.730339</td>\n",
              "      <td>1</td>\n",
              "      <td>0.0</td>\n",
              "      <td>0.0</td>\n",
              "      <td>0.0</td>\n",
              "      <td>0.0</td>\n",
              "    </tr>\n",
              "    <tr>\n",
              "      <th>7</th>\n",
              "      <td>2013-08-15 03:49:56 UTC</td>\n",
              "      <td>-73.937020</td>\n",
              "      <td>40.620175</td>\n",
              "      <td>-73.936452</td>\n",
              "      <td>40.620522</td>\n",
              "      <td>1</td>\n",
              "      <td>0.0</td>\n",
              "      <td>0.0</td>\n",
              "      <td>0.0</td>\n",
              "      <td>0.0</td>\n",
              "    </tr>\n",
              "    <tr>\n",
              "      <th>8</th>\n",
              "      <td>2010-03-02 14:45:23 UTC</td>\n",
              "      <td>-73.973403</td>\n",
              "      <td>40.754323</td>\n",
              "      <td>-73.806456</td>\n",
              "      <td>40.652384</td>\n",
              "      <td>1</td>\n",
              "      <td>14.9</td>\n",
              "      <td>0.0</td>\n",
              "      <td>0.0</td>\n",
              "      <td>0.0</td>\n",
              "    </tr>\n",
              "    <tr>\n",
              "      <th>9</th>\n",
              "      <td>2010-03-11 01:24:14 UTC</td>\n",
              "      <td>-73.990386</td>\n",
              "      <td>40.757301</td>\n",
              "      <td>-74.006484</td>\n",
              "      <td>40.782452</td>\n",
              "      <td>1</td>\n",
              "      <td>46.4</td>\n",
              "      <td>6.0</td>\n",
              "      <td>0.0</td>\n",
              "      <td>6.0</td>\n",
              "    </tr>\n",
              "  </tbody>\n",
              "</table>\n",
              "</div>"
            ],
            "text/plain": [
              "           pickup_datetime  pickup_longitude  pickup_latitude  \\\n",
              "0  2010-02-05 01:20:05 UTC        -73.979935        40.761105   \n",
              "1  2010-03-07 00:58:45 UTC        -74.001449        40.726071   \n",
              "2  2010-03-05 20:17:51 UTC        -73.863740        40.734245   \n",
              "3  2010-03-29 08:12:38 UTC        -73.993394        40.747158   \n",
              "4  2015-02-22 22:40:31 UTC        -73.937363        40.758041   \n",
              "5  2010-03-14 05:27:23 UTC        -73.993982        40.770577   \n",
              "6  2010-02-04 22:41:28 UTC        -73.991934        40.730339   \n",
              "7  2013-08-15 03:49:56 UTC        -73.937020        40.620175   \n",
              "8  2010-03-02 14:45:23 UTC        -73.973403        40.754323   \n",
              "9  2010-03-11 01:24:14 UTC        -73.990386        40.757301   \n",
              "\n",
              "   dropoff_longitude  dropoff_latitude  passenger_count  trip_distance  \\\n",
              "0         -73.966230         40.689831                1           84.8   \n",
              "1         -73.980448         40.744253                2            2.2   \n",
              "2         -73.991364         40.750096                1            7.6   \n",
              "3         -73.790150         40.646883                1          171.1   \n",
              "4         -73.937386         40.758060                1            0.0   \n",
              "5         -73.997214         40.762466                1           12.4   \n",
              "6         -73.991934         40.730339                1            0.0   \n",
              "7         -73.936452         40.620522                1            0.0   \n",
              "8         -73.806456         40.652384                1           14.9   \n",
              "9         -74.006484         40.782452                1           46.4   \n",
              "\n",
              "   tolls_amount  fare_amount  total_amount  \n",
              "0           0.0          0.0           0.0  \n",
              "1           0.0          0.0           0.0  \n",
              "2           0.0          0.0           0.0  \n",
              "3           0.0          0.0           0.0  \n",
              "4           0.0          0.0           0.0  \n",
              "5           0.0          0.0           0.0  \n",
              "6           0.0          0.0           0.0  \n",
              "7           0.0          0.0           0.0  \n",
              "8           0.0          0.0           0.0  \n",
              "9           6.0          0.0           6.0  "
            ]
          },
          "metadata": {
            "tags": []
          },
          "execution_count": 3
        }
      ]
    },
    {
      "cell_type": "markdown",
      "metadata": {
        "id": "RV4nPeuDwiAh"
      },
      "source": [
        "Let's increase the number of records so that we can do some neat graphs.  There is no guarantee about the order in which records are returned, and so no guarantee about which records get returned if we simply increase the LIMIT. To properly sample the dataset, let's use the HASH of the pickup time and return 1 in 100,000 records -- because there are 1 billion records in the data, we should get back approximately 10,000 records if we do this.\n",
        "\n",
        "We will also store the BigQuery result in a Pandas dataframe named \"trips\""
      ]
    },
    {
      "cell_type": "code",
      "metadata": {
        "id": "AO83OP7JwiAi"
      },
      "source": [
        "%%bigquery trips\n",
        "SELECT\n",
        "    FORMAT_TIMESTAMP(\n",
        "        \"%Y-%m-%d %H:%M:%S %Z\", pickup_datetime) AS pickup_datetime,\n",
        "    pickup_longitude, pickup_latitude, \n",
        "    dropoff_longitude, dropoff_latitude,\n",
        "    passenger_count,\n",
        "    trip_distance,\n",
        "    tolls_amount,\n",
        "    fare_amount,\n",
        "    total_amount\n",
        "FROM\n",
        "    `nyc-tlc.yellow.trips`\n",
        "WHERE\n",
        "    ABS(MOD(FARM_FINGERPRINT(CAST(pickup_datetime AS STRING)), 100000)) = 1"
      ],
      "execution_count": null,
      "outputs": []
    },
    {
      "cell_type": "code",
      "metadata": {
        "id": "0taTNEGcwiAi",
        "outputId": "dc277dff-bfa4-491b-9ca0-b07b0588cafb"
      },
      "source": [
        "print(len(trips))"
      ],
      "execution_count": null,
      "outputs": [
        {
          "output_type": "stream",
          "text": [
            "10789\n"
          ],
          "name": "stdout"
        }
      ]
    },
    {
      "cell_type": "code",
      "metadata": {
        "id": "Qy_AbSz8wiAi",
        "outputId": "44cec5f5-443f-456d-abb0-95e5c32e0baa"
      },
      "source": [
        "# We can slice Pandas dataframes as if they were arrays\n",
        "trips[:10]"
      ],
      "execution_count": null,
      "outputs": [
        {
          "output_type": "execute_result",
          "data": {
            "text/html": [
              "<div>\n",
              "<style scoped>\n",
              "    .dataframe tbody tr th:only-of-type {\n",
              "        vertical-align: middle;\n",
              "    }\n",
              "\n",
              "    .dataframe tbody tr th {\n",
              "        vertical-align: top;\n",
              "    }\n",
              "\n",
              "    .dataframe thead th {\n",
              "        text-align: right;\n",
              "    }\n",
              "</style>\n",
              "<table border=\"1\" class=\"dataframe\">\n",
              "  <thead>\n",
              "    <tr style=\"text-align: right;\">\n",
              "      <th></th>\n",
              "      <th>pickup_datetime</th>\n",
              "      <th>pickup_longitude</th>\n",
              "      <th>pickup_latitude</th>\n",
              "      <th>dropoff_longitude</th>\n",
              "      <th>dropoff_latitude</th>\n",
              "      <th>passenger_count</th>\n",
              "      <th>trip_distance</th>\n",
              "      <th>tolls_amount</th>\n",
              "      <th>fare_amount</th>\n",
              "      <th>total_amount</th>\n",
              "    </tr>\n",
              "  </thead>\n",
              "  <tbody>\n",
              "    <tr>\n",
              "      <th>0</th>\n",
              "      <td>2011-12-03 10:28:00 UTC</td>\n",
              "      <td>-73.998822</td>\n",
              "      <td>40.680933</td>\n",
              "      <td>-73.968960</td>\n",
              "      <td>40.757878</td>\n",
              "      <td>1</td>\n",
              "      <td>8.28</td>\n",
              "      <td>0.00</td>\n",
              "      <td>20.9</td>\n",
              "      <td>25.58</td>\n",
              "    </tr>\n",
              "    <tr>\n",
              "      <th>1</th>\n",
              "      <td>2012-05-05 22:46:05 UTC</td>\n",
              "      <td>-74.009790</td>\n",
              "      <td>40.712483</td>\n",
              "      <td>-73.959293</td>\n",
              "      <td>40.768908</td>\n",
              "      <td>1</td>\n",
              "      <td>5.20</td>\n",
              "      <td>0.00</td>\n",
              "      <td>16.9</td>\n",
              "      <td>19.90</td>\n",
              "    </tr>\n",
              "    <tr>\n",
              "      <th>2</th>\n",
              "      <td>2010-12-21 13:08:00 UTC</td>\n",
              "      <td>-73.982422</td>\n",
              "      <td>40.739847</td>\n",
              "      <td>-73.981658</td>\n",
              "      <td>40.768732</td>\n",
              "      <td>2</td>\n",
              "      <td>2.64</td>\n",
              "      <td>0.00</td>\n",
              "      <td>14.9</td>\n",
              "      <td>15.40</td>\n",
              "    </tr>\n",
              "    <tr>\n",
              "      <th>3</th>\n",
              "      <td>2014-10-06 15:16:00 UTC</td>\n",
              "      <td>-73.980130</td>\n",
              "      <td>40.760910</td>\n",
              "      <td>-73.861730</td>\n",
              "      <td>40.768330</td>\n",
              "      <td>2</td>\n",
              "      <td>11.47</td>\n",
              "      <td>5.33</td>\n",
              "      <td>36.5</td>\n",
              "      <td>47.33</td>\n",
              "    </tr>\n",
              "    <tr>\n",
              "      <th>4</th>\n",
              "      <td>2014-12-08 21:50:00 UTC</td>\n",
              "      <td>-73.870867</td>\n",
              "      <td>40.773782</td>\n",
              "      <td>-74.003297</td>\n",
              "      <td>40.708215</td>\n",
              "      <td>2</td>\n",
              "      <td>11.81</td>\n",
              "      <td>0.00</td>\n",
              "      <td>33.5</td>\n",
              "      <td>37.50</td>\n",
              "    </tr>\n",
              "    <tr>\n",
              "      <th>5</th>\n",
              "      <td>2010-05-26 16:15:03 UTC</td>\n",
              "      <td>-74.002922</td>\n",
              "      <td>40.714474</td>\n",
              "      <td>-73.978505</td>\n",
              "      <td>40.758280</td>\n",
              "      <td>1</td>\n",
              "      <td>6.10</td>\n",
              "      <td>0.00</td>\n",
              "      <td>20.9</td>\n",
              "      <td>25.76</td>\n",
              "    </tr>\n",
              "    <tr>\n",
              "      <th>6</th>\n",
              "      <td>2012-03-30 18:28:20 UTC</td>\n",
              "      <td>-73.976148</td>\n",
              "      <td>40.776154</td>\n",
              "      <td>-74.010156</td>\n",
              "      <td>40.715113</td>\n",
              "      <td>1</td>\n",
              "      <td>5.70</td>\n",
              "      <td>0.00</td>\n",
              "      <td>17.3</td>\n",
              "      <td>18.80</td>\n",
              "    </tr>\n",
              "    <tr>\n",
              "      <th>7</th>\n",
              "      <td>2014-05-17 15:15:00 UTC</td>\n",
              "      <td>-73.999550</td>\n",
              "      <td>40.760600</td>\n",
              "      <td>-73.999650</td>\n",
              "      <td>40.725220</td>\n",
              "      <td>1</td>\n",
              "      <td>5.57</td>\n",
              "      <td>0.00</td>\n",
              "      <td>31.0</td>\n",
              "      <td>33.50</td>\n",
              "    </tr>\n",
              "    <tr>\n",
              "      <th>8</th>\n",
              "      <td>2014-05-17 15:15:00 UTC</td>\n",
              "      <td>-73.980682</td>\n",
              "      <td>40.734032</td>\n",
              "      <td>-73.961948</td>\n",
              "      <td>40.755545</td>\n",
              "      <td>1</td>\n",
              "      <td>2.20</td>\n",
              "      <td>0.00</td>\n",
              "      <td>22.5</td>\n",
              "      <td>23.00</td>\n",
              "    </tr>\n",
              "    <tr>\n",
              "      <th>9</th>\n",
              "      <td>2009-11-01 02:59:23 UTC</td>\n",
              "      <td>-74.006934</td>\n",
              "      <td>40.734067</td>\n",
              "      <td>-73.895708</td>\n",
              "      <td>40.851511</td>\n",
              "      <td>4</td>\n",
              "      <td>12.10</td>\n",
              "      <td>0.00</td>\n",
              "      <td>28.5</td>\n",
              "      <td>29.50</td>\n",
              "    </tr>\n",
              "  </tbody>\n",
              "</table>\n",
              "</div>"
            ],
            "text/plain": [
              "           pickup_datetime  pickup_longitude  pickup_latitude  \\\n",
              "0  2011-12-03 10:28:00 UTC        -73.998822        40.680933   \n",
              "1  2012-05-05 22:46:05 UTC        -74.009790        40.712483   \n",
              "2  2010-12-21 13:08:00 UTC        -73.982422        40.739847   \n",
              "3  2014-10-06 15:16:00 UTC        -73.980130        40.760910   \n",
              "4  2014-12-08 21:50:00 UTC        -73.870867        40.773782   \n",
              "5  2010-05-26 16:15:03 UTC        -74.002922        40.714474   \n",
              "6  2012-03-30 18:28:20 UTC        -73.976148        40.776154   \n",
              "7  2014-05-17 15:15:00 UTC        -73.999550        40.760600   \n",
              "8  2014-05-17 15:15:00 UTC        -73.980682        40.734032   \n",
              "9  2009-11-01 02:59:23 UTC        -74.006934        40.734067   \n",
              "\n",
              "   dropoff_longitude  dropoff_latitude  passenger_count  trip_distance  \\\n",
              "0         -73.968960         40.757878                1           8.28   \n",
              "1         -73.959293         40.768908                1           5.20   \n",
              "2         -73.981658         40.768732                2           2.64   \n",
              "3         -73.861730         40.768330                2          11.47   \n",
              "4         -74.003297         40.708215                2          11.81   \n",
              "5         -73.978505         40.758280                1           6.10   \n",
              "6         -74.010156         40.715113                1           5.70   \n",
              "7         -73.999650         40.725220                1           5.57   \n",
              "8         -73.961948         40.755545                1           2.20   \n",
              "9         -73.895708         40.851511                4          12.10   \n",
              "\n",
              "   tolls_amount  fare_amount  total_amount  \n",
              "0          0.00         20.9         25.58  \n",
              "1          0.00         16.9         19.90  \n",
              "2          0.00         14.9         15.40  \n",
              "3          5.33         36.5         47.33  \n",
              "4          0.00         33.5         37.50  \n",
              "5          0.00         20.9         25.76  \n",
              "6          0.00         17.3         18.80  \n",
              "7          0.00         31.0         33.50  \n",
              "8          0.00         22.5         23.00  \n",
              "9          0.00         28.5         29.50  "
            ]
          },
          "metadata": {
            "tags": []
          },
          "execution_count": 6
        }
      ]
    },
    {
      "cell_type": "markdown",
      "metadata": {
        "id": "po95efUAwiAj"
      },
      "source": [
        "<h3> Exploring data </h3>\n",
        "\n",
        "Let's explore this dataset and clean it up as necessary. We'll use the Python Seaborn package to visualize graphs and Pandas to do the slicing and filtering."
      ]
    },
    {
      "cell_type": "code",
      "metadata": {
        "id": "Ec2yUAxPwiAj",
        "outputId": "3a4085e5-419c-4982-b7ef-77748ae80180"
      },
      "source": [
        "# TODO 2: Visualize your dataset using the Seaborn library.\n",
        "# Plot the distance of the trip as X and the fare amount as Y.\n",
        "ax = sns.regplot(x = \"trip_distance\", y = \"fare_amount\", fit_reg=False, ci=None, truncate=True, data=trips)\n",
        "ax.figure.set_size_inches(10, 8)"
      ],
      "execution_count": null,
      "outputs": [
        {
          "output_type": "display_data",
          "data": {
            "image/png": "[encoded data removed]",
            "text/plain": [
              "<Figure size 720x576 with 1 Axes>"
            ]
          },
          "metadata": {
            "tags": [],
            "needs_background": "light"
          }
        }
      ]
    },
    {
      "cell_type": "markdown",
      "metadata": {
        "id": "HRmHUqPewiAj"
      },
      "source": [
        "Hmm ... do you see something wrong with the data that needs addressing?\n",
        "\n",
        "It appears that we have a lot of invalid data that is being coded as zero distance and some fare amounts that are definitely illegitimate. Let's remove them from our analysis. We can do this by modifying the BigQuery query to keep only trips longer than zero miles and fare amounts that are at least the minimum cab fare ($2.50).\n",
        "\n",
        "Note the extra WHERE clauses."
      ]
    },
    {
      "cell_type": "code",
      "metadata": {
        "id": "jg03pvY3wiAk"
      },
      "source": [
        "%%bigquery trips\n",
        "SELECT\n",
        "    FORMAT_TIMESTAMP(\n",
        "        \"%Y-%m-%d %H:%M:%S %Z\", pickup_datetime) AS pickup_datetime,\n",
        "    pickup_longitude, pickup_latitude, \n",
        "    dropoff_longitude, dropoff_latitude,\n",
        "    passenger_count,\n",
        "    trip_distance,\n",
        "    tolls_amount,\n",
        "    fare_amount,\n",
        "    total_amount\n",
        "FROM\n",
        "    `nyc-tlc.yellow.trips`\n",
        "WHERE\n",
        "    ABS(MOD(FARM_FINGERPRINT(CAST(pickup_datetime AS STRING)), 100000)) = 1\n",
        "    # TODO 3: Filter the data to only include non-zero distance trips and fares above $2.50\n",
        "    AND trip_distance > 0\n",
        "    AND fare_amount >= 2.5"
      ],
      "execution_count": null,
      "outputs": []
    },
    {
      "cell_type": "code",
      "metadata": {
        "id": "OT7-yTW4wiAk",
        "outputId": "9c55054a-2571-494b-aa36-19c25464deda"
      },
      "source": [
        "print(len(trips))"
      ],
      "execution_count": null,
      "outputs": [
        {
          "output_type": "stream",
          "text": [
            "10716\n"
          ],
          "name": "stdout"
        }
      ]
    },
    {
      "cell_type": "code",
      "metadata": {
        "id": "CXWJ7jDswiAk",
        "outputId": "6354a413-2284-49a3-f918-72f9b00f0ed0"
      },
      "source": [
        "ax = sns.regplot(\n",
        "    x=\"trip_distance\", y=\"fare_amount\",\n",
        "    fit_reg=False, ci=None, truncate=True, data=trips)\n",
        "ax.figure.set_size_inches(10, 8)"
      ],
      "execution_count": null,
      "outputs": [
        {
          "output_type": "display_data",
          "data": {
            "image/png": "[encoded data removed]",
            "text/plain": [
              "<Figure size 720x576 with 1 Axes>"
            ]
          },
          "metadata": {
            "tags": [],
            "needs_background": "light"
          }
        }
      ]
    },
    {
      "cell_type": "markdown",
      "metadata": {
        "id": "ZnzRThGpwiAl"
      },
      "source": [
        "What's up with the streaks around 45 dollars and 50 dollars?  Those are fixed-amount rides from JFK and La Guardia airports into anywhere in Manhattan, i.e. to be expected. Let's list the data to make sure the values look reasonable.\n",
        "\n",
        "Let's also examine whether the toll amount is captured in the total amount."
      ]
    },
    {
      "cell_type": "code",
      "metadata": {
        "id": "_bBsFK_PwiAl",
        "outputId": "1760ef0d-aa3f-499b-e686-76ee3d800cdf"
      },
      "source": [
        "tollrides = trips[trips[\"tolls_amount\"] > 0]\n",
        "tollrides[tollrides[\"pickup_datetime\"] == \"2012-02-27 09:19:10 UTC\"]"
      ],
      "execution_count": null,
      "outputs": [
        {
          "output_type": "execute_result",
          "data": {
            "text/html": [
              "<div>\n",
              "<style scoped>\n",
              "    .dataframe tbody tr th:only-of-type {\n",
              "        vertical-align: middle;\n",
              "    }\n",
              "\n",
              "    .dataframe tbody tr th {\n",
              "        vertical-align: top;\n",
              "    }\n",
              "\n",
              "    .dataframe thead th {\n",
              "        text-align: right;\n",
              "    }\n",
              "</style>\n",
              "<table border=\"1\" class=\"dataframe\">\n",
              "  <thead>\n",
              "    <tr style=\"text-align: right;\">\n",
              "      <th></th>\n",
              "      <th>pickup_datetime</th>\n",
              "      <th>pickup_longitude</th>\n",
              "      <th>pickup_latitude</th>\n",
              "      <th>dropoff_longitude</th>\n",
              "      <th>dropoff_latitude</th>\n",
              "      <th>passenger_count</th>\n",
              "      <th>trip_distance</th>\n",
              "      <th>tolls_amount</th>\n",
              "      <th>fare_amount</th>\n",
              "      <th>total_amount</th>\n",
              "    </tr>\n",
              "  </thead>\n",
              "  <tbody>\n",
              "    <tr>\n",
              "      <th>34</th>\n",
              "      <td>2012-02-27 09:19:10 UTC</td>\n",
              "      <td>-73.874431</td>\n",
              "      <td>40.774011</td>\n",
              "      <td>-73.983967</td>\n",
              "      <td>40.744082</td>\n",
              "      <td>1</td>\n",
              "      <td>11.6</td>\n",
              "      <td>4.8</td>\n",
              "      <td>27.7</td>\n",
              "      <td>38.0</td>\n",
              "    </tr>\n",
              "  </tbody>\n",
              "</table>\n",
              "</div>"
            ],
            "text/plain": [
              "            pickup_datetime  pickup_longitude  pickup_latitude  \\\n",
              "34  2012-02-27 09:19:10 UTC        -73.874431        40.774011   \n",
              "\n",
              "    dropoff_longitude  dropoff_latitude  passenger_count  trip_distance  \\\n",
              "34         -73.983967         40.744082                1           11.6   \n",
              "\n",
              "    tolls_amount  fare_amount  total_amount  \n",
              "34           4.8         27.7          38.0  "
            ]
          },
          "metadata": {
            "tags": []
          },
          "execution_count": 11
        }
      ]
    },
    {
      "cell_type": "code",
      "metadata": {
        "id": "F7UAwJdzwiAl",
        "outputId": "06a9cf28-1cea-48b9-e986-a9039904df63"
      },
      "source": [
        "notollrides = trips[trips[\"tolls_amount\"] == 0]\n",
        "notollrides[notollrides[\"pickup_datetime\"] == \"2012-02-27 09:19:10 UTC\"]"
      ],
      "execution_count": null,
      "outputs": [
        {
          "output_type": "execute_result",
          "data": {
            "text/html": [
              "<div>\n",
              "<style scoped>\n",
              "    .dataframe tbody tr th:only-of-type {\n",
              "        vertical-align: middle;\n",
              "    }\n",
              "\n",
              "    .dataframe tbody tr th {\n",
              "        vertical-align: top;\n",
              "    }\n",
              "\n",
              "    .dataframe thead th {\n",
              "        text-align: right;\n",
              "    }\n",
              "</style>\n",
              "<table border=\"1\" class=\"dataframe\">\n",
              "  <thead>\n",
              "    <tr style=\"text-align: right;\">\n",
              "      <th></th>\n",
              "      <th>pickup_datetime</th>\n",
              "      <th>pickup_longitude</th>\n",
              "      <th>pickup_latitude</th>\n",
              "      <th>dropoff_longitude</th>\n",
              "      <th>dropoff_latitude</th>\n",
              "      <th>passenger_count</th>\n",
              "      <th>trip_distance</th>\n",
              "      <th>tolls_amount</th>\n",
              "      <th>fare_amount</th>\n",
              "      <th>total_amount</th>\n",
              "    </tr>\n",
              "  </thead>\n",
              "  <tbody>\n",
              "    <tr>\n",
              "      <th>78</th>\n",
              "      <td>2012-02-27 09:19:10 UTC</td>\n",
              "      <td>-73.972311</td>\n",
              "      <td>40.753067</td>\n",
              "      <td>-73.957389</td>\n",
              "      <td>40.817824</td>\n",
              "      <td>1</td>\n",
              "      <td>5.6</td>\n",
              "      <td>0.0</td>\n",
              "      <td>16.9</td>\n",
              "      <td>22.62</td>\n",
              "    </tr>\n",
              "    <tr>\n",
              "      <th>7773</th>\n",
              "      <td>2012-02-27 09:19:10 UTC</td>\n",
              "      <td>-73.987582</td>\n",
              "      <td>40.725468</td>\n",
              "      <td>-74.016628</td>\n",
              "      <td>40.715534</td>\n",
              "      <td>1</td>\n",
              "      <td>2.8</td>\n",
              "      <td>0.0</td>\n",
              "      <td>12.1</td>\n",
              "      <td>15.75</td>\n",
              "    </tr>\n",
              "    <tr>\n",
              "      <th>10537</th>\n",
              "      <td>2012-02-27 09:19:10 UTC</td>\n",
              "      <td>-74.015483</td>\n",
              "      <td>40.715279</td>\n",
              "      <td>-73.998045</td>\n",
              "      <td>40.756273</td>\n",
              "      <td>1</td>\n",
              "      <td>3.3</td>\n",
              "      <td>0.0</td>\n",
              "      <td>10.9</td>\n",
              "      <td>13.40</td>\n",
              "    </tr>\n",
              "  </tbody>\n",
              "</table>\n",
              "</div>"
            ],
            "text/plain": [
              "               pickup_datetime  pickup_longitude  pickup_latitude  \\\n",
              "78     2012-02-27 09:19:10 UTC        -73.972311        40.753067   \n",
              "7773   2012-02-27 09:19:10 UTC        -73.987582        40.725468   \n",
              "10537  2012-02-27 09:19:10 UTC        -74.015483        40.715279   \n",
              "\n",
              "       dropoff_longitude  dropoff_latitude  passenger_count  trip_distance  \\\n",
              "78            -73.957389         40.817824                1            5.6   \n",
              "7773          -74.016628         40.715534                1            2.8   \n",
              "10537         -73.998045         40.756273                1            3.3   \n",
              "\n",
              "       tolls_amount  fare_amount  total_amount  \n",
              "78              0.0         16.9         22.62  \n",
              "7773            0.0         12.1         15.75  \n",
              "10537           0.0         10.9         13.40  "
            ]
          },
          "metadata": {
            "tags": []
          },
          "execution_count": 12
        }
      ]
    },
    {
      "cell_type": "markdown",
      "metadata": {
        "id": "eG9jOIvPwiAl"
      },
      "source": [
        "Looking at a few samples above, it should be clear that the total amount reflects fare amount, toll and tip somewhat arbitrarily -- this is because when customers pay cash, the tip is not known.  So, we'll use the sum of fare_amount + tolls_amount as what needs to be predicted.  Tips are discretionary and do not have to be included in our fare estimation tool.\n",
        "\n",
        "Let's also look at the distribution of values within the columns."
      ]
    },
    {
      "cell_type": "code",
      "metadata": {
        "id": "hyOg6vltwiAm",
        "outputId": "79d7c346-46dd-4708-8ca1-8cbe698feacf"
      },
      "source": [
        "trips.describe()"
      ],
      "execution_count": null,
      "outputs": [
        {
          "output_type": "execute_result",
          "data": {
            "text/html": [
              "<div>\n",
              "<style scoped>\n",
              "    .dataframe tbody tr th:only-of-type {\n",
              "        vertical-align: middle;\n",
              "    }\n",
              "\n",
              "    .dataframe tbody tr th {\n",
              "        vertical-align: top;\n",
              "    }\n",
              "\n",
              "    .dataframe thead th {\n",
              "        text-align: right;\n",
              "    }\n",
              "</style>\n",
              "<table border=\"1\" class=\"dataframe\">\n",
              "  <thead>\n",
              "    <tr style=\"text-align: right;\">\n",
              "      <th></th>\n",
              "      <th>pickup_longitude</th>\n",
              "      <th>pickup_latitude</th>\n",
              "      <th>dropoff_longitude</th>\n",
              "      <th>dropoff_latitude</th>\n",
              "      <th>passenger_count</th>\n",
              "      <th>trip_distance</th>\n",
              "      <th>tolls_amount</th>\n",
              "      <th>fare_amount</th>\n",
              "      <th>total_amount</th>\n",
              "    </tr>\n",
              "  </thead>\n",
              "  <tbody>\n",
              "    <tr>\n",
              "      <th>count</th>\n",
              "      <td>10716.000000</td>\n",
              "      <td>10716.000000</td>\n",
              "      <td>10716.000000</td>\n",
              "      <td>10716.000000</td>\n",
              "      <td>10716.000000</td>\n",
              "      <td>10716.000000</td>\n",
              "      <td>10716.000000</td>\n",
              "      <td>10716.000000</td>\n",
              "      <td>10716.000000</td>\n",
              "    </tr>\n",
              "    <tr>\n",
              "      <th>mean</th>\n",
              "      <td>-72.602192</td>\n",
              "      <td>40.002372</td>\n",
              "      <td>-72.594838</td>\n",
              "      <td>40.002052</td>\n",
              "      <td>1.650056</td>\n",
              "      <td>2.856395</td>\n",
              "      <td>0.226428</td>\n",
              "      <td>11.109446</td>\n",
              "      <td>13.217078</td>\n",
              "    </tr>\n",
              "    <tr>\n",
              "      <th>std</th>\n",
              "      <td>9.982373</td>\n",
              "      <td>5.474670</td>\n",
              "      <td>10.004324</td>\n",
              "      <td>5.474648</td>\n",
              "      <td>1.283577</td>\n",
              "      <td>3.322024</td>\n",
              "      <td>1.135934</td>\n",
              "      <td>9.137710</td>\n",
              "      <td>10.953156</td>\n",
              "    </tr>\n",
              "    <tr>\n",
              "      <th>min</th>\n",
              "      <td>-74.258183</td>\n",
              "      <td>0.000000</td>\n",
              "      <td>-74.260472</td>\n",
              "      <td>0.000000</td>\n",
              "      <td>0.000000</td>\n",
              "      <td>0.010000</td>\n",
              "      <td>0.000000</td>\n",
              "      <td>2.500000</td>\n",
              "      <td>2.500000</td>\n",
              "    </tr>\n",
              "    <tr>\n",
              "      <th>25%</th>\n",
              "      <td>-73.992153</td>\n",
              "      <td>40.735936</td>\n",
              "      <td>-73.991566</td>\n",
              "      <td>40.734310</td>\n",
              "      <td>1.000000</td>\n",
              "      <td>1.040000</td>\n",
              "      <td>0.000000</td>\n",
              "      <td>6.000000</td>\n",
              "      <td>7.300000</td>\n",
              "    </tr>\n",
              "    <tr>\n",
              "      <th>50%</th>\n",
              "      <td>-73.981851</td>\n",
              "      <td>40.753264</td>\n",
              "      <td>-73.980373</td>\n",
              "      <td>40.752956</td>\n",
              "      <td>1.000000</td>\n",
              "      <td>1.770000</td>\n",
              "      <td>0.000000</td>\n",
              "      <td>8.500000</td>\n",
              "      <td>10.000000</td>\n",
              "    </tr>\n",
              "    <tr>\n",
              "      <th>75%</th>\n",
              "      <td>-73.967400</td>\n",
              "      <td>40.767340</td>\n",
              "      <td>-73.964142</td>\n",
              "      <td>40.767510</td>\n",
              "      <td>2.000000</td>\n",
              "      <td>3.160000</td>\n",
              "      <td>0.000000</td>\n",
              "      <td>12.500000</td>\n",
              "      <td>14.600000</td>\n",
              "    </tr>\n",
              "    <tr>\n",
              "      <th>max</th>\n",
              "      <td>0.000000</td>\n",
              "      <td>41.366138</td>\n",
              "      <td>0.000000</td>\n",
              "      <td>41.366138</td>\n",
              "      <td>6.000000</td>\n",
              "      <td>42.800000</td>\n",
              "      <td>16.000000</td>\n",
              "      <td>179.000000</td>\n",
              "      <td>179.000000</td>\n",
              "    </tr>\n",
              "  </tbody>\n",
              "</table>\n",
              "</div>"
            ],
            "text/plain": [
              "       pickup_longitude  pickup_latitude  dropoff_longitude  dropoff_latitude  \\\n",
              "count      10716.000000     10716.000000       10716.000000      10716.000000   \n",
              "mean         -72.602192        40.002372         -72.594838         40.002052   \n",
              "std            9.982373         5.474670          10.004324          5.474648   \n",
              "min          -74.258183         0.000000         -74.260472          0.000000   \n",
              "25%          -73.992153        40.735936         -73.991566         40.734310   \n",
              "50%          -73.981851        40.753264         -73.980373         40.752956   \n",
              "75%          -73.967400        40.767340         -73.964142         40.767510   \n",
              "max            0.000000        41.366138           0.000000         41.366138   \n",
              "\n",
              "       passenger_count  trip_distance  tolls_amount   fare_amount  \\\n",
              "count     10716.000000   10716.000000  10716.000000  10716.000000   \n",
              "mean          1.650056       2.856395      0.226428     11.109446   \n",
              "std           1.283577       3.322024      1.135934      9.137710   \n",
              "min           0.000000       0.010000      0.000000      2.500000   \n",
              "25%           1.000000       1.040000      0.000000      6.000000   \n",
              "50%           1.000000       1.770000      0.000000      8.500000   \n",
              "75%           2.000000       3.160000      0.000000     12.500000   \n",
              "max           6.000000      42.800000     16.000000    179.000000   \n",
              "\n",
              "       total_amount  \n",
              "count  10716.000000  \n",
              "mean      13.217078  \n",
              "std       10.953156  \n",
              "min        2.500000  \n",
              "25%        7.300000  \n",
              "50%       10.000000  \n",
              "75%       14.600000  \n",
              "max      179.000000  "
            ]
          },
          "metadata": {
            "tags": []
          },
          "execution_count": 13
        }
      ]
    },
    {
      "cell_type": "markdown",
      "metadata": {
        "id": "mUMcj2rYwiAn"
      },
      "source": [
        "Hmm ... The min, max of longitude look strange.\n",
        "\n",
        "Finally, let's actually look at the start and end of a few of the trips."
      ]
    },
    {
      "cell_type": "code",
      "metadata": {
        "id": "zvSqVVlNwiAn"
      },
      "source": [
        "def showrides(df, numlines):\n",
        "    lats = []\n",
        "    lons = []\n",
        "    for iter, row in df[:numlines].iterrows():\n",
        "        lons.append(row[\"pickup_longitude\"])\n",
        "        lons.append(row[\"dropoff_longitude\"])\n",
        "        lons.append(None)\n",
        "        lats.append(row[\"pickup_latitude\"])\n",
        "        lats.append(row[\"dropoff_latitude\"])\n",
        "        lats.append(None)\n",
        "\n",
        "    sns.set_style(\"darkgrid\")\n",
        "    plt.figure(figsize=(10, 8))\n",
        "    plt.plot(lons, lats)"
      ],
      "execution_count": null,
      "outputs": []
    },
    {
      "cell_type": "code",
      "metadata": {
        "id": "Uh7qD9TbwiAn",
        "outputId": "72916c06-1a43-4ec6-a689-cc332a7b5172"
      },
      "source": [
        "showrides(notollrides, 10)"
      ],
      "execution_count": null,
      "outputs": [
        {
          "output_type": "display_data",
          "data": {
            "image/png": "[encoded data removed]",
            "text/plain": [
              "<Figure size 720x576 with 1 Axes>"
            ]
          },
          "metadata": {
            "tags": []
          }
        }
      ]
    },
    {
      "cell_type": "code",
      "metadata": {
        "id": "yKqGhCIqwiAn",
        "outputId": "1037e428-67ec-4887-d682-c3cfea131b91"
      },
      "source": [
        "showrides(tollrides, 10)"
      ],
      "execution_count": null,
      "outputs": [
        {
          "output_type": "display_data",
          "data": {
            "image/png": "[encoded data removed]",
            "text/plain": [
              "<Figure size 720x576 with 1 Axes>"
            ]
          },
          "metadata": {
            "tags": []
          }
        }
      ]
    },
    {
      "cell_type": "markdown",
      "metadata": {
        "id": "ve6bPH-1wiAo"
      },
      "source": [
        "As you'd expect, rides that involve a toll are longer than the typical ride."
      ]
    },
    {
      "cell_type": "markdown",
      "metadata": {
        "id": "r2u5F64ywiAo"
      },
      "source": [
        "<h3> Quality control and other preprocessing </h3>\n",
        "\n",
        "We need to do some clean-up of the data:\n",
        "<ol>\n",
        "<li>New York city longitudes are around -74 and latitudes are around 41.</li>\n",
        "<li>We shouldn't have zero passengers.</li>\n",
        "<li>Clean up the total_amount column to reflect only fare_amount and tolls_amount, and then remove those two columns.</li>\n",
        "<li>Before the ride starts, we'll know the pickup and dropoff locations, but not the trip distance (that depends on the route taken), so remove it from the ML dataset</li>\n",
        "<li>Discard the timestamp</li>\n",
        "</ol>\n",
        "\n",
        "We could do preprocessing in BigQuery, similar to how we removed the zero-distance rides, but just to show you another option, let's do this in Python.  In production, we'll have to carry out the same preprocessing on the real-time input data. \n",
        "\n",
        "This sort of preprocessing of input data is quite common in ML, especially if the quality-control is dynamic."
      ]
    },
    {
      "cell_type": "code",
      "metadata": {
        "id": "6fwz8NIMwiAo",
        "outputId": "2baf3aa4-0bf3-4595-c0e7-5527352f96d1"
      },
      "source": [
        "def preprocess(trips_in):\n",
        "    trips = trips_in.copy(deep=True)\n",
        "    trips.fare_amount = trips.fare_amount + trips.tolls_amount\n",
        "    del trips[\"tolls_amount\"]\n",
        "    del trips[\"total_amount\"]\n",
        "    del trips[\"trip_distance\"] # we won't know this in advance!\n",
        "\n",
        "    qc = np.all([\n",
        "        trips[\"pickup_longitude\"] > -78,\n",
        "        trips[\"pickup_longitude\"] < -70,\n",
        "        trips[\"dropoff_longitude\"] > -78,\n",
        "        trips[\"dropoff_longitude\"] < -70,\n",
        "        trips[\"pickup_latitude\"] > 37,\n",
        "        trips[\"pickup_latitude\"] < 45,\n",
        "        trips[\"dropoff_latitude\"] > 37,\n",
        "        trips[\"dropoff_latitude\"] < 45,\n",
        "        trips[\"passenger_count\"] > 0\n",
        "    ], axis=0)\n",
        "\n",
        "    return trips[qc]\n",
        "\n",
        "tripsqc = preprocess(trips)\n",
        "tripsqc.describe()"
      ],
      "execution_count": null,
      "outputs": [
        {
          "output_type": "execute_result",
          "data": {
            "text/html": [
              "<div>\n",
              "<style scoped>\n",
              "    .dataframe tbody tr th:only-of-type {\n",
              "        vertical-align: middle;\n",
              "    }\n",
              "\n",
              "    .dataframe tbody tr th {\n",
              "        vertical-align: top;\n",
              "    }\n",
              "\n",
              "    .dataframe thead th {\n",
              "        text-align: right;\n",
              "    }\n",
              "</style>\n",
              "<table border=\"1\" class=\"dataframe\">\n",
              "  <thead>\n",
              "    <tr style=\"text-align: right;\">\n",
              "      <th></th>\n",
              "      <th>pickup_longitude</th>\n",
              "      <th>pickup_latitude</th>\n",
              "      <th>dropoff_longitude</th>\n",
              "      <th>dropoff_latitude</th>\n",
              "      <th>passenger_count</th>\n",
              "      <th>fare_amount</th>\n",
              "    </tr>\n",
              "  </thead>\n",
              "  <tbody>\n",
              "    <tr>\n",
              "      <th>count</th>\n",
              "      <td>10476.000000</td>\n",
              "      <td>10476.000000</td>\n",
              "      <td>10476.000000</td>\n",
              "      <td>10476.000000</td>\n",
              "      <td>10476.000000</td>\n",
              "      <td>10476.000000</td>\n",
              "    </tr>\n",
              "    <tr>\n",
              "      <th>mean</th>\n",
              "      <td>-73.975206</td>\n",
              "      <td>40.751526</td>\n",
              "      <td>-73.974373</td>\n",
              "      <td>40.751199</td>\n",
              "      <td>1.653303</td>\n",
              "      <td>11.349003</td>\n",
              "    </tr>\n",
              "    <tr>\n",
              "      <th>std</th>\n",
              "      <td>0.038547</td>\n",
              "      <td>0.029187</td>\n",
              "      <td>0.039086</td>\n",
              "      <td>0.033147</td>\n",
              "      <td>1.278827</td>\n",
              "      <td>9.878630</td>\n",
              "    </tr>\n",
              "    <tr>\n",
              "      <th>min</th>\n",
              "      <td>-74.258183</td>\n",
              "      <td>40.452290</td>\n",
              "      <td>-74.260472</td>\n",
              "      <td>40.417750</td>\n",
              "      <td>1.000000</td>\n",
              "      <td>2.500000</td>\n",
              "    </tr>\n",
              "    <tr>\n",
              "      <th>25%</th>\n",
              "      <td>-73.992336</td>\n",
              "      <td>40.737600</td>\n",
              "      <td>-73.991739</td>\n",
              "      <td>40.735904</td>\n",
              "      <td>1.000000</td>\n",
              "      <td>6.000000</td>\n",
              "    </tr>\n",
              "    <tr>\n",
              "      <th>50%</th>\n",
              "      <td>-73.982090</td>\n",
              "      <td>40.754020</td>\n",
              "      <td>-73.980780</td>\n",
              "      <td>40.753597</td>\n",
              "      <td>1.000000</td>\n",
              "      <td>8.500000</td>\n",
              "    </tr>\n",
              "    <tr>\n",
              "      <th>75%</th>\n",
              "      <td>-73.968517</td>\n",
              "      <td>40.767774</td>\n",
              "      <td>-73.965851</td>\n",
              "      <td>40.767921</td>\n",
              "      <td>2.000000</td>\n",
              "      <td>12.500000</td>\n",
              "    </tr>\n",
              "    <tr>\n",
              "      <th>max</th>\n",
              "      <td>-73.137393</td>\n",
              "      <td>41.366138</td>\n",
              "      <td>-73.137393</td>\n",
              "      <td>41.366138</td>\n",
              "      <td>6.000000</td>\n",
              "      <td>179.000000</td>\n",
              "    </tr>\n",
              "  </tbody>\n",
              "</table>\n",
              "</div>"
            ],
            "text/plain": [
              "       pickup_longitude  pickup_latitude  dropoff_longitude  dropoff_latitude  \\\n",
              "count      10476.000000     10476.000000       10476.000000      10476.000000   \n",
              "mean         -73.975206        40.751526         -73.974373         40.751199   \n",
              "std            0.038547         0.029187           0.039086          0.033147   \n",
              "min          -74.258183        40.452290         -74.260472         40.417750   \n",
              "25%          -73.992336        40.737600         -73.991739         40.735904   \n",
              "50%          -73.982090        40.754020         -73.980780         40.753597   \n",
              "75%          -73.968517        40.767774         -73.965851         40.767921   \n",
              "max          -73.137393        41.366138         -73.137393         41.366138   \n",
              "\n",
              "       passenger_count   fare_amount  \n",
              "count     10476.000000  10476.000000  \n",
              "mean          1.653303     11.349003  \n",
              "std           1.278827      9.878630  \n",
              "min           1.000000      2.500000  \n",
              "25%           1.000000      6.000000  \n",
              "50%           1.000000      8.500000  \n",
              "75%           2.000000     12.500000  \n",
              "max           6.000000    179.000000  "
            ]
          },
          "metadata": {
            "tags": []
          },
          "execution_count": 17
        }
      ]
    },
    {
      "cell_type": "markdown",
      "metadata": {
        "id": "ENV8JP1GwiAo"
      },
      "source": [
        "The quality control has removed about 300 rows (11400 - 11101) or about 3% of the data. This seems reasonable.\n",
        "\n",
        "Let's move on to creating the ML datasets.\n",
        "\n",
        "<h3> Create ML datasets </h3>\n",
        "\n",
        "Let's split the QCed data randomly into training, validation and test sets.\n",
        "Note that this is not the entire data. We have 1 billion taxicab rides. This is just splitting the 10,000 rides to show you how it's done on smaller datasets. In reality, we'll have to do it on all 1 billion rides and this won't scale."
      ]
    },
    {
      "cell_type": "code",
      "metadata": {
        "id": "76mrhep7wiAp"
      },
      "source": [
        "shuffled = tripsqc.sample(frac=1)\n",
        "trainsize = int(len(shuffled[\"fare_amount\"]) * 0.70)\n",
        "validsize = int(len(shuffled[\"fare_amount\"]) * 0.15)\n",
        "\n",
        "df_train = shuffled.iloc[:trainsize, :]\n",
        "df_valid = shuffled.iloc[trainsize:(trainsize + validsize), :]\n",
        "df_test = shuffled.iloc[(trainsize + validsize):, :]"
      ],
      "execution_count": null,
      "outputs": []
    },
    {
      "cell_type": "code",
      "metadata": {
        "id": "xx25UWcjwiAp",
        "outputId": "21060df5-13d0-4dd0-8fea-6d2430e354e6"
      },
      "source": [
        "df_train.head(n=1)"
      ],
      "execution_count": null,
      "outputs": [
        {
          "output_type": "execute_result",
          "data": {
            "text/html": [
              "<div>\n",
              "<style scoped>\n",
              "    .dataframe tbody tr th:only-of-type {\n",
              "        vertical-align: middle;\n",
              "    }\n",
              "\n",
              "    .dataframe tbody tr th {\n",
              "        vertical-align: top;\n",
              "    }\n",
              "\n",
              "    .dataframe thead th {\n",
              "        text-align: right;\n",
              "    }\n",
              "</style>\n",
              "<table border=\"1\" class=\"dataframe\">\n",
              "  <thead>\n",
              "    <tr style=\"text-align: right;\">\n",
              "      <th></th>\n",
              "      <th>pickup_datetime</th>\n",
              "      <th>pickup_longitude</th>\n",
              "      <th>pickup_latitude</th>\n",
              "      <th>dropoff_longitude</th>\n",
              "      <th>dropoff_latitude</th>\n",
              "      <th>passenger_count</th>\n",
              "      <th>fare_amount</th>\n",
              "    </tr>\n",
              "  </thead>\n",
              "  <tbody>\n",
              "    <tr>\n",
              "      <th>6190</th>\n",
              "      <td>2014-02-08 18:32:08 UTC</td>\n",
              "      <td>-74.009804</td>\n",
              "      <td>40.704949</td>\n",
              "      <td>-73.998803</td>\n",
              "      <td>40.745482</td>\n",
              "      <td>2</td>\n",
              "      <td>14.5</td>\n",
              "    </tr>\n",
              "  </tbody>\n",
              "</table>\n",
              "</div>"
            ],
            "text/plain": [
              "              pickup_datetime  pickup_longitude  pickup_latitude  \\\n",
              "6190  2014-02-08 18:32:08 UTC        -74.009804        40.704949   \n",
              "\n",
              "      dropoff_longitude  dropoff_latitude  passenger_count  fare_amount  \n",
              "6190         -73.998803         40.745482                2         14.5  "
            ]
          },
          "metadata": {
            "tags": []
          },
          "execution_count": 19
        }
      ]
    },
    {
      "cell_type": "code",
      "metadata": {
        "id": "dM9FXkWCwiAq",
        "outputId": "d4c6c763-a38f-4d8c-b4b9-21509ed7b923"
      },
      "source": [
        "df_train.describe()"
      ],
      "execution_count": null,
      "outputs": [
        {
          "output_type": "execute_result",
          "data": {
            "text/html": [
              "<div>\n",
              "<style scoped>\n",
              "    .dataframe tbody tr th:only-of-type {\n",
              "        vertical-align: middle;\n",
              "    }\n",
              "\n",
              "    .dataframe tbody tr th {\n",
              "        vertical-align: top;\n",
              "    }\n",
              "\n",
              "    .dataframe thead th {\n",
              "        text-align: right;\n",
              "    }\n",
              "</style>\n",
              "<table border=\"1\" class=\"dataframe\">\n",
              "  <thead>\n",
              "    <tr style=\"text-align: right;\">\n",
              "      <th></th>\n",
              "      <th>pickup_longitude</th>\n",
              "      <th>pickup_latitude</th>\n",
              "      <th>dropoff_longitude</th>\n",
              "      <th>dropoff_latitude</th>\n",
              "      <th>passenger_count</th>\n",
              "      <th>fare_amount</th>\n",
              "    </tr>\n",
              "  </thead>\n",
              "  <tbody>\n",
              "    <tr>\n",
              "      <th>count</th>\n",
              "      <td>7333.000000</td>\n",
              "      <td>7333.000000</td>\n",
              "      <td>7333.000000</td>\n",
              "      <td>7333.000000</td>\n",
              "      <td>7333.000000</td>\n",
              "      <td>7333.000000</td>\n",
              "    </tr>\n",
              "    <tr>\n",
              "      <th>mean</th>\n",
              "      <td>-73.975379</td>\n",
              "      <td>40.751677</td>\n",
              "      <td>-73.974432</td>\n",
              "      <td>40.751198</td>\n",
              "      <td>1.657166</td>\n",
              "      <td>11.399562</td>\n",
              "    </tr>\n",
              "    <tr>\n",
              "      <th>std</th>\n",
              "      <td>0.038536</td>\n",
              "      <td>0.029198</td>\n",
              "      <td>0.039244</td>\n",
              "      <td>0.033416</td>\n",
              "      <td>1.280499</td>\n",
              "      <td>9.922510</td>\n",
              "    </tr>\n",
              "    <tr>\n",
              "      <th>min</th>\n",
              "      <td>-74.258183</td>\n",
              "      <td>40.626968</td>\n",
              "      <td>-74.260472</td>\n",
              "      <td>40.569997</td>\n",
              "      <td>1.000000</td>\n",
              "      <td>2.500000</td>\n",
              "    </tr>\n",
              "    <tr>\n",
              "      <th>25%</th>\n",
              "      <td>-73.992412</td>\n",
              "      <td>40.737500</td>\n",
              "      <td>-73.991715</td>\n",
              "      <td>40.735842</td>\n",
              "      <td>1.000000</td>\n",
              "      <td>6.000000</td>\n",
              "    </tr>\n",
              "    <tr>\n",
              "      <th>50%</th>\n",
              "      <td>-73.982063</td>\n",
              "      <td>40.753888</td>\n",
              "      <td>-73.980780</td>\n",
              "      <td>40.753687</td>\n",
              "      <td>1.000000</td>\n",
              "      <td>8.500000</td>\n",
              "    </tr>\n",
              "    <tr>\n",
              "      <th>75%</th>\n",
              "      <td>-73.968414</td>\n",
              "      <td>40.767823</td>\n",
              "      <td>-73.965569</td>\n",
              "      <td>40.767653</td>\n",
              "      <td>2.000000</td>\n",
              "      <td>12.500000</td>\n",
              "    </tr>\n",
              "    <tr>\n",
              "      <th>max</th>\n",
              "      <td>-73.137393</td>\n",
              "      <td>41.366138</td>\n",
              "      <td>-73.137393</td>\n",
              "      <td>41.366138</td>\n",
              "      <td>6.000000</td>\n",
              "      <td>144.800000</td>\n",
              "    </tr>\n",
              "  </tbody>\n",
              "</table>\n",
              "</div>"
            ],
            "text/plain": [
              "       pickup_longitude  pickup_latitude  dropoff_longitude  dropoff_latitude  \\\n",
              "count       7333.000000      7333.000000        7333.000000       7333.000000   \n",
              "mean         -73.975379        40.751677         -73.974432         40.751198   \n",
              "std            0.038536         0.029198           0.039244          0.033416   \n",
              "min          -74.258183        40.626968         -74.260472         40.569997   \n",
              "25%          -73.992412        40.737500         -73.991715         40.735842   \n",
              "50%          -73.982063        40.753888         -73.980780         40.753687   \n",
              "75%          -73.968414        40.767823         -73.965569         40.767653   \n",
              "max          -73.137393        41.366138         -73.137393         41.366138   \n",
              "\n",
              "       passenger_count  fare_amount  \n",
              "count      7333.000000  7333.000000  \n",
              "mean          1.657166    11.399562  \n",
              "std           1.280499     9.922510  \n",
              "min           1.000000     2.500000  \n",
              "25%           1.000000     6.000000  \n",
              "50%           1.000000     8.500000  \n",
              "75%           2.000000    12.500000  \n",
              "max           6.000000   144.800000  "
            ]
          },
          "metadata": {
            "tags": []
          },
          "execution_count": 20
        }
      ]
    },
    {
      "cell_type": "code",
      "metadata": {
        "id": "7CII9LXIwiAq",
        "outputId": "a88c403f-9723-45cd-ff40-53f7264abd6f"
      },
      "source": [
        "df_valid.describe()"
      ],
      "execution_count": null,
      "outputs": [
        {
          "output_type": "execute_result",
          "data": {
            "text/html": [
              "<div>\n",
              "<style scoped>\n",
              "    .dataframe tbody tr th:only-of-type {\n",
              "        vertical-align: middle;\n",
              "    }\n",
              "\n",
              "    .dataframe tbody tr th {\n",
              "        vertical-align: top;\n",
              "    }\n",
              "\n",
              "    .dataframe thead th {\n",
              "        text-align: right;\n",
              "    }\n",
              "</style>\n",
              "<table border=\"1\" class=\"dataframe\">\n",
              "  <thead>\n",
              "    <tr style=\"text-align: right;\">\n",
              "      <th></th>\n",
              "      <th>pickup_longitude</th>\n",
              "      <th>pickup_latitude</th>\n",
              "      <th>dropoff_longitude</th>\n",
              "      <th>dropoff_latitude</th>\n",
              "      <th>passenger_count</th>\n",
              "      <th>fare_amount</th>\n",
              "    </tr>\n",
              "  </thead>\n",
              "  <tbody>\n",
              "    <tr>\n",
              "      <th>count</th>\n",
              "      <td>1571.000000</td>\n",
              "      <td>1571.000000</td>\n",
              "      <td>1571.000000</td>\n",
              "      <td>1571.000000</td>\n",
              "      <td>1571.000000</td>\n",
              "      <td>1571.000000</td>\n",
              "    </tr>\n",
              "    <tr>\n",
              "      <th>mean</th>\n",
              "      <td>-73.973856</td>\n",
              "      <td>40.751954</td>\n",
              "      <td>-73.973608</td>\n",
              "      <td>40.752362</td>\n",
              "      <td>1.633991</td>\n",
              "      <td>11.188421</td>\n",
              "    </tr>\n",
              "    <tr>\n",
              "      <th>std</th>\n",
              "      <td>0.041809</td>\n",
              "      <td>0.031023</td>\n",
              "      <td>0.042780</td>\n",
              "      <td>0.033580</td>\n",
              "      <td>1.273079</td>\n",
              "      <td>9.379772</td>\n",
              "    </tr>\n",
              "    <tr>\n",
              "      <th>min</th>\n",
              "      <td>-74.031669</td>\n",
              "      <td>40.633522</td>\n",
              "      <td>-74.033390</td>\n",
              "      <td>40.593240</td>\n",
              "      <td>1.000000</td>\n",
              "      <td>2.500000</td>\n",
              "    </tr>\n",
              "    <tr>\n",
              "      <th>25%</th>\n",
              "      <td>-73.991771</td>\n",
              "      <td>40.738759</td>\n",
              "      <td>-73.991842</td>\n",
              "      <td>40.737324</td>\n",
              "      <td>1.000000</td>\n",
              "      <td>6.000000</td>\n",
              "    </tr>\n",
              "    <tr>\n",
              "      <th>50%</th>\n",
              "      <td>-73.981742</td>\n",
              "      <td>40.754829</td>\n",
              "      <td>-73.980768</td>\n",
              "      <td>40.754505</td>\n",
              "      <td>1.000000</td>\n",
              "      <td>8.100000</td>\n",
              "    </tr>\n",
              "    <tr>\n",
              "      <th>75%</th>\n",
              "      <td>-73.968407</td>\n",
              "      <td>40.768780</td>\n",
              "      <td>-73.966540</td>\n",
              "      <td>40.768498</td>\n",
              "      <td>2.000000</td>\n",
              "      <td>12.300000</td>\n",
              "    </tr>\n",
              "    <tr>\n",
              "      <th>max</th>\n",
              "      <td>-73.137393</td>\n",
              "      <td>41.366138</td>\n",
              "      <td>-73.137393</td>\n",
              "      <td>41.366138</td>\n",
              "      <td>6.000000</td>\n",
              "      <td>93.300000</td>\n",
              "    </tr>\n",
              "  </tbody>\n",
              "</table>\n",
              "</div>"
            ],
            "text/plain": [
              "       pickup_longitude  pickup_latitude  dropoff_longitude  dropoff_latitude  \\\n",
              "count       1571.000000      1571.000000        1571.000000       1571.000000   \n",
              "mean         -73.973856        40.751954         -73.973608         40.752362   \n",
              "std            0.041809         0.031023           0.042780          0.033580   \n",
              "min          -74.031669        40.633522         -74.033390         40.593240   \n",
              "25%          -73.991771        40.738759         -73.991842         40.737324   \n",
              "50%          -73.981742        40.754829         -73.980768         40.754505   \n",
              "75%          -73.968407        40.768780         -73.966540         40.768498   \n",
              "max          -73.137393        41.366138         -73.137393         41.366138   \n",
              "\n",
              "       passenger_count  fare_amount  \n",
              "count      1571.000000  1571.000000  \n",
              "mean          1.633991    11.188421  \n",
              "std           1.273079     9.379772  \n",
              "min           1.000000     2.500000  \n",
              "25%           1.000000     6.000000  \n",
              "50%           1.000000     8.100000  \n",
              "75%           2.000000    12.300000  \n",
              "max           6.000000    93.300000  "
            ]
          },
          "metadata": {
            "tags": []
          },
          "execution_count": 21
        }
      ]
    },
    {
      "cell_type": "code",
      "metadata": {
        "id": "ei29Xj5qwiAq",
        "outputId": "27c3437a-c315-4878-e4ad-0bcdc0e6babd"
      },
      "source": [
        "df_test.describe()"
      ],
      "execution_count": null,
      "outputs": [
        {
          "output_type": "execute_result",
          "data": {
            "text/html": [
              "<div>\n",
              "<style scoped>\n",
              "    .dataframe tbody tr th:only-of-type {\n",
              "        vertical-align: middle;\n",
              "    }\n",
              "\n",
              "    .dataframe tbody tr th {\n",
              "        vertical-align: top;\n",
              "    }\n",
              "\n",
              "    .dataframe thead th {\n",
              "        text-align: right;\n",
              "    }\n",
              "</style>\n",
              "<table border=\"1\" class=\"dataframe\">\n",
              "  <thead>\n",
              "    <tr style=\"text-align: right;\">\n",
              "      <th></th>\n",
              "      <th>pickup_longitude</th>\n",
              "      <th>pickup_latitude</th>\n",
              "      <th>dropoff_longitude</th>\n",
              "      <th>dropoff_latitude</th>\n",
              "      <th>passenger_count</th>\n",
              "      <th>fare_amount</th>\n",
              "    </tr>\n",
              "  </thead>\n",
              "  <tbody>\n",
              "    <tr>\n",
              "      <th>count</th>\n",
              "      <td>1572.000000</td>\n",
              "      <td>1572.000000</td>\n",
              "      <td>1572.000000</td>\n",
              "      <td>1572.000000</td>\n",
              "      <td>1572.000000</td>\n",
              "      <td>1572.000000</td>\n",
              "    </tr>\n",
              "    <tr>\n",
              "      <th>mean</th>\n",
              "      <td>-73.975750</td>\n",
              "      <td>40.750390</td>\n",
              "      <td>-73.974863</td>\n",
              "      <td>40.750040</td>\n",
              "      <td>1.654580</td>\n",
              "      <td>11.273639</td>\n",
              "    </tr>\n",
              "    <tr>\n",
              "      <th>std</th>\n",
              "      <td>0.035038</td>\n",
              "      <td>0.027166</td>\n",
              "      <td>0.034186</td>\n",
              "      <td>0.031385</td>\n",
              "      <td>1.277389</td>\n",
              "      <td>10.159434</td>\n",
              "    </tr>\n",
              "    <tr>\n",
              "      <th>min</th>\n",
              "      <td>-74.187541</td>\n",
              "      <td>40.452290</td>\n",
              "      <td>-74.187541</td>\n",
              "      <td>40.417750</td>\n",
              "      <td>1.000000</td>\n",
              "      <td>2.500000</td>\n",
              "    </tr>\n",
              "    <tr>\n",
              "      <th>25%</th>\n",
              "      <td>-73.992699</td>\n",
              "      <td>40.736773</td>\n",
              "      <td>-73.991719</td>\n",
              "      <td>40.734271</td>\n",
              "      <td>1.000000</td>\n",
              "      <td>6.100000</td>\n",
              "    </tr>\n",
              "    <tr>\n",
              "      <th>50%</th>\n",
              "      <td>-73.982512</td>\n",
              "      <td>40.753627</td>\n",
              "      <td>-73.980768</td>\n",
              "      <td>40.752664</td>\n",
              "      <td>1.000000</td>\n",
              "      <td>8.500000</td>\n",
              "    </tr>\n",
              "    <tr>\n",
              "      <th>75%</th>\n",
              "      <td>-73.969106</td>\n",
              "      <td>40.766317</td>\n",
              "      <td>-73.966230</td>\n",
              "      <td>40.768416</td>\n",
              "      <td>2.000000</td>\n",
              "      <td>12.500000</td>\n",
              "    </tr>\n",
              "    <tr>\n",
              "      <th>max</th>\n",
              "      <td>-73.694077</td>\n",
              "      <td>40.846474</td>\n",
              "      <td>-73.679133</td>\n",
              "      <td>40.895600</td>\n",
              "      <td>6.000000</td>\n",
              "      <td>179.000000</td>\n",
              "    </tr>\n",
              "  </tbody>\n",
              "</table>\n",
              "</div>"
            ],
            "text/plain": [
              "       pickup_longitude  pickup_latitude  dropoff_longitude  dropoff_latitude  \\\n",
              "count       1572.000000      1572.000000        1572.000000       1572.000000   \n",
              "mean         -73.975750        40.750390         -73.974863         40.750040   \n",
              "std            0.035038         0.027166           0.034186          0.031385   \n",
              "min          -74.187541        40.452290         -74.187541         40.417750   \n",
              "25%          -73.992699        40.736773         -73.991719         40.734271   \n",
              "50%          -73.982512        40.753627         -73.980768         40.752664   \n",
              "75%          -73.969106        40.766317         -73.966230         40.768416   \n",
              "max          -73.694077        40.846474         -73.679133         40.895600   \n",
              "\n",
              "       passenger_count  fare_amount  \n",
              "count      1572.000000  1572.000000  \n",
              "mean          1.654580    11.273639  \n",
              "std           1.277389    10.159434  \n",
              "min           1.000000     2.500000  \n",
              "25%           1.000000     6.100000  \n",
              "50%           1.000000     8.500000  \n",
              "75%           2.000000    12.500000  \n",
              "max           6.000000   179.000000  "
            ]
          },
          "metadata": {
            "tags": []
          },
          "execution_count": 22
        }
      ]
    },
    {
      "cell_type": "markdown",
      "metadata": {
        "id": "7wJU__2kwiAq"
      },
      "source": [
        "Let's write out the three dataframes to appropriately named csv files. We can use these csv files for local training (recall that these files represent only 1/100,000 of the full dataset) just to verify our code works, before we run it on all the data."
      ]
    },
    {
      "cell_type": "code",
      "metadata": {
        "id": "eLDPASzjwiAq",
        "outputId": "cbb755d4-dd80-4c55-dfb4-ef5fdfad3891"
      },
      "source": [
        "def to_csv(df, filename):\n",
        "    outdf = df.copy(deep=False)\n",
        "    outdf.loc[:, \"key\"] = np.arange(0, len(outdf))  # rownumber as key\n",
        "    # Reorder columns so that target is first column\n",
        "    cols = outdf.columns.tolist()\n",
        "    cols.remove(\"fare_amount\")\n",
        "    cols.insert(0, \"fare_amount\")\n",
        "    print (cols)  # new order of columns\n",
        "    outdf = outdf[cols]\n",
        "    outdf.to_csv(filename, header=False, index_label=False, index=False)\n",
        "\n",
        "to_csv(df_train, \"taxi-train.csv\")\n",
        "to_csv(df_valid, \"taxi-valid.csv\")\n",
        "to_csv(df_test, \"taxi-test.csv\")"
      ],
      "execution_count": null,
      "outputs": [
        {
          "output_type": "stream",
          "text": [
            "['fare_amount', 'pickup_datetime', 'pickup_longitude', 'pickup_latitude', 'dropoff_longitude', 'dropoff_latitude', 'passenger_count', 'key']\n",
            "['fare_amount', 'pickup_datetime', 'pickup_longitude', 'pickup_latitude', 'dropoff_longitude', 'dropoff_latitude', 'passenger_count', 'key']\n",
            "['fare_amount', 'pickup_datetime', 'pickup_longitude', 'pickup_latitude', 'dropoff_longitude', 'dropoff_latitude', 'passenger_count', 'key']\n"
          ],
          "name": "stdout"
        }
      ]
    },
    {
      "cell_type": "code",
      "metadata": {
        "id": "5ivXW7X1wiAr",
        "outputId": "f643d5f3-54cd-4495-b3e0-e89f03cb2c97"
      },
      "source": [
        "!head -10 taxi-valid.csv"
      ],
      "execution_count": null,
      "outputs": [
        {
          "output_type": "stream",
          "text": [
            "6.9,2010-02-25 20:14:00 UTC,-74.004267,40.737952,-73.997473,40.72236,1,0\n",
            "8.9,2010-12-21 13:08:00 UTC,-73.990958,40.755622,-73.979517,40.759813,4,1\n",
            "4.5,2013-12-09 15:03:00 UTC,-73.966287,40.767605,-73.962613,40.774742,1,2\n",
            "10.1,2012-03-04 00:57:00 UTC,-73.977142,40.743047,-74.006725,40.713387,1,3\n",
            "6.1,2011-06-19 12:39:56 UTC,-73.954132,40.77895,-73.974552,40.788243,1,4\n",
            "4.1,2009-09-25 03:47:00 UTC,-73.980335,40.760035,-73.989048,40.757817,1,5\n",
            "4.6,2009-03-28 20:30:35 UTC,-73.973926,40.757725,-73.981695,40.761591,1,6\n",
            "22.0,2013-12-09 15:03:00 UTC,-73.792412,40.65672,-73.724062,40.724325,1,7\n",
            "13.7,2009-05-27 20:37:00 UTC,-73.987868,40.743828,-73.982775,40.702065,1,8\n",
            "9.0,2013-04-18 08:48:00 UTC,-73.954962,40.765582,-73.971602,40.758087,1,9\n"
          ],
          "name": "stdout"
        }
      ]
    },
    {
      "cell_type": "markdown",
      "metadata": {
        "id": "2MS5Tmb0wiAr"
      },
      "source": [
        "<h3> Verify that datasets exist </h3>"
      ]
    },
    {
      "cell_type": "code",
      "metadata": {
        "id": "RWb0M_rLwiAr",
        "outputId": "f81cd2ad-2afa-4225-c2c3-aa613b7d8e80"
      },
      "source": [
        "!ls -l *.csv"
      ],
      "execution_count": null,
      "outputs": [
        {
          "output_type": "stream",
          "text": [
            "-rw-r--r-- 1 jupyter jupyter 123768 Mar 31 10:00 taxi-test.csv\n",
            "-rw-r--r-- 1 jupyter jupyter 578339 Mar 31 10:00 taxi-train.csv\n",
            "-rw-r--r-- 1 jupyter jupyter 123652 Mar 31 10:00 taxi-valid.csv\n"
          ],
          "name": "stdout"
        }
      ]
    },
    {
      "cell_type": "markdown",
      "metadata": {
        "id": "LN0FcOTAwiAr"
      },
      "source": [
        "We have 3 .csv files corresponding to train, valid, test.  The ratio of file-sizes correspond to our split of the data."
      ]
    },
    {
      "cell_type": "code",
      "metadata": {
        "id": "lKpsFNExwiAr",
        "outputId": "a5a615c0-b86b-4b8d-85d0-31e06acb0d50"
      },
      "source": [
        "%%bash\n",
        "head taxi-train.csv"
      ],
      "execution_count": null,
      "outputs": [
        {
          "output_type": "stream",
          "text": [
            "14.5,2014-02-08 18:32:08 UTC,-74.009804,40.704949,-73.998803,40.745482,2,0\n",
            "20.1,2012-06-21 09:25:06 UTC,-73.97834,40.766733,-74.016883,40.704938,4,1\n",
            "9.0,2015-03-22 21:38:20 UTC,-73.98020935058594,40.775489807128906,-73.9671401977539,40.803489685058594,6,2\n",
            "5.5,2013-05-18 21:51:49 UTC,-73.944164,40.775986,-73.956089,40.775978,3,3\n",
            "10.5,2015-06-21 22:08:31 UTC,-73.98699951171875,40.7569694519043,-74.00695037841797,40.718299865722656,1,4\n",
            "10.0,2013-11-19 19:07:12 UTC,-73.957135,40.770258,-73.972578,40.74635,1,5\n",
            "4.1,2010-12-21 11:24:35 UTC,-73.989668,40.756958,-73.987693,40.751266,1,6\n",
            "4.5,2009-12-07 20:49:00 UTC,-73.991465,40.730228,-73.981338,40.724937,1,7\n",
            "9.3,2011-12-03 10:28:00 UTC,-73.98504,40.721887,-74.00388,40.738175,1,8\n",
            "7.7,2010-04-29 12:28:00 UTC,-73.966155,40.761642,-73.955942,40.78205,1,9\n"
          ],
          "name": "stdout"
        }
      ]
    },
    {
      "cell_type": "markdown",
      "metadata": {
        "id": "K8x4Mv7swiAs"
      },
      "source": [
        "Looks good! We now have our ML datasets and are ready to train ML models, validate them and evaluate them."
      ]
    },
    {
      "cell_type": "markdown",
      "metadata": {
        "id": "or6pKC06wiAs"
      },
      "source": [
        "<h3> Benchmark </h3>\n",
        "\n",
        "Before we start building complex ML models, it is a good idea to come up with a very simple model and use that as a benchmark.\n",
        "\n",
        "My model is going to be to simply divide the mean fare_amount by the mean trip_distance to come up with a rate and use that to predict.  Let's compute the RMSE of such a model."
      ]
    },
    {
      "cell_type": "code",
      "metadata": {
        "id": "pd6ooob0wiAs",
        "outputId": "b4db2bd4-dcaf-40e3-a68a-6fec99068454"
      },
      "source": [
        "def distance_between(lat1, lon1, lat2, lon2):\n",
        "    # Baversine formula to compute distance \"as the crow flies\".\n",
        "    lat1_r = np.radians(lat1)\n",
        "    lat2_r = np.radians(lat2)\n",
        "    lon_diff_r = np.radians(lon2 - lon1)\n",
        "    sin_prod = np.sin(lat1_r) * np.sin(lat2_r)\n",
        "    cos_prod = np.cos(lat1_r) * np.cos(lat2_r) * np.cos(lon_diff_r)\n",
        "    minimum = np.minimum(1, sin_prod + cos_prod)\n",
        "    dist = np.degrees(np.arccos(minimum)) * 60 * 1.515 * 1.609344\n",
        "\n",
        "    return dist\n",
        "\n",
        "def estimate_distance(df):\n",
        "    return distance_between(\n",
        "        df[\"pickuplat\"], df[\"pickuplon\"], df[\"dropofflat\"], df[\"dropofflon\"])\n",
        "\n",
        "def compute_rmse(actual, predicted):\n",
        "    return np.sqrt(np.mean((actual - predicted) ** 2))\n",
        "\n",
        "def print_rmse(df, rate, name):\n",
        "    print (\"{1} RMSE = {0}\".format(\n",
        "        compute_rmse(df[\"fare_amount\"], rate * estimate_distance(df)), name))\n",
        "\n",
        "# TODO 4: Create a benchmark to judge future ML model performance off of\n",
        "\n",
        "# Specify the five feature columns\n",
        "FEATURES = [\"pickuplon\", \"pickuplat\", \"dropofflon\", \"dropofflat\", \"passengers\"]\n",
        "\n",
        "# Specify the one target column for prediction\n",
        "TARGET = \"fare_amount\"\n",
        "\n",
        "columns = list([TARGET])\n",
        "columns.append(\"pickup_datetime\")\n",
        "columns.extend(FEATURES)  # in CSV, target is first column, after the features\n",
        "columns.append(\"key\")\n",
        "df_train = pd.read_csv(\"taxi-train.csv\", header=None, names=columns)\n",
        "df_valid = pd.read_csv(\"taxi-valid.csv\", header=None, names=columns)\n",
        "df_test = pd.read_csv(\"taxi-test.csv\", header=None, names=columns)\n",
        "rate = df_train[\"fare_amount\"].mean() / estimate_distance(df_train).mean()\n",
        "print (\"Rate = ${0}/km\".format(rate))\n",
        "print_rmse(df_train, rate, \"Train\")\n",
        "print_rmse(df_valid, rate, \"Valid\") \n",
        "print_rmse(df_test, rate, \"Test\") "
      ],
      "execution_count": null,
      "outputs": [
        {
          "output_type": "stream",
          "text": [
            "Rate = $2.5824516557798325/km\n",
            "Train RMSE = 7.929026941590217\n",
            "Valid RMSE = 5.915045353504049\n",
            "Test RMSE = 7.173308581977607\n"
          ],
          "name": "stdout"
        }
      ]
    },
    {
      "cell_type": "markdown",
      "metadata": {
        "id": "jKAnoz6DwiAs"
      },
      "source": [
        "<h2>Benchmark on same dataset</h2>\n",
        "\n",
        "The RMSE depends on the dataset, and for comparison, we have to evaluate on the same dataset each time. We'll use this query in later labs:"
      ]
    },
    {
      "cell_type": "code",
      "metadata": {
        "id": "1tEadg__wiAs",
        "outputId": "e6b8f303-a9dc-4cd8-c17e-4b335708ea8b"
      },
      "source": [
        "validation_query = \"\"\"\n",
        "SELECT\n",
        "    (tolls_amount + fare_amount) AS fare_amount,\n",
        "    pickup_datetime,\n",
        "    pickup_longitude AS pickuplon,\n",
        "    pickup_latitude AS pickuplat,\n",
        "    dropoff_longitude AS dropofflon,\n",
        "    dropoff_latitude AS dropofflat,\n",
        "    passenger_count*1.0 AS passengers,\n",
        "    \"unused\" AS key\n",
        "FROM\n",
        "    `nyc-tlc.yellow.trips`\n",
        "WHERE\n",
        "    ABS(MOD(FARM_FINGERPRINT(CAST(pickup_datetime AS STRING)), 10000)) = 2\n",
        "    AND trip_distance > 0\n",
        "    AND fare_amount >= 2.5\n",
        "    AND pickup_longitude > -78\n",
        "    AND pickup_longitude < -70\n",
        "    AND dropoff_longitude > -78\n",
        "    AND dropoff_longitude < -70\n",
        "    AND pickup_latitude > 37\n",
        "    AND pickup_latitude < 45\n",
        "    AND dropoff_latitude > 37\n",
        "    AND dropoff_latitude < 45\n",
        "    AND passenger_count > 0\n",
        "\"\"\"\n",
        "\n",
        "client = bigquery.Client()\n",
        "df_valid = client.query(validation_query).to_dataframe()\n",
        "print_rmse(df_valid, 2.59988, \"Final Validation Set\")"
      ],
      "execution_count": null,
      "outputs": [
        {
          "output_type": "stream",
          "text": [
            "Final Validation Set RMSE = 8.135336354024894\n"
          ],
          "name": "stdout"
        }
      ]
    },
    {
      "cell_type": "markdown",
      "metadata": {
        "id": "wBERZxVxwiAs"
      },
      "source": [
        "The simple distance-based rule gives us a RMSE of <b>$8.14</b>.  We have to beat this, of course, but you will find that simple rules of thumb like this can be surprisingly difficult to beat.\n",
        "\n",
        "Let's be ambitious, though, and make our goal to build ML models that have a RMSE of less than $6 on the test set."
      ]
    },
    {
      "cell_type": "markdown",
      "metadata": {
        "id": "rOGf_FCtwiAt"
      },
      "source": [
        "Copyright 2020 Google Inc.\n",
        "Licensed under the Apache License, Version 2.0 (the \"License\"); you may not use this file except in compliance with the License. You may obtain a copy of the License at\n",
        "http://www.apache.org/licenses/LICENSE-2.0\n",
        "Unless required by applicable law or agreed to in writing, software distributed under the License is distributed on an \"AS IS\" BASIS, WITHOUT WARRANTIES OR CONDITIONS OF ANY KIND, either express or implied. See the License for the specific language governing permissions and limitations under the License."
      ]
    }
  ]
}