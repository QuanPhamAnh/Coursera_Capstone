{
  "nbformat": 4,
  "nbformat_minor": 0,
  "metadata": {
    "colab": {
      "name": "learning_rate.ipynb",
      "provenance": [],
      "collapsed_sections": [],
      "toc_visible": true,
      "include_colab_link": true
    },
    "environment": {
      "name": "tf2-gpu.2-3.m65",
      "type": "gcloud",
      "uri": "gcr.io/deeplearning-platform-release/tf2-gpu.2-3:m65"
    },
    "kernelspec": {
      "display_name": "Python 3",
      "language": "python",
      "name": "python3"
    },
    "language_info": {
      "codemirror_mode": {
        "name": "ipython",
        "version": 3
      },
      "file_extension": ".py",
      "mimetype": "text/x-python",
      "name": "python",
      "nbconvert_exporter": "python",
      "pygments_lexer": "ipython3",
      "version": "3.7.10"
    }
  },
  "cells": [
    {
      "cell_type": "markdown",
      "metadata": {
        "id": "view-in-github",
        "colab_type": "text"
      },
      "source": [
        "<a href=\"https://colab.research.google.com/github/QuanPhamAnh/Coursera_Capstone/blob/main/Machine%20Learning%20with%20TensorFlow%20on%20Google%20Cloud%20Platform/Art%20and%20Science%20of%20ML/Learning_rate.ipynb\" target=\"_parent\"><img src=\"https://colab.research.google.com/assets/colab-badge.svg\" alt=\"Open In Colab\"/></a>"
      ]
    },
    {
      "cell_type": "markdown",
      "metadata": {
        "id": "rNdWfPXCjTjY"
      },
      "source": [
        "# Reviewing Learning Curve\n",
        "\n",
        "### Learning objectives\n",
        "\n",
        "1. Build and train a Keras Sequential model\n",
        "2. Specify various learning rates to a model\n",
        "3. Visualize the loss curves\n",
        "\n",
        "\n",
        "## Introduction \n",
        "\n",
        "\n",
        "In this notebook, you will observe learning curve change. You will use the Keras Sequential Model to build an ML model to predict housing prices.\n",
        "\n",
        "A learning curve is a plot of model learning performance over experience or time.\n",
        "\n",
        "Learning curves are a widely used diagnostic tool in machine learning for algorithms that learn from a training dataset incrementally. The model can be evaluated on the training dataset and on a hold out validation dataset after each update during training and plots of the measured performance can created to show learning curves. Reviewing learning curves of models during training can be used to diagnose problems with learning, such as an underfit or overfit model, as well as whether the training and validation datasets are suitably representative.\n",
        "\n",
        "Adam is an optimization algorithm that can be used instead of the classical stochastic gradient descent procedure to update network weights iterative based in training data. [How to use Learning Curves to Diagnose Machine Learning Model Performance](https://machinelearningmastery.com/learning-curves-for-diagnosing-machine-learning-model-performance/#:~:text=A%20learning%20curve%20is%20a,from%20a%20training%20dataset%20incrementally.&text=Learning%20curves%20are%20plots%20that,time%20in%20terms%20of%20experience).\n",
        "\n",
        "Each learning objective will correspond to a __#TODO__  in this student lab notebook -- try to complete this notebook first and then review the [solution notebook](https://github.com/GoogleCloudPlatform/training-data-analyst/blob/master/courses/machine_learning/deepdive2/art_and_science_of_ml/solutions/learning_rate.ipynb)\n"
      ]
    },
    {
      "cell_type": "markdown",
      "metadata": {
        "id": "VxyBFc_kKazA"
      },
      "source": [
        "Start by importing the necessary libraries for this lab."
      ]
    },
    {
      "cell_type": "code",
      "metadata": {
        "colab": {
          "base_uri": "https://localhost:8080/"
        },
        "id": "9dEreb4QKizj",
        "outputId": "443ac323-3b62-4304-f618-28a2aeb0350e"
      },
      "source": [
        "import os\n",
        "import tensorflow.keras\n",
        "\n",
        "import matplotlib.pyplot as plt\n",
        "import pandas as pd\n",
        "import tensorflow as tf\n",
        "\n",
        "from tensorflow import feature_column as fc\n",
        "from tensorflow.keras import layers\n",
        "from tensorflow import keras\n",
        "from tensorflow.keras import layers\n",
        "from keras.optimizers import Adam\n",
        "#from keras.optimizers import SGD\n",
        "\n",
        "from sklearn.model_selection import train_test_split\n",
        "from keras.utils import plot_model\n",
        "\n",
        "print(\"TensorFlow version: \",tf.version.VERSION)"
      ],
      "execution_count": 1,
      "outputs": [
        {
          "output_type": "stream",
          "text": [
            "TensorFlow version:  2.4.1\n"
          ],
          "name": "stdout"
        }
      ]
    },
    {
      "cell_type": "markdown",
      "metadata": {
        "id": "kv3ynSGIrbeE"
      },
      "source": [
        "Many of the Google Machine Learning Courses Programming Exercises use the  [California Housing Dataset](https://developers.google.com/machine-learning/crash-course/california-housing-data-description\n",
        "), which contains data drawn from the 1990 U.S. Census.  Our lab dataset has been pre-processed so that there are no missing values.\n",
        "\n",
        "First, let's download the raw .csv data by copying the data from a cloud storage bucket.\n"
      ]
    },
    {
      "cell_type": "markdown",
      "metadata": {
        "id": "lM6-n6xntv3t"
      },
      "source": [
        "Now, let's read in the dataset just copied from the cloud storage bucket and create a Pandas dataframe."
      ]
    },
    {
      "cell_type": "code",
      "metadata": {
        "colab": {
          "base_uri": "https://localhost:8080/",
          "height": 204
        },
        "id": "REZ57BXCLdfG",
        "outputId": "1ca10c2d-a3f7-48b5-f42c-a16d8daff439"
      },
      "source": [
        "housing_df = pd.read_csv('../content/housing_pre-proc.csv', error_bad_lines=False)\n",
        "housing_df.head()"
      ],
      "execution_count": 3,
      "outputs": [
        {
          "output_type": "execute_result",
          "data": {
            "text/html": [
              "<div>\n",
              "<style scoped>\n",
              "    .dataframe tbody tr th:only-of-type {\n",
              "        vertical-align: middle;\n",
              "    }\n",
              "\n",
              "    .dataframe tbody tr th {\n",
              "        vertical-align: top;\n",
              "    }\n",
              "\n",
              "    .dataframe thead th {\n",
              "        text-align: right;\n",
              "    }\n",
              "</style>\n",
              "<table border=\"1\" class=\"dataframe\">\n",
              "  <thead>\n",
              "    <tr style=\"text-align: right;\">\n",
              "      <th></th>\n",
              "      <th>longitude</th>\n",
              "      <th>latitude</th>\n",
              "      <th>housing_median_age</th>\n",
              "      <th>total_rooms</th>\n",
              "      <th>total_bedrooms</th>\n",
              "      <th>population</th>\n",
              "      <th>households</th>\n",
              "      <th>median_income</th>\n",
              "      <th>median_house_value</th>\n",
              "      <th>ocean_proximity</th>\n",
              "    </tr>\n",
              "  </thead>\n",
              "  <tbody>\n",
              "    <tr>\n",
              "      <th>0</th>\n",
              "      <td>-122.23</td>\n",
              "      <td>37.88</td>\n",
              "      <td>41.0</td>\n",
              "      <td>880.0</td>\n",
              "      <td>129.0</td>\n",
              "      <td>322.0</td>\n",
              "      <td>126.0</td>\n",
              "      <td>8.3252</td>\n",
              "      <td>452600.0</td>\n",
              "      <td>NEAR BAY</td>\n",
              "    </tr>\n",
              "    <tr>\n",
              "      <th>1</th>\n",
              "      <td>-122.22</td>\n",
              "      <td>37.86</td>\n",
              "      <td>21.0</td>\n",
              "      <td>7099.0</td>\n",
              "      <td>1106.0</td>\n",
              "      <td>2401.0</td>\n",
              "      <td>1138.0</td>\n",
              "      <td>8.3014</td>\n",
              "      <td>358500.0</td>\n",
              "      <td>NEAR BAY</td>\n",
              "    </tr>\n",
              "    <tr>\n",
              "      <th>2</th>\n",
              "      <td>-122.24</td>\n",
              "      <td>37.85</td>\n",
              "      <td>52.0</td>\n",
              "      <td>1467.0</td>\n",
              "      <td>190.0</td>\n",
              "      <td>496.0</td>\n",
              "      <td>177.0</td>\n",
              "      <td>7.2574</td>\n",
              "      <td>352100.0</td>\n",
              "      <td>NEAR BAY</td>\n",
              "    </tr>\n",
              "    <tr>\n",
              "      <th>3</th>\n",
              "      <td>-122.25</td>\n",
              "      <td>37.85</td>\n",
              "      <td>52.0</td>\n",
              "      <td>1274.0</td>\n",
              "      <td>235.0</td>\n",
              "      <td>558.0</td>\n",
              "      <td>219.0</td>\n",
              "      <td>5.6431</td>\n",
              "      <td>341300.0</td>\n",
              "      <td>NEAR BAY</td>\n",
              "    </tr>\n",
              "    <tr>\n",
              "      <th>4</th>\n",
              "      <td>-122.25</td>\n",
              "      <td>37.85</td>\n",
              "      <td>52.0</td>\n",
              "      <td>1627.0</td>\n",
              "      <td>280.0</td>\n",
              "      <td>565.0</td>\n",
              "      <td>259.0</td>\n",
              "      <td>3.8462</td>\n",
              "      <td>342200.0</td>\n",
              "      <td>NEAR BAY</td>\n",
              "    </tr>\n",
              "  </tbody>\n",
              "</table>\n",
              "</div>"
            ],
            "text/plain": [
              "   longitude  latitude  ...  median_house_value  ocean_proximity\n",
              "0    -122.23     37.88  ...            452600.0         NEAR BAY\n",
              "1    -122.22     37.86  ...            358500.0         NEAR BAY\n",
              "2    -122.24     37.85  ...            352100.0         NEAR BAY\n",
              "3    -122.25     37.85  ...            341300.0         NEAR BAY\n",
              "4    -122.25     37.85  ...            342200.0         NEAR BAY\n",
              "\n",
              "[5 rows x 10 columns]"
            ]
          },
          "metadata": {
            "tags": []
          },
          "execution_count": 3
        }
      ]
    },
    {
      "cell_type": "markdown",
      "metadata": {
        "id": "cnZ9Mo64rbeG"
      },
      "source": [
        "We can use .describe() to see some summary statistics for the numeric fields in our dataframe. Note, for example, the count row and corresponding columns. The count shows 20433.000000 for all feature columns. Thus, there are no missing values."
      ]
    },
    {
      "cell_type": "markdown",
      "metadata": {
        "id": "u0zhLtQqMPem"
      },
      "source": [
        "####  Split the dataset for ML\n",
        "\n",
        "The dataset we loaded was a single CSV file. We will split this into train, validation, and test sets.\n"
      ]
    },
    {
      "cell_type": "code",
      "metadata": {
        "colab": {
          "base_uri": "https://localhost:8080/"
        },
        "id": "YEOpw7LhMYsI",
        "outputId": "51dfe943-295b-47ce-bc32-60f692db6908"
      },
      "source": [
        "train, test = train_test_split(housing_df, test_size=0.2)\n",
        "train, val = train_test_split(train, test_size=0.2)\n",
        "\n",
        "print(len(train), 'train examples')\n",
        "print(len(val), 'validation examples')\n",
        "print(len(test), 'test examples')\n",
        "\n",
        "train.to_csv('../content/housing-train.csv', encoding='utf-8', index=False)\n",
        "val.to_csv('../content/housing-val.csv', encoding='utf-8', index=False)\n",
        "test.to_csv('../content/housing-test.csv', encoding='utf-8', index=False)"
      ],
      "execution_count": 5,
      "outputs": [
        {
          "output_type": "stream",
          "text": [
            "13076 train examples\n",
            "3270 validation examples\n",
            "4087 test examples\n"
          ],
          "name": "stdout"
        }
      ]
    },
    {
      "cell_type": "code",
      "metadata": {
        "id": "LhMVlnYbrbeH"
      },
      "source": [
        "# A utility method to create a tf.data dataset from a Pandas Dataframe\n",
        "\n",
        "def df_to_dataset(dataframe, shuffle=True, batch_size=32):\n",
        "    dataframe = dataframe.copy()\n",
        "    labels = dataframe.pop('median_house_value')\n",
        "    ds = tf.data.Dataset.from_tensor_slices((dict(dataframe), labels))\n",
        "    if shuffle:\n",
        "        ds = ds.shuffle(buffer_size=len(dataframe))\n",
        "    ds = ds.batch(batch_size)\n",
        "    return ds\n",
        "\n",
        "# Next we initialize the training and validation datasets.\n",
        "batch_size = 32\n",
        "train_ds = df_to_dataset(train)\n",
        "val_ds = df_to_dataset(val, shuffle=False, batch_size=batch_size)\n",
        "\n",
        "# Input Pipeline\n",
        "numeric_cols = ['longitude', 'latitude', 'housing_median_age', 'total_rooms',\n",
        "                'total_bedrooms', 'population', 'households', 'median_income']\n",
        "\n",
        "# Next, we scale the numerical feature columns that we assigned to the variable \"numeric cols\".\n",
        "# Scalar def get_scal(feature):\n",
        "def get_scal(feature):\n",
        "    def minmax(x):\n",
        "        mini = train[feature].min()\n",
        "        maxi = train[feature].max()\n",
        "        return (x - mini)/(maxi-mini)\n",
        "        return(minmax)\n",
        "    \n",
        "feature_columns = []\n",
        "for header in numeric_cols:\n",
        "    scal_input_fn = get_scal(header)\n",
        "    feature_columns.append(fc.numeric_column(header,\n",
        "                                             normalizer_fn=scal_input_fn))\n"
      ],
      "execution_count": 6,
      "outputs": []
    },
    {
      "cell_type": "markdown",
      "metadata": {
        "id": "9Ug3hB8Sl0jO"
      },
      "source": [
        "### Using the Keras Sequential Model\n",
        "\n",
        "Next, we will run this cell to compile and fit the Keras Sequential model."
      ]
    },
    {
      "cell_type": "markdown",
      "metadata": {
        "id": "M0zZY0bbrbeI"
      },
      "source": [
        "**Lab Task #1:** Building the model"
      ]
    },
    {
      "cell_type": "markdown",
      "metadata": {
        "id": "BNkuXWocrbeJ"
      },
      "source": [
        "## Model 1 - hard cording the learning rate to .5"
      ]
    },
    {
      "cell_type": "markdown",
      "metadata": {
        "id": "JtGNpXbErbeJ"
      },
      "source": [
        "**Lab Task #2:** Specify various learning rates to model"
      ]
    },
    {
      "cell_type": "code",
      "metadata": {
        "colab": {
          "base_uri": "https://localhost:8080/"
        },
        "id": "uWOOcsPNrbeJ",
        "outputId": "4fb26909-b5d7-4182-8e90-f48fe313f337"
      },
      "source": [
        "# Model create\n",
        "\n",
        "# TODO 1\n",
        "# TODO -- Your code here.\n",
        "feature_layer = tf.keras.layers.DenseFeatures(feature_columns, dtype='float64')\n",
        "\n",
        "model = tf.keras.Sequential([\n",
        "  feature_layer,\n",
        "  layers.Dense(12, input_dim=8, activation='relu'),\n",
        "  layers.Dense(8, activation='relu'),\n",
        "  layers.Dense(1, activation='linear',  name='median_house_value')\n",
        "])\n",
        "\n",
        "# Model compile\n",
        "# TODO 2a\n",
        "# TODO -- Your code here.\n",
        "opt = keras.optimizers.Adam(learning_rate=.5)\n",
        "model.compile(optimizer=opt,\n",
        "              loss='mse',\n",
        "              metrics=['mse'])\n",
        "\n",
        "# Model Fit\n",
        "history = model.fit(train_ds,\n",
        "                    validation_data=val_ds,\n",
        "                    epochs=32)"
      ],
      "execution_count": 7,
      "outputs": [
        {
          "output_type": "stream",
          "text": [
            "Epoch 1/32\n",
            "WARNING:tensorflow:Layers in a Sequential model should only have a single input tensor, but we receive a <class 'dict'> input: {'longitude': <tf.Tensor 'ExpandDims_3:0' shape=(None, 1) dtype=float64>, 'latitude': <tf.Tensor 'ExpandDims_2:0' shape=(None, 1) dtype=float64>, 'housing_median_age': <tf.Tensor 'ExpandDims_1:0' shape=(None, 1) dtype=float64>, 'total_rooms': <tf.Tensor 'ExpandDims_8:0' shape=(None, 1) dtype=float64>, 'total_bedrooms': <tf.Tensor 'ExpandDims_7:0' shape=(None, 1) dtype=float64>, 'population': <tf.Tensor 'ExpandDims_6:0' shape=(None, 1) dtype=float64>, 'households': <tf.Tensor 'ExpandDims:0' shape=(None, 1) dtype=float64>, 'median_income': <tf.Tensor 'ExpandDims_4:0' shape=(None, 1) dtype=float64>, 'ocean_proximity': <tf.Tensor 'ExpandDims_5:0' shape=(None, 1) dtype=string>}\n",
            "Consider rewriting this model with the Functional API.\n",
            "WARNING:tensorflow:Layers in a Sequential model should only have a single input tensor, but we receive a <class 'dict'> input: {'longitude': <tf.Tensor 'ExpandDims_3:0' shape=(None, 1) dtype=float64>, 'latitude': <tf.Tensor 'ExpandDims_2:0' shape=(None, 1) dtype=float64>, 'housing_median_age': <tf.Tensor 'ExpandDims_1:0' shape=(None, 1) dtype=float64>, 'total_rooms': <tf.Tensor 'ExpandDims_8:0' shape=(None, 1) dtype=float64>, 'total_bedrooms': <tf.Tensor 'ExpandDims_7:0' shape=(None, 1) dtype=float64>, 'population': <tf.Tensor 'ExpandDims_6:0' shape=(None, 1) dtype=float64>, 'households': <tf.Tensor 'ExpandDims:0' shape=(None, 1) dtype=float64>, 'median_income': <tf.Tensor 'ExpandDims_4:0' shape=(None, 1) dtype=float64>, 'ocean_proximity': <tf.Tensor 'ExpandDims_5:0' shape=(None, 1) dtype=string>}\n",
            "Consider rewriting this model with the Functional API.\n",
            "395/409 [===========================>..] - ETA: 0s - loss: 22452962368.8101 - mse: 22452962368.8101WARNING:tensorflow:Layers in a Sequential model should only have a single input tensor, but we receive a <class 'dict'> input: {'longitude': <tf.Tensor 'ExpandDims_3:0' shape=(None, 1) dtype=float64>, 'latitude': <tf.Tensor 'ExpandDims_2:0' shape=(None, 1) dtype=float64>, 'housing_median_age': <tf.Tensor 'ExpandDims_1:0' shape=(None, 1) dtype=float64>, 'total_rooms': <tf.Tensor 'ExpandDims_8:0' shape=(None, 1) dtype=float64>, 'total_bedrooms': <tf.Tensor 'ExpandDims_7:0' shape=(None, 1) dtype=float64>, 'population': <tf.Tensor 'ExpandDims_6:0' shape=(None, 1) dtype=float64>, 'households': <tf.Tensor 'ExpandDims:0' shape=(None, 1) dtype=float64>, 'median_income': <tf.Tensor 'ExpandDims_4:0' shape=(None, 1) dtype=float64>, 'ocean_proximity': <tf.Tensor 'ExpandDims_5:0' shape=(None, 1) dtype=string>}\n",
            "Consider rewriting this model with the Functional API.\n",
            "409/409 [==============================] - 2s 3ms/step - loss: 22176355989.8537 - mse: 22176355989.8537 - val_loss: 10816982016.0000 - val_mse: 10816982016.0000\n",
            "Epoch 2/32\n",
            "409/409 [==============================] - 1s 2ms/step - loss: 10859967637.8537 - mse: 10859967637.8537 - val_loss: 9635007488.0000 - val_mse: 9635007488.0000\n",
            "Epoch 3/32\n",
            "409/409 [==============================] - 1s 2ms/step - loss: 9199664030.5951 - mse: 9199664030.5951 - val_loss: 9724175360.0000 - val_mse: 9724175360.0000\n",
            "Epoch 4/32\n",
            "409/409 [==============================] - 1s 2ms/step - loss: 9138089972.7610 - mse: 9138089972.7610 - val_loss: 8528497664.0000 - val_mse: 8528497664.0000\n",
            "Epoch 5/32\n",
            "409/409 [==============================] - 1s 2ms/step - loss: 8291586137.9122 - mse: 8291586137.9122 - val_loss: 12991789056.0000 - val_mse: 12991789056.0000\n",
            "Epoch 6/32\n",
            "409/409 [==============================] - 1s 2ms/step - loss: 8425094448.7024 - mse: 8425094448.7024 - val_loss: 8963632128.0000 - val_mse: 8963632128.0000\n",
            "Epoch 7/32\n",
            "409/409 [==============================] - 1s 2ms/step - loss: 6951376661.2293 - mse: 6951376661.2293 - val_loss: 7397298176.0000 - val_mse: 7397298176.0000\n",
            "Epoch 8/32\n",
            "409/409 [==============================] - 1s 2ms/step - loss: 8880544038.7122 - mse: 8880544038.7122 - val_loss: 6837058560.0000 - val_mse: 6837058560.0000\n",
            "Epoch 9/32\n",
            "409/409 [==============================] - 1s 2ms/step - loss: 6769557957.3073 - mse: 6769557957.3073 - val_loss: 6735719936.0000 - val_mse: 6735719936.0000\n",
            "Epoch 10/32\n",
            "409/409 [==============================] - 1s 2ms/step - loss: 7023789125.9317 - mse: 7023789125.9317 - val_loss: 6956532224.0000 - val_mse: 6956532224.0000\n",
            "Epoch 11/32\n",
            "409/409 [==============================] - 1s 2ms/step - loss: 9057304321.2488 - mse: 9057304321.2488 - val_loss: 7375451648.0000 - val_mse: 7375451648.0000\n",
            "Epoch 12/32\n",
            "409/409 [==============================] - 1s 2ms/step - loss: 6587186353.3268 - mse: 6587186353.3268 - val_loss: 7633879040.0000 - val_mse: 7633879040.0000\n",
            "Epoch 13/32\n",
            "409/409 [==============================] - 1s 2ms/step - loss: 6828669398.7902 - mse: 6828669398.7902 - val_loss: 6779134464.0000 - val_mse: 6779134464.0000\n",
            "Epoch 14/32\n",
            "409/409 [==============================] - 1s 2ms/step - loss: 6408613106.2634 - mse: 6408613106.2634 - val_loss: 5840204800.0000 - val_mse: 5840204800.0000\n",
            "Epoch 15/32\n",
            "409/409 [==============================] - 1s 2ms/step - loss: 6473983235.7463 - mse: 6473983235.7463 - val_loss: 10407128064.0000 - val_mse: 10407128064.0000\n",
            "Epoch 16/32\n",
            "409/409 [==============================] - 1s 2ms/step - loss: 6692427893.3854 - mse: 6692427893.3854 - val_loss: 7131810304.0000 - val_mse: 7131810304.0000\n",
            "Epoch 17/32\n",
            "409/409 [==============================] - 1s 2ms/step - loss: 6547000320.0000 - mse: 6547000320.0000 - val_loss: 14674392064.0000 - val_mse: 14674392064.0000\n",
            "Epoch 18/32\n",
            "409/409 [==============================] - 1s 2ms/step - loss: 7172381932.0195 - mse: 7172381932.0195 - val_loss: 9646009344.0000 - val_mse: 9646009344.0000\n",
            "Epoch 19/32\n",
            "409/409 [==============================] - 1s 2ms/step - loss: 6775968204.8000 - mse: 6775968204.8000 - val_loss: 6626093568.0000 - val_mse: 6626093568.0000\n",
            "Epoch 20/32\n",
            "409/409 [==============================] - 1s 2ms/step - loss: 6848989807.1415 - mse: 6848989807.1415 - val_loss: 6820687360.0000 - val_mse: 6820687360.0000\n",
            "Epoch 21/32\n",
            "409/409 [==============================] - 1s 2ms/step - loss: 6156901688.1951 - mse: 6156901688.1951 - val_loss: 8338601472.0000 - val_mse: 8338601472.0000\n",
            "Epoch 22/32\n",
            "409/409 [==============================] - 1s 2ms/step - loss: 6090696530.4195 - mse: 6090696530.4195 - val_loss: 5723810304.0000 - val_mse: 5723810304.0000\n",
            "Epoch 23/32\n",
            "409/409 [==============================] - 1s 2ms/step - loss: 6071593400.8195 - mse: 6071593400.8195 - val_loss: 6021967360.0000 - val_mse: 6021967360.0000\n",
            "Epoch 24/32\n",
            "409/409 [==============================] - 1s 2ms/step - loss: 5918847476.7610 - mse: 5918847476.7610 - val_loss: 7041527808.0000 - val_mse: 7041527808.0000\n",
            "Epoch 25/32\n",
            "409/409 [==============================] - 1s 2ms/step - loss: 5838110219.2390 - mse: 5838110219.2390 - val_loss: 5913270784.0000 - val_mse: 5913270784.0000\n",
            "Epoch 26/32\n",
            "409/409 [==============================] - 1s 2ms/step - loss: 6196533668.8390 - mse: 6196533668.8390 - val_loss: 5730348032.0000 - val_mse: 5730348032.0000\n",
            "Epoch 27/32\n",
            "409/409 [==============================] - 1s 2ms/step - loss: 6174624797.9707 - mse: 6174624797.9707 - val_loss: 6914893824.0000 - val_mse: 6914893824.0000\n",
            "Epoch 28/32\n",
            "409/409 [==============================] - 1s 2ms/step - loss: 6208584803.9024 - mse: 6208584803.9024 - val_loss: 5933373952.0000 - val_mse: 5933373952.0000\n",
            "Epoch 29/32\n",
            "409/409 [==============================] - 1s 2ms/step - loss: 6325020762.5366 - mse: 6325020762.5366 - val_loss: 5989784064.0000 - val_mse: 5989784064.0000\n",
            "Epoch 30/32\n",
            "409/409 [==============================] - 1s 2ms/step - loss: 6376223483.0049 - mse: 6376223483.0049 - val_loss: 5864749568.0000 - val_mse: 5864749568.0000\n",
            "Epoch 31/32\n",
            "409/409 [==============================] - 1s 2ms/step - loss: 5922453048.1951 - mse: 5922453048.1951 - val_loss: 6012060672.0000 - val_mse: 6012060672.0000\n",
            "Epoch 32/32\n",
            "409/409 [==============================] - 1s 2ms/step - loss: 16598561848.8195 - mse: 16598561848.8195 - val_loss: 13151924224.0000 - val_mse: 13151924224.0000\n"
          ],
          "name": "stdout"
        }
      ]
    },
    {
      "cell_type": "code",
      "metadata": {
        "colab": {
          "base_uri": "https://localhost:8080/",
          "height": 350
        },
        "id": "p0ISpomcrbeK",
        "outputId": "2a39b6fc-06c0-46f8-a046-b06c3dda05b4"
      },
      "source": [
        "def plot_curves(history, metrics):\n",
        "    nrows = 1\n",
        "    ncols = 2\n",
        "    fig = plt.figure(figsize=(10, 5))\n",
        "\n",
        "    for idx, key in enumerate(metrics):  \n",
        "        ax = fig.add_subplot(nrows, ncols, idx+1)\n",
        "        plt.plot(history.history[key])\n",
        "        plt.plot(history.history['val_{}'.format(key)])\n",
        "        plt.title('model {}'.format(key))\n",
        "        plt.ylabel(key)\n",
        "        plt.xlabel('epoch')\n",
        "        plt.legend(['train', 'validation'], loc='upper left'); \n",
        "plot_curves(history, ['loss', 'mse'])"
      ],
      "execution_count": 8,
      "outputs": [
        {
          "output_type": "display_data",
          "data": {
            "image/png": "[encoded data removed]",
            "text/plain": [
              "<Figure size 720x360 with 2 Axes>"
            ]
          },
          "metadata": {
            "tags": [],
            "needs_background": "light"
          }
        }
      ]
    },
    {
      "cell_type": "markdown",
      "metadata": {
        "id": "lqBU1Ue2rbeL"
      },
      "source": [
        "## Model 2 - hard cording the learning rate to .1"
      ]
    },
    {
      "cell_type": "code",
      "metadata": {
        "colab": {
          "base_uri": "https://localhost:8080/"
        },
        "id": "9gQxQgf1rbeL",
        "outputId": "a7a763b4-0d30-4210-d97e-c2f3f331dcb2"
      },
      "source": [
        "# Model create\n",
        "feature_layer = tf.keras.layers.DenseFeatures(feature_columns, dtype='float64')\n",
        "\n",
        "model = tf.keras.Sequential([\n",
        "  feature_layer,\n",
        "  layers.Dense(12, input_dim=8, activation='relu'),\n",
        "  layers.Dense(8, activation='relu'),\n",
        "  layers.Dense(1, activation='linear',  name='median_house_value')\n",
        "])\n",
        "\n",
        "# Model compile\n",
        "# TODO 2b\n",
        "# TODO -- Your code here.\n",
        "opt = keras.optimizers.Adam(learning_rate=.1)\n",
        "model.compile(optimizer=opt,\n",
        "              loss='mse',\n",
        "              metrics=['mse'])\n",
        "# Model Fit\n",
        "history = model.fit(train_ds,\n",
        "                    validation_data=val_ds,\n",
        "                    epochs=32)"
      ],
      "execution_count": 9,
      "outputs": [
        {
          "output_type": "stream",
          "text": [
            "Epoch 1/32\n",
            "WARNING:tensorflow:Layers in a Sequential model should only have a single input tensor, but we receive a <class 'dict'> input: {'longitude': <tf.Tensor 'ExpandDims_3:0' shape=(None, 1) dtype=float64>, 'latitude': <tf.Tensor 'ExpandDims_2:0' shape=(None, 1) dtype=float64>, 'housing_median_age': <tf.Tensor 'ExpandDims_1:0' shape=(None, 1) dtype=float64>, 'total_rooms': <tf.Tensor 'ExpandDims_8:0' shape=(None, 1) dtype=float64>, 'total_bedrooms': <tf.Tensor 'ExpandDims_7:0' shape=(None, 1) dtype=float64>, 'population': <tf.Tensor 'ExpandDims_6:0' shape=(None, 1) dtype=float64>, 'households': <tf.Tensor 'ExpandDims:0' shape=(None, 1) dtype=float64>, 'median_income': <tf.Tensor 'ExpandDims_4:0' shape=(None, 1) dtype=float64>, 'ocean_proximity': <tf.Tensor 'ExpandDims_5:0' shape=(None, 1) dtype=string>}\n",
            "Consider rewriting this model with the Functional API.\n",
            "WARNING:tensorflow:Layers in a Sequential model should only have a single input tensor, but we receive a <class 'dict'> input: {'longitude': <tf.Tensor 'ExpandDims_3:0' shape=(None, 1) dtype=float64>, 'latitude': <tf.Tensor 'ExpandDims_2:0' shape=(None, 1) dtype=float64>, 'housing_median_age': <tf.Tensor 'ExpandDims_1:0' shape=(None, 1) dtype=float64>, 'total_rooms': <tf.Tensor 'ExpandDims_8:0' shape=(None, 1) dtype=float64>, 'total_bedrooms': <tf.Tensor 'ExpandDims_7:0' shape=(None, 1) dtype=float64>, 'population': <tf.Tensor 'ExpandDims_6:0' shape=(None, 1) dtype=float64>, 'households': <tf.Tensor 'ExpandDims:0' shape=(None, 1) dtype=float64>, 'median_income': <tf.Tensor 'ExpandDims_4:0' shape=(None, 1) dtype=float64>, 'ocean_proximity': <tf.Tensor 'ExpandDims_5:0' shape=(None, 1) dtype=string>}\n",
            "Consider rewriting this model with the Functional API.\n",
            "400/409 [============================>.] - ETA: 0s - loss: 20320659491.8400 - mse: 20320659491.8400WARNING:tensorflow:Layers in a Sequential model should only have a single input tensor, but we receive a <class 'dict'> input: {'longitude': <tf.Tensor 'ExpandDims_3:0' shape=(None, 1) dtype=float64>, 'latitude': <tf.Tensor 'ExpandDims_2:0' shape=(None, 1) dtype=float64>, 'housing_median_age': <tf.Tensor 'ExpandDims_1:0' shape=(None, 1) dtype=float64>, 'total_rooms': <tf.Tensor 'ExpandDims_8:0' shape=(None, 1) dtype=float64>, 'total_bedrooms': <tf.Tensor 'ExpandDims_7:0' shape=(None, 1) dtype=float64>, 'population': <tf.Tensor 'ExpandDims_6:0' shape=(None, 1) dtype=float64>, 'households': <tf.Tensor 'ExpandDims:0' shape=(None, 1) dtype=float64>, 'median_income': <tf.Tensor 'ExpandDims_4:0' shape=(None, 1) dtype=float64>, 'ocean_proximity': <tf.Tensor 'ExpandDims_5:0' shape=(None, 1) dtype=string>}\n",
            "Consider rewriting this model with the Functional API.\n",
            "409/409 [==============================] - 2s 3ms/step - loss: 20168883172.5268 - mse: 20168883172.5268 - val_loss: 12411573248.0000 - val_mse: 12411573248.0000\n",
            "Epoch 2/32\n",
            "409/409 [==============================] - 1s 2ms/step - loss: 10511779967.3756 - mse: 10511779967.3756 - val_loss: 9407423488.0000 - val_mse: 9407423488.0000\n",
            "Epoch 3/32\n",
            "409/409 [==============================] - 1s 2ms/step - loss: 8986592498.2634 - mse: 8986592498.2634 - val_loss: 8930862080.0000 - val_mse: 8930862080.0000\n",
            "Epoch 4/32\n",
            "409/409 [==============================] - 1s 2ms/step - loss: 8131791961.9122 - mse: 8131791961.9122 - val_loss: 8363871232.0000 - val_mse: 8363871232.0000\n",
            "Epoch 5/32\n",
            "409/409 [==============================] - 1s 2ms/step - loss: 7528692834.6537 - mse: 7528692834.6537 - val_loss: 10302796800.0000 - val_mse: 10302796800.0000\n",
            "Epoch 6/32\n",
            "409/409 [==============================] - 1s 2ms/step - loss: 9425080306.2634 - mse: 9425080306.2634 - val_loss: 7314069504.0000 - val_mse: 7314069504.0000\n",
            "Epoch 7/32\n",
            "409/409 [==============================] - 1s 2ms/step - loss: 7005446499.9024 - mse: 7005446499.9024 - val_loss: 8520912384.0000 - val_mse: 8520912384.0000\n",
            "Epoch 8/32\n",
            "409/409 [==============================] - 1s 2ms/step - loss: 6961359187.6683 - mse: 6961359187.6683 - val_loss: 6669974016.0000 - val_mse: 6669974016.0000\n",
            "Epoch 9/32\n",
            "409/409 [==============================] - 1s 2ms/step - loss: 6860086401.8732 - mse: 6860086401.8732 - val_loss: 7061197824.0000 - val_mse: 7061197824.0000\n",
            "Epoch 10/32\n",
            "409/409 [==============================] - 1s 2ms/step - loss: 7196020147.8244 - mse: 7196020147.8244 - val_loss: 10538167296.0000 - val_mse: 10538167296.0000\n",
            "Epoch 11/32\n",
            "409/409 [==============================] - 1s 2ms/step - loss: 6749631607.8829 - mse: 6749631607.8829 - val_loss: 6431980032.0000 - val_mse: 6431980032.0000\n",
            "Epoch 12/32\n",
            "409/409 [==============================] - 1s 2ms/step - loss: 6325236016.7024 - mse: 6325236016.7024 - val_loss: 7241623552.0000 - val_mse: 7241623552.0000\n",
            "Epoch 13/32\n",
            "409/409 [==============================] - 1s 2ms/step - loss: 6204225487.2976 - mse: 6204225487.2976 - val_loss: 5972452864.0000 - val_mse: 5972452864.0000\n",
            "Epoch 14/32\n",
            "409/409 [==============================] - 1s 2ms/step - loss: 5912260462.5171 - mse: 5912260462.5171 - val_loss: 8045637120.0000 - val_mse: 8045637120.0000\n",
            "Epoch 15/32\n",
            "409/409 [==============================] - 1s 2ms/step - loss: 6522820275.8244 - mse: 6522820275.8244 - val_loss: 10906967040.0000 - val_mse: 10906967040.0000\n",
            "Epoch 16/32\n",
            "409/409 [==============================] - 1s 2ms/step - loss: 6843831284.7610 - mse: 6843831284.7610 - val_loss: 6284910592.0000 - val_mse: 6284910592.0000\n",
            "Epoch 17/32\n",
            "409/409 [==============================] - 1s 2ms/step - loss: 5935220282.6927 - mse: 5935220282.6927 - val_loss: 5898580480.0000 - val_mse: 5898580480.0000\n",
            "Epoch 18/32\n",
            "409/409 [==============================] - 1s 2ms/step - loss: 5882838380.6439 - mse: 5882838380.6439 - val_loss: 5541792256.0000 - val_mse: 5541792256.0000\n",
            "Epoch 19/32\n",
            "409/409 [==============================] - 1s 2ms/step - loss: 5522934877.6585 - mse: 5522934877.6585 - val_loss: 5349595648.0000 - val_mse: 5349595648.0000\n",
            "Epoch 20/32\n",
            "409/409 [==============================] - 1s 2ms/step - loss: 5944636798.1268 - mse: 5944636798.1268 - val_loss: 5279514624.0000 - val_mse: 5279514624.0000\n",
            "Epoch 21/32\n",
            "409/409 [==============================] - 1s 2ms/step - loss: 5171774252.9561 - mse: 5171774252.9561 - val_loss: 5270970880.0000 - val_mse: 5270970880.0000\n",
            "Epoch 22/32\n",
            "409/409 [==============================] - 1s 2ms/step - loss: 5329921805.1122 - mse: 5329921805.1122 - val_loss: 8017299968.0000 - val_mse: 8017299968.0000\n",
            "Epoch 23/32\n",
            "409/409 [==============================] - 1s 2ms/step - loss: 5774944606.9073 - mse: 5774944606.9073 - val_loss: 6026927616.0000 - val_mse: 6026927616.0000\n",
            "Epoch 24/32\n",
            "409/409 [==============================] - 1s 2ms/step - loss: 5685367758.0488 - mse: 5685367758.0488 - val_loss: 5281323520.0000 - val_mse: 5281323520.0000\n",
            "Epoch 25/32\n",
            "409/409 [==============================] - 1s 2ms/step - loss: 5542076298.6146 - mse: 5542076298.6146 - val_loss: 5278091264.0000 - val_mse: 5278091264.0000\n",
            "Epoch 26/32\n",
            "409/409 [==============================] - 1s 2ms/step - loss: 5388063177.0537 - mse: 5388063177.0537 - val_loss: 5889729024.0000 - val_mse: 5889729024.0000\n",
            "Epoch 27/32\n",
            "409/409 [==============================] - 1s 2ms/step - loss: 5061163546.2244 - mse: 5061163546.2244 - val_loss: 5640147968.0000 - val_mse: 5640147968.0000\n",
            "Epoch 28/32\n",
            "409/409 [==============================] - 1s 2ms/step - loss: 5202472602.8488 - mse: 5202472602.8488 - val_loss: 5133854208.0000 - val_mse: 5133854208.0000\n",
            "Epoch 29/32\n",
            "409/409 [==============================] - 1s 2ms/step - loss: 5073893818.0683 - mse: 5073893818.0683 - val_loss: 5476573184.0000 - val_mse: 5476573184.0000\n",
            "Epoch 30/32\n",
            "409/409 [==============================] - 1s 2ms/step - loss: 5589111852.9561 - mse: 5589111852.9561 - val_loss: 5226053120.0000 - val_mse: 5226053120.0000\n",
            "Epoch 31/32\n",
            "409/409 [==============================] - 1s 2ms/step - loss: 5185384003.4341 - mse: 5185384003.4341 - val_loss: 6063863808.0000 - val_mse: 6063863808.0000\n",
            "Epoch 32/32\n",
            "409/409 [==============================] - 1s 2ms/step - loss: 5574823716.2146 - mse: 5574823716.2146 - val_loss: 5553135616.0000 - val_mse: 5553135616.0000\n"
          ],
          "name": "stdout"
        }
      ]
    },
    {
      "cell_type": "code",
      "metadata": {
        "colab": {
          "base_uri": "https://localhost:8080/",
          "height": 350
        },
        "id": "5bvllBPhrbeM",
        "outputId": "f9d0bb1a-fdf6-4f6d-8d53-2d80c9812059"
      },
      "source": [
        "def plot_curves(history, metrics):\n",
        "    nrows = 1\n",
        "    ncols = 2\n",
        "    fig = plt.figure(figsize=(10, 5))\n",
        "\n",
        "    for idx, key in enumerate(metrics):  \n",
        "        ax = fig.add_subplot(nrows, ncols, idx+1)\n",
        "        plt.plot(history.history[key])\n",
        "        plt.plot(history.history['val_{}'.format(key)])\n",
        "        plt.title('model {}'.format(key))\n",
        "        plt.ylabel(key)\n",
        "        plt.xlabel('epoch')\n",
        "        plt.legend(['train', 'validation'], loc='upper left');  \n",
        "plot_curves(history, ['loss', 'mse'])"
      ],
      "execution_count": 10,
      "outputs": [
        {
          "output_type": "display_data",
          "data": {
            "image/png": "[encoded data removed]",
            "text/plain": [
              "<Figure size 720x360 with 2 Axes>"
            ]
          },
          "metadata": {
            "tags": [],
            "needs_background": "light"
          }
        }
      ]
    },
    {
      "cell_type": "markdown",
      "metadata": {
        "id": "3TIq6fmorbeM"
      },
      "source": [
        "## Model 3 - hard cording the learning rate to .01 "
      ]
    },
    {
      "cell_type": "code",
      "metadata": {
        "colab": {
          "base_uri": "https://localhost:8080/"
        },
        "id": "Iq_4sv1ArbeM",
        "outputId": "eb86b01e-187b-4dca-f992-365131c1c6d4"
      },
      "source": [
        "# Model create\n",
        "\n",
        "feature_layer = tf.keras.layers.DenseFeatures(feature_columns, dtype='float64')\n",
        "\n",
        "model = tf.keras.Sequential([\n",
        "  feature_layer,\n",
        "  layers.Dense(12, input_dim=8, activation='relu'),\n",
        "  layers.Dense(8, activation='relu'),\n",
        "  layers.Dense(1, activation='linear',  name='median_house_value')\n",
        "])\n",
        "\n",
        "# Model compile\n",
        "# TODO 2c\n",
        "# TODO -- Your code here.\n",
        "opt = keras.optimizers.Adam(learning_rate=.01)\n",
        "model.compile(optimizer=opt,\n",
        "              loss='mse',\n",
        "              metrics=['mse'])\n",
        "# Model Fit\n",
        "history = model.fit(train_ds,\n",
        "                    validation_data=val_ds,\n",
        "                    epochs=32)  # Increase Epochs to 32"
      ],
      "execution_count": 11,
      "outputs": [
        {
          "output_type": "stream",
          "text": [
            "Epoch 1/32\n",
            "WARNING:tensorflow:Layers in a Sequential model should only have a single input tensor, but we receive a <class 'dict'> input: {'longitude': <tf.Tensor 'ExpandDims_3:0' shape=(None, 1) dtype=float64>, 'latitude': <tf.Tensor 'ExpandDims_2:0' shape=(None, 1) dtype=float64>, 'housing_median_age': <tf.Tensor 'ExpandDims_1:0' shape=(None, 1) dtype=float64>, 'total_rooms': <tf.Tensor 'ExpandDims_8:0' shape=(None, 1) dtype=float64>, 'total_bedrooms': <tf.Tensor 'ExpandDims_7:0' shape=(None, 1) dtype=float64>, 'population': <tf.Tensor 'ExpandDims_6:0' shape=(None, 1) dtype=float64>, 'households': <tf.Tensor 'ExpandDims:0' shape=(None, 1) dtype=float64>, 'median_income': <tf.Tensor 'ExpandDims_4:0' shape=(None, 1) dtype=float64>, 'ocean_proximity': <tf.Tensor 'ExpandDims_5:0' shape=(None, 1) dtype=string>}\n",
            "Consider rewriting this model with the Functional API.\n",
            "WARNING:tensorflow:Layers in a Sequential model should only have a single input tensor, but we receive a <class 'dict'> input: {'longitude': <tf.Tensor 'ExpandDims_3:0' shape=(None, 1) dtype=float64>, 'latitude': <tf.Tensor 'ExpandDims_2:0' shape=(None, 1) dtype=float64>, 'housing_median_age': <tf.Tensor 'ExpandDims_1:0' shape=(None, 1) dtype=float64>, 'total_rooms': <tf.Tensor 'ExpandDims_8:0' shape=(None, 1) dtype=float64>, 'total_bedrooms': <tf.Tensor 'ExpandDims_7:0' shape=(None, 1) dtype=float64>, 'population': <tf.Tensor 'ExpandDims_6:0' shape=(None, 1) dtype=float64>, 'households': <tf.Tensor 'ExpandDims:0' shape=(None, 1) dtype=float64>, 'median_income': <tf.Tensor 'ExpandDims_4:0' shape=(None, 1) dtype=float64>, 'ocean_proximity': <tf.Tensor 'ExpandDims_5:0' shape=(None, 1) dtype=string>}\n",
            "Consider rewriting this model with the Functional API.\n",
            "406/409 [============================>.] - ETA: 0s - loss: 38654037123.1527 - mse: 38654037123.1527WARNING:tensorflow:Layers in a Sequential model should only have a single input tensor, but we receive a <class 'dict'> input: {'longitude': <tf.Tensor 'ExpandDims_3:0' shape=(None, 1) dtype=float64>, 'latitude': <tf.Tensor 'ExpandDims_2:0' shape=(None, 1) dtype=float64>, 'housing_median_age': <tf.Tensor 'ExpandDims_1:0' shape=(None, 1) dtype=float64>, 'total_rooms': <tf.Tensor 'ExpandDims_8:0' shape=(None, 1) dtype=float64>, 'total_bedrooms': <tf.Tensor 'ExpandDims_7:0' shape=(None, 1) dtype=float64>, 'population': <tf.Tensor 'ExpandDims_6:0' shape=(None, 1) dtype=float64>, 'households': <tf.Tensor 'ExpandDims:0' shape=(None, 1) dtype=float64>, 'median_income': <tf.Tensor 'ExpandDims_4:0' shape=(None, 1) dtype=float64>, 'ocean_proximity': <tf.Tensor 'ExpandDims_5:0' shape=(None, 1) dtype=string>}\n",
            "Consider rewriting this model with the Functional API.\n",
            "409/409 [==============================] - 2s 3ms/step - loss: 38566354149.7756 - mse: 38566354149.7756 - val_loss: 20911747072.0000 - val_mse: 20911747072.0000\n",
            "Epoch 2/32\n",
            "409/409 [==============================] - 1s 2ms/step - loss: 18206279665.0146 - mse: 18206279665.0146 - val_loss: 11966349312.0000 - val_mse: 11966349312.0000\n",
            "Epoch 3/32\n",
            "409/409 [==============================] - 1s 2ms/step - loss: 11207801181.6585 - mse: 11207801181.6585 - val_loss: 11242927104.0000 - val_mse: 11242927104.0000\n",
            "Epoch 4/32\n",
            "409/409 [==============================] - 1s 2ms/step - loss: 10651467341.4244 - mse: 10651467341.4244 - val_loss: 11156497408.0000 - val_mse: 11156497408.0000\n",
            "Epoch 5/32\n",
            "409/409 [==============================] - 1s 2ms/step - loss: 10264088408.6634 - mse: 10264088408.6634 - val_loss: 10736538624.0000 - val_mse: 10736538624.0000\n",
            "Epoch 6/32\n",
            "409/409 [==============================] - 1s 2ms/step - loss: 10242761613.1122 - mse: 10242761613.1122 - val_loss: 10557165568.0000 - val_mse: 10557165568.0000\n",
            "Epoch 7/32\n",
            "409/409 [==============================] - 1s 2ms/step - loss: 9550918186.4585 - mse: 9550918186.4585 - val_loss: 10181984256.0000 - val_mse: 10181984256.0000\n",
            "Epoch 8/32\n",
            "409/409 [==============================] - 1s 2ms/step - loss: 9724272095.5317 - mse: 9724272095.5317 - val_loss: 10197978112.0000 - val_mse: 10197978112.0000\n",
            "Epoch 9/32\n",
            "409/409 [==============================] - 1s 2ms/step - loss: 9338350721.8732 - mse: 9338350721.8732 - val_loss: 9527892992.0000 - val_mse: 9527892992.0000\n",
            "Epoch 10/32\n",
            "409/409 [==============================] - 1s 2ms/step - loss: 8714634160.0780 - mse: 8714634160.0780 - val_loss: 9101455360.0000 - val_mse: 9101455360.0000\n",
            "Epoch 11/32\n",
            "409/409 [==============================] - 1s 2ms/step - loss: 8761275182.2049 - mse: 8761275182.2049 - val_loss: 8980174848.0000 - val_mse: 8980174848.0000\n",
            "Epoch 12/32\n",
            "409/409 [==============================] - 1s 2ms/step - loss: 8184275504.7024 - mse: 8184275504.7024 - val_loss: 8456052224.0000 - val_mse: 8456052224.0000\n",
            "Epoch 13/32\n",
            "409/409 [==============================] - 1s 2ms/step - loss: 8064048038.0878 - mse: 8064048038.0878 - val_loss: 8459634688.0000 - val_mse: 8459634688.0000\n",
            "Epoch 14/32\n",
            "409/409 [==============================] - 1s 2ms/step - loss: 7679720948.7610 - mse: 7679720948.7610 - val_loss: 7930087936.0000 - val_mse: 7930087936.0000\n",
            "Epoch 15/32\n",
            "409/409 [==============================] - 1s 2ms/step - loss: 7653121060.2146 - mse: 7653121060.2146 - val_loss: 7833980416.0000 - val_mse: 7833980416.0000\n",
            "Epoch 16/32\n",
            "409/409 [==============================] - 1s 2ms/step - loss: 7163007777.7171 - mse: 7163007777.7171 - val_loss: 7768078848.0000 - val_mse: 7768078848.0000\n",
            "Epoch 17/32\n",
            "409/409 [==============================] - 1s 2ms/step - loss: 7120700699.4732 - mse: 7120700699.4732 - val_loss: 7314817024.0000 - val_mse: 7314817024.0000\n",
            "Epoch 18/32\n",
            "409/409 [==============================] - 1s 2ms/step - loss: 6877137703.9610 - mse: 6877137703.9610 - val_loss: 7008817152.0000 - val_mse: 7008817152.0000\n",
            "Epoch 19/32\n",
            "409/409 [==============================] - 1s 2ms/step - loss: 6546755269.3073 - mse: 6546755269.3073 - val_loss: 6764068864.0000 - val_mse: 6764068864.0000\n",
            "Epoch 20/32\n",
            "409/409 [==============================] - 1s 2ms/step - loss: 6154936878.2049 - mse: 6154936878.2049 - val_loss: 6575720960.0000 - val_mse: 6575720960.0000\n",
            "Epoch 21/32\n",
            "409/409 [==============================] - 1s 2ms/step - loss: 6313651247.4537 - mse: 6313651247.4537 - val_loss: 7141468160.0000 - val_mse: 7141468160.0000\n",
            "Epoch 22/32\n",
            "409/409 [==============================] - 1s 2ms/step - loss: 6165307822.8293 - mse: 6165307822.8293 - val_loss: 6296696832.0000 - val_mse: 6296696832.0000\n",
            "Epoch 23/32\n",
            "409/409 [==============================] - 1s 2ms/step - loss: 5827160753.3268 - mse: 5827160753.3268 - val_loss: 6352952832.0000 - val_mse: 6352952832.0000\n",
            "Epoch 24/32\n",
            "409/409 [==============================] - 1s 2ms/step - loss: 5781610528.4683 - mse: 5781610528.4683 - val_loss: 6132188672.0000 - val_mse: 6132188672.0000\n",
            "Epoch 25/32\n",
            "409/409 [==============================] - 1s 2ms/step - loss: 5668295143.0244 - mse: 5668295143.0244 - val_loss: 5911602176.0000 - val_mse: 5911602176.0000\n",
            "Epoch 26/32\n",
            "409/409 [==============================] - 1s 2ms/step - loss: 5542424409.9122 - mse: 5542424409.9122 - val_loss: 6282499584.0000 - val_mse: 6282499584.0000\n",
            "Epoch 27/32\n",
            "409/409 [==============================] - 1s 2ms/step - loss: 5353513911.5707 - mse: 5353513911.5707 - val_loss: 5989959168.0000 - val_mse: 5989959168.0000\n",
            "Epoch 28/32\n",
            "409/409 [==============================] - 1s 2ms/step - loss: 5185533454.3610 - mse: 5185533454.3610 - val_loss: 6330467328.0000 - val_mse: 6330467328.0000\n",
            "Epoch 29/32\n",
            "409/409 [==============================] - 1s 2ms/step - loss: 5328184498.5756 - mse: 5328184498.5756 - val_loss: 5864658432.0000 - val_mse: 5864658432.0000\n",
            "Epoch 30/32\n",
            "409/409 [==============================] - 1s 2ms/step - loss: 5426514053.6195 - mse: 5426514053.6195 - val_loss: 5675347456.0000 - val_mse: 5675347456.0000\n",
            "Epoch 31/32\n",
            "409/409 [==============================] - 1s 2ms/step - loss: 5398854978.1854 - mse: 5398854978.1854 - val_loss: 6484331008.0000 - val_mse: 6484331008.0000\n",
            "Epoch 32/32\n",
            "409/409 [==============================] - 1s 2ms/step - loss: 5275153454.2049 - mse: 5275153454.2049 - val_loss: 5445807104.0000 - val_mse: 5445807104.0000\n"
          ],
          "name": "stdout"
        }
      ]
    },
    {
      "cell_type": "code",
      "metadata": {
        "colab": {
          "base_uri": "https://localhost:8080/",
          "height": 350
        },
        "id": "ElFj6X9TrbeN",
        "outputId": "fe14c71d-a847-4cf8-e139-ded9d270c694"
      },
      "source": [
        "def plot_curves(history, metrics):\n",
        "    nrows = 1\n",
        "    ncols = 2\n",
        "    fig = plt.figure(figsize=(10, 5))\n",
        "\n",
        "    for idx, key in enumerate(metrics):  \n",
        "        ax = fig.add_subplot(nrows, ncols, idx+1)\n",
        "        plt.plot(history.history[key])\n",
        "        plt.plot(history.history['val_{}'.format(key)])\n",
        "        plt.title('model {}'.format(key))\n",
        "        plt.ylabel(key)\n",
        "        plt.xlabel('epoch')\n",
        "        plt.legend(['train', 'validation'], loc='upper left');  \n",
        "plot_curves(history, ['loss', 'mse'])"
      ],
      "execution_count": 12,
      "outputs": [
        {
          "output_type": "display_data",
          "data": {
            "image/png": "[encoded data removed]",
            "text/plain": [
              "<Figure size 720x360 with 2 Axes>"
            ]
          },
          "metadata": {
            "tags": [],
            "needs_background": "light"
          }
        }
      ]
    },
    {
      "cell_type": "markdown",
      "metadata": {
        "id": "z3liWyQBrbeN"
      },
      "source": [
        "## Model 4 - hard cording the learning rate to .001 "
      ]
    },
    {
      "cell_type": "code",
      "metadata": {
        "colab": {
          "base_uri": "https://localhost:8080/"
        },
        "id": "vluctwB_rbeO",
        "outputId": "b413a348-1cb2-46d4-cd16-a3524c4419a8"
      },
      "source": [
        "# Model create\n",
        "\n",
        "feature_layer = tf.keras.layers.DenseFeatures(feature_columns, dtype='float64')\n",
        "\n",
        "model = tf.keras.Sequential([\n",
        "  feature_layer,\n",
        "  layers.Dense(12, input_dim=8, activation='relu'),\n",
        "  layers.Dense(8, activation='relu'),\n",
        "  layers.Dense(1, activation='linear',  name='median_house_value')\n",
        "])\n",
        "\n",
        "# Model compile\n",
        "# TODO 2d\n",
        "# TODO -- Your code here.\n",
        "opt = keras.optimizers.Adam(learning_rate=.001)\n",
        "model.compile(optimizer=opt,\n",
        "              loss='mse',\n",
        "              metrics=['mse'])\n",
        "# Model Fit\n",
        "history = model.fit(train_ds,\n",
        "                    validation_data=val_ds,\n",
        "                    epochs=32)  # Increase Epochs to 32"
      ],
      "execution_count": 13,
      "outputs": [
        {
          "output_type": "stream",
          "text": [
            "Epoch 1/32\n",
            "WARNING:tensorflow:Layers in a Sequential model should only have a single input tensor, but we receive a <class 'dict'> input: {'longitude': <tf.Tensor 'ExpandDims_3:0' shape=(None, 1) dtype=float64>, 'latitude': <tf.Tensor 'ExpandDims_2:0' shape=(None, 1) dtype=float64>, 'housing_median_age': <tf.Tensor 'ExpandDims_1:0' shape=(None, 1) dtype=float64>, 'total_rooms': <tf.Tensor 'ExpandDims_8:0' shape=(None, 1) dtype=float64>, 'total_bedrooms': <tf.Tensor 'ExpandDims_7:0' shape=(None, 1) dtype=float64>, 'population': <tf.Tensor 'ExpandDims_6:0' shape=(None, 1) dtype=float64>, 'households': <tf.Tensor 'ExpandDims:0' shape=(None, 1) dtype=float64>, 'median_income': <tf.Tensor 'ExpandDims_4:0' shape=(None, 1) dtype=float64>, 'ocean_proximity': <tf.Tensor 'ExpandDims_5:0' shape=(None, 1) dtype=string>}\n",
            "Consider rewriting this model with the Functional API.\n",
            "WARNING:tensorflow:Layers in a Sequential model should only have a single input tensor, but we receive a <class 'dict'> input: {'longitude': <tf.Tensor 'ExpandDims_3:0' shape=(None, 1) dtype=float64>, 'latitude': <tf.Tensor 'ExpandDims_2:0' shape=(None, 1) dtype=float64>, 'housing_median_age': <tf.Tensor 'ExpandDims_1:0' shape=(None, 1) dtype=float64>, 'total_rooms': <tf.Tensor 'ExpandDims_8:0' shape=(None, 1) dtype=float64>, 'total_bedrooms': <tf.Tensor 'ExpandDims_7:0' shape=(None, 1) dtype=float64>, 'population': <tf.Tensor 'ExpandDims_6:0' shape=(None, 1) dtype=float64>, 'households': <tf.Tensor 'ExpandDims:0' shape=(None, 1) dtype=float64>, 'median_income': <tf.Tensor 'ExpandDims_4:0' shape=(None, 1) dtype=float64>, 'ocean_proximity': <tf.Tensor 'ExpandDims_5:0' shape=(None, 1) dtype=string>}\n",
            "Consider rewriting this model with the Functional API.\n",
            "380/409 [==========================>...] - ETA: 0s - loss: 53426510115.0316 - mse: 53426510115.0316WARNING:tensorflow:Layers in a Sequential model should only have a single input tensor, but we receive a <class 'dict'> input: {'longitude': <tf.Tensor 'ExpandDims_3:0' shape=(None, 1) dtype=float64>, 'latitude': <tf.Tensor 'ExpandDims_2:0' shape=(None, 1) dtype=float64>, 'housing_median_age': <tf.Tensor 'ExpandDims_1:0' shape=(None, 1) dtype=float64>, 'total_rooms': <tf.Tensor 'ExpandDims_8:0' shape=(None, 1) dtype=float64>, 'total_bedrooms': <tf.Tensor 'ExpandDims_7:0' shape=(None, 1) dtype=float64>, 'population': <tf.Tensor 'ExpandDims_6:0' shape=(None, 1) dtype=float64>, 'households': <tf.Tensor 'ExpandDims:0' shape=(None, 1) dtype=float64>, 'median_income': <tf.Tensor 'ExpandDims_4:0' shape=(None, 1) dtype=float64>, 'ocean_proximity': <tf.Tensor 'ExpandDims_5:0' shape=(None, 1) dtype=string>}\n",
            "Consider rewriting this model with the Functional API.\n",
            "409/409 [==============================] - 2s 3ms/step - loss: 53063976330.6146 - mse: 53063976330.6146 - val_loss: 31809349632.0000 - val_mse: 31809349632.0000\n",
            "Epoch 2/32\n",
            "409/409 [==============================] - 1s 2ms/step - loss: 28381001912.8195 - mse: 28381001912.8195 - val_loss: 26267535360.0000 - val_mse: 26267535360.0000\n",
            "Epoch 3/32\n",
            "409/409 [==============================] - 1s 2ms/step - loss: 26850437504.6244 - mse: 26850437504.6244 - val_loss: 25852422144.0000 - val_mse: 25852422144.0000\n",
            "Epoch 4/32\n",
            "409/409 [==============================] - 1s 2ms/step - loss: 26123782049.0927 - mse: 26123782049.0927 - val_loss: 25298700288.0000 - val_mse: 25298700288.0000\n",
            "Epoch 5/32\n",
            "409/409 [==============================] - 1s 2ms/step - loss: 26352555907.1220 - mse: 26352555907.1220 - val_loss: 24890646528.0000 - val_mse: 24890646528.0000\n",
            "Epoch 6/32\n",
            "409/409 [==============================] - 1s 2ms/step - loss: 24793882718.9073 - mse: 24793882718.9073 - val_loss: 24128370688.0000 - val_mse: 24128370688.0000\n",
            "Epoch 7/32\n",
            "409/409 [==============================] - 1s 2ms/step - loss: 23462002338.3415 - mse: 23462002338.3415 - val_loss: 23344406528.0000 - val_mse: 23344406528.0000\n",
            "Epoch 8/32\n",
            "409/409 [==============================] - 1s 2ms/step - loss: 23549385168.5463 - mse: 23549385168.5463 - val_loss: 22471698432.0000 - val_mse: 22471698432.0000\n",
            "Epoch 9/32\n",
            "409/409 [==============================] - 1s 2ms/step - loss: 22795515889.0146 - mse: 22795515889.0146 - val_loss: 21540634624.0000 - val_mse: 21540634624.0000\n",
            "Epoch 10/32\n",
            "409/409 [==============================] - 1s 2ms/step - loss: 21625945972.1366 - mse: 21625945972.1366 - val_loss: 20472348672.0000 - val_mse: 20472348672.0000\n",
            "Epoch 11/32\n",
            "409/409 [==============================] - 1s 2ms/step - loss: 20948479920.0780 - mse: 20948479920.0780 - val_loss: 19090880512.0000 - val_mse: 19090880512.0000\n",
            "Epoch 12/32\n",
            "409/409 [==============================] - 1s 2ms/step - loss: 18571055748.3707 - mse: 18571055748.3707 - val_loss: 17644384256.0000 - val_mse: 17644384256.0000\n",
            "Epoch 13/32\n",
            "409/409 [==============================] - 1s 2ms/step - loss: 17180224054.9463 - mse: 17180224054.9463 - val_loss: 16332941312.0000 - val_mse: 16332941312.0000\n",
            "Epoch 14/32\n",
            "409/409 [==============================] - 1s 2ms/step - loss: 15803442368.3122 - mse: 15803442368.3122 - val_loss: 14632197120.0000 - val_mse: 14632197120.0000\n",
            "Epoch 15/32\n",
            "409/409 [==============================] - 1s 2ms/step - loss: 14599555721.3659 - mse: 14599555721.3659 - val_loss: 13342730240.0000 - val_mse: 13342730240.0000\n",
            "Epoch 16/32\n",
            "409/409 [==============================] - 1s 2ms/step - loss: 13169466963.6683 - mse: 13169466963.6683 - val_loss: 12399127552.0000 - val_mse: 12399127552.0000\n",
            "Epoch 17/32\n",
            "409/409 [==============================] - 1s 2ms/step - loss: 11959124227.7463 - mse: 11959124227.7463 - val_loss: 11793543168.0000 - val_mse: 11793543168.0000\n",
            "Epoch 18/32\n",
            "409/409 [==============================] - 1s 2ms/step - loss: 11744633194.1463 - mse: 11744633194.1463 - val_loss: 11531663360.0000 - val_mse: 11531663360.0000\n",
            "Epoch 19/32\n",
            "409/409 [==============================] - 1s 2ms/step - loss: 11116880391.4927 - mse: 11116880391.4927 - val_loss: 11500895232.0000 - val_mse: 11500895232.0000\n",
            "Epoch 20/32\n",
            "409/409 [==============================] - 1s 2ms/step - loss: 11079759914.4585 - mse: 11079759914.4585 - val_loss: 11399913472.0000 - val_mse: 11399913472.0000\n",
            "Epoch 21/32\n",
            "409/409 [==============================] - 1s 2ms/step - loss: 11062773005.7366 - mse: 11062773005.7366 - val_loss: 11471140864.0000 - val_mse: 11471140864.0000\n",
            "Epoch 22/32\n",
            "409/409 [==============================] - 1s 2ms/step - loss: 10971082971.7854 - mse: 10971082971.7854 - val_loss: 11453842432.0000 - val_mse: 11453842432.0000\n",
            "Epoch 23/32\n",
            "409/409 [==============================] - 1s 2ms/step - loss: 10908239908.2146 - mse: 10908239908.2146 - val_loss: 11343705088.0000 - val_mse: 11343705088.0000\n",
            "Epoch 24/32\n",
            "409/409 [==============================] - 1s 2ms/step - loss: 11059532929.8732 - mse: 11059532929.8732 - val_loss: 11292184576.0000 - val_mse: 11292184576.0000\n",
            "Epoch 25/32\n",
            "409/409 [==============================] - 1s 2ms/step - loss: 11192271607.2585 - mse: 11192271607.2585 - val_loss: 11248317440.0000 - val_mse: 11248317440.0000\n",
            "Epoch 26/32\n",
            "409/409 [==============================] - 1s 2ms/step - loss: 10826787994.8488 - mse: 10826787994.8488 - val_loss: 11323238400.0000 - val_mse: 11323238400.0000\n",
            "Epoch 27/32\n",
            "409/409 [==============================] - 1s 2ms/step - loss: 10848397249.5610 - mse: 10848397249.5610 - val_loss: 11204291584.0000 - val_mse: 11204291584.0000\n",
            "Epoch 28/32\n",
            "409/409 [==============================] - 1s 2ms/step - loss: 10648978688.0000 - mse: 10648978688.0000 - val_loss: 11230773248.0000 - val_mse: 11230773248.0000\n",
            "Epoch 29/32\n",
            "409/409 [==============================] - 1s 2ms/step - loss: 10846218329.9122 - mse: 10846218329.9122 - val_loss: 11128595456.0000 - val_mse: 11128595456.0000\n",
            "Epoch 30/32\n",
            "409/409 [==============================] - 1s 2ms/step - loss: 10749696129.8732 - mse: 10749696129.8732 - val_loss: 11083464704.0000 - val_mse: 11083464704.0000\n",
            "Epoch 31/32\n",
            "409/409 [==============================] - 1s 2ms/step - loss: 11022020398.2049 - mse: 11022020398.2049 - val_loss: 11036959744.0000 - val_mse: 11036959744.0000\n",
            "Epoch 32/32\n",
            "409/409 [==============================] - 1s 2ms/step - loss: 10789687076.2146 - mse: 10789687076.2146 - val_loss: 10997859328.0000 - val_mse: 10997859328.0000\n"
          ],
          "name": "stdout"
        }
      ]
    },
    {
      "cell_type": "markdown",
      "metadata": {
        "id": "vJff7x8urbeO"
      },
      "source": [
        "**Lab Task #3:** Visualizing the loss curves"
      ]
    },
    {
      "cell_type": "code",
      "metadata": {
        "colab": {
          "base_uri": "https://localhost:8080/",
          "height": 350
        },
        "id": "y3d11qbOrbeO",
        "outputId": "1a1281ee-90a2-4b08-efb6-dd18c166a7a4"
      },
      "source": [
        "# TODO 3\n",
        "# TODO -- Your code here.\n",
        "def plot_curves(history, metrics):\n",
        "    nrows = 1\n",
        "    ncols = 2\n",
        "# Using the `figure()` method we can create a new figure or activate an existing figure.\n",
        "    fig = plt.figure(figsize=(10, 5))\n",
        "\n",
        "    for idx, key in enumerate(metrics):  \n",
        "# Using the `add_subplot()` method we can add a subplot to the current figure.\n",
        "        ax = fig.add_subplot(nrows, ncols, idx+1)\n",
        "# The `plot()` is a versatile function and will take an arbitrary number of arguments. \n",
        "        plt.plot(history.history[key])\n",
        "        plt.plot(history.history['val_{}'.format(key)])\n",
        "        plt.title('model {}'.format(key))\n",
        "        plt.ylabel(key)\n",
        "        plt.xlabel('epoch')\n",
        "# Using the `legend()` method we can place a legend on the axes.\n",
        "        plt.legend(['train', 'validation'], loc='upper left');  \n",
        "    \n",
        "plot_curves(history, ['loss', 'mse'])"
      ],
      "execution_count": 14,
      "outputs": [
        {
          "output_type": "display_data",
          "data": {
            "image/png": "[encoded data removed]",
            "text/plain": [
              "<Figure size 720x360 with 2 Axes>"
            ]
          },
          "metadata": {
            "tags": [],
            "needs_background": "light"
          }
        }
      ]
    },
    {
      "cell_type": "markdown",
      "metadata": {
        "id": "uq7Mt0MQrbeP"
      },
      "source": [
        "Copyright 2020 Google Inc.\n",
        "Licensed under the Apache License, Version 2.0 (the \"License\"); you may not use this file except in compliance with the License. You may obtain a copy of the License at\n",
        "http://www.apache.org/licenses/LICENSE-2.0\n",
        "Unless required by applicable law or agreed to in writing, software distributed under the License is distributed on an \"AS IS\" BASIS, WITHOUT WARRANTIES OR CONDITIONS OF ANY KIND, either express or implied. See the License for the specific language governing permissions and limitations under the License."
      ]
    },
    {
      "cell_type": "code",
      "metadata": {
        "id": "5a28H-uXsHhi"
      },
      "source": [
        ""
      ],
      "execution_count": 14,
      "outputs": []
    }
  ]
}