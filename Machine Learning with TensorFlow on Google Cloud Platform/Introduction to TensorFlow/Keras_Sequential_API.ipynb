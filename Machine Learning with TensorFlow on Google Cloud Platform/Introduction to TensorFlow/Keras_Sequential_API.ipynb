{
  "nbformat": 4,
  "nbformat_minor": 0,
  "metadata": {
    "environment": {
      "name": "tf2-gpu.2-3.m65",
      "type": "gcloud",
      "uri": "gcr.io/deeplearning-platform-release/tf2-gpu.2-3:m65"
    },
    "kernelspec": {
      "display_name": "Python 3",
      "language": "python",
      "name": "python3"
    },
    "language_info": {
      "codemirror_mode": {
        "name": "ipython",
        "version": 3
      },
      "file_extension": ".py",
      "mimetype": "text/x-python",
      "name": "python",
      "nbconvert_exporter": "python",
      "pygments_lexer": "ipython3",
      "version": "3.7.10"
    },
    "colab": {
      "name": "Keras Sequential API.ipynb",
      "provenance": [],
      "include_colab_link": true
    }
  },
  "cells": [
    {
      "cell_type": "markdown",
      "metadata": {
        "id": "view-in-github",
        "colab_type": "text"
      },
      "source": [
        "<a href=\"https://colab.research.google.com/github/QuanPhamAnh/Coursera_Capstone/blob/main/Machine%20Learning%20with%20TensorFlow%20on%20Google%20Cloud%20Platform/Introduction%20to%20TensorFlow/Keras_Sequential_API.ipynb\" target=\"_parent\"><img src=\"https://colab.research.google.com/assets/colab-badge.svg\" alt=\"Open In Colab\"/></a>"
      ]
    },
    {
      "cell_type": "markdown",
      "metadata": {
        "id": "vpSJleXJhSB-"
      },
      "source": [
        "# Introducing the Keras Sequential API\n",
        "\n",
        "**Learning Objectives**\n",
        "  1. Learn how to use feature columns in a Keras model\n",
        "  1. Build a DNN model using the Keras Sequential API\n",
        "  1. Learn how to train a model with Keras\n",
        "  1. Learn how to save/load, and deploy a Keras model on GCP\n",
        "  1. Learn how to deploy and make predictions with at Keras model\n",
        "\n",
        "## Introduction\n",
        "\n",
        "The [Keras sequential API](https://keras.io/models/sequential/) allows you to create Tensorflow models layer-by-layer. This is useful for building most kinds of machine learning models but it does not allow you to create models that share layers, re-use layers or have multiple inputs or outputs. \n",
        "\n",
        "In this lab, we'll see how to build a simple deep neural network model using the keras sequential api and feature columns. Once we have trained our model, we will deploy it using AI Platform and see how to call our model for online prediciton.\n",
        "\n",
        "Each learning objective will correspond to a __#TODO__  in this student lab notebook -- try to complete this notebook first and then review the [solution notebook](https://github.com/GoogleCloudPlatform/training-data-analyst/blob/master/courses/machine_learning/deepdive2/introduction_to_tensorflow/solutions/3_keras_sequential_api.ipynb)\n"
      ]
    },
    {
      "cell_type": "code",
      "metadata": {
        "colab": {
          "base_uri": "https://localhost:8080/"
        },
        "id": "8ve7Kh81hSCJ",
        "outputId": "e8e8c6fd-8bcc-4519-8188-4395555bd11a"
      },
      "source": [
        "!sudo chown -R jupyter:jupyter /home/jupyter/training-data-analyst"
      ],
      "execution_count": 1,
      "outputs": [
        {
          "output_type": "stream",
          "text": [
            "chown: invalid user: ‘jupyter:jupyter’\n"
          ],
          "name": "stdout"
        }
      ]
    },
    {
      "cell_type": "markdown",
      "metadata": {
        "id": "tp6ZacONhSCK"
      },
      "source": [
        "Please ignore any incompatibility warnings and errors and re-run the cell to view the installed tensorflow version.\n"
      ]
    },
    {
      "cell_type": "markdown",
      "metadata": {
        "id": "Px0-rZIXhSCL"
      },
      "source": [
        "Start by importing the necessary libraries for this lab."
      ]
    },
    {
      "cell_type": "code",
      "metadata": {
        "colab": {
          "base_uri": "https://localhost:8080/"
        },
        "id": "18h9zF-ShSCL",
        "outputId": "484a21f6-7583-4eb7-a2c6-890d25ecaa0a"
      },
      "source": [
        "import datetime\n",
        "import os\n",
        "import shutil\n",
        "\n",
        "import numpy as np\n",
        "import pandas as pd\n",
        "import tensorflow as tf\n",
        "\n",
        "from matplotlib import pyplot as plt\n",
        "from tensorflow import keras\n",
        "\n",
        "from tensorflow.keras.models import Sequential\n",
        "from tensorflow.keras.layers import Dense, DenseFeatures\n",
        "from tensorflow.keras.callbacks import TensorBoard\n",
        "\n",
        "print(tf.__version__)\n",
        "%matplotlib inline"
      ],
      "execution_count": 2,
      "outputs": [
        {
          "output_type": "stream",
          "text": [
            "2.4.1\n"
          ],
          "name": "stdout"
        }
      ]
    },
    {
      "cell_type": "markdown",
      "metadata": {
        "id": "NRAT7L4HhSCO"
      },
      "source": [
        "## Use tf.data to read the CSV files\n",
        "\n",
        "We wrote these functions for reading data from the csv files above in the [previous notebook](https://github.com/GoogleCloudPlatform/training-data-analyst/blob/master/courses/machine_learning/deepdive2/introduction_to_tensorflow/labs/2_dataset_api.ipynb)."
      ]
    },
    {
      "cell_type": "code",
      "metadata": {
        "id": "wqe3wA7qhSCO"
      },
      "source": [
        "CSV_COLUMNS = [\n",
        "    'fare_amount',\n",
        "    'pickup_datetime',\n",
        "    'pickup_longitude',\n",
        "    'pickup_latitude',\n",
        "    'dropoff_longitude',\n",
        "    'dropoff_latitude',\n",
        "    'passenger_count',\n",
        "    'key'\n",
        "]\n",
        "LABEL_COLUMN = 'fare_amount'\n",
        "DEFAULTS = [[0.0], ['na'], [0.0], [0.0], [0.0], [0.0], [0.0], ['na']]\n",
        "UNWANTED_COLS = ['pickup_datetime', 'key']\n",
        "\n",
        "\n",
        "def features_and_labels(row_data):\n",
        "    label = row_data.pop(LABEL_COLUMN)\n",
        "    features = row_data\n",
        "    \n",
        "    for unwanted_col in UNWANTED_COLS:\n",
        "        features.pop(unwanted_col)\n",
        "\n",
        "    return features, label\n",
        "\n",
        "\n",
        "def create_dataset(pattern, batch_size=1, mode='eval'):\n",
        "    dataset = tf.data.experimental.make_csv_dataset(\n",
        "        pattern, batch_size, CSV_COLUMNS, DEFAULTS)\n",
        "\n",
        "    dataset = dataset.map(features_and_labels)\n",
        "\n",
        "    if mode == 'train':\n",
        "        dataset = dataset.shuffle(buffer_size=1000).repeat()\n",
        "\n",
        "    # take advantage of multi-threading; 1=AUTOTUNE\n",
        "    dataset = dataset.prefetch(1)\n",
        "    return dataset"
      ],
      "execution_count": 3,
      "outputs": []
    },
    {
      "cell_type": "markdown",
      "metadata": {
        "id": "o_NCzRAqhSCP"
      },
      "source": [
        "## Build a simple keras DNN model\n",
        "\n",
        "We will use feature columns to connect our raw data to our keras DNN model. Feature columns make it easy to perform common types of feature engineering on your raw data. For example, you can one-hot encode categorical data, create feature crosses, embeddings and more. We'll cover these in more detail later in the course, but if you want to a sneak peak browse the official TensorFlow [feature columns guide](https://www.tensorflow.org/guide/feature_columns).\n",
        "\n",
        "In our case we won't do any feature engineering. However, we still need to create a list of feature columns to specify the numeric values which will be passed on to our model. To do this, we use `tf.feature_column.numeric_column()`\n",
        "\n",
        "We use a python dictionary comprehension to create the feature columns for our model, which is just an elegant alternative to a for loop."
      ]
    },
    {
      "cell_type": "markdown",
      "metadata": {
        "id": "WTaOkrelhSCP"
      },
      "source": [
        "**Lab Task #1:** Create a feature column dictionary that we will use when building our deep neural network below. The keys should be the element of the `INPUT_COLS` list, while the values should be numeric feature columns."
      ]
    },
    {
      "cell_type": "code",
      "metadata": {
        "id": "Dy0T0HRNhSCQ"
      },
      "source": [
        "INPUT_COLS = [\n",
        "    'pickup_longitude',\n",
        "    'pickup_latitude',\n",
        "    'dropoff_longitude',\n",
        "    'dropoff_latitude',\n",
        "    'passenger_count',\n",
        "]\n",
        "\n",
        "# Create input layer of feature columns\n",
        "# TODO 1\n",
        "feature_columns = {colname: tf.feature_column.numeric_column(colname) for colname in INPUT_COLS} # TODO -- Your code here."
      ],
      "execution_count": 4,
      "outputs": []
    },
    {
      "cell_type": "markdown",
      "metadata": {
        "id": "QFMoF9_0hSCR"
      },
      "source": [
        "Next, we create the DNN model. The Sequential model is a linear stack of layers and when building a model using the Sequential API, you configure each layer of the model in turn. Once all the layers have been added, you compile the model. "
      ]
    },
    {
      "cell_type": "markdown",
      "metadata": {
        "id": "2VDqf-qThSCR"
      },
      "source": [
        "**Lab Task #2a:** Create a deep neural network using Keras's Sequential API. In the cell below, use the `tf.keras.layers` library to create all the layers for your deep neural network. "
      ]
    },
    {
      "cell_type": "code",
      "metadata": {
        "id": "9kcB__GHhSCR"
      },
      "source": [
        "# Build a keras DNN model using Sequential API\n",
        "# TODO 2a\n",
        "model = Sequential([\n",
        "    DenseFeatures(feature_columns = feature_columns.values()),\n",
        "    Dense(units=32, activation=\"relu\", name=\"h1\"),\n",
        "    Dense(units=8, activation=\"relu\", name=\"h2\"),\n",
        "    Dense(units=1, activation=\"linear\", name=\"output\")\n",
        "    ]) # TODO -- Your code here."
      ],
      "execution_count": 5,
      "outputs": []
    },
    {
      "cell_type": "markdown",
      "metadata": {
        "id": "tlM6NsRohSCS"
      },
      "source": [
        "Next, to prepare the model for training, you must configure the learning process. This is done using the compile method. The compile method takes three arguments:\n",
        "\n",
        "* An optimizer. This could be the string identifier of an existing optimizer (such as `rmsprop` or `adagrad`), or an instance of the [Optimizer class](https://www.tensorflow.org/versions/r2.0/api_docs/python/tf/keras/optimizers).\n",
        "* A loss function. This is the objective that the model will try to minimize. It can be the string identifier of an existing loss function from the [Losses class](https://www.tensorflow.org/versions/r2.0/api_docs/python/tf/keras/losses) (such as categorical_crossentropy or mse), or it can be a custom objective function.\n",
        "* A list of metrics. For any machine learning problem you will want a set of metrics to evaluate your model. A metric could be the string identifier of an existing metric or a custom metric function.\n",
        "\n",
        "We will add an additional custom metric called `rmse` to our list of metrics which will return the root mean square error. "
      ]
    },
    {
      "cell_type": "markdown",
      "metadata": {
        "id": "WTjYIhbmhSCS"
      },
      "source": [
        "**Lab Task #2b:** Compile the model you created above. Create a custom loss function called `rmse` which computes the root mean squared error between `y_true` and `y_pred`. Pass this function to the model as an evaluation metric. "
      ]
    },
    {
      "cell_type": "code",
      "metadata": {
        "id": "Xnpo7nPVhSCU"
      },
      "source": [
        "# TODO 2b\n",
        "# Create a custom evalution metric\n",
        "def rmse(y_true, y_pred):\n",
        "    return tf.sqrt(tf.reduce_mean(tf.square(y_pred - y_true))) # TODO -- Your code here.\n",
        "\n",
        "\n",
        "# Compile the keras model\n",
        "# TODO -- Your code here.\n",
        "model.compile(optimizer=\"adam\", loss=\"mse\", metrics=[rmse, \"mse\"])"
      ],
      "execution_count": 6,
      "outputs": []
    },
    {
      "cell_type": "markdown",
      "metadata": {
        "id": "cQEY_CnlhSCU"
      },
      "source": [
        "## Train the model\n",
        "\n",
        "To train your model, Keras provides three functions that can be used:\n",
        " 1. `.fit()` for training a model for a fixed number of epochs (iterations on a dataset).\n",
        " 2. `.fit_generator()` for training a model on data yielded batch-by-batch by a generator\n",
        " 3. `.train_on_batch()` runs a single gradient update on a single batch of data. \n",
        " \n",
        "The `.fit()` function works well for small datasets which can fit entirely in memory. However, for large datasets (or if you need to manipulate the training data on the fly via data augmentation, etc) you will need to use `.fit_generator()` instead. The `.train_on_batch()` method is for more fine-grained control over training and accepts only a single batch of data.\n",
        "\n",
        "The taxifare dataset we sampled is small enough to fit in memory, so can we could use `.fit` to train our model. Our `create_dataset` function above generates batches of training examples, so we could also use `.fit_generator`. In fact, when calling `.fit` the method inspects the data, and if it's a generator (as our dataset is) it will invoke automatically `.fit_generator` for training. \n",
        "\n",
        "We start by setting up some parameters for our training job and create the data generators for the training and validation data.\n",
        "\n",
        "We refer you the the blog post [ML Design Pattern #3: Virtual Epochs](https://medium.com/google-cloud/ml-design-pattern-3-virtual-epochs-f842296de730) for further details on why express the training in terms of `NUM_TRAIN_EXAMPLES` and `NUM_EVALS` and why, in this training code, the number of epochs is really equal to the number of evaluations we perform."
      ]
    },
    {
      "cell_type": "code",
      "metadata": {
        "id": "81Ezg074hSCV"
      },
      "source": [
        "TRAIN_BATCH_SIZE = 1000\n",
        "NUM_TRAIN_EXAMPLES = 10000 * 5  # training dataset will repeat, wrap around\n",
        "NUM_EVALS = 50  # how many times to evaluate\n",
        "NUM_EVAL_EXAMPLES = 10000  # enough to get a reasonable sample\n",
        "\n",
        "trainds = create_dataset(\n",
        "    pattern='/content/taxi-train.csv',\n",
        "    batch_size=TRAIN_BATCH_SIZE,\n",
        "    mode='train')\n",
        "\n",
        "evalds = create_dataset(\n",
        "    pattern='/content/taxi-valid.csv',\n",
        "    batch_size=1000,\n",
        "    mode='eval').take(NUM_EVAL_EXAMPLES//1000)"
      ],
      "execution_count": 7,
      "outputs": []
    },
    {
      "cell_type": "markdown",
      "metadata": {
        "id": "eXM4zJ1IhSCV"
      },
      "source": [
        "There are various arguments you can set when calling the [.fit method](https://www.tensorflow.org/versions/r2.0/api_docs/python/tf/keras/Model#fit). Here `x` specifies the input data which in our case is a `tf.data` dataset returning a tuple of (inputs, targets). The `steps_per_epoch` parameter is used to mark the end of training for a single epoch. Here we are training for NUM_EVALS epochs. Lastly, for the `callback` argument we specify a Tensorboard callback so we can inspect Tensorboard after training. "
      ]
    },
    {
      "cell_type": "markdown",
      "metadata": {
        "id": "tHC8PvW5hSCW"
      },
      "source": [
        "**Lab Task #3:** In the cell below, you will train your model. First, define the `steps_per_epoch` then train your model using `.fit()`, saving the model training output to a variable called `history`."
      ]
    },
    {
      "cell_type": "code",
      "metadata": {
        "colab": {
          "base_uri": "https://localhost:8080/"
        },
        "id": "HwySgxfzhSCW",
        "outputId": "72921a16-038f-413c-fad7-bb05179938ec"
      },
      "source": [
        "# TODO 3\n",
        "%time \n",
        "steps_per_epoch = NUM_TRAIN_EXAMPLES // (TRAIN_BATCH_SIZE * NUM_EVALS) # TODO -- Your code here. \n",
        "\n",
        "LOGDIR = \"./taxi_trained\"\n",
        "history = model.fit(x=trainds,\n",
        "                    steps_per_epoch=steps_per_epoch,\n",
        "                    epochs=NUM_EVALS,\n",
        "                    validation_data=evalds,\n",
        "                    callbacks=[TensorBoard(LOGDIR)]) # TODO -- Your code here. "
      ],
      "execution_count": 8,
      "outputs": [
        {
          "output_type": "stream",
          "text": [
            "CPU times: user 4 µs, sys: 1e+03 ns, total: 5 µs\n",
            "Wall time: 8.82 µs\n",
            "Epoch 1/50\n",
            "WARNING:tensorflow:Layers in a Sequential model should only have a single input tensor, but we receive a <class 'collections.OrderedDict'> input: OrderedDict([('pickup_longitude', <tf.Tensor 'ExpandDims_4:0' shape=(1000, 1) dtype=float32>), ('pickup_latitude', <tf.Tensor 'ExpandDims_3:0' shape=(1000, 1) dtype=float32>), ('dropoff_longitude', <tf.Tensor 'ExpandDims_1:0' shape=(1000, 1) dtype=float32>), ('dropoff_latitude', <tf.Tensor 'ExpandDims:0' shape=(1000, 1) dtype=float32>), ('passenger_count', <tf.Tensor 'ExpandDims_2:0' shape=(1000, 1) dtype=float32>)])\n",
            "Consider rewriting this model with the Functional API.\n",
            "WARNING:tensorflow:Layers in a Sequential model should only have a single input tensor, but we receive a <class 'collections.OrderedDict'> input: OrderedDict([('pickup_longitude', <tf.Tensor 'ExpandDims_4:0' shape=(1000, 1) dtype=float32>), ('pickup_latitude', <tf.Tensor 'ExpandDims_3:0' shape=(1000, 1) dtype=float32>), ('dropoff_longitude', <tf.Tensor 'ExpandDims_1:0' shape=(1000, 1) dtype=float32>), ('dropoff_latitude', <tf.Tensor 'ExpandDims:0' shape=(1000, 1) dtype=float32>), ('passenger_count', <tf.Tensor 'ExpandDims_2:0' shape=(1000, 1) dtype=float32>)])\n",
            "Consider rewriting this model with the Functional API.\n",
            "1/1 [==============================] - ETA: 0s - loss: 516.8138 - rmse: 22.7335 - mse: 516.8138WARNING:tensorflow:Layers in a Sequential model should only have a single input tensor, but we receive a <class 'collections.OrderedDict'> input: OrderedDict([('pickup_longitude', <tf.Tensor 'ExpandDims_4:0' shape=(1000, 1) dtype=float32>), ('pickup_latitude', <tf.Tensor 'ExpandDims_3:0' shape=(1000, 1) dtype=float32>), ('dropoff_longitude', <tf.Tensor 'ExpandDims_1:0' shape=(1000, 1) dtype=float32>), ('dropoff_latitude', <tf.Tensor 'ExpandDims:0' shape=(1000, 1) dtype=float32>), ('passenger_count', <tf.Tensor 'ExpandDims_2:0' shape=(1000, 1) dtype=float32>)])\n",
            "Consider rewriting this model with the Functional API.\n",
            "1/1 [==============================] - 12s 12s/step - loss: 516.8138 - rmse: 22.7335 - mse: 516.8138 - val_loss: 485.0250 - val_rmse: 22.0185 - val_mse: 485.0250\n",
            "Epoch 2/50\n",
            "1/1 [==============================] - 0s 284ms/step - loss: 542.2452 - rmse: 23.2862 - mse: 542.2452 - val_loss: 460.5273 - val_rmse: 21.4566 - val_mse: 460.5273\n",
            "Epoch 3/50\n",
            "1/1 [==============================] - 0s 298ms/step - loss: 496.3423 - rmse: 22.2787 - mse: 496.3423 - val_loss: 441.8045 - val_rmse: 21.0179 - val_mse: 441.8045\n",
            "Epoch 4/50\n",
            "1/1 [==============================] - 0s 329ms/step - loss: 438.7745 - rmse: 20.9469 - mse: 438.7745 - val_loss: 417.9250 - val_rmse: 20.4387 - val_mse: 417.9250\n",
            "Epoch 5/50\n",
            "1/1 [==============================] - 0s 313ms/step - loss: 371.0519 - rmse: 19.2627 - mse: 371.0519 - val_loss: 400.1284 - val_rmse: 19.9995 - val_mse: 400.1284\n",
            "Epoch 6/50\n",
            "1/1 [==============================] - 0s 307ms/step - loss: 413.7620 - rmse: 20.3411 - mse: 413.7620 - val_loss: 379.2155 - val_rmse: 19.4702 - val_mse: 379.2155\n",
            "Epoch 7/50\n",
            "1/1 [==============================] - 0s 331ms/step - loss: 371.1384 - rmse: 19.2650 - mse: 371.1384 - val_loss: 367.3079 - val_rmse: 19.1616 - val_mse: 367.3079\n",
            "Epoch 8/50\n",
            "1/1 [==============================] - 0s 287ms/step - loss: 381.8250 - rmse: 19.5403 - mse: 381.8250 - val_loss: 360.6195 - val_rmse: 18.9812 - val_mse: 360.6195\n",
            "Epoch 9/50\n",
            "1/1 [==============================] - 0s 289ms/step - loss: 348.0463 - rmse: 18.6560 - mse: 348.0463 - val_loss: 351.3773 - val_rmse: 18.7436 - val_mse: 351.3773\n",
            "Epoch 10/50\n",
            "1/1 [==============================] - 0s 297ms/step - loss: 354.9982 - rmse: 18.8414 - mse: 354.9982 - val_loss: 344.3183 - val_rmse: 18.5472 - val_mse: 344.3183\n",
            "Epoch 11/50\n",
            "1/1 [==============================] - 0s 294ms/step - loss: 332.0793 - rmse: 18.2230 - mse: 332.0793 - val_loss: 335.1347 - val_rmse: 18.3055 - val_mse: 335.1347\n",
            "Epoch 12/50\n",
            "1/1 [==============================] - 0s 280ms/step - loss: 380.7132 - rmse: 19.5119 - mse: 380.7132 - val_loss: 325.9363 - val_rmse: 18.0493 - val_mse: 325.9363\n",
            "Epoch 13/50\n",
            "1/1 [==============================] - 0s 315ms/step - loss: 342.1851 - rmse: 18.4982 - mse: 342.1851 - val_loss: 317.5143 - val_rmse: 17.8173 - val_mse: 317.5143\n",
            "Epoch 14/50\n",
            "1/1 [==============================] - 0s 325ms/step - loss: 324.8660 - rmse: 18.0240 - mse: 324.8660 - val_loss: 309.1999 - val_rmse: 17.5829 - val_mse: 309.1999\n",
            "Epoch 15/50\n",
            "1/1 [==============================] - 0s 298ms/step - loss: 309.4643 - rmse: 17.5916 - mse: 309.4643 - val_loss: 301.6728 - val_rmse: 17.3650 - val_mse: 301.6728\n",
            "Epoch 16/50\n",
            "1/1 [==============================] - 0s 291ms/step - loss: 287.0967 - rmse: 16.9439 - mse: 287.0967 - val_loss: 294.3446 - val_rmse: 17.1533 - val_mse: 294.3446\n",
            "Epoch 17/50\n",
            "1/1 [==============================] - 0s 292ms/step - loss: 337.1921 - rmse: 18.3628 - mse: 337.1921 - val_loss: 286.8675 - val_rmse: 16.9271 - val_mse: 286.8675\n",
            "Epoch 18/50\n",
            "1/1 [==============================] - 0s 299ms/step - loss: 318.8152 - rmse: 17.8554 - mse: 318.8152 - val_loss: 280.4928 - val_rmse: 16.7415 - val_mse: 280.4928\n",
            "Epoch 19/50\n",
            "1/1 [==============================] - 0s 309ms/step - loss: 257.9082 - rmse: 16.0595 - mse: 257.9082 - val_loss: 276.7885 - val_rmse: 16.6335 - val_mse: 276.7885\n",
            "Epoch 20/50\n",
            "1/1 [==============================] - 0s 314ms/step - loss: 274.9336 - rmse: 16.5811 - mse: 274.9336 - val_loss: 270.5150 - val_rmse: 16.4379 - val_mse: 270.5150\n",
            "Epoch 21/50\n",
            "1/1 [==============================] - 0s 296ms/step - loss: 269.2626 - rmse: 16.4092 - mse: 269.2626 - val_loss: 266.0782 - val_rmse: 16.3057 - val_mse: 266.0782\n",
            "Epoch 22/50\n",
            "1/1 [==============================] - 0s 313ms/step - loss: 299.6262 - rmse: 17.3097 - mse: 299.6262 - val_loss: 264.9125 - val_rmse: 16.2639 - val_mse: 264.9125\n",
            "Epoch 23/50\n",
            "1/1 [==============================] - 0s 304ms/step - loss: 284.5677 - rmse: 16.8691 - mse: 284.5677 - val_loss: 261.2701 - val_rmse: 16.1628 - val_mse: 261.2701\n",
            "Epoch 24/50\n",
            "1/1 [==============================] - 0s 302ms/step - loss: 273.2586 - rmse: 16.5305 - mse: 273.2586 - val_loss: 257.5612 - val_rmse: 16.0409 - val_mse: 257.5612\n",
            "Epoch 25/50\n",
            "1/1 [==============================] - 0s 303ms/step - loss: 274.6024 - rmse: 16.5711 - mse: 274.6024 - val_loss: 255.5945 - val_rmse: 15.9816 - val_mse: 255.5945\n",
            "Epoch 26/50\n",
            "1/1 [==============================] - 0s 304ms/step - loss: 276.6316 - rmse: 16.6322 - mse: 276.6316 - val_loss: 252.4910 - val_rmse: 15.8834 - val_mse: 252.4910\n",
            "Epoch 27/50\n",
            "1/1 [==============================] - 0s 306ms/step - loss: 270.8411 - rmse: 16.4573 - mse: 270.8411 - val_loss: 246.5520 - val_rmse: 15.6975 - val_mse: 246.5520\n",
            "Epoch 28/50\n",
            "1/1 [==============================] - 0s 331ms/step - loss: 278.7360 - rmse: 16.6954 - mse: 278.7360 - val_loss: 245.8193 - val_rmse: 15.6709 - val_mse: 245.8193\n",
            "Epoch 29/50\n",
            "1/1 [==============================] - 0s 300ms/step - loss: 259.8612 - rmse: 16.1202 - mse: 259.8612 - val_loss: 244.5061 - val_rmse: 15.6302 - val_mse: 244.5061\n",
            "Epoch 30/50\n",
            "1/1 [==============================] - 0s 295ms/step - loss: 274.7574 - rmse: 16.5758 - mse: 274.7574 - val_loss: 241.1557 - val_rmse: 15.5254 - val_mse: 241.1557\n",
            "Epoch 31/50\n",
            "1/1 [==============================] - 0s 290ms/step - loss: 237.3746 - rmse: 15.4070 - mse: 237.3746 - val_loss: 237.8069 - val_rmse: 15.4189 - val_mse: 237.8069\n",
            "Epoch 32/50\n",
            "1/1 [==============================] - 0s 291ms/step - loss: 244.7410 - rmse: 15.6442 - mse: 244.7410 - val_loss: 236.1095 - val_rmse: 15.3629 - val_mse: 236.1095\n",
            "Epoch 33/50\n",
            "1/1 [==============================] - 0s 307ms/step - loss: 236.7563 - rmse: 15.3869 - mse: 236.7563 - val_loss: 234.1572 - val_rmse: 15.2967 - val_mse: 234.1572\n",
            "Epoch 34/50\n",
            "1/1 [==============================] - 0s 310ms/step - loss: 243.2181 - rmse: 15.5955 - mse: 243.2181 - val_loss: 230.1215 - val_rmse: 15.1649 - val_mse: 230.1215\n",
            "Epoch 35/50\n",
            "1/1 [==============================] - 0s 293ms/step - loss: 224.2733 - rmse: 14.9758 - mse: 224.2733 - val_loss: 229.3687 - val_rmse: 15.1410 - val_mse: 229.3687\n",
            "Epoch 36/50\n",
            "1/1 [==============================] - 0s 319ms/step - loss: 213.5204 - rmse: 14.6123 - mse: 213.5204 - val_loss: 227.4521 - val_rmse: 15.0752 - val_mse: 227.4521\n",
            "Epoch 37/50\n",
            "1/1 [==============================] - 0s 300ms/step - loss: 245.5017 - rmse: 15.6685 - mse: 245.5017 - val_loss: 225.8260 - val_rmse: 15.0116 - val_mse: 225.8260\n",
            "Epoch 38/50\n",
            "1/1 [==============================] - 0s 289ms/step - loss: 292.8017 - rmse: 17.1115 - mse: 292.8017 - val_loss: 222.0224 - val_rmse: 14.8967 - val_mse: 222.0224\n",
            "Epoch 39/50\n",
            "1/1 [==============================] - 0s 314ms/step - loss: 230.1685 - rmse: 15.1713 - mse: 230.1685 - val_loss: 220.4760 - val_rmse: 14.8360 - val_mse: 220.4760\n",
            "Epoch 40/50\n",
            "1/1 [==============================] - 0s 310ms/step - loss: 241.4622 - rmse: 15.5391 - mse: 241.4622 - val_loss: 222.1644 - val_rmse: 14.9031 - val_mse: 222.1644\n",
            "Epoch 41/50\n",
            "1/1 [==============================] - 0s 303ms/step - loss: 240.1232 - rmse: 15.4959 - mse: 240.1232 - val_loss: 215.8513 - val_rmse: 14.6912 - val_mse: 215.8513\n",
            "Epoch 42/50\n",
            "1/1 [==============================] - 0s 312ms/step - loss: 224.4182 - rmse: 14.9806 - mse: 224.4182 - val_loss: 217.2167 - val_rmse: 14.7327 - val_mse: 217.2167\n",
            "Epoch 43/50\n",
            "1/1 [==============================] - 0s 294ms/step - loss: 238.6228 - rmse: 15.4474 - mse: 238.6228 - val_loss: 215.7088 - val_rmse: 14.6821 - val_mse: 215.7088\n",
            "Epoch 44/50\n",
            "1/1 [==============================] - 0s 295ms/step - loss: 249.6911 - rmse: 15.8016 - mse: 249.6911 - val_loss: 212.9058 - val_rmse: 14.5822 - val_mse: 212.9058\n",
            "Epoch 45/50\n",
            "1/1 [==============================] - 0s 316ms/step - loss: 205.7415 - rmse: 14.3437 - mse: 205.7415 - val_loss: 211.9013 - val_rmse: 14.5546 - val_mse: 211.9013\n",
            "Epoch 46/50\n",
            "1/1 [==============================] - 0s 289ms/step - loss: 221.4649 - rmse: 14.8817 - mse: 221.4649 - val_loss: 213.8918 - val_rmse: 14.6177 - val_mse: 213.8918\n",
            "Epoch 47/50\n",
            "1/1 [==============================] - 0s 285ms/step - loss: 243.1203 - rmse: 15.5923 - mse: 243.1203 - val_loss: 211.5162 - val_rmse: 14.5366 - val_mse: 211.5162\n",
            "Epoch 48/50\n",
            "1/1 [==============================] - 0s 314ms/step - loss: 281.3338 - rmse: 16.7730 - mse: 281.3338 - val_loss: 213.2421 - val_rmse: 14.5941 - val_mse: 213.2421\n",
            "Epoch 49/50\n",
            "1/1 [==============================] - 0s 309ms/step - loss: 239.6769 - rmse: 15.4815 - mse: 239.6769 - val_loss: 210.9990 - val_rmse: 14.5183 - val_mse: 210.9990\n",
            "Epoch 50/50\n",
            "1/1 [==============================] - 0s 289ms/step - loss: 226.1603 - rmse: 15.0386 - mse: 226.1603 - val_loss: 211.3741 - val_rmse: 14.5295 - val_mse: 211.3741\n"
          ],
          "name": "stdout"
        }
      ]
    },
    {
      "cell_type": "markdown",
      "metadata": {
        "id": "-jD1wSN9hSCW"
      },
      "source": [
        "### High-level model evaluation\n",
        "\n",
        "Once we've run data through the model, we can call `.summary()` on the model to get a high-level summary of our network. We can also plot the training and evaluation curves for the metrics we computed above. "
      ]
    },
    {
      "cell_type": "code",
      "metadata": {
        "colab": {
          "base_uri": "https://localhost:8080/"
        },
        "id": "bvxelh89hSCX",
        "outputId": "8c554705-6bf8-4889-ce5c-adb05ed400bc"
      },
      "source": [
        "model.summary()"
      ],
      "execution_count": 9,
      "outputs": [
        {
          "output_type": "stream",
          "text": [
            "Model: \"sequential\"\n",
            "_________________________________________________________________\n",
            "Layer (type)                 Output Shape              Param #   \n",
            "=================================================================\n",
            "dense_features (DenseFeature multiple                  0         \n",
            "_________________________________________________________________\n",
            "h1 (Dense)                   multiple                  192       \n",
            "_________________________________________________________________\n",
            "h2 (Dense)                   multiple                  264       \n",
            "_________________________________________________________________\n",
            "output (Dense)               multiple                  9         \n",
            "=================================================================\n",
            "Total params: 465\n",
            "Trainable params: 465\n",
            "Non-trainable params: 0\n",
            "_________________________________________________________________\n"
          ],
          "name": "stdout"
        }
      ]
    },
    {
      "cell_type": "markdown",
      "metadata": {
        "id": "oCitGieuhSCX"
      },
      "source": [
        "Running `.fit` (or `.fit_generator`) returns a History object which collects all the events recorded during training. Similar to Tensorboard, we can plot the training and validation curves for the model loss and rmse by accessing these elements of the History object."
      ]
    },
    {
      "cell_type": "code",
      "metadata": {
        "colab": {
          "base_uri": "https://localhost:8080/",
          "height": 282
        },
        "id": "UecgmJ3UhSCX",
        "outputId": "7241a302-7c19-43c0-ea77-6f531e8d6829"
      },
      "source": [
        "RMSE_COLS = ['rmse', 'val_rmse']\n",
        "\n",
        "pd.DataFrame(history.history)[RMSE_COLS].plot()"
      ],
      "execution_count": 10,
      "outputs": [
        {
          "output_type": "execute_result",
          "data": {
            "text/plain": [
              "<matplotlib.axes._subplots.AxesSubplot at 0x7fe1324bf2d0>"
            ]
          },
          "metadata": {
            "tags": []
          },
          "execution_count": 10
        },
        {
          "output_type": "display_data",
          "data": {
            "image/png": "[encoded data removed]",
            "text/plain": [
              "<Figure size 432x288 with 1 Axes>"
            ]
          },
          "metadata": {
            "tags": [],
            "needs_background": "light"
          }
        }
      ]
    },
    {
      "cell_type": "code",
      "metadata": {
        "colab": {
          "base_uri": "https://localhost:8080/",
          "height": 282
        },
        "id": "bzOyVBnNhSCY",
        "outputId": "1a452acb-4144-4ec1-b502-9862925b3348"
      },
      "source": [
        "LOSS_COLS = ['loss', 'val_loss']\n",
        "\n",
        "pd.DataFrame(history.history)[LOSS_COLS].plot()"
      ],
      "execution_count": 11,
      "outputs": [
        {
          "output_type": "execute_result",
          "data": {
            "text/plain": [
              "<matplotlib.axes._subplots.AxesSubplot at 0x7fe131169d10>"
            ]
          },
          "metadata": {
            "tags": []
          },
          "execution_count": 11
        },
        {
          "output_type": "display_data",
          "data": {
            "image/png": "[encoded data removed]",
            "text/plain": [
              "<Figure size 432x288 with 1 Axes>"
            ]
          },
          "metadata": {
            "tags": [],
            "needs_background": "light"
          }
        }
      ]
    },
    {
      "cell_type": "markdown",
      "metadata": {
        "id": "rRJQ9Q9khSCY"
      },
      "source": [
        "# Making predictions with our model\n",
        "\n",
        "To make predictions with our trained model, we can call the [predict method](https://www.tensorflow.org/api_docs/python/tf/keras/Model#predict), passing to it a dictionary of values. The `steps` parameter determines the total number of steps before declaring the prediction round finished. Here since we have just one example, we set `steps=1` (setting `steps=None` would also work). Note, however, that if x is a `tf.data` dataset or a dataset iterator, and steps is set to None, predict will run until the input dataset is exhausted."
      ]
    },
    {
      "cell_type": "code",
      "metadata": {
        "colab": {
          "base_uri": "https://localhost:8080/"
        },
        "id": "_jIjF3hBhSCY",
        "outputId": "c8a7ffa6-ad66-469d-a52a-ba3a59754df8"
      },
      "source": [
        "model.predict(x={\"pickup_longitude\": tf.convert_to_tensor([-73.982683]),\n",
        "                 \"pickup_latitude\": tf.convert_to_tensor([40.742104]),\n",
        "                 \"dropoff_longitude\": tf.convert_to_tensor([-73.983766]),\n",
        "                 \"dropoff_latitude\": tf.convert_to_tensor([40.755174]),\n",
        "                 \"passenger_count\": tf.convert_to_tensor([3.0])},\n",
        "              steps=1)"
      ],
      "execution_count": 12,
      "outputs": [
        {
          "output_type": "stream",
          "text": [
            "WARNING:tensorflow:Layers in a Sequential model should only have a single input tensor, but we receive a <class 'dict'> input: {'pickup_longitude': <tf.Tensor 'ExpandDims_4:0' shape=(1, 1) dtype=float32>, 'pickup_latitude': <tf.Tensor 'ExpandDims_3:0' shape=(1, 1) dtype=float32>, 'dropoff_longitude': <tf.Tensor 'ExpandDims_1:0' shape=(1, 1) dtype=float32>, 'dropoff_latitude': <tf.Tensor 'ExpandDims:0' shape=(1, 1) dtype=float32>, 'passenger_count': <tf.Tensor 'ExpandDims_2:0' shape=(1, 1) dtype=float32>}\n",
            "Consider rewriting this model with the Functional API.\n"
          ],
          "name": "stdout"
        },
        {
          "output_type": "execute_result",
          "data": {
            "text/plain": [
              "array([[0.04558645]], dtype=float32)"
            ]
          },
          "metadata": {
            "tags": []
          },
          "execution_count": 12
        }
      ]
    },
    {
      "cell_type": "markdown",
      "metadata": {
        "id": "DMv09ypThSCY"
      },
      "source": [
        "# Export and deploy our model\n",
        "\n",
        "Of course, making individual predictions is not realistic, because we can't expect client code to have a model object in memory. For others to use our trained model, we'll have to export our model to a file, and expect client code to instantiate the model from that exported file. \n",
        "\n",
        "We'll export the model to a TensorFlow SavedModel format. Once we have a model in this format, we have lots of ways to \"serve\" the model, from a web application, from JavaScript, from mobile applications, etc."
      ]
    },
    {
      "cell_type": "markdown",
      "metadata": {
        "id": "H0KXLo5bhSCZ"
      },
      "source": [
        "**Lab Task #4:** Use `tf.saved_model.save` to export the trained model to a Tensorflow SavedModel format. Reference the [documentation for `tf.saved_model.save`](https://www.tensorflow.org/api_docs/python/tf/saved_model/save) as you fill in the code for the cell below.\n",
        "\n",
        "Next, print the signature of your saved model using the SavedModel Command Line Interface command `saved_model_cli`. You can read more about the command line interface and the `show` and `run` commands it supports in the [documentation here](https://www.tensorflow.org/guide/saved_model#overview_of_commands). "
      ]
    },
    {
      "cell_type": "code",
      "metadata": {
        "colab": {
          "base_uri": "https://localhost:8080/"
        },
        "id": "rZwk1tythSCZ",
        "outputId": "2f280c9c-42d6-4036-e367-2c30051dfe69"
      },
      "source": [
        "# TODO 4a\n",
        "OUTPUT_DIR = \"./export/savedmodel\"\n",
        "shutil.rmtree(OUTPUT_DIR, ignore_errors=True)\n",
        "EXPORT_PATH = os.path.join(OUTPUT_DIR,\n",
        "                           datetime.datetime.now().strftime(\"%Y%m%d%H%M%S\"))\n",
        "\n",
        "tf.saved_model.save(model, EXPORT_PATH) # TODO -- Your code here. "
      ],
      "execution_count": 13,
      "outputs": [
        {
          "output_type": "stream",
          "text": [
            "WARNING:tensorflow:Layers in a Sequential model should only have a single input tensor, but we receive a <class 'collections.OrderedDict'> input: OrderedDict([('pickup_longitude', <tf.Tensor 'pickup_longitude:0' shape=(None, 1) dtype=float32>), ('pickup_latitude', <tf.Tensor 'pickup_latitude:0' shape=(None, 1) dtype=float32>), ('dropoff_longitude', <tf.Tensor 'dropoff_longitude:0' shape=(None, 1) dtype=float32>), ('dropoff_latitude', <tf.Tensor 'dropoff_latitude:0' shape=(None, 1) dtype=float32>), ('passenger_count', <tf.Tensor 'passenger_count:0' shape=(None, 1) dtype=float32>)])\n",
            "Consider rewriting this model with the Functional API.\n",
            "WARNING:tensorflow:Layers in a Sequential model should only have a single input tensor, but we receive a <class 'collections.OrderedDict'> input: OrderedDict([('pickup_longitude', <tf.Tensor 'pickup_longitude:0' shape=(None, 1) dtype=float32>), ('pickup_latitude', <tf.Tensor 'pickup_latitude:0' shape=(None, 1) dtype=float32>), ('dropoff_longitude', <tf.Tensor 'dropoff_longitude:0' shape=(None, 1) dtype=float32>), ('dropoff_latitude', <tf.Tensor 'dropoff_latitude:0' shape=(None, 1) dtype=float32>), ('passenger_count', <tf.Tensor 'passenger_count:0' shape=(None, 1) dtype=float32>)])\n",
            "Consider rewriting this model with the Functional API.\n",
            "WARNING:tensorflow:Layers in a Sequential model should only have a single input tensor, but we receive a <class 'collections.OrderedDict'> input: OrderedDict([('pickup_longitude', <tf.Tensor 'pickup_longitude:0' shape=(None, 1) dtype=float32>), ('pickup_latitude', <tf.Tensor 'pickup_latitude:0' shape=(None, 1) dtype=float32>), ('dropoff_longitude', <tf.Tensor 'dropoff_longitude:0' shape=(None, 1) dtype=float32>), ('dropoff_latitude', <tf.Tensor 'dropoff_latitude:0' shape=(None, 1) dtype=float32>), ('passenger_count', <tf.Tensor 'passenger_count:0' shape=(None, 1) dtype=float32>)])\n",
            "Consider rewriting this model with the Functional API.\n",
            "WARNING:tensorflow:Layers in a Sequential model should only have a single input tensor, but we receive a <class 'collections.OrderedDict'> input: OrderedDict([('pickup_longitude', <tf.Tensor 'inputs_4:0' shape=(None, 1) dtype=float32>), ('pickup_latitude', <tf.Tensor 'inputs_3:0' shape=(None, 1) dtype=float32>), ('dropoff_longitude', <tf.Tensor 'inputs_1:0' shape=(None, 1) dtype=float32>), ('dropoff_latitude', <tf.Tensor 'inputs:0' shape=(None, 1) dtype=float32>), ('passenger_count', <tf.Tensor 'inputs_2:0' shape=(None, 1) dtype=float32>)])\n",
            "Consider rewriting this model with the Functional API.\n",
            "WARNING:tensorflow:Layers in a Sequential model should only have a single input tensor, but we receive a <class 'collections.OrderedDict'> input: OrderedDict([('pickup_longitude', <tf.Tensor 'inputs_4:0' shape=(None, 1) dtype=float32>), ('pickup_latitude', <tf.Tensor 'inputs_3:0' shape=(None, 1) dtype=float32>), ('dropoff_longitude', <tf.Tensor 'inputs_1:0' shape=(None, 1) dtype=float32>), ('dropoff_latitude', <tf.Tensor 'inputs:0' shape=(None, 1) dtype=float32>), ('passenger_count', <tf.Tensor 'inputs_2:0' shape=(None, 1) dtype=float32>)])\n",
            "Consider rewriting this model with the Functional API.\n",
            "WARNING:tensorflow:Layers in a Sequential model should only have a single input tensor, but we receive a <class 'collections.OrderedDict'> input: OrderedDict([('pickup_longitude', <tf.Tensor 'pickup_longitude:0' shape=(None, 1) dtype=float32>), ('pickup_latitude', <tf.Tensor 'pickup_latitude:0' shape=(None, 1) dtype=float32>), ('dropoff_longitude', <tf.Tensor 'dropoff_longitude:0' shape=(None, 1) dtype=float32>), ('dropoff_latitude', <tf.Tensor 'dropoff_latitude:0' shape=(None, 1) dtype=float32>), ('passenger_count', <tf.Tensor 'passenger_count:0' shape=(None, 1) dtype=float32>)])\n",
            "Consider rewriting this model with the Functional API.\n",
            "WARNING:tensorflow:Layers in a Sequential model should only have a single input tensor, but we receive a <class 'collections.OrderedDict'> input: OrderedDict([('pickup_longitude', <tf.Tensor 'pickup_longitude:0' shape=(None, 1) dtype=float32>), ('pickup_latitude', <tf.Tensor 'pickup_latitude:0' shape=(None, 1) dtype=float32>), ('dropoff_longitude', <tf.Tensor 'dropoff_longitude:0' shape=(None, 1) dtype=float32>), ('dropoff_latitude', <tf.Tensor 'dropoff_latitude:0' shape=(None, 1) dtype=float32>), ('passenger_count', <tf.Tensor 'passenger_count:0' shape=(None, 1) dtype=float32>)])\n",
            "Consider rewriting this model with the Functional API.\n",
            "WARNING:tensorflow:Layers in a Sequential model should only have a single input tensor, but we receive a <class 'collections.OrderedDict'> input: OrderedDict([('pickup_longitude', <tf.Tensor 'inputs/pickup_longitude:0' shape=(None, 1) dtype=float32>), ('pickup_latitude', <tf.Tensor 'inputs/pickup_latitude:0' shape=(None, 1) dtype=float32>), ('dropoff_longitude', <tf.Tensor 'inputs/dropoff_longitude:0' shape=(None, 1) dtype=float32>), ('dropoff_latitude', <tf.Tensor 'inputs/dropoff_latitude:0' shape=(None, 1) dtype=float32>), ('passenger_count', <tf.Tensor 'inputs/passenger_count:0' shape=(None, 1) dtype=float32>)])\n",
            "Consider rewriting this model with the Functional API.\n",
            "WARNING:tensorflow:Layers in a Sequential model should only have a single input tensor, but we receive a <class 'collections.OrderedDict'> input: OrderedDict([('pickup_longitude', <tf.Tensor 'inputs/pickup_longitude:0' shape=(None, 1) dtype=float32>), ('pickup_latitude', <tf.Tensor 'inputs/pickup_latitude:0' shape=(None, 1) dtype=float32>), ('dropoff_longitude', <tf.Tensor 'inputs/dropoff_longitude:0' shape=(None, 1) dtype=float32>), ('dropoff_latitude', <tf.Tensor 'inputs/dropoff_latitude:0' shape=(None, 1) dtype=float32>), ('passenger_count', <tf.Tensor 'inputs/passenger_count:0' shape=(None, 1) dtype=float32>)])\n",
            "Consider rewriting this model with the Functional API.\n",
            "INFO:tensorflow:Assets written to: ./export/savedmodel/20210413140238/assets\n"
          ],
          "name": "stdout"
        }
      ]
    },
    {
      "cell_type": "code",
      "metadata": {
        "colab": {
          "base_uri": "https://localhost:8080/"
        },
        "id": "_UNUxoBthSCZ",
        "outputId": "886b0f40-3136-4490-8df2-76eee79fb39f"
      },
      "source": [
        "# Export the model to a TensorFlow SavedModel format\n",
        "# TODO 4b\n",
        "!saved_model_cli show \\\n",
        " --tag_set serve \\\n",
        " --signature_def serving_default \\\n",
        " --dir {EXPORT_PATH}\n",
        "!find {EXPORT_PATH}\n",
        "os.environ['EXPORT_PATH'] = EXPORT_PATH"
      ],
      "execution_count": 14,
      "outputs": [
        {
          "output_type": "stream",
          "text": [
            "The given SavedModel SignatureDef contains the following input(s):\n",
            "  inputs['dropoff_latitude'] tensor_info:\n",
            "      dtype: DT_FLOAT\n",
            "      shape: (-1, 1)\n",
            "      name: serving_default_dropoff_latitude:0\n",
            "  inputs['dropoff_longitude'] tensor_info:\n",
            "      dtype: DT_FLOAT\n",
            "      shape: (-1, 1)\n",
            "      name: serving_default_dropoff_longitude:0\n",
            "  inputs['passenger_count'] tensor_info:\n",
            "      dtype: DT_FLOAT\n",
            "      shape: (-1, 1)\n",
            "      name: serving_default_passenger_count:0\n",
            "  inputs['pickup_latitude'] tensor_info:\n",
            "      dtype: DT_FLOAT\n",
            "      shape: (-1, 1)\n",
            "      name: serving_default_pickup_latitude:0\n",
            "  inputs['pickup_longitude'] tensor_info:\n",
            "      dtype: DT_FLOAT\n",
            "      shape: (-1, 1)\n",
            "      name: serving_default_pickup_longitude:0\n",
            "The given SavedModel SignatureDef contains the following output(s):\n",
            "  outputs['output_1'] tensor_info:\n",
            "      dtype: DT_FLOAT\n",
            "      shape: (-1, 1)\n",
            "      name: StatefulPartitionedCall:0\n",
            "Method name is: tensorflow/serving/predict\n",
            "./export/savedmodel/20210413140238\n",
            "./export/savedmodel/20210413140238/saved_model.pb\n",
            "./export/savedmodel/20210413140238/variables\n",
            "./export/savedmodel/20210413140238/variables/variables.index\n",
            "./export/savedmodel/20210413140238/variables/variables.data-00000-of-00001\n",
            "./export/savedmodel/20210413140238/assets\n"
          ],
          "name": "stdout"
        }
      ]
    }
  ]
}