{
  "nbformat": 4,
  "nbformat_minor": 0,
  "metadata": {
    "environment": {
      "name": "tf2-gpu.2-3.m65",
      "type": "gcloud",
      "uri": "gcr.io/deeplearning-platform-release/tf2-gpu.2-3:m65"
    },
    "kernelspec": {
      "display_name": "Python 3",
      "language": "python",
      "name": "python3"
    },
    "language_info": {
      "codemirror_mode": {
        "name": "ipython",
        "version": 3
      },
      "file_extension": ".py",
      "mimetype": "text/x-python",
      "name": "python",
      "nbconvert_exporter": "python",
      "pygments_lexer": "ipython3",
      "version": "3.7.10"
    },
    "colab": {
      "name": "Keras Functional API.ipynb",
      "provenance": [],
      "include_colab_link": true
    }
  },
  "cells": [
    {
      "cell_type": "markdown",
      "metadata": {
        "id": "view-in-github",
        "colab_type": "text"
      },
      "source": [
        "<a href=\"https://colab.research.google.com/github/QuanPhamAnh/Coursera_Capstone/blob/main/Machine%20Learning%20with%20TensorFlow%20on%20Google%20Cloud%20Platform/Introduction%20to%20TensorFlow/Keras_Functional_API.ipynb\" target=\"_parent\"><img src=\"https://colab.research.google.com/assets/colab-badge.svg\" alt=\"Open In Colab\"/></a>"
      ]
    },
    {
      "cell_type": "markdown",
      "metadata": {
        "id": "KTGr5v_ajPm0"
      },
      "source": [
        "# Introducing the Keras Functional API\n",
        "\n",
        "**Learning Objectives**\n",
        "  1. Understand embeddings and how to create them with the feature column API\n",
        "  1. Understand Deep and Wide models and when to use them\n",
        "  1. Understand the Keras functional API and how to build a deep and wide model with it\n",
        "\n",
        "## Introduction\n",
        "\n",
        "In the last notebook, we learned about the Keras Sequential API. The [Keras Functional API](https://www.tensorflow.org/guide/keras#functional_api) provides an alternate way of building models which is more flexible. With the Functional API, we can build models with more complex topologies, multiple input or output layers, shared layers or non-sequential data flows (e.g. residual layers).\n",
        "\n",
        "In this notebook we'll use what we learned about feature columns to build a Wide & Deep model. Recall, that the idea behind Wide & Deep models is to join the two methods of learning through memorization and generalization by making a wide linear model and a deep learning model to accommodate both. You can have a look at the original research paper here: [Wide & Deep Learning for Recommender Systems](https://arxiv.org/abs/1606.07792).\n",
        "\n",
        "<img src='assets/wide_deep.png' width='80%'>\n",
        "<sup>(image: https://ai.googleblog.com/2016/06/wide-deep-learning-better-together-with.html)</sup>\n",
        "\n",
        "The Wide part of the model is associated with the memory element. In this case, we train a linear model with a wide set of crossed features and learn the correlation of this related data with the assigned label. The Deep part of the model is associated with the generalization element where we use embedding vectors for features. The best embeddings are then learned through the training process. While both of these methods can work well alone, Wide & Deep models excel by combining these techniques together.\n",
        "\n",
        "Each learning objective will correspond to a __#TODO__  in this student lab notebook -- try to complete this notebook first and then review the [solution notebook](https://github.com/GoogleCloudPlatform/training-data-analyst/blob/master/courses/machine_learning/deepdive2/introduction_to_tensorflow/solutions/4_keras_functional_api.ipynb)\n"
      ]
    },
    {
      "cell_type": "code",
      "metadata": {
        "colab": {
          "base_uri": "https://localhost:8080/"
        },
        "id": "yjBYsaA_jPnA",
        "outputId": "889533be-f016-4019-fad4-58be68378e41"
      },
      "source": [
        "# Ensure the right version of Tensorflow is installed.\n",
        "!pip freeze | grep tensorflow==2.3 || pip install tensorflow==2.3"
      ],
      "execution_count": 2,
      "outputs": [
        {
          "output_type": "stream",
          "text": [
            "Collecting tensorflow==2.3\n",
            "\u001b[?25l  Downloading https://files.pythonhosted.org/packages/16/89/f2d29c2eafc2eeafb17d5634340e06366af904d332341200a49d954bce85/tensorflow-2.3.0-cp37-cp37m-manylinux2010_x86_64.whl (320.4MB)\n",
            "\u001b[K     |████████████████████████████████| 320.4MB 50kB/s \n",
            "\u001b[?25hRequirement already satisfied: keras-preprocessing<1.2,>=1.1.1 in /usr/local/lib/python3.7/dist-packages (from tensorflow==2.3) (1.1.2)\n",
            "Requirement already satisfied: absl-py>=0.7.0 in /usr/local/lib/python3.7/dist-packages (from tensorflow==2.3) (0.12.0)\n",
            "Requirement already satisfied: wheel>=0.26 in /usr/local/lib/python3.7/dist-packages (from tensorflow==2.3) (0.36.2)\n",
            "Requirement already satisfied: protobuf>=3.9.2 in /usr/local/lib/python3.7/dist-packages (from tensorflow==2.3) (3.12.4)\n",
            "Requirement already satisfied: termcolor>=1.1.0 in /usr/local/lib/python3.7/dist-packages (from tensorflow==2.3) (1.1.0)\n",
            "Collecting tensorflow-estimator<2.4.0,>=2.3.0\n",
            "\u001b[?25l  Downloading https://files.pythonhosted.org/packages/e9/ed/5853ec0ae380cba4588eab1524e18ece1583b65f7ae0e97321f5ff9dfd60/tensorflow_estimator-2.3.0-py2.py3-none-any.whl (459kB)\n",
            "\u001b[K     |████████████████████████████████| 460kB 28.3MB/s \n",
            "\u001b[?25hRequirement already satisfied: wrapt>=1.11.1 in /usr/local/lib/python3.7/dist-packages (from tensorflow==2.3) (1.12.1)\n",
            "Requirement already satisfied: six>=1.12.0 in /usr/local/lib/python3.7/dist-packages (from tensorflow==2.3) (1.15.0)\n",
            "Requirement already satisfied: gast==0.3.3 in /usr/local/lib/python3.7/dist-packages (from tensorflow==2.3) (0.3.3)\n",
            "Requirement already satisfied: tensorboard<3,>=2.3.0 in /usr/local/lib/python3.7/dist-packages (from tensorflow==2.3) (2.4.1)\n",
            "Requirement already satisfied: grpcio>=1.8.6 in /usr/local/lib/python3.7/dist-packages (from tensorflow==2.3) (1.32.0)\n",
            "Requirement already satisfied: h5py<2.11.0,>=2.10.0 in /usr/local/lib/python3.7/dist-packages (from tensorflow==2.3) (2.10.0)\n",
            "Requirement already satisfied: opt-einsum>=2.3.2 in /usr/local/lib/python3.7/dist-packages (from tensorflow==2.3) (3.3.0)\n",
            "Requirement already satisfied: scipy==1.4.1 in /usr/local/lib/python3.7/dist-packages (from tensorflow==2.3) (1.4.1)\n",
            "Collecting numpy<1.19.0,>=1.16.0\n",
            "\u001b[?25l  Downloading https://files.pythonhosted.org/packages/d6/c6/58e517e8b1fb192725cfa23c01c2e60e4e6699314ee9684a1c5f5c9b27e1/numpy-1.18.5-cp37-cp37m-manylinux1_x86_64.whl (20.1MB)\n",
            "\u001b[K     |████████████████████████████████| 20.1MB 1.7MB/s \n",
            "\u001b[?25hRequirement already satisfied: astunparse==1.6.3 in /usr/local/lib/python3.7/dist-packages (from tensorflow==2.3) (1.6.3)\n",
            "Requirement already satisfied: google-pasta>=0.1.8 in /usr/local/lib/python3.7/dist-packages (from tensorflow==2.3) (0.2.0)\n",
            "Requirement already satisfied: setuptools in /usr/local/lib/python3.7/dist-packages (from protobuf>=3.9.2->tensorflow==2.3) (54.2.0)\n",
            "Requirement already satisfied: tensorboard-plugin-wit>=1.6.0 in /usr/local/lib/python3.7/dist-packages (from tensorboard<3,>=2.3.0->tensorflow==2.3) (1.8.0)\n",
            "Requirement already satisfied: markdown>=2.6.8 in /usr/local/lib/python3.7/dist-packages (from tensorboard<3,>=2.3.0->tensorflow==2.3) (3.3.4)\n",
            "Requirement already satisfied: werkzeug>=0.11.15 in /usr/local/lib/python3.7/dist-packages (from tensorboard<3,>=2.3.0->tensorflow==2.3) (1.0.1)\n",
            "Requirement already satisfied: requests<3,>=2.21.0 in /usr/local/lib/python3.7/dist-packages (from tensorboard<3,>=2.3.0->tensorflow==2.3) (2.23.0)\n",
            "Requirement already satisfied: google-auth-oauthlib<0.5,>=0.4.1 in /usr/local/lib/python3.7/dist-packages (from tensorboard<3,>=2.3.0->tensorflow==2.3) (0.4.3)\n",
            "Requirement already satisfied: google-auth<2,>=1.6.3 in /usr/local/lib/python3.7/dist-packages (from tensorboard<3,>=2.3.0->tensorflow==2.3) (1.28.0)\n",
            "Requirement already satisfied: importlib-metadata; python_version < \"3.8\" in /usr/local/lib/python3.7/dist-packages (from markdown>=2.6.8->tensorboard<3,>=2.3.0->tensorflow==2.3) (3.8.1)\n",
            "Requirement already satisfied: idna<3,>=2.5 in /usr/local/lib/python3.7/dist-packages (from requests<3,>=2.21.0->tensorboard<3,>=2.3.0->tensorflow==2.3) (2.10)\n",
            "Requirement already satisfied: chardet<4,>=3.0.2 in /usr/local/lib/python3.7/dist-packages (from requests<3,>=2.21.0->tensorboard<3,>=2.3.0->tensorflow==2.3) (3.0.4)\n",
            "Requirement already satisfied: certifi>=2017.4.17 in /usr/local/lib/python3.7/dist-packages (from requests<3,>=2.21.0->tensorboard<3,>=2.3.0->tensorflow==2.3) (2020.12.5)\n",
            "Requirement already satisfied: urllib3!=1.25.0,!=1.25.1,<1.26,>=1.21.1 in /usr/local/lib/python3.7/dist-packages (from requests<3,>=2.21.0->tensorboard<3,>=2.3.0->tensorflow==2.3) (1.24.3)\n",
            "Requirement already satisfied: requests-oauthlib>=0.7.0 in /usr/local/lib/python3.7/dist-packages (from google-auth-oauthlib<0.5,>=0.4.1->tensorboard<3,>=2.3.0->tensorflow==2.3) (1.3.0)\n",
            "Requirement already satisfied: pyasn1-modules>=0.2.1 in /usr/local/lib/python3.7/dist-packages (from google-auth<2,>=1.6.3->tensorboard<3,>=2.3.0->tensorflow==2.3) (0.2.8)\n",
            "Requirement already satisfied: rsa<5,>=3.1.4; python_version >= \"3.6\" in /usr/local/lib/python3.7/dist-packages (from google-auth<2,>=1.6.3->tensorboard<3,>=2.3.0->tensorflow==2.3) (4.7.2)\n",
            "Requirement already satisfied: cachetools<5.0,>=2.0.0 in /usr/local/lib/python3.7/dist-packages (from google-auth<2,>=1.6.3->tensorboard<3,>=2.3.0->tensorflow==2.3) (4.2.1)\n",
            "Requirement already satisfied: zipp>=0.5 in /usr/local/lib/python3.7/dist-packages (from importlib-metadata; python_version < \"3.8\"->markdown>=2.6.8->tensorboard<3,>=2.3.0->tensorflow==2.3) (3.4.1)\n",
            "Requirement already satisfied: typing-extensions>=3.6.4; python_version < \"3.8\" in /usr/local/lib/python3.7/dist-packages (from importlib-metadata; python_version < \"3.8\"->markdown>=2.6.8->tensorboard<3,>=2.3.0->tensorflow==2.3) (3.7.4.3)\n",
            "Requirement already satisfied: oauthlib>=3.0.0 in /usr/local/lib/python3.7/dist-packages (from requests-oauthlib>=0.7.0->google-auth-oauthlib<0.5,>=0.4.1->tensorboard<3,>=2.3.0->tensorflow==2.3) (3.1.0)\n",
            "Requirement already satisfied: pyasn1<0.5.0,>=0.4.6 in /usr/local/lib/python3.7/dist-packages (from pyasn1-modules>=0.2.1->google-auth<2,>=1.6.3->tensorboard<3,>=2.3.0->tensorflow==2.3) (0.4.8)\n",
            "\u001b[31mERROR: datascience 0.10.6 has requirement folium==0.2.1, but you'll have folium 0.8.3 which is incompatible.\u001b[0m\n",
            "\u001b[31mERROR: albumentations 0.1.12 has requirement imgaug<0.2.7,>=0.2.5, but you'll have imgaug 0.2.9 which is incompatible.\u001b[0m\n",
            "Installing collected packages: tensorflow-estimator, numpy, tensorflow\n",
            "  Found existing installation: tensorflow-estimator 2.4.0\n",
            "    Uninstalling tensorflow-estimator-2.4.0:\n",
            "      Successfully uninstalled tensorflow-estimator-2.4.0\n",
            "  Found existing installation: numpy 1.19.5\n",
            "    Uninstalling numpy-1.19.5:\n",
            "      Successfully uninstalled numpy-1.19.5\n",
            "  Found existing installation: tensorflow 2.4.1\n",
            "    Uninstalling tensorflow-2.4.1:\n",
            "      Successfully uninstalled tensorflow-2.4.1\n",
            "Successfully installed numpy-1.18.5 tensorflow-2.3.0 tensorflow-estimator-2.3.0\n"
          ],
          "name": "stdout"
        }
      ]
    },
    {
      "cell_type": "markdown",
      "metadata": {
        "id": "mSVl0agFjPnB"
      },
      "source": [
        "Kindly ignore the deprecation warnings and incompatibility errors."
      ]
    },
    {
      "cell_type": "markdown",
      "metadata": {
        "id": "R6pQ1sdvjPnC"
      },
      "source": [
        "Start by importing the necessary libraries for this lab."
      ]
    },
    {
      "cell_type": "code",
      "metadata": {
        "colab": {
          "base_uri": "https://localhost:8080/"
        },
        "id": "lx1146KNjPnC",
        "outputId": "898f2fbf-8876-4d56-b5a6-96daf1173bcc"
      },
      "source": [
        "import datetime\n",
        "import os\n",
        "import shutil\n",
        "\n",
        "import numpy as np\n",
        "import pandas as pd\n",
        "import tensorflow as tf\n",
        "\n",
        "from matplotlib import pyplot as plt\n",
        "from tensorflow import keras\n",
        "\n",
        "from tensorflow import feature_column as fc\n",
        "\n",
        "from tensorflow.keras import Model\n",
        "from tensorflow.keras.layers import (\n",
        "    Input, Dense, DenseFeatures, concatenate)\n",
        "from tensorflow.keras.callbacks import TensorBoard\n",
        "\n",
        "print(tf.__version__)"
      ],
      "execution_count": 3,
      "outputs": [
        {
          "output_type": "stream",
          "text": [
            "2.3.0\n"
          ],
          "name": "stdout"
        }
      ]
    },
    {
      "cell_type": "code",
      "metadata": {
        "id": "3buzmMHxjPnD"
      },
      "source": [
        "%matplotlib inline"
      ],
      "execution_count": 4,
      "outputs": []
    },
    {
      "cell_type": "markdown",
      "metadata": {
        "id": "l0Uq4YGTjPnE"
      },
      "source": [
        "## Use tf.data to read the CSV files\n",
        "\n",
        "We wrote these functions for reading data from the csv files above in the [previous notebook](2_dataset_api.ipynb). For this lab we will also include some additional engineered features in our model. In particular, we will compute the difference in latitude and longitude, as well as the Euclidean distance between the pick-up and drop-off locations. We can accomplish this by adding these new features to the features dictionary with the function `add_engineered_features` below. \n",
        "\n",
        "Note that we include a call to this function when collecting our features dict and labels in the `features_and_labels` function below as well. "
      ]
    },
    {
      "cell_type": "code",
      "metadata": {
        "id": "xiRgQtvjjPnF"
      },
      "source": [
        "CSV_COLUMNS = [\n",
        "    'fare_amount',\n",
        "    'pickup_datetime',\n",
        "    'pickup_longitude',\n",
        "    'pickup_latitude',\n",
        "    'dropoff_longitude',\n",
        "    'dropoff_latitude',\n",
        "    'passenger_count',\n",
        "    'key'\n",
        "]\n",
        "LABEL_COLUMN = 'fare_amount'\n",
        "DEFAULTS = [[0.0], ['na'], [0.0], [0.0], [0.0], [0.0], [0.0], ['na']]\n",
        "UNWANTED_COLS = ['pickup_datetime', 'key']\n",
        "\n",
        "\n",
        "def features_and_labels(row_data):\n",
        "    label = row_data.pop(LABEL_COLUMN)\n",
        "    features = row_data\n",
        "        \n",
        "    for unwanted_col in UNWANTED_COLS:\n",
        "        features.pop(unwanted_col)\n",
        "\n",
        "    return features, label\n",
        "\n",
        "\n",
        "def create_dataset(pattern, batch_size=1, mode='eval'):\n",
        "    dataset = tf.data.experimental.make_csv_dataset(\n",
        "        pattern, batch_size, CSV_COLUMNS, DEFAULTS)\n",
        "\n",
        "    dataset = dataset.map(features_and_labels)\n",
        "    \n",
        "    if mode == 'train':\n",
        "        dataset = dataset.shuffle(buffer_size=1000).repeat()\n",
        "\n",
        "    # take advantage of multi-threading; 1=AUTOTUNE\n",
        "    dataset = dataset.prefetch(1)\n",
        "    return dataset"
      ],
      "execution_count": 5,
      "outputs": []
    },
    {
      "cell_type": "markdown",
      "metadata": {
        "id": "CM6hs1qzjPnF"
      },
      "source": [
        "## Feature columns for Wide and Deep model\n",
        "\n",
        "For the Wide columns, we will create feature columns of crossed features. To do this, we'll create a collection of Tensorflow feature columns to pass to the `tf.feature_column.crossed_column` constructor. The Deep columns will consist of numeric columns and the embedding columns we want to create. "
      ]
    },
    {
      "cell_type": "markdown",
      "metadata": {
        "id": "da3t1QewjPnG"
      },
      "source": [
        "**Lab Task #1:** In the cell below, create feature columns for our wide-and-deep model. You'll need to build \n",
        "1. bucketized columns using [tf.feature_column.bucketized_column](https://www.tensorflow.org/api_docs/python/tf/feature_column/bucketized_column) for the pickup and dropoff latitude and longitude,\n",
        "2. crossed columns using [tf.feature_column.crossed_column](https://www.tensorflow.org/api_docs/python/tf/feature_column/crossed_column) for those bucketized columns, and \n",
        "3. embedding columns using [tf.feature_column.embedding_column](https://www.tensorflow.org/api_docs/python/tf/feature_column/embedding_column) for the crossed columns."
      ]
    },
    {
      "cell_type": "code",
      "metadata": {
        "id": "xuZqFpj3jPnG"
      },
      "source": [
        "# TODO 1\n",
        "\n",
        "# 1. Bucketize latitudes and longitudes\n",
        "NBUCKETS = 16\n",
        "latbuckets = np.linspace(start=38.0, stop=42.0, num=NBUCKETS).tolist()\n",
        "lonbuckets = np.linspace(start=-76.0, stop=-72.0, num=NBUCKETS).tolist()\n",
        "\n",
        "fc_bucketized_plat = fc.bucketized_column(fc.numeric_column(\"pickup_latitude\"), boundaries=latbuckets) # TODO: Your code goes here.\n",
        "fc_bucketized_plon = fc.bucketized_column(fc.numeric_column(\"pickup_longitude\"), boundaries=lonbuckets) # TODO: Your code goes here.\n",
        "fc_bucketized_dlat = fc.bucketized_column(fc.numeric_column(\"dropoff_latitude\"), boundaries=latbuckets) # TODO: Your code goes here.\n",
        "fc_bucketized_dlon = fc.bucketized_column(fc.numeric_column(\"dropoff_longitude\"), boundaries=lonbuckets) # TODO: Your code goes here.\n",
        "\n",
        "# 2. Cross features for locations\n",
        "fc_crossed_dloc = fc.crossed_column([fc_bucketized_dlat, fc_bucketized_dlon], hash_bucket_size=NBUCKETS * NBUCKETS) # TODO: Your code goes here.\n",
        "fc_crossed_ploc = fc.crossed_column([fc_bucketized_plat, fc_bucketized_plon], hash_bucket_size=NBUCKETS * NBUCKETS) # TODO: Your code goes here.\n",
        "fc_crossed_pd_pair = fc.crossed_column([fc_crossed_dloc, fc_crossed_ploc], hash_bucket_size=NBUCKETS**4) # TODO: Your code goes here.\n",
        "\n",
        "# 3. Create embedding columns for the crossed columns\n",
        "fc_pd_pair = fc.embedding_column(categorical_column=fc_crossed_pd_pair, dimension=3) # TODO: Your code goes here.\n",
        "fc_dloc = fc.embedding_column(categorical_column=fc_crossed_dloc, dimension=3) # TODO: Your code goes here.\n",
        "fc_ploc = fc.embedding_column(categorical_column=fc_crossed_ploc, dimension=3) # TODO: Your code goes here."
      ],
      "execution_count": 6,
      "outputs": []
    },
    {
      "cell_type": "markdown",
      "metadata": {
        "id": "eaN3Xc2cjPnH"
      },
      "source": [
        "### Gather list of feature columns\n",
        "\n",
        "Next we gather the list of wide and deep feature columns we'll pass to our Wide & Deep model in Tensorflow. Recall, wide columns are sparse, have linear relationship with the output while continuous columns are deep, have a complex relationship with the output. We will use our previously bucketized columns to collect crossed feature columns and sparse feature columns for our wide columns, and embedding feature columns and numeric features columns for the deep columns."
      ]
    },
    {
      "cell_type": "markdown",
      "metadata": {
        "id": "ZuaocdEBjPnI"
      },
      "source": [
        "**Lab Task #2:** Collect the wide and deep columns into two separate lists. You'll have two lists: One called `wide_columns` containing the one-hot encoded features from the crossed features and one called `deep_columns` which contains numeric and embedding feature columns."
      ]
    },
    {
      "cell_type": "code",
      "metadata": {
        "id": "eHbh3Ih1jPnI"
      },
      "source": [
        "# TODO 2\n",
        "wide_columns = [\n",
        "    # One-hot encoded feature crosses\n",
        "    # TODO: Your code goes here.\n",
        "    fc.indicator_column(fc_crossed_dloc),\n",
        "    fc.indicator_column(fc_crossed_ploc),\n",
        "    fc.indicator_column(fc_crossed_pd_pair)\n",
        "]\n",
        "\n",
        "deep_columns = [\n",
        "    # Embedding_column to \"group\" together ...\n",
        "    # TODO: Your code goes here.\n",
        "    fc.embedding_column(fc_crossed_pd_pair, dimension=10),\n",
        "    # Numeric columns\n",
        "    # TODO: Your code goes here.\n",
        "    fc.numeric_column(\"pickup_latitude\"),\n",
        "    fc.numeric_column(\"pickup_longitude\"),\n",
        "    fc.numeric_column(\"dropoff_longitude\"),\n",
        "    fc.numeric_column(\"dropoff_latitude\")\n",
        "]"
      ],
      "execution_count": 7,
      "outputs": []
    },
    {
      "cell_type": "markdown",
      "metadata": {
        "id": "ir53q3HOjPnJ"
      },
      "source": [
        "## Build a Wide and Deep model in Keras\n",
        "\n",
        "To build a wide-and-deep network, we connect the sparse (i.e. wide) features directly to the output node, but pass the dense (i.e. deep) features through a set of fully connected layers. Here’s that model architecture looks using the Functional API.\n",
        "\n",
        "First, we'll create our input columns using [tf.keras.layers.Input](https://www.tensorflow.org/versions/r2.0/api_docs/python/tf/keras/Input)."
      ]
    },
    {
      "cell_type": "code",
      "metadata": {
        "id": "r0K19pwHjPnK"
      },
      "source": [
        "INPUT_COLS = [\n",
        "    'pickup_longitude',\n",
        "    'pickup_latitude',\n",
        "    'dropoff_longitude',\n",
        "    'dropoff_latitude',\n",
        "    'passenger_count'\n",
        "]\n",
        "\n",
        "inputs = {colname : Input(name=colname, shape=(), dtype='float32')\n",
        "          for colname in INPUT_COLS\n",
        "}"
      ],
      "execution_count": 8,
      "outputs": []
    },
    {
      "cell_type": "markdown",
      "metadata": {
        "id": "xMoNAW26jPnK"
      },
      "source": [
        "Then, we'll define our custom RMSE evaluation metric and build our wide and deep model."
      ]
    },
    {
      "cell_type": "markdown",
      "metadata": {
        "id": "lFmK1M1MjPnL"
      },
      "source": [
        "**Lab Task #3:** Complete the code in the function `build_model` below so that it returns a compiled Keras model. The argument `dnn_hidden_units` should represent the number of units in each layer of your network. Use the Functional API to build a wide-and-deep model. Use the `deep_columns` you created above to build the deep layers and the `wide_columns` to create the wide layers. Once you have the wide and deep components, you will combine them to feed to a final fully connected layer. "
      ]
    },
    {
      "cell_type": "code",
      "metadata": {
        "id": "GlQum_FwjPnL"
      },
      "source": [
        "def rmse(y_true, y_pred):\n",
        "    return tf.sqrt(tf.reduce_mean(tf.square(y_pred - y_true)))\n",
        "\n",
        "# TODO 3\n",
        "def build_model(dnn_hidden_units):\n",
        "    # Create the deep part of model\n",
        "    deep = DenseFeatures(deep_columns, name='deep_inputs')(inputs) # TODO: Your code goes here.\n",
        "    for num_nodes in dnn_hidden_units:\n",
        "        deep = Dense(num_nodes, activation='relu')(deep) \n",
        "    \n",
        "    # Create the wide part of model\n",
        "    wide = DenseFeatures(wide_columns, name='wide_inputs')(inputs) # TODO: Your code goes here.\n",
        "\n",
        "    # Combine deep and wide parts of the model\n",
        "    combined = concatenate(inputs=[deep, wide], name='combined') # TODO: Your code goes here.\n",
        "\n",
        "    # Map the combined outputs into a single prediction value\n",
        "    output = Dense(units=1, activation=None, name='prediction')(combined) # TODO: Your code goes here.\n",
        "    \n",
        "    # Finalize the model\n",
        "    model = Model(inputs=list(inputs.values()), outputs=output) # TODO: Your code goes here.\n",
        "\n",
        "    # Compile the keras model\n",
        "    model.compile(optimizer=\"adam\", loss=\"mse\", metrics=[rmse, \"mse\"]) # TODO: Your code goes here.\n",
        "    \n",
        "    return model"
      ],
      "execution_count": 9,
      "outputs": []
    },
    {
      "cell_type": "markdown",
      "metadata": {
        "id": "jdEBkN7ujPnL"
      },
      "source": [
        "Next, we can call the `build_model` to create the model. Here we'll have two hidden layers, each with 10 neurons, for the deep part of our model. We can also use `plot_model` to see a diagram of the model we've created."
      ]
    },
    {
      "cell_type": "code",
      "metadata": {
        "colab": {
          "base_uri": "https://localhost:8080/",
          "height": 341
        },
        "id": "tCjr5UvtjPnM",
        "outputId": "67b0aaaa-b66f-4191-b384-082a2407bcda"
      },
      "source": [
        "HIDDEN_UNITS = [10,10]\n",
        "\n",
        "model = build_model(dnn_hidden_units=HIDDEN_UNITS)\n",
        "\n",
        "tf.keras.utils.plot_model(model, show_shapes=False, rankdir='LR')"
      ],
      "execution_count": 10,
      "outputs": [
        {
          "output_type": "execute_result",
          "data": {
            "image/png": "[encoded data removed]",
            "text/plain": [
              "<IPython.core.display.Image object>"
            ]
          },
          "metadata": {
            "tags": []
          },
          "execution_count": 10
        }
      ]
    },
    {
      "cell_type": "markdown",
      "metadata": {
        "id": "BoEqxWZOjPnM"
      },
      "source": [
        "Next, we'll set up our training variables, create our datasets for training and validation, and train our model.\n",
        "\n",
        "(We refer you the the blog post [ML Design Pattern #3: Virtual Epochs](https://medium.com/google-cloud/ml-design-pattern-3-virtual-epochs-f842296de730) for further details on why express the training in terms of `NUM_TRAIN_EXAMPLES` and `NUM_EVALS` and why, in this training code, the number of epochs is really equal to the number of evaluations we perform.)"
      ]
    },
    {
      "cell_type": "code",
      "metadata": {
        "id": "aErVE9v-jPnM"
      },
      "source": [
        "BATCH_SIZE = 1000\n",
        "NUM_TRAIN_EXAMPLES = 10000 * 5  # training dataset will repeat, wrap around\n",
        "NUM_EVALS = 50  # how many times to evaluate\n",
        "NUM_EVAL_EXAMPLES = 10000  # enough to get a reasonable sample\n",
        "\n",
        "trainds = create_dataset(\n",
        "    pattern='/content/taxi-train.csv',\n",
        "    batch_size=BATCH_SIZE,\n",
        "    mode='train')\n",
        "\n",
        "evalds = create_dataset(\n",
        "    pattern='/content/taxi-valid.csv',\n",
        "    batch_size=BATCH_SIZE,\n",
        "    mode='eval').take(NUM_EVAL_EXAMPLES//1000)"
      ],
      "execution_count": 12,
      "outputs": []
    },
    {
      "cell_type": "code",
      "metadata": {
        "colab": {
          "base_uri": "https://localhost:8080/"
        },
        "id": "X9r-TB-sjPnN",
        "outputId": "422aa7b3-a322-4945-fbc0-b55d4a2c671b"
      },
      "source": [
        "%%time\n",
        "steps_per_epoch = NUM_TRAIN_EXAMPLES // (BATCH_SIZE * NUM_EVALS)\n",
        "\n",
        "OUTDIR = \"./taxi_trained\"\n",
        "shutil.rmtree(path=OUTDIR, ignore_errors=True) # start fresh each time\n",
        "\n",
        "history = model.fit(x=trainds,\n",
        "                    steps_per_epoch=steps_per_epoch,\n",
        "                    epochs=NUM_EVALS,\n",
        "                    validation_data=evalds,\n",
        "                    callbacks=[TensorBoard(OUTDIR)])"
      ],
      "execution_count": 13,
      "outputs": [
        {
          "output_type": "stream",
          "text": [
            "Epoch 1/50\n",
            "1/1 [==============================] - 3s 3s/step - loss: 236.7240 - rmse: 15.3858 - mse: 236.7240 - val_loss: 207.3183 - val_rmse: 14.3918 - val_mse: 207.3183\n",
            "Epoch 2/50\n",
            "WARNING:tensorflow:From /usr/local/lib/python3.7/dist-packages/tensorflow/python/ops/summary_ops_v2.py:1277: stop (from tensorflow.python.eager.profiler) is deprecated and will be removed after 2020-07-01.\n",
            "Instructions for updating:\n",
            "use `tf.profiler.experimental.stop` instead.\n",
            "1/1 [==============================] - 3s 3s/step - loss: 199.7763 - rmse: 14.1342 - mse: 199.7763 - val_loss: 204.0618 - val_rmse: 14.2801 - val_mse: 204.0618\n",
            "Epoch 3/50\n",
            "1/1 [==============================] - 3s 3s/step - loss: 212.5814 - rmse: 14.5802 - mse: 212.5814 - val_loss: 198.0387 - val_rmse: 14.0651 - val_mse: 198.0387\n",
            "Epoch 4/50\n",
            "1/1 [==============================] - 3s 3s/step - loss: 196.8956 - rmse: 14.0319 - mse: 196.8956 - val_loss: 192.1384 - val_rmse: 13.8574 - val_mse: 192.1384\n",
            "Epoch 5/50\n",
            "1/1 [==============================] - 3s 3s/step - loss: 221.2608 - rmse: 14.8748 - mse: 221.2608 - val_loss: 187.8473 - val_rmse: 13.7014 - val_mse: 187.8473\n",
            "Epoch 6/50\n",
            "1/1 [==============================] - 3s 3s/step - loss: 219.3816 - rmse: 14.8115 - mse: 219.3816 - val_loss: 182.6384 - val_rmse: 13.5073 - val_mse: 182.6384\n",
            "Epoch 7/50\n",
            "1/1 [==============================] - 3s 3s/step - loss: 197.8642 - rmse: 14.0664 - mse: 197.8642 - val_loss: 180.5114 - val_rmse: 13.4298 - val_mse: 180.5114\n",
            "Epoch 8/50\n",
            "1/1 [==============================] - 3s 3s/step - loss: 174.8662 - rmse: 13.2237 - mse: 174.8662 - val_loss: 174.9664 - val_rmse: 13.2246 - val_mse: 174.9664\n",
            "Epoch 9/50\n",
            "1/1 [==============================] - 3s 3s/step - loss: 178.5899 - rmse: 13.3638 - mse: 178.5899 - val_loss: 170.1410 - val_rmse: 13.0396 - val_mse: 170.1410\n",
            "Epoch 10/50\n",
            "1/1 [==============================] - 3s 3s/step - loss: 153.6517 - rmse: 12.3956 - mse: 153.6517 - val_loss: 166.4881 - val_rmse: 12.8970 - val_mse: 166.4881\n",
            "Epoch 11/50\n",
            "1/1 [==============================] - 3s 3s/step - loss: 166.5911 - rmse: 12.9070 - mse: 166.5911 - val_loss: 161.3778 - val_rmse: 12.6980 - val_mse: 161.3778\n",
            "Epoch 12/50\n",
            "1/1 [==============================] - 3s 3s/step - loss: 161.6480 - rmse: 12.7141 - mse: 161.6480 - val_loss: 156.3931 - val_rmse: 12.4898 - val_mse: 156.3931\n",
            "Epoch 13/50\n",
            "1/1 [==============================] - 3s 3s/step - loss: 146.3735 - rmse: 12.0985 - mse: 146.3735 - val_loss: 152.8031 - val_rmse: 12.3566 - val_mse: 152.8031\n",
            "Epoch 14/50\n",
            "1/1 [==============================] - 3s 3s/step - loss: 174.1308 - rmse: 13.1959 - mse: 174.1308 - val_loss: 147.4244 - val_rmse: 12.1347 - val_mse: 147.4244\n",
            "Epoch 15/50\n",
            "1/1 [==============================] - 3s 3s/step - loss: 147.5325 - rmse: 12.1463 - mse: 147.5325 - val_loss: 144.2572 - val_rmse: 12.0077 - val_mse: 144.2572\n",
            "Epoch 16/50\n",
            "1/1 [==============================] - 3s 3s/step - loss: 157.2292 - rmse: 12.5391 - mse: 157.2292 - val_loss: 139.6677 - val_rmse: 11.8109 - val_mse: 139.6677\n",
            "Epoch 17/50\n",
            "1/1 [==============================] - 3s 3s/step - loss: 159.9805 - rmse: 12.6483 - mse: 159.9805 - val_loss: 136.0161 - val_rmse: 11.6591 - val_mse: 136.0161\n",
            "Epoch 18/50\n",
            "1/1 [==============================] - 3s 3s/step - loss: 130.9173 - rmse: 11.4419 - mse: 130.9173 - val_loss: 130.5531 - val_rmse: 11.4223 - val_mse: 130.5531\n",
            "Epoch 19/50\n",
            "1/1 [==============================] - 3s 3s/step - loss: 171.8003 - rmse: 13.1073 - mse: 171.8003 - val_loss: 125.5967 - val_rmse: 11.1946 - val_mse: 125.5967\n",
            "Epoch 20/50\n",
            "1/1 [==============================] - 3s 3s/step - loss: 110.6001 - rmse: 10.5167 - mse: 110.6001 - val_loss: 122.8434 - val_rmse: 11.0808 - val_mse: 122.8434\n",
            "Epoch 21/50\n",
            "1/1 [==============================] - 3s 3s/step - loss: 124.0830 - rmse: 11.1393 - mse: 124.0830 - val_loss: 120.0676 - val_rmse: 10.9487 - val_mse: 120.0676\n",
            "Epoch 22/50\n",
            "1/1 [==============================] - 3s 3s/step - loss: 156.8033 - rmse: 12.5221 - mse: 156.8033 - val_loss: 115.7191 - val_rmse: 10.7540 - val_mse: 115.7191\n",
            "Epoch 23/50\n",
            "1/1 [==============================] - 3s 3s/step - loss: 111.4087 - rmse: 10.5550 - mse: 111.4087 - val_loss: 113.8220 - val_rmse: 10.6638 - val_mse: 113.8220\n",
            "Epoch 24/50\n",
            "1/1 [==============================] - 3s 3s/step - loss: 148.2302 - rmse: 12.1750 - mse: 148.2302 - val_loss: 109.1857 - val_rmse: 10.4440 - val_mse: 109.1857\n",
            "Epoch 25/50\n",
            "1/1 [==============================] - 3s 3s/step - loss: 167.6039 - rmse: 12.9462 - mse: 167.6039 - val_loss: 106.2566 - val_rmse: 10.3040 - val_mse: 106.2566\n",
            "Epoch 26/50\n",
            "1/1 [==============================] - 3s 3s/step - loss: 125.5689 - rmse: 11.2058 - mse: 125.5689 - val_loss: 104.5231 - val_rmse: 10.2216 - val_mse: 104.5231\n",
            "Epoch 27/50\n",
            "1/1 [==============================] - 3s 3s/step - loss: 103.8892 - rmse: 10.1926 - mse: 103.8892 - val_loss: 101.3000 - val_rmse: 10.0573 - val_mse: 101.3000\n",
            "Epoch 28/50\n",
            "1/1 [==============================] - 3s 3s/step - loss: 108.3151 - rmse: 10.4075 - mse: 108.3151 - val_loss: 99.2368 - val_rmse: 9.9585 - val_mse: 99.2368\n",
            "Epoch 29/50\n",
            "1/1 [==============================] - 3s 3s/step - loss: 112.2813 - rmse: 10.5963 - mse: 112.2813 - val_loss: 96.4499 - val_rmse: 9.8116 - val_mse: 96.4499\n",
            "Epoch 30/50\n",
            "1/1 [==============================] - 3s 3s/step - loss: 118.2903 - rmse: 10.8761 - mse: 118.2903 - val_loss: 94.3286 - val_rmse: 9.7018 - val_mse: 94.3286\n",
            "Epoch 31/50\n",
            "1/1 [==============================] - 3s 3s/step - loss: 117.0838 - rmse: 10.8205 - mse: 117.0838 - val_loss: 92.1271 - val_rmse: 9.5881 - val_mse: 92.1271\n",
            "Epoch 32/50\n",
            "1/1 [==============================] - 3s 3s/step - loss: 121.4404 - rmse: 11.0200 - mse: 121.4404 - val_loss: 91.4733 - val_rmse: 9.5548 - val_mse: 91.4733\n",
            "Epoch 33/50\n",
            "1/1 [==============================] - 3s 3s/step - loss: 98.7650 - rmse: 9.9381 - mse: 98.7650 - val_loss: 90.3560 - val_rmse: 9.5042 - val_mse: 90.3560\n",
            "Epoch 34/50\n",
            "1/1 [==============================] - 3s 3s/step - loss: 92.4545 - rmse: 9.6153 - mse: 92.4545 - val_loss: 90.2630 - val_rmse: 9.4894 - val_mse: 90.2630\n",
            "Epoch 35/50\n",
            "1/1 [==============================] - 3s 3s/step - loss: 100.1534 - rmse: 10.0077 - mse: 100.1534 - val_loss: 88.8403 - val_rmse: 9.4100 - val_mse: 88.8403\n",
            "Epoch 36/50\n",
            "1/1 [==============================] - 3s 3s/step - loss: 109.8141 - rmse: 10.4792 - mse: 109.8141 - val_loss: 88.6416 - val_rmse: 9.4098 - val_mse: 88.6416\n",
            "Epoch 37/50\n",
            "1/1 [==============================] - 3s 3s/step - loss: 99.4303 - rmse: 9.9715 - mse: 99.4303 - val_loss: 88.3432 - val_rmse: 9.3850 - val_mse: 88.3432\n",
            "Epoch 38/50\n",
            "1/1 [==============================] - 3s 3s/step - loss: 74.4985 - rmse: 8.6313 - mse: 74.4985 - val_loss: 88.6143 - val_rmse: 9.4113 - val_mse: 88.6143\n",
            "Epoch 39/50\n",
            "1/1 [==============================] - 3s 3s/step - loss: 110.8300 - rmse: 10.5276 - mse: 110.8300 - val_loss: 87.1111 - val_rmse: 9.3191 - val_mse: 87.1111\n",
            "Epoch 40/50\n",
            "1/1 [==============================] - 3s 3s/step - loss: 98.0179 - rmse: 9.9004 - mse: 98.0179 - val_loss: 88.0035 - val_rmse: 9.3757 - val_mse: 88.0035\n",
            "Epoch 41/50\n",
            "1/1 [==============================] - 3s 3s/step - loss: 106.7495 - rmse: 10.3320 - mse: 106.7495 - val_loss: 88.0509 - val_rmse: 9.3726 - val_mse: 88.0509\n",
            "Epoch 42/50\n",
            "1/1 [==============================] - 3s 3s/step - loss: 101.9448 - rmse: 10.0968 - mse: 101.9448 - val_loss: 89.7087 - val_rmse: 9.4657 - val_mse: 89.7087\n",
            "Epoch 43/50\n",
            "1/1 [==============================] - 3s 3s/step - loss: 100.4708 - rmse: 10.0235 - mse: 100.4708 - val_loss: 88.8108 - val_rmse: 9.4124 - val_mse: 88.8108\n",
            "Epoch 44/50\n",
            "1/1 [==============================] - 3s 3s/step - loss: 83.8542 - rmse: 9.1572 - mse: 83.8542 - val_loss: 90.2310 - val_rmse: 9.4842 - val_mse: 90.2310\n",
            "Epoch 45/50\n",
            "1/1 [==============================] - 3s 3s/step - loss: 94.2854 - rmse: 9.7101 - mse: 94.2854 - val_loss: 89.4827 - val_rmse: 9.4580 - val_mse: 89.4827\n",
            "Epoch 46/50\n",
            "1/1 [==============================] - 3s 3s/step - loss: 99.1100 - rmse: 9.9554 - mse: 99.1100 - val_loss: 90.1512 - val_rmse: 9.4865 - val_mse: 90.1512\n",
            "Epoch 47/50\n",
            "1/1 [==============================] - 3s 3s/step - loss: 113.4368 - rmse: 10.6507 - mse: 113.4368 - val_loss: 89.8437 - val_rmse: 9.4752 - val_mse: 89.8437\n",
            "Epoch 48/50\n",
            "1/1 [==============================] - 3s 3s/step - loss: 125.7841 - rmse: 11.2154 - mse: 125.7841 - val_loss: 89.2437 - val_rmse: 9.4436 - val_mse: 89.2437\n",
            "Epoch 49/50\n",
            "1/1 [==============================] - 3s 3s/step - loss: 115.8510 - rmse: 10.7634 - mse: 115.8510 - val_loss: 90.1178 - val_rmse: 9.4892 - val_mse: 90.1178\n",
            "Epoch 50/50\n",
            "1/1 [==============================] - 3s 3s/step - loss: 107.5004 - rmse: 10.3682 - mse: 107.5004 - val_loss: 89.4688 - val_rmse: 9.4434 - val_mse: 89.4688\n",
            "CPU times: user 4min 30s, sys: 20 s, total: 4min 50s\n",
            "Wall time: 2min 41s\n"
          ],
          "name": "stdout"
        }
      ]
    },
    {
      "cell_type": "markdown",
      "metadata": {
        "id": "xNXAHNGGjPnN"
      },
      "source": [
        "Just as before, we can examine the history to see how the RMSE changes through training on the train set and validation set. "
      ]
    },
    {
      "cell_type": "code",
      "metadata": {
        "colab": {
          "base_uri": "https://localhost:8080/"
        },
        "id": "xipRAQI_kifi",
        "outputId": "a3c04bf3-3a87-423c-eac9-02e916be2c0e"
      },
      "source": [
        "model.summary()"
      ],
      "execution_count": 14,
      "outputs": [
        {
          "output_type": "stream",
          "text": [
            "Model: \"functional_1\"\n",
            "__________________________________________________________________________________________________\n",
            "Layer (type)                    Output Shape         Param #     Connected to                     \n",
            "==================================================================================================\n",
            "dropoff_latitude (InputLayer)   [(None,)]            0                                            \n",
            "__________________________________________________________________________________________________\n",
            "dropoff_longitude (InputLayer)  [(None,)]            0                                            \n",
            "__________________________________________________________________________________________________\n",
            "passenger_count (InputLayer)    [(None,)]            0                                            \n",
            "__________________________________________________________________________________________________\n",
            "pickup_latitude (InputLayer)    [(None,)]            0                                            \n",
            "__________________________________________________________________________________________________\n",
            "pickup_longitude (InputLayer)   [(None,)]            0                                            \n",
            "__________________________________________________________________________________________________\n",
            "deep_inputs (DenseFeatures)     (None, 14)           655360      dropoff_latitude[0][0]           \n",
            "                                                                 dropoff_longitude[0][0]          \n",
            "                                                                 passenger_count[0][0]            \n",
            "                                                                 pickup_latitude[0][0]            \n",
            "                                                                 pickup_longitude[0][0]           \n",
            "__________________________________________________________________________________________________\n",
            "dense (Dense)                   (None, 10)           150         deep_inputs[0][0]                \n",
            "__________________________________________________________________________________________________\n",
            "dense_1 (Dense)                 (None, 10)           110         dense[0][0]                      \n",
            "__________________________________________________________________________________________________\n",
            "wide_inputs (DenseFeatures)     (None, 66048)        0           dropoff_latitude[0][0]           \n",
            "                                                                 dropoff_longitude[0][0]          \n",
            "                                                                 passenger_count[0][0]            \n",
            "                                                                 pickup_latitude[0][0]            \n",
            "                                                                 pickup_longitude[0][0]           \n",
            "__________________________________________________________________________________________________\n",
            "combined (Concatenate)          (None, 66058)        0           dense_1[0][0]                    \n",
            "                                                                 wide_inputs[0][0]                \n",
            "__________________________________________________________________________________________________\n",
            "prediction (Dense)              (None, 1)            66059       combined[0][0]                   \n",
            "==================================================================================================\n",
            "Total params: 721,679\n",
            "Trainable params: 721,679\n",
            "Non-trainable params: 0\n",
            "__________________________________________________________________________________________________\n"
          ],
          "name": "stdout"
        }
      ]
    },
    {
      "cell_type": "code",
      "metadata": {
        "colab": {
          "base_uri": "https://localhost:8080/",
          "height": 282
        },
        "id": "Bw5MONfVjPnO",
        "outputId": "c2fea4ce-0d76-4219-8e61-c0f045d2442a"
      },
      "source": [
        "RMSE_COLS = ['rmse', 'val_rmse']\n",
        "\n",
        "pd.DataFrame(history.history)[RMSE_COLS].plot()"
      ],
      "execution_count": 16,
      "outputs": [
        {
          "output_type": "execute_result",
          "data": {
            "text/plain": [
              "<matplotlib.axes._subplots.AxesSubplot at 0x7ff0f5e2db50>"
            ]
          },
          "metadata": {
            "tags": []
          },
          "execution_count": 16
        },
        {
          "output_type": "display_data",
          "data": {
            "image/png": "[encoded data removed]",
            "text/plain": [
              "<Figure size 432x288 with 1 Axes>"
            ]
          },
          "metadata": {
            "tags": [],
            "needs_background": "light"
          }
        }
      ]
    },
    {
      "cell_type": "code",
      "metadata": {
        "colab": {
          "base_uri": "https://localhost:8080/"
        },
        "id": "iwwL43MXkdJ5",
        "outputId": "3d35eaae-0623-44c8-8aa8-a55caedd5bbd"
      },
      "source": [
        "model.predict(x={\"pickup_longitude\": tf.convert_to_tensor([-73.982683]),\n",
        "                 \"pickup_latitude\": tf.convert_to_tensor([40.742104]),\n",
        "                 \"dropoff_longitude\": tf.convert_to_tensor([-73.983766]),\n",
        "                 \"dropoff_latitude\": tf.convert_to_tensor([40.755174]),\n",
        "                 \"passenger_count\": tf.convert_to_tensor([3.0])},\n",
        "              steps=1)"
      ],
      "execution_count": 17,
      "outputs": [
        {
          "output_type": "execute_result",
          "data": {
            "text/plain": [
              "array([[12.646065]], dtype=float32)"
            ]
          },
          "metadata": {
            "tags": []
          },
          "execution_count": 17
        }
      ]
    },
    {
      "cell_type": "markdown",
      "metadata": {
        "id": "S1UmlyE2jPnO"
      },
      "source": [
        "Copyright 2019 Google Inc. Licensed under the Apache License, Version 2.0 (the \"License\"); you may not use this file except in compliance with the License. You may obtain a copy of the License at http://www.apache.org/licenses/LICENSE-2.0 Unless required by applicable law or agreed to in writing, software distributed under the License is distributed on an \"AS IS\" BASIS, WITHOUT WARRANTIES OR CONDITIONS OF ANY KIND, either express or implied. See the License for the specific language governing permissions and limitations under the License"
      ]
    },
    {
      "cell_type": "code",
      "metadata": {
        "id": "NwwqOoU6jPnO"
      },
      "source": [
        ""
      ],
      "execution_count": null,
      "outputs": []
    }
  ]
}