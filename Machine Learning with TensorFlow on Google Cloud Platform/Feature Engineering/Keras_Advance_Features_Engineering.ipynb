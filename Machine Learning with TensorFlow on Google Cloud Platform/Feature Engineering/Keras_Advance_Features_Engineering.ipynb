{
  "nbformat": 4,
  "nbformat_minor": 0,
  "metadata": {
    "environment": {
      "name": "tf2-gpu.2-3.m65",
      "type": "gcloud",
      "uri": "gcr.io/deeplearning-platform-release/tf2-gpu.2-3:m65"
    },
    "kernelspec": {
      "display_name": "Python 3",
      "language": "python",
      "name": "python3"
    },
    "language_info": {
      "codemirror_mode": {
        "name": "ipython",
        "version": 3
      },
      "file_extension": ".py",
      "mimetype": "text/x-python",
      "name": "python",
      "nbconvert_exporter": "python",
      "pygments_lexer": "ipython3",
      "version": "3.7.10"
    },
    "colab": {
      "name": "Keras Advance Features Engineering.ipynb",
      "provenance": [],
      "include_colab_link": true
    }
  },
  "cells": [
    {
      "cell_type": "markdown",
      "metadata": {
        "id": "view-in-github",
        "colab_type": "text"
      },
      "source": [
        "<a href=\"https://colab.research.google.com/github/QuanPhamAnh/Coursera_Capstone/blob/main/Machine%20Learning%20with%20TensorFlow%20on%20Google%20Cloud%20Platform/Feature%20Engineering/Keras_Advance_Features_Engineering.ipynb\" target=\"_parent\"><img src=\"https://colab.research.google.com/assets/colab-badge.svg\" alt=\"Open In Colab\"/></a>"
      ]
    },
    {
      "cell_type": "markdown",
      "metadata": {
        "id": "BJHpON5ao0lZ"
      },
      "source": [
        "# Advanced Feature Engineering in Keras \n",
        "\n",
        "**Learning Objectives**\n",
        "\n",
        "1. Process temporal feature columns in Keras\n",
        "2. Use Lambda layers to perform feature engineering on geolocation features \n",
        "3. Create bucketized and crossed feature columns\n",
        " \n",
        "\n",
        "## Introduction \n",
        "\n",
        "In this notebook, we use Keras to build a taxifare price prediction model and utilize feature engineering to improve the fare amount prediction for NYC taxi cab rides. \n",
        "\n",
        "Each learning objective will correspond to a __#TODO__ in this student lab notebook -- try to complete this notebook first and then review the [Solution Notebook](https://github.com/GoogleCloudPlatform/training-data-analyst/blob/master/courses/machine_learning/deepdive2/feature_engineering/solutions/4_keras_adv_feat_eng.ipynb) for reference. \n"
      ]
    },
    {
      "cell_type": "markdown",
      "metadata": {
        "id": "1gTd5zJ_o0lx"
      },
      "source": [
        "## Set up environment variables and load necessary libraries \n",
        "We will start by importing the necessary libraries for this lab."
      ]
    },
    {
      "cell_type": "markdown",
      "metadata": {
        "id": "6NJ2ihn3o0l1"
      },
      "source": [
        "**Note:** After executing the above cell you will see the output\n",
        "`tensorflow==2.1.0` that is the installed version of tensorflow.\n",
        "You may ignore specific incompatibility errors and warnings.\n",
        "\n",
        "**Restart the kernel** (click on the reload button above)."
      ]
    },
    {
      "cell_type": "code",
      "metadata": {
        "colab": {
          "base_uri": "https://localhost:8080/"
        },
        "id": "33SPLOM-o0l1",
        "outputId": "4234cf79-1290-47c8-d7ab-1ef2c7a8b5b0"
      },
      "source": [
        "import datetime\n",
        "import logging\n",
        "import os\n",
        "\n",
        "import matplotlib.pyplot as plt\n",
        "import numpy as np\n",
        "import tensorflow as tf\n",
        "\n",
        "from tensorflow import feature_column as fc\n",
        "from tensorflow.keras import layers\n",
        "from tensorflow.keras import models\n",
        "\n",
        "# set TF error log verbosity\n",
        "logging.getLogger(\"tensorflow\").setLevel(logging.ERROR)\n",
        "\n",
        "print(tf.version.VERSION)"
      ],
      "execution_count": 1,
      "outputs": [
        {
          "output_type": "stream",
          "text": [
            "2.4.1\n"
          ],
          "name": "stdout"
        }
      ]
    },
    {
      "cell_type": "markdown",
      "metadata": {
        "id": "rpXpCTpDo0l2"
      },
      "source": [
        "## Load taxifare dataset\n",
        "\n",
        "The Taxi Fare dataset for this lab is 106,545 rows and has been pre-processed and split for use in this lab.  Note that the dataset is the same as used in the Big Query feature engineering labs.  The fare_amount is the target, the continuous value we’ll train a model to predict.  \n",
        "\n",
        "First, let's download the  .csv data by copying the data from a cloud storage bucket."
      ]
    },
    {
      "cell_type": "markdown",
      "metadata": {
        "id": "wYBdKly8o0l4"
      },
      "source": [
        "Let's check that the files were copied correctly and look like we expect them to."
      ]
    },
    {
      "cell_type": "code",
      "metadata": {
        "colab": {
          "base_uri": "https://localhost:8080/"
        },
        "id": "zHERa7zbo0l5",
        "outputId": "c99c30a4-b6ba-4ab5-81f6-b54a0f06cc73"
      },
      "source": [
        "!ls -l ../content/*.csv"
      ],
      "execution_count": 7,
      "outputs": [
        {
          "output_type": "stream",
          "text": [
            "-rw-r--r-- 1 root root 123768 Apr 13 14:32 ../content/taxi-test.csv\n",
            "-rw-r--r-- 1 root root 578339 Apr 13 14:33 ../content/taxi-train.csv\n",
            "-rw-r--r-- 1 root root 123652 Apr 13 14:32 ../content/taxi-valid.csv\n"
          ],
          "name": "stdout"
        }
      ]
    },
    {
      "cell_type": "code",
      "metadata": {
        "colab": {
          "base_uri": "https://localhost:8080/"
        },
        "id": "sU9unXSoo0l6",
        "outputId": "7d6a7b29-f2d8-478e-9215-e18e3ea97730"
      },
      "source": [
        "!head ../content/*.csv"
      ],
      "execution_count": 8,
      "outputs": [
        {
          "output_type": "stream",
          "text": [
            "==> ../content/taxi-test.csv <==\n",
            "9.5,2012-11-19 17:41:00 UTC,-73.971845,40.749722,-73.951862,40.773595,1,0\n",
            "8.5,2009-05-27 20:37:00 UTC,-73.977148,40.748633,-73.995777,40.726678,1,1\n",
            "13.5,2013-01-29 05:21:00 UTC,-73.985805,40.76316,-73.953898,40.80385,1,2\n",
            "8.5,2015-06-17 07:49:33 UTC,-73.99408721923828,40.75120544433594,-73.97832489013672,40.76415252685547,1,3\n",
            "5.7,2010-07-12 13:05:02 UTC,-73.98595,40.744722,-73.980107,40.748649,1,4\n",
            "10.0,2014-11-07 07:23:59 UTC,-73.953032,40.771874,-73.973585,40.755426,1,5\n",
            "8.0,2015-05-02 18:10:05 UTC,-73.98747253417969,40.74480056762695,-74.0095443725586,40.73533630371094,1,6\n",
            "22.0,2014-11-26 00:51:56 UTC,-73.99355,40.746885,-73.949082,40.684806,2,7\n",
            "6.5,2015-04-03 07:40:48 UTC,-73.98271942138672,40.764469146728516,-73.99153900146484,40.74890899658203,1,8\n",
            "6.9,2010-04-11 02:24:53 UTC,-73.993356,40.722044,-74.010394,40.723689,1,9\n",
            "\n",
            "==> ../content/taxi-train.csv <==\n",
            "14.5,2014-02-08 18:32:08 UTC,-74.009804,40.704949,-73.998803,40.745482,2,0\n",
            "20.1,2012-06-21 09:25:06 UTC,-73.97834,40.766733,-74.016883,40.704938,4,1\n",
            "9.0,2015-03-22 21:38:20 UTC,-73.98020935058594,40.775489807128906,-73.9671401977539,40.803489685058594,6,2\n",
            "5.5,2013-05-18 21:51:49 UTC,-73.944164,40.775986,-73.956089,40.775978,3,3\n",
            "10.5,2015-06-21 22:08:31 UTC,-73.98699951171875,40.7569694519043,-74.00695037841797,40.718299865722656,1,4\n",
            "10.0,2013-11-19 19:07:12 UTC,-73.957135,40.770258,-73.972578,40.74635,1,5\n",
            "4.1,2010-12-21 11:24:35 UTC,-73.989668,40.756958,-73.987693,40.751266,1,6\n",
            "4.5,2009-12-07 20:49:00 UTC,-73.991465,40.730228,-73.981338,40.724937,1,7\n",
            "9.3,2011-12-03 10:28:00 UTC,-73.98504,40.721887,-74.00388,40.738175,1,8\n",
            "7.7,2010-04-29 12:28:00 UTC,-73.966155,40.761642,-73.955942,40.78205,1,9\n",
            "\n",
            "==> ../content/taxi-valid.csv <==\n",
            "6.9,2010-02-25 20:14:00 UTC,-74.004267,40.737952,-73.997473,40.72236,1,0\n",
            "8.9,2010-12-21 13:08:00 UTC,-73.990958,40.755622,-73.979517,40.759813,4,1\n",
            "4.5,2013-12-09 15:03:00 UTC,-73.966287,40.767605,-73.962613,40.774742,1,2\n",
            "10.1,2012-03-04 00:57:00 UTC,-73.977142,40.743047,-74.006725,40.713387,1,3\n",
            "6.1,2011-06-19 12:39:56 UTC,-73.954132,40.77895,-73.974552,40.788243,1,4\n",
            "4.1,2009-09-25 03:47:00 UTC,-73.980335,40.760035,-73.989048,40.757817,1,5\n",
            "4.6,2009-03-28 20:30:35 UTC,-73.973926,40.757725,-73.981695,40.761591,1,6\n",
            "22.0,2013-12-09 15:03:00 UTC,-73.792412,40.65672,-73.724062,40.724325,1,7\n",
            "13.7,2009-05-27 20:37:00 UTC,-73.987868,40.743828,-73.982775,40.702065,1,8\n",
            "9.0,2013-04-18 08:48:00 UTC,-73.954962,40.765582,-73.971602,40.758087,1,9\n"
          ],
          "name": "stdout"
        }
      ]
    },
    {
      "cell_type": "markdown",
      "metadata": {
        "id": "ZrzSemQoo0l7"
      },
      "source": [
        "## Create an input pipeline \n",
        "\n",
        "Typically, you will use a two step process to build the pipeline. Step one is to define the columns of data; i.e., which column we're predicting for, and the default values.  Step 2 is to define two functions - a function to define the features and label you want to use and a function to load the training data.  Also, note that pickup_datetime is a string and we will need to handle this in our feature engineered model.  \n"
      ]
    },
    {
      "cell_type": "code",
      "metadata": {
        "id": "u2u12uKVo0l8"
      },
      "source": [
        "CSV_COLUMNS = [\n",
        "    'fare_amount',\n",
        "    'pickup_datetime',\n",
        "    'pickup_longitude',\n",
        "    'pickup_latitude',\n",
        "    'dropoff_longitude',\n",
        "    'dropoff_latitude',\n",
        "    'passenger_count',\n",
        "    'key',\n",
        "]\n",
        "LABEL_COLUMN = 'fare_amount'\n",
        "STRING_COLS = ['pickup_datetime']\n",
        "NUMERIC_COLS = ['pickup_longitude', 'pickup_latitude',\n",
        "                'dropoff_longitude', 'dropoff_latitude',\n",
        "                'passenger_count']\n",
        "DEFAULTS = [[0.0], ['na'], [0.0], [0.0], [0.0], [0.0], [0.0], ['na']]\n",
        "DAYS = ['Sun', 'Mon', 'Tue', 'Wed', 'Thu', 'Fri', 'Sat']"
      ],
      "execution_count": 9,
      "outputs": []
    },
    {
      "cell_type": "code",
      "metadata": {
        "id": "hfqI7ldao0l8"
      },
      "source": [
        "# A function to define features and labesl\n",
        "def features_and_labels(row_data):\n",
        "    for unwanted_col in ['key']:\n",
        "        row_data.pop(unwanted_col)\n",
        "    label = row_data.pop(LABEL_COLUMN)\n",
        "    return row_data, label\n",
        "\n",
        "\n",
        "# A utility method to create a tf.data dataset from a Pandas Dataframe\n",
        "def load_dataset(pattern, batch_size=1, mode='eval'):\n",
        "    dataset = tf.data.experimental.make_csv_dataset(pattern,\n",
        "                                                    batch_size,\n",
        "                                                    CSV_COLUMNS,\n",
        "                                                    DEFAULTS)\n",
        "    dataset = dataset.map(features_and_labels)  # features, label\n",
        "    if mode == 'train':\n",
        "        dataset = dataset.shuffle(1000).repeat()\n",
        "        # take advantage of multi-threading; 1=AUTOTUNE\n",
        "        dataset = dataset.prefetch(1)\n",
        "    return dataset"
      ],
      "execution_count": 10,
      "outputs": []
    },
    {
      "cell_type": "markdown",
      "metadata": {
        "id": "nN2witujo0l9"
      },
      "source": [
        "## Create a Baseline DNN Model in Keras\n",
        "\n",
        "Now let's build the Deep Neural Network (DNN) model in Keras using the functional API. Unlike the sequential API, we will need to specify the input and hidden layers.  Note that we are creating a linear regression baseline model with no feature engineering. Recall that a baseline model is a solution to a problem without applying any machine learning techniques."
      ]
    },
    {
      "cell_type": "code",
      "metadata": {
        "id": "ZTmBAdUvo0l9"
      },
      "source": [
        "# Build a simple Keras DNN using its Functional API\n",
        "def rmse(y_true, y_pred):  # Root mean square error\n",
        "    return tf.sqrt(tf.reduce_mean(tf.square(y_pred - y_true)))\n",
        "\n",
        "\n",
        "def build_dnn_model():\n",
        "    # input layer\n",
        "    inputs = {\n",
        "        colname: layers.Input(name=colname, shape=(), dtype='float32')\n",
        "        for colname in NUMERIC_COLS\n",
        "    }\n",
        "\n",
        "    # feature_columns\n",
        "    feature_columns = {\n",
        "        colname: fc.numeric_column(colname)\n",
        "        for colname in NUMERIC_COLS\n",
        "    }\n",
        "\n",
        "    # Constructor for DenseFeatures takes a list of numeric columns\n",
        "    dnn_inputs = layers.DenseFeatures(feature_columns.values())(inputs)\n",
        "\n",
        "    # two hidden layers of [32, 8] just in like the BQML DNN\n",
        "    h1 = layers.Dense(32, activation='relu', name='h1')(dnn_inputs)\n",
        "    h2 = layers.Dense(8, activation='relu', name='h2')(h1)\n",
        "\n",
        "    # final output is a linear activation because this is regression\n",
        "    output = layers.Dense(1, activation='linear', name='fare')(h2)\n",
        "    model = models.Model(inputs, output)\n",
        "\n",
        "    # compile model\n",
        "    model.compile(optimizer='adam', loss='mse', metrics=[rmse, 'mse'])\n",
        "\n",
        "    return model"
      ],
      "execution_count": 11,
      "outputs": []
    },
    {
      "cell_type": "markdown",
      "metadata": {
        "id": "kvDgen0zo0l_"
      },
      "source": [
        "We'll build our DNN model and inspect the model architecture."
      ]
    },
    {
      "cell_type": "code",
      "metadata": {
        "colab": {
          "base_uri": "https://localhost:8080/",
          "height": 370
        },
        "id": "qcM4A_DNo0l_",
        "outputId": "da775f86-e30e-4b01-cde8-9cc7b7ba9878"
      },
      "source": [
        "model = build_dnn_model()\n",
        "\n",
        "tf.keras.utils.plot_model(model, 'dnn_model.png', show_shapes=False, rankdir='LR')"
      ],
      "execution_count": 12,
      "outputs": [
        {
          "output_type": "execute_result",
          "data": {
            "image/png": "[encoded data removed]",
            "text/plain": [
              "<IPython.core.display.Image object>"
            ]
          },
          "metadata": {
            "tags": []
          },
          "execution_count": 12
        }
      ]
    },
    {
      "cell_type": "markdown",
      "metadata": {
        "id": "CbfXJXSho0mA"
      },
      "source": [
        "## Train the model\n",
        "\n",
        "To train the model, simply call [model.fit()](https://keras.io/models/model/#fit).  Note that we should really use many more NUM_TRAIN_EXAMPLES (i.e. a larger dataset). We shouldn't make assumptions about the quality of the model based on training/evaluating it on a small sample of the full data.\n",
        "\n",
        "We start by setting up the environment variables for training, creating the input pipeline datasets, and then train our baseline DNN model."
      ]
    },
    {
      "cell_type": "code",
      "metadata": {
        "id": "USldJEOVo0mD"
      },
      "source": [
        "TRAIN_BATCH_SIZE = 32 \n",
        "NUM_TRAIN_EXAMPLES = 59621 * 5\n",
        "NUM_EVALS = 5\n",
        "NUM_EVAL_EXAMPLES = 14906"
      ],
      "execution_count": 13,
      "outputs": []
    },
    {
      "cell_type": "code",
      "metadata": {
        "colab": {
          "base_uri": "https://localhost:8080/"
        },
        "id": "sQ1uIvmmo0mD",
        "outputId": "9c7c0e8c-31ba-4623-a478-a1c82da18076"
      },
      "source": [
        "trainds = load_dataset('../content/taxi-train*',\n",
        "                       TRAIN_BATCH_SIZE,\n",
        "                       'train')\n",
        "evalds = load_dataset('../content/taxi-valid*',\n",
        "                      1000,\n",
        "                      'eval').take(NUM_EVAL_EXAMPLES//1000)\n",
        "\n",
        "steps_per_epoch = NUM_TRAIN_EXAMPLES // (TRAIN_BATCH_SIZE * NUM_EVALS)\n",
        "\n",
        "history = model.fit(trainds,\n",
        "                    validation_data=evalds,\n",
        "                    epochs=NUM_EVALS,\n",
        "                    steps_per_epoch=steps_per_epoch)"
      ],
      "execution_count": 14,
      "outputs": [
        {
          "output_type": "stream",
          "text": [
            "Epoch 1/5\n"
          ],
          "name": "stdout"
        },
        {
          "output_type": "stream",
          "text": [
            "/usr/local/lib/python3.7/dist-packages/tensorflow/python/keras/engine/functional.py:595: UserWarning: Input dict contained keys ['pickup_datetime'] which did not match any model input. They will be ignored by the model.\n",
            "  [n for n in tensors.keys() if n not in ref_input_names])\n"
          ],
          "name": "stderr"
        },
        {
          "output_type": "stream",
          "text": [
            "1863/1863 [==============================] - 6s 2ms/step - loss: 124.9932 - rmse: 10.1918 - mse: 124.9932 - val_loss: 87.4259 - val_rmse: 9.3438 - val_mse: 87.4259\n",
            "Epoch 2/5\n",
            "1863/1863 [==============================] - 4s 2ms/step - loss: 99.6297 - rmse: 9.3358 - mse: 99.6297 - val_loss: 88.0044 - val_rmse: 9.3767 - val_mse: 88.0044\n",
            "Epoch 3/5\n",
            "1863/1863 [==============================] - 4s 2ms/step - loss: 100.4709 - rmse: 9.3172 - mse: 100.4709 - val_loss: 88.7818 - val_rmse: 9.4170 - val_mse: 88.7818\n",
            "Epoch 4/5\n",
            "1863/1863 [==============================] - 4s 2ms/step - loss: 102.9076 - rmse: 9.4681 - mse: 102.9076 - val_loss: 90.1778 - val_rmse: 9.4895 - val_mse: 90.1778\n",
            "Epoch 5/5\n",
            "1863/1863 [==============================] - 4s 2ms/step - loss: 101.9095 - rmse: 9.3767 - mse: 101.9095 - val_loss: 88.0069 - val_rmse: 9.3736 - val_mse: 88.0069\n"
          ],
          "name": "stdout"
        }
      ]
    },
    {
      "cell_type": "markdown",
      "metadata": {
        "id": "0kVsOcnvo0mE"
      },
      "source": [
        "### Visualize the model loss curve\n",
        "\n",
        "Next, we will use matplotlib to draw the model's loss curves for training and validation.  A line plot is also created showing the mean squared error loss over the training epochs for both the train (blue) and test (orange) sets."
      ]
    },
    {
      "cell_type": "code",
      "metadata": {
        "id": "Z-2RoG0qo0mE"
      },
      "source": [
        "def plot_curves(history, metrics):\n",
        "    nrows = 1\n",
        "    ncols = 2\n",
        "    fig = plt.figure(figsize=(10, 5))\n",
        "\n",
        "    for idx, key in enumerate(metrics):  \n",
        "        ax = fig.add_subplot(nrows, ncols, idx+1)\n",
        "        plt.plot(history.history[key])\n",
        "        plt.plot(history.history['val_{}'.format(key)])\n",
        "        plt.title('model {}'.format(key))\n",
        "        plt.ylabel(key)\n",
        "        plt.xlabel('epoch')\n",
        "        plt.legend(['train', 'validation'], loc='upper left');    "
      ],
      "execution_count": 15,
      "outputs": []
    },
    {
      "cell_type": "code",
      "metadata": {
        "colab": {
          "base_uri": "https://localhost:8080/",
          "height": 350
        },
        "id": "xQ_3uZlWo0mF",
        "outputId": "24004ade-abdc-4ca5-9b51-893d92fa4cd4"
      },
      "source": [
        "plot_curves(history, ['loss', 'mse'])"
      ],
      "execution_count": 16,
      "outputs": [
        {
          "output_type": "display_data",
          "data": {
            "image/png": "[encoded data removed]",
            "text/plain": [
              "<Figure size 720x360 with 2 Axes>"
            ]
          },
          "metadata": {
            "tags": [],
            "needs_background": "light"
          }
        }
      ]
    },
    {
      "cell_type": "markdown",
      "metadata": {
        "id": "nQgVOZUho0mG"
      },
      "source": [
        "### Predict with the model locally\n",
        "\n",
        "To predict with Keras, you simply call [model.predict()](https://keras.io/models/model/#predict) and pass in the cab ride you want to predict the fare amount for.  Next we note the fare price at this geolocation and pickup_datetime."
      ]
    },
    {
      "cell_type": "code",
      "metadata": {
        "colab": {
          "base_uri": "https://localhost:8080/"
        },
        "id": "DZEZfB6So0mH",
        "outputId": "5bca10d8-76a5-4daf-e0fb-649e7f7ae509"
      },
      "source": [
        "model.predict({\n",
        "    'pickup_longitude': tf.convert_to_tensor([-73.982683]),\n",
        "    'pickup_latitude': tf.convert_to_tensor([40.742104]),\n",
        "    'dropoff_longitude': tf.convert_to_tensor([-73.983766]),\n",
        "    'dropoff_latitude': tf.convert_to_tensor([40.755174]),\n",
        "    'passenger_count': tf.convert_to_tensor([3.0]),\n",
        "    'pickup_datetime': tf.convert_to_tensor(['2010-02-08 09:17:00 UTC'], dtype=tf.string),\n",
        "}, steps=1)"
      ],
      "execution_count": 17,
      "outputs": [
        {
          "output_type": "stream",
          "text": [
            "/usr/local/lib/python3.7/dist-packages/tensorflow/python/keras/engine/functional.py:595: UserWarning: Input dict contained keys ['pickup_datetime'] which did not match any model input. They will be ignored by the model.\n",
            "  [n for n in tensors.keys() if n not in ref_input_names])\n"
          ],
          "name": "stderr"
        },
        {
          "output_type": "execute_result",
          "data": {
            "text/plain": [
              "array([[11.386115]], dtype=float32)"
            ]
          },
          "metadata": {
            "tags": []
          },
          "execution_count": 17
        }
      ]
    },
    {
      "cell_type": "markdown",
      "metadata": {
        "id": "UFd-wpOlo0mH"
      },
      "source": [
        "## Improve Model Performance Using Feature Engineering \n",
        "\n",
        "We now improve our model's performance by creating the following feature engineering types:  Temporal, Categorical, and Geolocation. "
      ]
    },
    {
      "cell_type": "markdown",
      "metadata": {
        "id": "niPKxK5bo0mI"
      },
      "source": [
        "### Temporal Feature Columns\n",
        "\n",
        "**Lab Task #1**: Processing temporal feature columns in Keras"
      ]
    },
    {
      "cell_type": "markdown",
      "metadata": {
        "id": "pr4UAtVdo0mJ"
      },
      "source": [
        "We incorporate the temporal feature pickup_datetime.  As noted earlier, pickup_datetime is a string and we will need to handle this within the model.  First, you will include the pickup_datetime as a feature and then you will need to modify the model to handle our string feature."
      ]
    },
    {
      "cell_type": "code",
      "metadata": {
        "id": "SMf2rDddo0mK"
      },
      "source": [
        "# TODO 1a - Your code here\n",
        "def parse_datetime(s):\n",
        "    if type(s) is not str:\n",
        "        s = s.numpy().decode('utf-8')\n",
        "    return datetime.datetime.strptime(s, \"%Y-%m-%d %H:%M:%S %Z\")\n",
        "\n",
        "\n",
        "# TODO 1b - Your code here\n",
        "def get_dayofweek(s):\n",
        "    ts = parse_datetime(s)\n",
        "    return DAYS[ts.weekday()]\n",
        "\n",
        "\n",
        "# TODO 1c - Your code here\n",
        "@tf.function\n",
        "def dayofweek(ts_in):\n",
        "    return tf.map_fn(\n",
        "        lambda s: tf.py_function(get_dayofweek, inp=[s], Tout=tf.string),\n",
        "        ts_in)"
      ],
      "execution_count": 18,
      "outputs": []
    },
    {
      "cell_type": "markdown",
      "metadata": {
        "id": "2F1kcdyno0mL"
      },
      "source": [
        "### Geolocation/Coordinate Feature Columns\n",
        "\n",
        "The pick-up/drop-off longitude and latitude data are crucial to predicting the fare amount as fare amounts in NYC taxis are largely determined by the distance traveled. As such, we need to teach the model the Euclidean distance between the pick-up and drop-off points.\n",
        "\n",
        "Recall that latitude and longitude allows us to specify any location on Earth using a set of coordinates. In our training data set, we restricted our data points to only pickups and drop offs within NYC. New York city has an approximate longitude range of -74.05 to -73.75 and a latitude range of 40.63 to 40.85.\n",
        "\n",
        "#### Computing Euclidean distance\n",
        "The dataset contains information regarding the pickup and drop off coordinates. However, there is no information regarding the distance between the pickup and drop off points. Therefore, we create a new feature that calculates the distance between each pair of pickup and drop off points. We can do this using the Euclidean Distance, which is the straight-line distance between any two coordinate points."
      ]
    },
    {
      "cell_type": "code",
      "metadata": {
        "id": "BYjTApyPo0mL"
      },
      "source": [
        "def euclidean(params):\n",
        "    lon1, lat1, lon2, lat2 = params\n",
        "    londiff = lon2 - lon1\n",
        "    latdiff = lat2 - lat1\n",
        "    return tf.sqrt(londiff*londiff + latdiff*latdiff)"
      ],
      "execution_count": 19,
      "outputs": []
    },
    {
      "cell_type": "markdown",
      "metadata": {
        "id": "PAXcSokKo0mM"
      },
      "source": [
        "#### Scaling latitude and longitude\n",
        "\n",
        "It is very important for numerical variables to get scaled before they are \"fed\" into the neural network. Here we use min-max scaling (also called normalization) on the geolocation features.  Later in our model, you will see that these values are shifted and rescaled so that they end up ranging from 0 to 1.\n",
        "\n",
        "First, we create a function named 'scale_longitude', where we pass in all the longitudinal values and add 78 to each value.  Note that our scaling longitude ranges from -70 to -78. Thus, the value 78 is the maximum longitudinal value.  The delta or difference between -70 and -78 is 8.  We add 78 to each longitudinal value and then divide by 8 to return a scaled value."
      ]
    },
    {
      "cell_type": "code",
      "metadata": {
        "id": "bYuUDXGio0mM"
      },
      "source": [
        "def scale_longitude(lon_column):\n",
        "    return (lon_column + 78)/8."
      ],
      "execution_count": 20,
      "outputs": []
    },
    {
      "cell_type": "markdown",
      "metadata": {
        "id": "y9gx-6Xvo0mM"
      },
      "source": [
        "Next, we create a function named 'scale_latitude', where we pass in all the latitudinal values and subtract 37 from each value.  Note that our scaling latitude ranges from -37 to -45. Thus, the value 37 is the minimal latitudinal value.  The delta or difference between -37 and -45 is 8.  We subtract 37 from each latitudinal value and then divide by 8 to return a scaled value."
      ]
    },
    {
      "cell_type": "code",
      "metadata": {
        "id": "XqAPmZjlo0mN"
      },
      "source": [
        "def scale_latitude(lat_column):\n",
        "    return (lat_column - 37)/8."
      ],
      "execution_count": 21,
      "outputs": []
    },
    {
      "cell_type": "markdown",
      "metadata": {
        "id": "ObbU0U4Oo0mN"
      },
      "source": [
        "### Putting it all together\n",
        "We will create a function called \"euclidean\" to initialize our geolocation parameters. We then create a function called transform. The transform function passes our numerical and string column features as inputs to the model, scales geolocation features, then creates the Euclidean distance as a transformed variable with the geolocation features. Lastly, we bucketize the latitude and longitude features."
      ]
    },
    {
      "cell_type": "markdown",
      "metadata": {
        "id": "7D2GkieVo0mO"
      },
      "source": [
        "**Lab Task #2:** We will use Lambda layers to create two new \"geo\" functions for our model."
      ]
    },
    {
      "cell_type": "markdown",
      "metadata": {
        "id": "LYWDEc85o0mO"
      },
      "source": [
        "**Lab Task #3:** Creating the bucketized and crossed feature columns"
      ]
    },
    {
      "cell_type": "code",
      "metadata": {
        "id": "biEF7Nf2o0mO"
      },
      "source": [
        "def transform(inputs, numeric_cols, string_cols, nbuckets):\n",
        "    print(\"Inputs before features transformation: {}\".format(inputs.keys()))\n",
        "\n",
        "    # Pass-through columns\n",
        "    transformed = inputs.copy()\n",
        "    del transformed['pickup_datetime']\n",
        "\n",
        "    feature_columns = {\n",
        "        colname: tf.feature_column.numeric_column(colname)\n",
        "        for colname in numeric_cols\n",
        "    }\n",
        "\n",
        "    # Scaling longitude from range [-70, -78] to [0, 1]\n",
        "    # TODO 2a\n",
        "    # TODO -- Your code here.\n",
        "    for lon_col in ['pickup_longitude', 'dropoff_longitude']:\n",
        "        transformed[lon_col] = layers.Lambda(\n",
        "            scale_longitude,\n",
        "            name=\"scale_{}\".format(lon_col))(inputs[lon_col])\n",
        "\n",
        "    # Scaling latitude from range [37, 45] to [0, 1]\n",
        "    # TODO 2b\n",
        "    # TODO -- Your code here.\n",
        "    for lat_col in ['pickup_latitude', 'dropoff_latitude']:\n",
        "        transformed[lat_col] = layers.Lambda(\n",
        "            scale_latitude,\n",
        "            name='scale_{}'.format(lat_col))(inputs[lat_col])\n",
        "\n",
        "    # add Euclidean distance\n",
        "    transformed['euclidean'] = layers.Lambda(\n",
        "        euclidean,\n",
        "        name='euclidean')([inputs['pickup_longitude'],\n",
        "                           inputs['pickup_latitude'],\n",
        "                           inputs['dropoff_longitude'],\n",
        "                           inputs['dropoff_latitude']])\n",
        "    feature_columns['euclidean'] = fc.numeric_column('euclidean')\n",
        "\n",
        "    # TODO 3a\n",
        "    # TODO -- Your code here.\n",
        "    latbuckets = np.linspace(0, 1, nbuckets).tolist()\n",
        "    lonbuckets = np.linspace(0, 1, nbuckets).tolist()\n",
        "    b_plat = fc.bucketized_column(\n",
        "        feature_columns['pickup_latitude'], latbuckets)\n",
        "    b_dlat = fc.bucketized_column(\n",
        "        feature_columns['dropoff_latitude'], latbuckets)\n",
        "    b_plon = fc.bucketized_column(\n",
        "        feature_columns['pickup_longitude'], lonbuckets)\n",
        "    b_dlon = fc.bucketized_column(\n",
        "        feature_columns['dropoff_longitude'], lonbuckets)\n",
        "    # TODO 3b\n",
        "    # TODO -- Your code here.\n",
        "    ploc = fc.crossed_column([b_plat, b_plon], nbuckets * nbuckets)\n",
        "    dloc = fc.crossed_column([b_dlat, b_dlon], nbuckets * nbuckets)\n",
        "    pd_pair = fc.crossed_column([ploc, dloc], nbuckets ** 4)\n",
        "    \n",
        "    # create embedding columns\n",
        "    feature_columns['pickup_and_dropoff'] = fc.embedding_column(pd_pair, 100)\n",
        "\n",
        "    print(\"Transformed features: {}\".format(transformed.keys()))\n",
        "    print(\"Feature columns: {}\".format(feature_columns.keys()))\n",
        "    return transformed, feature_columns"
      ],
      "execution_count": 22,
      "outputs": []
    },
    {
      "cell_type": "markdown",
      "metadata": {
        "id": "RdZX8ZPJo0mP"
      },
      "source": [
        "Next, we'll create our DNN model now with the engineered features. We'll set `NBUCKETS = 10` to specify 10 buckets when bucketizing the latitude and longitude."
      ]
    },
    {
      "cell_type": "code",
      "metadata": {
        "id": "MOHPr9x_o0mQ"
      },
      "source": [
        "NBUCKETS = 10\n",
        "\n",
        "\n",
        "# DNN MODEL\n",
        "def rmse(y_true, y_pred):\n",
        "    return tf.sqrt(tf.reduce_mean(tf.square(y_pred - y_true)))\n",
        "\n",
        "\n",
        "def build_dnn_model():\n",
        "    # input layer is all float except for pickup_datetime which is a string\n",
        "    inputs = {\n",
        "        colname: layers.Input(name=colname, shape=(), dtype='float32')\n",
        "        for colname in NUMERIC_COLS\n",
        "    }\n",
        "    inputs.update({\n",
        "        colname: tf.keras.layers.Input(name=colname, shape=(), dtype='string')\n",
        "        for colname in STRING_COLS\n",
        "    })\n",
        "\n",
        "    # transforms\n",
        "    transformed, feature_columns = transform(inputs,\n",
        "                                             numeric_cols=NUMERIC_COLS,\n",
        "                                             string_cols=STRING_COLS,\n",
        "                                             nbuckets=NBUCKETS)\n",
        "    dnn_inputs = layers.DenseFeatures(feature_columns.values())(transformed)\n",
        "\n",
        "    # two hidden layers of [32, 8] just in like the BQML DNN\n",
        "    h1 = layers.Dense(32, activation='relu', name='h1')(dnn_inputs)\n",
        "    h2 = layers.Dense(8, activation='relu', name='h2')(h1)\n",
        "\n",
        "    # final output is a linear activation because this is regression\n",
        "    output = layers.Dense(1, activation='linear', name='fare')(h2)\n",
        "    model = models.Model(inputs, output)\n",
        "\n",
        "    # Compile model\n",
        "    model.compile(optimizer='adam', loss='mse', metrics=[rmse, 'mse'])\n",
        "    return model"
      ],
      "execution_count": 23,
      "outputs": []
    },
    {
      "cell_type": "code",
      "metadata": {
        "colab": {
          "base_uri": "https://localhost:8080/"
        },
        "id": "ROkbzlUqo0mQ",
        "outputId": "6cae06e1-9ab8-4bed-eea9-af3e6cbbfd50"
      },
      "source": [
        "model = build_dnn_model()"
      ],
      "execution_count": 24,
      "outputs": [
        {
          "output_type": "stream",
          "text": [
            "Inputs before features transformation: dict_keys(['pickup_longitude', 'pickup_latitude', 'dropoff_longitude', 'dropoff_latitude', 'passenger_count', 'pickup_datetime'])\n",
            "Transformed features: dict_keys(['pickup_longitude', 'pickup_latitude', 'dropoff_longitude', 'dropoff_latitude', 'passenger_count', 'euclidean'])\n",
            "Feature columns: dict_keys(['pickup_longitude', 'pickup_latitude', 'dropoff_longitude', 'dropoff_latitude', 'passenger_count', 'euclidean', 'pickup_and_dropoff'])\n"
          ],
          "name": "stdout"
        }
      ]
    },
    {
      "cell_type": "markdown",
      "metadata": {
        "id": "fKKBlpuWo0mQ"
      },
      "source": [
        "Let's see how our model architecture has changed now."
      ]
    },
    {
      "cell_type": "code",
      "metadata": {
        "colab": {
          "base_uri": "https://localhost:8080/",
          "height": 459
        },
        "id": "ev_u2OcMo0mS",
        "outputId": "864be12d-3fa7-4bc8-ae17-437abdc4a1b5"
      },
      "source": [
        "tf.keras.utils.plot_model(model, 'dnn_model_engineered.png', show_shapes=False, rankdir='LR')"
      ],
      "execution_count": 25,
      "outputs": [
        {
          "output_type": "execute_result",
          "data": {
            "image/png": "[encoded data removed]",
            "text/plain": [
              "<IPython.core.display.Image object>"
            ]
          },
          "metadata": {
            "tags": []
          },
          "execution_count": 25
        }
      ]
    },
    {
      "cell_type": "code",
      "metadata": {
        "colab": {
          "base_uri": "https://localhost:8080/"
        },
        "id": "LPLpusUwo0mS",
        "outputId": "a6420e12-157f-41b1-86cb-1aaa5960dfa0"
      },
      "source": [
        "trainds = load_dataset('../content/taxi-train*',\n",
        "                       TRAIN_BATCH_SIZE,\n",
        "                       'train')\n",
        "evalds = load_dataset('../content/taxi-valid*',\n",
        "                      1000,\n",
        "                      'eval').take(NUM_EVAL_EXAMPLES//1000)\n",
        "\n",
        "steps_per_epoch = NUM_TRAIN_EXAMPLES // (TRAIN_BATCH_SIZE * NUM_EVALS)\n",
        "\n",
        "history = model.fit(trainds,\n",
        "                    validation_data=evalds,\n",
        "                    epochs=NUM_EVALS+3,\n",
        "                    steps_per_epoch=steps_per_epoch)"
      ],
      "execution_count": 26,
      "outputs": [
        {
          "output_type": "stream",
          "text": [
            "Epoch 1/8\n",
            "1863/1863 [==============================] - 28s 14ms/step - loss: 216.8512 - rmse: 14.3069 - mse: 216.8512 - val_loss: 176.9777 - val_rmse: 13.2990 - val_mse: 176.9777\n",
            "Epoch 2/8\n",
            "1863/1863 [==============================] - 25s 14ms/step - loss: 182.6596 - rmse: 13.0434 - mse: 182.6596 - val_loss: 147.4555 - val_rmse: 12.1386 - val_mse: 147.4555\n",
            "Epoch 3/8\n",
            "1863/1863 [==============================] - 25s 14ms/step - loss: 156.9497 - rmse: 11.9383 - mse: 156.9497 - val_loss: 125.5440 - val_rmse: 11.1912 - val_mse: 125.5440\n",
            "Epoch 4/8\n",
            "1863/1863 [==============================] - 26s 14ms/step - loss: 133.7382 - rmse: 10.9243 - mse: 133.7382 - val_loss: 108.7086 - val_rmse: 10.4223 - val_mse: 108.7086\n",
            "Epoch 5/8\n",
            "1863/1863 [==============================] - 26s 14ms/step - loss: 116.0340 - rmse: 10.0756 - mse: 116.0340 - val_loss: 97.8465 - val_rmse: 9.8786 - val_mse: 97.8465\n",
            "Epoch 6/8\n",
            "1863/1863 [==============================] - 26s 14ms/step - loss: 108.0363 - rmse: 9.6884 - mse: 108.0363 - val_loss: 91.2193 - val_rmse: 9.5463 - val_mse: 91.2193\n",
            "Epoch 7/8\n",
            "1863/1863 [==============================] - 26s 14ms/step - loss: 99.8442 - rmse: 9.2443 - mse: 99.8442 - val_loss: 88.3961 - val_rmse: 9.3897 - val_mse: 88.3961\n",
            "Epoch 8/8\n",
            "1863/1863 [==============================] - 25s 14ms/step - loss: 97.3414 - rmse: 9.2292 - mse: 97.3414 - val_loss: 87.8261 - val_rmse: 9.3619 - val_mse: 87.8261\n"
          ],
          "name": "stdout"
        }
      ]
    },
    {
      "cell_type": "markdown",
      "metadata": {
        "id": "3zXdeKtso0mT"
      },
      "source": [
        "As before, let's visualize the DNN model layers. "
      ]
    },
    {
      "cell_type": "code",
      "metadata": {
        "colab": {
          "base_uri": "https://localhost:8080/",
          "height": 350
        },
        "id": "QaNP9FPUo0mT",
        "outputId": "c24f98ae-9247-4c35-d196-529e9f655239"
      },
      "source": [
        "plot_curves(history, ['loss', 'mse'])"
      ],
      "execution_count": 27,
      "outputs": [
        {
          "output_type": "display_data",
          "data": {
            "image/png": "[encoded data removed]",
            "text/plain": [
              "<Figure size 720x360 with 2 Axes>"
            ]
          },
          "metadata": {
            "tags": [],
            "needs_background": "light"
          }
        }
      ]
    },
    {
      "cell_type": "markdown",
      "metadata": {
        "id": "RY-7wlGUo0mU"
      },
      "source": [
        "Let's a prediction with this new model with engineered features on the example we had above. "
      ]
    },
    {
      "cell_type": "code",
      "metadata": {
        "colab": {
          "base_uri": "https://localhost:8080/"
        },
        "id": "d5B1jn0To0mU",
        "outputId": "65f62f78-28c2-4b13-8040-99784bbdb9cf"
      },
      "source": [
        "model.predict({\n",
        "    'pickup_longitude': tf.convert_to_tensor([-73.982683]),\n",
        "    'pickup_latitude': tf.convert_to_tensor([40.742104]),\n",
        "    'dropoff_longitude': tf.convert_to_tensor([-73.983766]),\n",
        "    'dropoff_latitude': tf.convert_to_tensor([40.755174]),\n",
        "    'passenger_count': tf.convert_to_tensor([3.0]),\n",
        "    'pickup_datetime': tf.convert_to_tensor(['2010-02-08 09:17:00 UTC'], dtype=tf.string),\n",
        "}, steps=1)"
      ],
      "execution_count": 28,
      "outputs": [
        {
          "output_type": "execute_result",
          "data": {
            "text/plain": [
              "array([[10.941961]], dtype=float32)"
            ]
          },
          "metadata": {
            "tags": []
          },
          "execution_count": 28
        }
      ]
    },
    {
      "cell_type": "markdown",
      "metadata": {
        "id": "X62SIXEso0mV"
      },
      "source": [
        "Below we summarize our training results comparing our baseline model with our model with engineered features."
      ]
    },
    {
      "cell_type": "markdown",
      "metadata": {
        "id": "m-RSS_6Ao0mV"
      },
      "source": [
        "| Model              | Taxi Fare | Description                               |\n",
        "|--------------------|-----------|-------------------------------------------|\n",
        "| Baseline           | 11.39     | Baseline model - no feature engineering |\n",
        "| Feature Engineered | 10.94      | Feature Engineered Model                |"
      ]
    },
    {
      "cell_type": "markdown",
      "metadata": {
        "id": "_vuAhs86o0mW"
      },
      "source": [
        "Copyright 2020 Google Inc.\n",
        "Licensed under the Apache License, Version 2.0 (the \"License\"); you may not use this file except in compliance with the License. You may obtain a copy of the License at\n",
        "http://www.apache.org/licenses/LICENSE-2.0\n",
        "Unless required by applicable law or agreed to in writing, software distributed under the License is distributed on an \"AS IS\" BASIS, WITHOUT WARRANTIES OR CONDITIONS OF ANY KIND, either express or implied. See the License for the specific language governing permissions and limitations under the License."
      ]
    }
  ]
}