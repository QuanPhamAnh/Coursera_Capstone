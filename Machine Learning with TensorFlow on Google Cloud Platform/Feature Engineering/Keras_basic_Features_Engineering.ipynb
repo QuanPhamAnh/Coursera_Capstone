{
  "nbformat": 4,
  "nbformat_minor": 0,
  "metadata": {
    "colab": {
      "name": "Keras basic Features Engineering.ipynb",
      "provenance": [],
      "collapsed_sections": [],
      "toc_visible": true,
      "include_colab_link": true
    },
    "environment": {
      "name": "tf2-gpu.2-3.m65",
      "type": "gcloud",
      "uri": "gcr.io/deeplearning-platform-release/tf2-gpu.2-3:m65"
    },
    "kernelspec": {
      "display_name": "Python 3",
      "language": "python",
      "name": "python3"
    },
    "language_info": {
      "codemirror_mode": {
        "name": "ipython",
        "version": 3
      },
      "file_extension": ".py",
      "mimetype": "text/x-python",
      "name": "python",
      "nbconvert_exporter": "python",
      "pygments_lexer": "ipython3",
      "version": "3.7.10"
    }
  },
  "cells": [
    {
      "cell_type": "markdown",
      "metadata": {
        "id": "view-in-github",
        "colab_type": "text"
      },
      "source": [
        "<a href=\"https://colab.research.google.com/github/QuanPhamAnh/Coursera_Capstone/blob/main/Machine%20Learning%20with%20TensorFlow%20on%20Google%20Cloud%20Platform/Feature%20Engineering/Keras_basic_Features_Engineering.ipynb\" target=\"_parent\"><img src=\"https://colab.research.google.com/assets/colab-badge.svg\" alt=\"Open In Colab\"/></a>"
      ]
    },
    {
      "cell_type": "markdown",
      "metadata": {
        "id": "rNdWfPXCjTjY"
      },
      "source": [
        "# LAB 03:  Basic Feature Engineering in Keras \n",
        "\n",
        "**Learning Objectives**\n",
        "\n",
        "\n",
        "1. Create an input pipeline using tf.data\n",
        "2. Engineer features to create categorical, crossed, and numerical feature columns\n",
        "\n",
        "\n",
        "\n",
        "\n",
        "## Introduction \n",
        "In this lab, we utilize feature engineering to improve the prediction of housing prices using a Keras Sequential Model.  \n",
        "\n",
        "Each learning objective will correspond to a __#TODO__ in the notebook where you will complete the notebook cell's code before running. Refer to the [solution](https://github.com/GoogleCloudPlatform/training-data-analyst/blob/master/courses/machine_learning/deepdive2/feature_engineering/solutions/3_keras_basic_feat_eng.ipynb) for reference. \n"
      ]
    },
    {
      "cell_type": "markdown",
      "metadata": {
        "id": "VxyBFc_kKazA"
      },
      "source": [
        "Start by importing the necessary libraries for this lab."
      ]
    },
    {
      "cell_type": "markdown",
      "metadata": {
        "id": "FgbhK0tKlWa1"
      },
      "source": [
        "**Note:** Please ignore any incompatibility warnings and errors and re-run the cell to view the installed tensorflow version.\n",
        "`tensorflow==2.1.0` that is the installed version of tensorflow."
      ]
    },
    {
      "cell_type": "code",
      "metadata": {
        "colab": {
          "base_uri": "https://localhost:8080/"
        },
        "id": "9dEreb4QKizj",
        "outputId": "0755f53c-b169-4831-ec36-820f5034906f"
      },
      "source": [
        "import os\n",
        "import tensorflow.keras\n",
        "\n",
        "import matplotlib.pyplot as plt\n",
        "import pandas as pd\n",
        "import tensorflow as tf\n",
        "\n",
        "from tensorflow import feature_column as fc\n",
        "from tensorflow.keras import layers\n",
        "from sklearn.model_selection import train_test_split\n",
        "from keras.utils import plot_model\n",
        "\n",
        "print(\"TensorFlow version: \",tf.version.VERSION)"
      ],
      "execution_count": 1,
      "outputs": [
        {
          "output_type": "stream",
          "text": [
            "TensorFlow version:  2.4.1\n"
          ],
          "name": "stdout"
        }
      ]
    },
    {
      "cell_type": "markdown",
      "metadata": {
        "id": "iDUa7uXalWa2"
      },
      "source": [
        "Many of the Google Machine Learning Courses Programming Exercises use the  [California Housing Dataset](https://developers.google.com/machine-learning/crash-course/california-housing-data-description\n",
        "), which contains data drawn from the 1990 U.S. Census.  Our lab dataset has been pre-processed so that there are no missing values.\n",
        "\n",
        "First, let's download the raw .csv data by copying the data from a cloud storage bucket.\n"
      ]
    },
    {
      "cell_type": "markdown",
      "metadata": {
        "id": "lM6-n6xntv3t"
      },
      "source": [
        "Now, let's read in the dataset just copied from the cloud storage bucket and create a Pandas dataframe."
      ]
    },
    {
      "cell_type": "code",
      "metadata": {
        "colab": {
          "base_uri": "https://localhost:8080/",
          "height": 204
        },
        "id": "REZ57BXCLdfG",
        "outputId": "9c495c28-01f1-4451-cc62-9dba48eab668"
      },
      "source": [
        "housing_df = pd.read_csv('/content/housing_pre-proc.csv', error_bad_lines=False)\n",
        "housing_df.head()"
      ],
      "execution_count": 2,
      "outputs": [
        {
          "output_type": "execute_result",
          "data": {
            "text/html": [
              "<div>\n",
              "<style scoped>\n",
              "    .dataframe tbody tr th:only-of-type {\n",
              "        vertical-align: middle;\n",
              "    }\n",
              "\n",
              "    .dataframe tbody tr th {\n",
              "        vertical-align: top;\n",
              "    }\n",
              "\n",
              "    .dataframe thead th {\n",
              "        text-align: right;\n",
              "    }\n",
              "</style>\n",
              "<table border=\"1\" class=\"dataframe\">\n",
              "  <thead>\n",
              "    <tr style=\"text-align: right;\">\n",
              "      <th></th>\n",
              "      <th>longitude</th>\n",
              "      <th>latitude</th>\n",
              "      <th>housing_median_age</th>\n",
              "      <th>total_rooms</th>\n",
              "      <th>total_bedrooms</th>\n",
              "      <th>population</th>\n",
              "      <th>households</th>\n",
              "      <th>median_income</th>\n",
              "      <th>median_house_value</th>\n",
              "      <th>ocean_proximity</th>\n",
              "    </tr>\n",
              "  </thead>\n",
              "  <tbody>\n",
              "    <tr>\n",
              "      <th>0</th>\n",
              "      <td>-122.23</td>\n",
              "      <td>37.88</td>\n",
              "      <td>41.0</td>\n",
              "      <td>880.0</td>\n",
              "      <td>129.0</td>\n",
              "      <td>322.0</td>\n",
              "      <td>126.0</td>\n",
              "      <td>8.3252</td>\n",
              "      <td>452600.0</td>\n",
              "      <td>NEAR BAY</td>\n",
              "    </tr>\n",
              "    <tr>\n",
              "      <th>1</th>\n",
              "      <td>-122.22</td>\n",
              "      <td>37.86</td>\n",
              "      <td>21.0</td>\n",
              "      <td>7099.0</td>\n",
              "      <td>1106.0</td>\n",
              "      <td>2401.0</td>\n",
              "      <td>1138.0</td>\n",
              "      <td>8.3014</td>\n",
              "      <td>358500.0</td>\n",
              "      <td>NEAR BAY</td>\n",
              "    </tr>\n",
              "    <tr>\n",
              "      <th>2</th>\n",
              "      <td>-122.24</td>\n",
              "      <td>37.85</td>\n",
              "      <td>52.0</td>\n",
              "      <td>1467.0</td>\n",
              "      <td>190.0</td>\n",
              "      <td>496.0</td>\n",
              "      <td>177.0</td>\n",
              "      <td>7.2574</td>\n",
              "      <td>352100.0</td>\n",
              "      <td>NEAR BAY</td>\n",
              "    </tr>\n",
              "    <tr>\n",
              "      <th>3</th>\n",
              "      <td>-122.25</td>\n",
              "      <td>37.85</td>\n",
              "      <td>52.0</td>\n",
              "      <td>1274.0</td>\n",
              "      <td>235.0</td>\n",
              "      <td>558.0</td>\n",
              "      <td>219.0</td>\n",
              "      <td>5.6431</td>\n",
              "      <td>341300.0</td>\n",
              "      <td>NEAR BAY</td>\n",
              "    </tr>\n",
              "    <tr>\n",
              "      <th>4</th>\n",
              "      <td>-122.25</td>\n",
              "      <td>37.85</td>\n",
              "      <td>52.0</td>\n",
              "      <td>1627.0</td>\n",
              "      <td>280.0</td>\n",
              "      <td>565.0</td>\n",
              "      <td>259.0</td>\n",
              "      <td>3.8462</td>\n",
              "      <td>342200.0</td>\n",
              "      <td>NEAR BAY</td>\n",
              "    </tr>\n",
              "  </tbody>\n",
              "</table>\n",
              "</div>"
            ],
            "text/plain": [
              "   longitude  latitude  ...  median_house_value  ocean_proximity\n",
              "0    -122.23     37.88  ...            452600.0         NEAR BAY\n",
              "1    -122.22     37.86  ...            358500.0         NEAR BAY\n",
              "2    -122.24     37.85  ...            352100.0         NEAR BAY\n",
              "3    -122.25     37.85  ...            341300.0         NEAR BAY\n",
              "4    -122.25     37.85  ...            342200.0         NEAR BAY\n",
              "\n",
              "[5 rows x 10 columns]"
            ]
          },
          "metadata": {
            "tags": []
          },
          "execution_count": 2
        }
      ]
    },
    {
      "cell_type": "markdown",
      "metadata": {
        "id": "wTrZX5WOlWa4"
      },
      "source": [
        "We can use .describe() to see some summary statistics for the numeric fields in our dataframe. Note, for example, the count row and corresponding columns. The count shows 20433.000000 for all feature columns. Thus, there are no missing values."
      ]
    },
    {
      "cell_type": "code",
      "metadata": {
        "colab": {
          "base_uri": "https://localhost:8080/",
          "height": 297
        },
        "id": "L4F3oU6ylWa5",
        "outputId": "d7e297a6-6e6d-40bd-c2c5-d42f90f569bb"
      },
      "source": [
        "housing_df.describe()"
      ],
      "execution_count": 3,
      "outputs": [
        {
          "output_type": "execute_result",
          "data": {
            "text/html": [
              "<div>\n",
              "<style scoped>\n",
              "    .dataframe tbody tr th:only-of-type {\n",
              "        vertical-align: middle;\n",
              "    }\n",
              "\n",
              "    .dataframe tbody tr th {\n",
              "        vertical-align: top;\n",
              "    }\n",
              "\n",
              "    .dataframe thead th {\n",
              "        text-align: right;\n",
              "    }\n",
              "</style>\n",
              "<table border=\"1\" class=\"dataframe\">\n",
              "  <thead>\n",
              "    <tr style=\"text-align: right;\">\n",
              "      <th></th>\n",
              "      <th>longitude</th>\n",
              "      <th>latitude</th>\n",
              "      <th>housing_median_age</th>\n",
              "      <th>total_rooms</th>\n",
              "      <th>total_bedrooms</th>\n",
              "      <th>population</th>\n",
              "      <th>households</th>\n",
              "      <th>median_income</th>\n",
              "      <th>median_house_value</th>\n",
              "    </tr>\n",
              "  </thead>\n",
              "  <tbody>\n",
              "    <tr>\n",
              "      <th>count</th>\n",
              "      <td>20433.000000</td>\n",
              "      <td>20433.000000</td>\n",
              "      <td>20433.000000</td>\n",
              "      <td>20433.000000</td>\n",
              "      <td>20433.000000</td>\n",
              "      <td>20433.000000</td>\n",
              "      <td>20433.000000</td>\n",
              "      <td>20433.000000</td>\n",
              "      <td>20433.000000</td>\n",
              "    </tr>\n",
              "    <tr>\n",
              "      <th>mean</th>\n",
              "      <td>-119.570689</td>\n",
              "      <td>35.633221</td>\n",
              "      <td>28.633094</td>\n",
              "      <td>2636.504233</td>\n",
              "      <td>537.870553</td>\n",
              "      <td>1424.946949</td>\n",
              "      <td>499.433465</td>\n",
              "      <td>3.871162</td>\n",
              "      <td>206864.413155</td>\n",
              "    </tr>\n",
              "    <tr>\n",
              "      <th>std</th>\n",
              "      <td>2.003578</td>\n",
              "      <td>2.136348</td>\n",
              "      <td>12.591805</td>\n",
              "      <td>2185.269567</td>\n",
              "      <td>421.385070</td>\n",
              "      <td>1133.208490</td>\n",
              "      <td>382.299226</td>\n",
              "      <td>1.899291</td>\n",
              "      <td>115435.667099</td>\n",
              "    </tr>\n",
              "    <tr>\n",
              "      <th>min</th>\n",
              "      <td>-124.350000</td>\n",
              "      <td>32.540000</td>\n",
              "      <td>1.000000</td>\n",
              "      <td>2.000000</td>\n",
              "      <td>1.000000</td>\n",
              "      <td>3.000000</td>\n",
              "      <td>1.000000</td>\n",
              "      <td>0.499900</td>\n",
              "      <td>14999.000000</td>\n",
              "    </tr>\n",
              "    <tr>\n",
              "      <th>25%</th>\n",
              "      <td>-121.800000</td>\n",
              "      <td>33.930000</td>\n",
              "      <td>18.000000</td>\n",
              "      <td>1450.000000</td>\n",
              "      <td>296.000000</td>\n",
              "      <td>787.000000</td>\n",
              "      <td>280.000000</td>\n",
              "      <td>2.563700</td>\n",
              "      <td>119500.000000</td>\n",
              "    </tr>\n",
              "    <tr>\n",
              "      <th>50%</th>\n",
              "      <td>-118.490000</td>\n",
              "      <td>34.260000</td>\n",
              "      <td>29.000000</td>\n",
              "      <td>2127.000000</td>\n",
              "      <td>435.000000</td>\n",
              "      <td>1166.000000</td>\n",
              "      <td>409.000000</td>\n",
              "      <td>3.536500</td>\n",
              "      <td>179700.000000</td>\n",
              "    </tr>\n",
              "    <tr>\n",
              "      <th>75%</th>\n",
              "      <td>-118.010000</td>\n",
              "      <td>37.720000</td>\n",
              "      <td>37.000000</td>\n",
              "      <td>3143.000000</td>\n",
              "      <td>647.000000</td>\n",
              "      <td>1722.000000</td>\n",
              "      <td>604.000000</td>\n",
              "      <td>4.744000</td>\n",
              "      <td>264700.000000</td>\n",
              "    </tr>\n",
              "    <tr>\n",
              "      <th>max</th>\n",
              "      <td>-114.310000</td>\n",
              "      <td>41.950000</td>\n",
              "      <td>52.000000</td>\n",
              "      <td>39320.000000</td>\n",
              "      <td>6445.000000</td>\n",
              "      <td>35682.000000</td>\n",
              "      <td>6082.000000</td>\n",
              "      <td>15.000100</td>\n",
              "      <td>500001.000000</td>\n",
              "    </tr>\n",
              "  </tbody>\n",
              "</table>\n",
              "</div>"
            ],
            "text/plain": [
              "          longitude      latitude  ...  median_income  median_house_value\n",
              "count  20433.000000  20433.000000  ...   20433.000000        20433.000000\n",
              "mean    -119.570689     35.633221  ...       3.871162       206864.413155\n",
              "std        2.003578      2.136348  ...       1.899291       115435.667099\n",
              "min     -124.350000     32.540000  ...       0.499900        14999.000000\n",
              "25%     -121.800000     33.930000  ...       2.563700       119500.000000\n",
              "50%     -118.490000     34.260000  ...       3.536500       179700.000000\n",
              "75%     -118.010000     37.720000  ...       4.744000       264700.000000\n",
              "max     -114.310000     41.950000  ...      15.000100       500001.000000\n",
              "\n",
              "[8 rows x 9 columns]"
            ]
          },
          "metadata": {
            "tags": []
          },
          "execution_count": 3
        }
      ]
    },
    {
      "cell_type": "markdown",
      "metadata": {
        "id": "u0zhLtQqMPem"
      },
      "source": [
        "####  Split the dataset for ML\n",
        "\n",
        "The dataset we loaded was a single CSV file. We will split this into train, validation, and test sets.\n"
      ]
    },
    {
      "cell_type": "code",
      "metadata": {
        "colab": {
          "base_uri": "https://localhost:8080/"
        },
        "id": "YEOpw7LhMYsI",
        "outputId": "62a744b1-e13c-4cc8-9585-51512be339fd"
      },
      "source": [
        "train, test = train_test_split(housing_df, test_size=0.2)\n",
        "train, val = train_test_split(train, test_size=0.2)\n",
        "\n",
        "print(len(train), 'train examples')\n",
        "print(len(val), 'validation examples')\n",
        "print(len(test), 'test examples')"
      ],
      "execution_count": 4,
      "outputs": [
        {
          "output_type": "stream",
          "text": [
            "13076 train examples\n",
            "3270 validation examples\n",
            "4087 test examples\n"
          ],
          "name": "stdout"
        }
      ]
    },
    {
      "cell_type": "markdown",
      "metadata": {
        "id": "dz9kfjOMBX9U"
      },
      "source": [
        "Now, we need to output the split files.  We will specifically need the test.csv later for testing.  You should see the files appear in the home directory.\n"
      ]
    },
    {
      "cell_type": "code",
      "metadata": {
        "id": "ADX23QUu_Wiu"
      },
      "source": [
        "train.to_csv('/content/housing-train.csv', encoding='utf-8', index=False)"
      ],
      "execution_count": 7,
      "outputs": []
    },
    {
      "cell_type": "code",
      "metadata": {
        "id": "Ms2kj47jlWa6"
      },
      "source": [
        "val.to_csv('/content/housing-val.csv', encoding='utf-8', index=False)"
      ],
      "execution_count": 8,
      "outputs": []
    },
    {
      "cell_type": "code",
      "metadata": {
        "id": "CU1FgmKEAmWh"
      },
      "source": [
        "test.to_csv('/content/housing-test.csv', encoding='utf-8', index=False)"
      ],
      "execution_count": 9,
      "outputs": []
    },
    {
      "cell_type": "code",
      "metadata": {
        "colab": {
          "base_uri": "https://localhost:8080/"
        },
        "id": "6kEfQpmGlWa7",
        "outputId": "fd7ee672-5863-4497-f3a3-0733dbe2c55d"
      },
      "source": [
        "!head ../content/housing*.csv"
      ],
      "execution_count": 11,
      "outputs": [
        {
          "output_type": "stream",
          "text": [
            "==> ../content/housing_pre-proc.csv <==\n",
            "longitude,latitude,housing_median_age,total_rooms,total_bedrooms,population,households,median_income,median_house_value,ocean_proximity\r\n",
            "-122.23,37.88,41.0,880.0,129.0,322.0,126.0,8.3252,452600.0,NEAR BAY\r\n",
            "-122.22,37.86,21.0,7099.0,1106.0,2401.0,1138.0,8.3014,358500.0,NEAR BAY\r\n",
            "-122.24,37.85,52.0,1467.0,190.0,496.0,177.0,7.2574,352100.0,NEAR BAY\r\n",
            "-122.25,37.85,52.0,1274.0,235.0,558.0,219.0,5.6431,341300.0,NEAR BAY\r\n",
            "-122.25,37.85,52.0,1627.0,280.0,565.0,259.0,3.8462,342200.0,NEAR BAY\r\n",
            "-122.25,37.85,52.0,919.0,213.0,413.0,193.0,4.0368,269700.0,NEAR BAY\r\n",
            "-122.25,37.84,52.0,2535.0,489.0,1094.0,514.0,3.6591,299200.0,NEAR BAY\r\n",
            "-122.25,37.84,52.0,3104.0,687.0,1157.0,647.0,3.12,241400.0,NEAR BAY\r\n",
            "-122.26,37.84,42.0,2555.0,665.0,1206.0,595.0,2.0804,226700.0,NEAR BAY\r\n",
            "\n",
            "==> ../content/housing-test.csv <==\n",
            "longitude,latitude,housing_median_age,total_rooms,total_bedrooms,population,households,median_income,median_house_value,ocean_proximity\n",
            "-121.99,37.27,17.0,1527.0,267.0,775.0,260.0,5.9658,278000.0,<1H OCEAN\n",
            "-118.98,35.38,39.0,1497.0,383.0,1182.0,355.0,1.0648,50000.0,INLAND\n",
            "-117.08,32.57,9.0,6298.0,1512.0,4451.0,1456.0,2.569,88300.0,NEAR OCEAN\n",
            "-118.26,33.97,46.0,1086.0,249.0,880.0,250.0,1.5962,95700.0,<1H OCEAN\n",
            "-118.26,33.91,39.0,935.0,210.0,711.0,193.0,2.4375,101900.0,<1H OCEAN\n",
            "-122.7,38.45,26.0,2011.0,557.0,855.0,530.0,1.125,233300.0,<1H OCEAN\n",
            "-118.91,34.18,17.0,3220.0,716.0,1381.0,733.0,2.8958,176000.0,<1H OCEAN\n",
            "-117.23,34.51,9.0,5756.0,807.0,2158.0,758.0,5.5875,167800.0,INLAND\n",
            "-121.42,38.56,21.0,2066.0,748.0,2548.0,734.0,1.3571,55000.0,INLAND\n",
            "\n",
            "==> ../content/housing-train.csv <==\n",
            "longitude,latitude,housing_median_age,total_rooms,total_bedrooms,population,households,median_income,median_house_value,ocean_proximity\n",
            "-121.43,38.56,41.0,1105.0,227.0,443.0,210.0,3.1827,131700.0,INLAND\n",
            "-117.86,33.79,42.0,1024.0,191.0,483.0,187.0,4.105,194500.0,<1H OCEAN\n",
            "-118.38,33.89,35.0,1778.0,330.0,732.0,312.0,6.5745,379300.0,<1H OCEAN\n",
            "-118.2,33.9,26.0,1000.0,275.0,1178.0,263.0,2.12,105000.0,<1H OCEAN\n",
            "-118.06,33.91,24.0,4880.0,1044.0,4516.0,1050.0,4.1387,157700.0,<1H OCEAN\n",
            "-117.35,34.15,32.0,2699.0,552.0,2086.0,551.0,2.2974,84500.0,INLAND\n",
            "-118.18,33.91,36.0,1138.0,238.0,878.0,224.0,2.0625,134400.0,<1H OCEAN\n",
            "-118.43,34.01,27.0,3133.0,1021.0,2242.0,1002.0,2.697,412500.0,<1H OCEAN\n",
            "-117.7,33.59,11.0,8039.0,1717.0,3445.0,1571.0,4.1678,190900.0,<1H OCEAN\n",
            "\n",
            "==> ../content/housing-val.csv <==\n",
            "longitude,latitude,housing_median_age,total_rooms,total_bedrooms,population,households,median_income,median_house_value,ocean_proximity\n",
            "-120.44,34.97,22.0,1619.0,360.0,1509.0,384.0,1.7941,110300.0,<1H OCEAN\n",
            "-121.16,38.16,31.0,1953.0,366.0,999.0,316.0,2.4906,122500.0,INLAND\n",
            "-117.86,33.63,17.0,3095.0,551.0,1175.0,534.0,5.3099,500001.0,<1H OCEAN\n",
            "-119.76,36.78,30.0,6117.0,1330.0,2768.0,1224.0,2.1383,78800.0,INLAND\n",
            "-118.2,34.13,50.0,2929.0,588.0,1931.0,574.0,3.3438,173600.0,<1H OCEAN\n",
            "-118.05,34.06,45.0,531.0,164.0,722.0,166.0,2.1406,162500.0,<1H OCEAN\n",
            "-118.27,33.95,43.0,1156.0,291.0,1074.0,299.0,1.8814,94900.0,<1H OCEAN\n",
            "-118.96,35.38,34.0,2047.0,347.0,888.0,352.0,3.6734,92900.0,INLAND\n",
            "-122.04,36.97,40.0,1193.0,227.0,570.0,204.0,4.4659,237500.0,NEAR OCEAN\n"
          ],
          "name": "stdout"
        }
      ]
    },
    {
      "cell_type": "markdown",
      "metadata": {
        "id": "Aj35eYy_lutI"
      },
      "source": [
        "## Lab Task 1: Create an input pipeline using tf.data"
      ]
    },
    {
      "cell_type": "markdown",
      "metadata": {
        "id": "84ef46LXMfvu"
      },
      "source": [
        "Next, we will wrap the dataframes with [tf.data](https://www.tensorflow.org/guide/datasets). This will enable us  to use feature columns as a bridge to map from the columns in the Pandas dataframe to features used to train the model. \n",
        "\n",
        "Here, we create an input pipeline using tf.data.  This function is missing two lines.  Correct and run the cell."
      ]
    },
    {
      "cell_type": "code",
      "metadata": {
        "id": "nvBfdzFilWa8"
      },
      "source": [
        "# A utility method to create a tf.data dataset from a Pandas Dataframe\n",
        "\n",
        "def df_to_dataset(dataframe, shuffle=True, batch_size=32):\n",
        "    dataframe = dataframe.copy()\n",
        "    \n",
        "    # TODO 1a -- Your code here\n",
        "    labels = dataframe.pop('median_house_value')\n",
        "    ds = tf.data.Dataset.from_tensor_slices((dict(dataframe), labels))    \n",
        "\n",
        "\n",
        "    if shuffle:\n",
        "        ds = ds.shuffle(buffer_size=len(dataframe))\n",
        "    ds = ds.batch(batch_size)\n",
        "    return ds"
      ],
      "execution_count": 12,
      "outputs": []
    },
    {
      "cell_type": "markdown",
      "metadata": {
        "id": "-E-DkBWSlWa8"
      },
      "source": [
        "Next we initialize the training and validation datasets."
      ]
    },
    {
      "cell_type": "code",
      "metadata": {
        "id": "88ZOPU5-lWa8"
      },
      "source": [
        "batch_size = 32\n",
        "train_ds = df_to_dataset(train)\n",
        "val_ds = df_to_dataset(val, shuffle=False, batch_size=batch_size)"
      ],
      "execution_count": 13,
      "outputs": []
    },
    {
      "cell_type": "markdown",
      "metadata": {
        "id": "qRLGSMDzM-dl"
      },
      "source": [
        "Now that we have created the input pipeline, let's call it to see the format of the data it returns. We have used a small batch size to keep the output readable."
      ]
    },
    {
      "cell_type": "code",
      "metadata": {
        "colab": {
          "base_uri": "https://localhost:8080/"
        },
        "id": "CSBo3dUVNFc9",
        "outputId": "9e99af37-1649-42da-f406-217d6c49ce49"
      },
      "source": [
        "# TODO 1b -- Your code here\n",
        "for feature_batch, label_batch in train_ds.take(1):\n",
        "    print('Every feature:', list(feature_batch.keys()))\n",
        "    print('A batch of households:', feature_batch['households'])\n",
        "    print('A batch of ocean_proximity:', feature_batch['ocean_proximity'])\n",
        "    print('A batch of targets:', label_batch)"
      ],
      "execution_count": 14,
      "outputs": [
        {
          "output_type": "stream",
          "text": [
            "Every feature: ['longitude', 'latitude', 'housing_median_age', 'total_rooms', 'total_bedrooms', 'population', 'households', 'median_income', 'ocean_proximity']\n",
            "A batch of households: tf.Tensor(\n",
            "[147. 570. 132. 609. 312. 982. 296.  18. 705. 128. 568. 426. 278. 207.\n",
            " 344. 214. 244.  60. 253. 326. 749. 361. 138. 252. 164. 620. 247. 338.\n",
            " 288.  58. 130. 463.], shape=(32,), dtype=float64)\n",
            "A batch of ocean_proximity: tf.Tensor(\n",
            "[b'<1H OCEAN' b'INLAND' b'<1H OCEAN' b'INLAND' b'INLAND' b'NEAR OCEAN'\n",
            " b'INLAND' b'INLAND' b'<1H OCEAN' b'<1H OCEAN' b'NEAR BAY' b'<1H OCEAN'\n",
            " b'<1H OCEAN' b'NEAR BAY' b'INLAND' b'INLAND' b'NEAR BAY' b'<1H OCEAN'\n",
            " b'NEAR BAY' b'INLAND' b'<1H OCEAN' b'<1H OCEAN' b'<1H OCEAN' b'<1H OCEAN'\n",
            " b'INLAND' b'<1H OCEAN' b'NEAR OCEAN' b'INLAND' b'<1H OCEAN' b'INLAND'\n",
            " b'INLAND' b'<1H OCEAN'], shape=(32,), dtype=string)\n",
            "A batch of targets: tf.Tensor(\n",
            "[133300.  54900. 247800. 139900. 222100. 361900.  77800.  87500. 185100.\n",
            "  90300. 153100. 145700. 114600.  93300.  47800. 133600.  79700. 137500.\n",
            " 500001. 183800. 275100. 100000.  17500. 165000. 173800. 272600. 215400.\n",
            " 128500. 218100. 125000. 115000. 500001.], shape=(32,), dtype=float64)\n"
          ],
          "name": "stdout"
        }
      ]
    },
    {
      "cell_type": "markdown",
      "metadata": {
        "id": "OT5N6Se-NQsC"
      },
      "source": [
        "We can see that the dataset returns a dictionary of column names (from the dataframe) that map to column values from rows in the dataframe."
      ]
    },
    {
      "cell_type": "markdown",
      "metadata": {
        "id": "YEGEAqaziwfC"
      },
      "source": [
        "#### Numeric columns\n",
        "The output of a feature column becomes the input to the model. A numeric is the simplest type of column. It is used to represent real valued features. When using this column, your model will receive the column value from the dataframe unchanged.\n",
        "\n",
        "In the California housing prices dataset, most columns from the dataframe are numeric.  Let' create a variable called **numeric_cols** to hold only the numerical feature columns."
      ]
    },
    {
      "cell_type": "code",
      "metadata": {
        "id": "ifxJ_BralWa_"
      },
      "source": [
        "# TODO 1c -- Your code here\n",
        "numeric_cols = ['longitude', 'latitude', 'housing_median_age', 'total_rooms',\n",
        "                'total_bedrooms', 'population', 'households', 'median_income']"
      ],
      "execution_count": 15,
      "outputs": []
    },
    {
      "cell_type": "markdown",
      "metadata": {
        "id": "EwMEcH_52JT8"
      },
      "source": [
        "#### Scaler function\n",
        "It is very important for numerical variables to get scaled before they are \"fed\" into the neural network. Here we use min-max scaling. Here we are creating a function named 'get_scal' which takes a list of numerical features and returns a 'minmax' function, which will be used in tf.feature_column.numeric_column() as normalizer_fn in parameters. 'Minmax' function itself takes a 'numerical' number from a particular feature and return scaled value of that number. "
      ]
    },
    {
      "cell_type": "markdown",
      "metadata": {
        "id": "ig1k5ovWBnN8"
      },
      "source": [
        "Next, we scale the numerical feature columns that we assigned to the variable \"numeric cols\"."
      ]
    },
    {
      "cell_type": "code",
      "metadata": {
        "id": "LK-_dF70lWa_"
      },
      "source": [
        "# Scalar def get_scal(feature):\n",
        "# TODO 1d -- Your code here\n",
        "def get_scal(feature):\n",
        "    def minmax(x):\n",
        "        mini = train[feature].min()\n",
        "        maxi = train[feature].max()\n",
        "        return (x - mini)/(maxi-mini)\n",
        "        return(minmax)"
      ],
      "execution_count": 16,
      "outputs": []
    },
    {
      "cell_type": "code",
      "metadata": {
        "id": "Y8IUfcuVaS_g"
      },
      "source": [
        "# TODO 1e -- Your code here\n",
        "feature_columns = []\n",
        "for header in numeric_cols:\n",
        "    scal_input_fn = get_scal(header)\n",
        "    feature_columns.append(fc.numeric_column(header,\n",
        "                                             normalizer_fn=scal_input_fn))"
      ],
      "execution_count": 17,
      "outputs": []
    },
    {
      "cell_type": "markdown",
      "metadata": {
        "id": "8v9XoD7WCKRM"
      },
      "source": [
        "Next, we should validate the total number of feature columns.  Compare this number to the number of numeric features you input earlier."
      ]
    },
    {
      "cell_type": "code",
      "metadata": {
        "colab": {
          "base_uri": "https://localhost:8080/"
        },
        "id": "4jgPFThi50sS",
        "outputId": "f69ca61d-7e2b-4f12-8d80-9dcd9c88df93"
      },
      "source": [
        "print('Total number of feature coLumns: ', len(feature_columns))"
      ],
      "execution_count": 18,
      "outputs": [
        {
          "output_type": "stream",
          "text": [
            "Total number of feature coLumns:  8\n"
          ],
          "name": "stdout"
        }
      ]
    },
    {
      "cell_type": "markdown",
      "metadata": {
        "id": "9Ug3hB8Sl0jO"
      },
      "source": [
        "### Using the Keras Sequential Model\n",
        "\n",
        "Next, we will run this cell to compile and fit the Keras Sequential model."
      ]
    },
    {
      "cell_type": "code",
      "metadata": {
        "colab": {
          "base_uri": "https://localhost:8080/"
        },
        "id": "_YJPPb3xTPeZ",
        "outputId": "a5f9e020-c8cd-4334-acdc-372d2cd135ba"
      },
      "source": [
        "# Model create\n",
        "feature_layer = tf.keras.layers.DenseFeatures(feature_columns, dtype='float64')\n",
        "\n",
        "model = tf.keras.Sequential([\n",
        "  feature_layer,\n",
        "  layers.Dense(12, input_dim=8, activation='relu'),\n",
        "  layers.Dense(8, activation='relu'),\n",
        "  layers.Dense(1, activation='linear',  name='median_house_value')\n",
        "])\n",
        "\n",
        "# Model compile\n",
        "model.compile(optimizer='adam',\n",
        "              loss='mse',\n",
        "              metrics=['mse'])\n",
        "\n",
        "# Model Fit\n",
        "history = model.fit(train_ds,\n",
        "                    validation_data=val_ds,\n",
        "                    epochs=32)"
      ],
      "execution_count": 19,
      "outputs": [
        {
          "output_type": "stream",
          "text": [
            "Epoch 1/32\n",
            "WARNING:tensorflow:Layers in a Sequential model should only have a single input tensor, but we receive a <class 'dict'> input: {'longitude': <tf.Tensor 'ExpandDims_3:0' shape=(None, 1) dtype=float64>, 'latitude': <tf.Tensor 'ExpandDims_2:0' shape=(None, 1) dtype=float64>, 'housing_median_age': <tf.Tensor 'ExpandDims_1:0' shape=(None, 1) dtype=float64>, 'total_rooms': <tf.Tensor 'ExpandDims_8:0' shape=(None, 1) dtype=float64>, 'total_bedrooms': <tf.Tensor 'ExpandDims_7:0' shape=(None, 1) dtype=float64>, 'population': <tf.Tensor 'ExpandDims_6:0' shape=(None, 1) dtype=float64>, 'households': <tf.Tensor 'ExpandDims:0' shape=(None, 1) dtype=float64>, 'median_income': <tf.Tensor 'ExpandDims_4:0' shape=(None, 1) dtype=float64>, 'ocean_proximity': <tf.Tensor 'ExpandDims_5:0' shape=(None, 1) dtype=string>}\n",
            "Consider rewriting this model with the Functional API.\n",
            "WARNING:tensorflow:Layers in a Sequential model should only have a single input tensor, but we receive a <class 'dict'> input: {'longitude': <tf.Tensor 'ExpandDims_3:0' shape=(None, 1) dtype=float64>, 'latitude': <tf.Tensor 'ExpandDims_2:0' shape=(None, 1) dtype=float64>, 'housing_median_age': <tf.Tensor 'ExpandDims_1:0' shape=(None, 1) dtype=float64>, 'total_rooms': <tf.Tensor 'ExpandDims_8:0' shape=(None, 1) dtype=float64>, 'total_bedrooms': <tf.Tensor 'ExpandDims_7:0' shape=(None, 1) dtype=float64>, 'population': <tf.Tensor 'ExpandDims_6:0' shape=(None, 1) dtype=float64>, 'households': <tf.Tensor 'ExpandDims:0' shape=(None, 1) dtype=float64>, 'median_income': <tf.Tensor 'ExpandDims_4:0' shape=(None, 1) dtype=float64>, 'ocean_proximity': <tf.Tensor 'ExpandDims_5:0' shape=(None, 1) dtype=string>}\n",
            "Consider rewriting this model with the Functional API.\n",
            "388/409 [===========================>..] - ETA: 0s - loss: 55043575332.9485 - mse: 55043575332.9485WARNING:tensorflow:Layers in a Sequential model should only have a single input tensor, but we receive a <class 'dict'> input: {'longitude': <tf.Tensor 'ExpandDims_3:0' shape=(None, 1) dtype=float64>, 'latitude': <tf.Tensor 'ExpandDims_2:0' shape=(None, 1) dtype=float64>, 'housing_median_age': <tf.Tensor 'ExpandDims_1:0' shape=(None, 1) dtype=float64>, 'total_rooms': <tf.Tensor 'ExpandDims_8:0' shape=(None, 1) dtype=float64>, 'total_bedrooms': <tf.Tensor 'ExpandDims_7:0' shape=(None, 1) dtype=float64>, 'population': <tf.Tensor 'ExpandDims_6:0' shape=(None, 1) dtype=float64>, 'households': <tf.Tensor 'ExpandDims:0' shape=(None, 1) dtype=float64>, 'median_income': <tf.Tensor 'ExpandDims_4:0' shape=(None, 1) dtype=float64>, 'ocean_proximity': <tf.Tensor 'ExpandDims_5:0' shape=(None, 1) dtype=string>}\n",
            "Consider rewriting this model with the Functional API.\n",
            "409/409 [==============================] - 2s 2ms/step - loss: 54860430101.2293 - mse: 54860430101.2293 - val_loss: 41434120192.0000 - val_mse: 41434120192.0000\n",
            "Epoch 2/32\n",
            "409/409 [==============================] - 1s 2ms/step - loss: 34099433716.7610 - mse: 34099433716.7610 - val_loss: 26362122240.0000 - val_mse: 26362122240.0000\n",
            "Epoch 3/32\n",
            "409/409 [==============================] - 1s 2ms/step - loss: 26313417023.6878 - mse: 26313417023.6878 - val_loss: 25816702976.0000 - val_mse: 25816702976.0000\n",
            "Epoch 4/32\n",
            "409/409 [==============================] - 1s 2ms/step - loss: 25497036238.0488 - mse: 25497036238.0488 - val_loss: 25187213312.0000 - val_mse: 25187213312.0000\n",
            "Epoch 5/32\n",
            "409/409 [==============================] - 1s 2ms/step - loss: 24702827430.0878 - mse: 24702827430.0878 - val_loss: 24530477056.0000 - val_mse: 24530477056.0000\n",
            "Epoch 6/32\n",
            "409/409 [==============================] - 1s 2ms/step - loss: 24723324468.4488 - mse: 24723324468.4488 - val_loss: 23607554048.0000 - val_mse: 23607554048.0000\n",
            "Epoch 7/32\n",
            "409/409 [==============================] - 1s 2ms/step - loss: 24670233869.7366 - mse: 24670233869.7366 - val_loss: 22701318144.0000 - val_mse: 22701318144.0000\n",
            "Epoch 8/32\n",
            "409/409 [==============================] - 1s 2ms/step - loss: 22985930941.8146 - mse: 22985930941.8146 - val_loss: 21582141440.0000 - val_mse: 21582141440.0000\n",
            "Epoch 9/32\n",
            "409/409 [==============================] - 1s 2ms/step - loss: 20575933464.9756 - mse: 20575933464.9756 - val_loss: 20145840128.0000 - val_mse: 20145840128.0000\n",
            "Epoch 10/32\n",
            "409/409 [==============================] - 1s 2ms/step - loss: 20343942453.6976 - mse: 20343942453.6976 - val_loss: 18581106688.0000 - val_mse: 18581106688.0000\n",
            "Epoch 11/32\n",
            "409/409 [==============================] - 1s 2ms/step - loss: 18313704115.8244 - mse: 18313704115.8244 - val_loss: 16996413440.0000 - val_mse: 16996413440.0000\n",
            "Epoch 12/32\n",
            "409/409 [==============================] - 1s 2ms/step - loss: 16798963956.7610 - mse: 16798963956.7610 - val_loss: 15254245376.0000 - val_mse: 15254245376.0000\n",
            "Epoch 13/32\n",
            "409/409 [==============================] - 1s 2ms/step - loss: 14920780585.2098 - mse: 14920780585.2098 - val_loss: 13742162944.0000 - val_mse: 13742162944.0000\n",
            "Epoch 14/32\n",
            "409/409 [==============================] - 1s 2ms/step - loss: 13675851426.3415 - mse: 13675851426.3415 - val_loss: 12570089472.0000 - val_mse: 12570089472.0000\n",
            "Epoch 15/32\n",
            "409/409 [==============================] - 1s 2ms/step - loss: 12675009580.9561 - mse: 12675009580.9561 - val_loss: 11859789824.0000 - val_mse: 11859789824.0000\n",
            "Epoch 16/32\n",
            "409/409 [==============================] - 1s 2ms/step - loss: 11733250222.8293 - mse: 11733250222.8293 - val_loss: 11479581696.0000 - val_mse: 11479581696.0000\n",
            "Epoch 17/32\n",
            "409/409 [==============================] - 1s 2ms/step - loss: 11665147089.7951 - mse: 11665147089.7951 - val_loss: 11273827328.0000 - val_mse: 11273827328.0000\n",
            "Epoch 18/32\n",
            "409/409 [==============================] - 1s 2ms/step - loss: 11461868973.5805 - mse: 11461868973.5805 - val_loss: 11181181952.0000 - val_mse: 11181181952.0000\n",
            "Epoch 19/32\n",
            "409/409 [==============================] - 1s 2ms/step - loss: 11238873422.6732 - mse: 11238873422.6732 - val_loss: 11115623424.0000 - val_mse: 11115623424.0000\n",
            "Epoch 20/32\n",
            "409/409 [==============================] - 1s 2ms/step - loss: 11196188289.8732 - mse: 11196188289.8732 - val_loss: 11071084544.0000 - val_mse: 11071084544.0000\n",
            "Epoch 21/32\n",
            "409/409 [==============================] - 1s 2ms/step - loss: 11461661000.4293 - mse: 11461661000.4293 - val_loss: 11029190656.0000 - val_mse: 11029190656.0000\n",
            "Epoch 22/32\n",
            "409/409 [==============================] - 1s 2ms/step - loss: 11038698123.8634 - mse: 11038698123.8634 - val_loss: 11001766912.0000 - val_mse: 11001766912.0000\n",
            "Epoch 23/32\n",
            "409/409 [==============================] - 1s 2ms/step - loss: 11116863865.1317 - mse: 11116863865.1317 - val_loss: 10950960128.0000 - val_mse: 10950960128.0000\n",
            "Epoch 24/32\n",
            "409/409 [==============================] - 1s 2ms/step - loss: 11013572248.3512 - mse: 11013572248.3512 - val_loss: 10934817792.0000 - val_mse: 10934817792.0000\n",
            "Epoch 25/32\n",
            "409/409 [==============================] - 1s 2ms/step - loss: 11125340607.0634 - mse: 11125340607.0634 - val_loss: 10868041728.0000 - val_mse: 10868041728.0000\n",
            "Epoch 26/32\n",
            "409/409 [==============================] - 1s 2ms/step - loss: 10988079298.8098 - mse: 10988079298.8098 - val_loss: 10829215744.0000 - val_mse: 10829215744.0000\n",
            "Epoch 27/32\n",
            "409/409 [==============================] - 1s 2ms/step - loss: 11084346223.1415 - mse: 11084346223.1415 - val_loss: 10786790400.0000 - val_mse: 10786790400.0000\n",
            "Epoch 28/32\n",
            "409/409 [==============================] - 1s 2ms/step - loss: 11085402382.9854 - mse: 11085402382.9854 - val_loss: 10820303872.0000 - val_mse: 10820303872.0000\n",
            "Epoch 29/32\n",
            "409/409 [==============================] - 1s 2ms/step - loss: 10850103997.8146 - mse: 10850103997.8146 - val_loss: 10694766592.0000 - val_mse: 10694766592.0000\n",
            "Epoch 30/32\n",
            "409/409 [==============================] - 1s 2ms/step - loss: 10900852049.1707 - mse: 10900852049.1707 - val_loss: 10698157056.0000 - val_mse: 10698157056.0000\n",
            "Epoch 31/32\n",
            "409/409 [==============================] - 1s 2ms/step - loss: 10827039826.4195 - mse: 10827039826.4195 - val_loss: 10589284352.0000 - val_mse: 10589284352.0000\n",
            "Epoch 32/32\n",
            "409/409 [==============================] - 1s 2ms/step - loss: 10852560453.9317 - mse: 10852560453.9317 - val_loss: 10546590720.0000 - val_mse: 10546590720.0000\n"
          ],
          "name": "stdout"
        }
      ]
    },
    {
      "cell_type": "markdown",
      "metadata": {
        "id": "lAyvTctSlWbB"
      },
      "source": [
        "Next we show loss as  Mean Square Error (MSE).  Remember that MSE is the most commonly used regression loss function. MSE is the sum of squared distances between our target variable (e.g. housing median age) and predicted values."
      ]
    },
    {
      "cell_type": "code",
      "metadata": {
        "colab": {
          "base_uri": "https://localhost:8080/"
        },
        "id": "vo7hhkPqm6Jx",
        "outputId": "5b0163a1-357e-436d-915f-bd35c9262a63"
      },
      "source": [
        "loss, mse = model.evaluate(train_ds)\n",
        "print(\"Mean Squared Error\", mse)"
      ],
      "execution_count": 20,
      "outputs": [
        {
          "output_type": "stream",
          "text": [
            "409/409 [==============================] - 1s 1ms/step - loss: 10692056064.0000 - mse: 10692056064.0000\n",
            "Mean Squared Error 10692056064.0\n"
          ],
          "name": "stdout"
        }
      ]
    },
    {
      "cell_type": "markdown",
      "metadata": {
        "id": "252EPxGp7-FJ"
      },
      "source": [
        "#### Visualize the model loss curve\n",
        "\n",
        "Next, we will use matplotlib to draw the model's loss curves for training and validation.  A line plot is also created showing the mean squared error loss over the training epochs for both the train (blue) and test (orange) sets."
      ]
    },
    {
      "cell_type": "code",
      "metadata": {
        "id": "jGiz1oralWbC"
      },
      "source": [
        "def plot_curves(history, metrics):\n",
        "    nrows = 1\n",
        "    ncols = 2\n",
        "    fig = plt.figure(figsize=(10, 5))\n",
        "\n",
        "    for idx, key in enumerate(metrics):  \n",
        "        ax = fig.add_subplot(nrows, ncols, idx+1)\n",
        "        plt.plot(history.history[key])\n",
        "        plt.plot(history.history['val_{}'.format(key)])\n",
        "        plt.title('model {}'.format(key))\n",
        "        plt.ylabel(key)\n",
        "        plt.xlabel('epoch')\n",
        "        plt.legend(['train', 'validation'], loc='upper left');  "
      ],
      "execution_count": 21,
      "outputs": []
    },
    {
      "cell_type": "code",
      "metadata": {
        "colab": {
          "base_uri": "https://localhost:8080/",
          "height": 350
        },
        "id": "4fLE2nCDlWbC",
        "outputId": "649a9e10-0ddc-4faa-d2bb-d2d39c13906f"
      },
      "source": [
        "plot_curves(history, ['loss', 'mse'])"
      ],
      "execution_count": 22,
      "outputs": [
        {
          "output_type": "display_data",
          "data": {
            "image/png": "[encoded data removed]",
            "text/plain": [
              "<Figure size 720x360 with 2 Axes>"
            ]
          },
          "metadata": {
            "tags": [],
            "needs_background": "light"
          }
        }
      ]
    },
    {
      "cell_type": "markdown",
      "metadata": {
        "id": "wqkozY268xi7"
      },
      "source": [
        "### Load test data"
      ]
    },
    {
      "cell_type": "markdown",
      "metadata": {
        "id": "uf4TyVJ_Dzxe"
      },
      "source": [
        "Next, we read in the test.csv file and validate that there are no null values.  "
      ]
    },
    {
      "cell_type": "markdown",
      "metadata": {
        "id": "V3vzJ497lWbC"
      },
      "source": [
        "Again, we can use .describe() to see some summary statistics for the numeric fields in our dataframe.  The count shows 4087.000000 for all feature columns. Thus, there are no missing values."
      ]
    },
    {
      "cell_type": "code",
      "metadata": {
        "colab": {
          "base_uri": "https://localhost:8080/",
          "height": 297
        },
        "id": "b4C4BmhV8ch9",
        "outputId": "76203dab-47c1-4d29-aea2-1f75d932a782"
      },
      "source": [
        "test_data = pd.read_csv('../content/housing-test.csv')\n",
        "test_data.describe()"
      ],
      "execution_count": 24,
      "outputs": [
        {
          "output_type": "execute_result",
          "data": {
            "text/html": [
              "<div>\n",
              "<style scoped>\n",
              "    .dataframe tbody tr th:only-of-type {\n",
              "        vertical-align: middle;\n",
              "    }\n",
              "\n",
              "    .dataframe tbody tr th {\n",
              "        vertical-align: top;\n",
              "    }\n",
              "\n",
              "    .dataframe thead th {\n",
              "        text-align: right;\n",
              "    }\n",
              "</style>\n",
              "<table border=\"1\" class=\"dataframe\">\n",
              "  <thead>\n",
              "    <tr style=\"text-align: right;\">\n",
              "      <th></th>\n",
              "      <th>longitude</th>\n",
              "      <th>latitude</th>\n",
              "      <th>housing_median_age</th>\n",
              "      <th>total_rooms</th>\n",
              "      <th>total_bedrooms</th>\n",
              "      <th>population</th>\n",
              "      <th>households</th>\n",
              "      <th>median_income</th>\n",
              "      <th>median_house_value</th>\n",
              "    </tr>\n",
              "  </thead>\n",
              "  <tbody>\n",
              "    <tr>\n",
              "      <th>count</th>\n",
              "      <td>4087.000000</td>\n",
              "      <td>4087.000000</td>\n",
              "      <td>4087.000000</td>\n",
              "      <td>4087.000000</td>\n",
              "      <td>4087.000000</td>\n",
              "      <td>4087.000000</td>\n",
              "      <td>4087.000000</td>\n",
              "      <td>4087.000000</td>\n",
              "      <td>4087.000000</td>\n",
              "    </tr>\n",
              "    <tr>\n",
              "      <th>mean</th>\n",
              "      <td>-119.519858</td>\n",
              "      <td>35.567120</td>\n",
              "      <td>28.474431</td>\n",
              "      <td>2610.496697</td>\n",
              "      <td>532.563005</td>\n",
              "      <td>1427.373868</td>\n",
              "      <td>496.314167</td>\n",
              "      <td>3.885736</td>\n",
              "      <td>207886.344752</td>\n",
              "    </tr>\n",
              "    <tr>\n",
              "      <th>std</th>\n",
              "      <td>2.012399</td>\n",
              "      <td>2.130731</td>\n",
              "      <td>12.437362</td>\n",
              "      <td>2134.612186</td>\n",
              "      <td>409.415234</td>\n",
              "      <td>1193.208499</td>\n",
              "      <td>377.577402</td>\n",
              "      <td>1.931078</td>\n",
              "      <td>115465.136093</td>\n",
              "    </tr>\n",
              "    <tr>\n",
              "      <th>min</th>\n",
              "      <td>-124.260000</td>\n",
              "      <td>32.560000</td>\n",
              "      <td>2.000000</td>\n",
              "      <td>2.000000</td>\n",
              "      <td>2.000000</td>\n",
              "      <td>6.000000</td>\n",
              "      <td>2.000000</td>\n",
              "      <td>0.499900</td>\n",
              "      <td>14999.000000</td>\n",
              "    </tr>\n",
              "    <tr>\n",
              "      <th>25%</th>\n",
              "      <td>-121.760000</td>\n",
              "      <td>33.910000</td>\n",
              "      <td>18.000000</td>\n",
              "      <td>1420.000000</td>\n",
              "      <td>292.000000</td>\n",
              "      <td>787.000000</td>\n",
              "      <td>276.500000</td>\n",
              "      <td>2.561400</td>\n",
              "      <td>120450.000000</td>\n",
              "    </tr>\n",
              "    <tr>\n",
              "      <th>50%</th>\n",
              "      <td>-118.450000</td>\n",
              "      <td>34.220000</td>\n",
              "      <td>28.000000</td>\n",
              "      <td>2139.000000</td>\n",
              "      <td>433.000000</td>\n",
              "      <td>1165.000000</td>\n",
              "      <td>409.000000</td>\n",
              "      <td>3.528800</td>\n",
              "      <td>181300.000000</td>\n",
              "    </tr>\n",
              "    <tr>\n",
              "      <th>75%</th>\n",
              "      <td>-117.975000</td>\n",
              "      <td>37.690000</td>\n",
              "      <td>37.000000</td>\n",
              "      <td>3138.500000</td>\n",
              "      <td>648.500000</td>\n",
              "      <td>1741.000000</td>\n",
              "      <td>606.000000</td>\n",
              "      <td>4.775900</td>\n",
              "      <td>263050.000000</td>\n",
              "    </tr>\n",
              "    <tr>\n",
              "      <th>max</th>\n",
              "      <td>-114.610000</td>\n",
              "      <td>41.800000</td>\n",
              "      <td>52.000000</td>\n",
              "      <td>37937.000000</td>\n",
              "      <td>5471.000000</td>\n",
              "      <td>35682.000000</td>\n",
              "      <td>5189.000000</td>\n",
              "      <td>15.000100</td>\n",
              "      <td>500001.000000</td>\n",
              "    </tr>\n",
              "  </tbody>\n",
              "</table>\n",
              "</div>"
            ],
            "text/plain": [
              "         longitude     latitude  ...  median_income  median_house_value\n",
              "count  4087.000000  4087.000000  ...    4087.000000         4087.000000\n",
              "mean   -119.519858    35.567120  ...       3.885736       207886.344752\n",
              "std       2.012399     2.130731  ...       1.931078       115465.136093\n",
              "min    -124.260000    32.560000  ...       0.499900        14999.000000\n",
              "25%    -121.760000    33.910000  ...       2.561400       120450.000000\n",
              "50%    -118.450000    34.220000  ...       3.528800       181300.000000\n",
              "75%    -117.975000    37.690000  ...       4.775900       263050.000000\n",
              "max    -114.610000    41.800000  ...      15.000100       500001.000000\n",
              "\n",
              "[8 rows x 9 columns]"
            ]
          },
          "metadata": {
            "tags": []
          },
          "execution_count": 24
        }
      ]
    },
    {
      "cell_type": "markdown",
      "metadata": {
        "id": "nY2Yrt8fC7RW"
      },
      "source": [
        "Now that we have created an input pipeline using tf.data and compiled a Keras Sequential Model, we now create the input function for the test data and to initialize the test_predict variable."
      ]
    },
    {
      "cell_type": "code",
      "metadata": {
        "id": "8rMdDeGDCwpT"
      },
      "source": [
        "# TODO 1f -- Your code here\n",
        "def test_input_fn(features, batch_size=256):\n",
        "    return tf.data.Dataset.from_tensor_slices(dict(features)).batch(batch_size)"
      ],
      "execution_count": 25,
      "outputs": []
    },
    {
      "cell_type": "code",
      "metadata": {
        "id": "UFbKHUgylWbE"
      },
      "source": [
        "test_predict = test_input_fn(dict(test_data))"
      ],
      "execution_count": 26,
      "outputs": []
    },
    {
      "cell_type": "markdown",
      "metadata": {
        "id": "H5SkINtbDIdr"
      },
      "source": [
        "#### Prediction:  Linear Regression\n",
        "\n",
        "Before we begin to feature engineer our feature columns, we should predict the median house value.  By predicting the median house value now, we can then compare it with the median house value after feature engineering.\n",
        "\n",
        "To predict with Keras, you simply call [model.predict()](https://keras.io/models/model/#predict) and pass in the housing features you want to predict the median_house_value for. Note:  We are predicting the model locally."
      ]
    },
    {
      "cell_type": "code",
      "metadata": {
        "colab": {
          "base_uri": "https://localhost:8080/"
        },
        "id": "uNc6TSoJDL7-",
        "outputId": "c31b56de-1823-4d94-92eb-b30c39d03d39"
      },
      "source": [
        "predicted_median_house_value = model.predict(test_predict)"
      ],
      "execution_count": 27,
      "outputs": [
        {
          "output_type": "stream",
          "text": [
            "WARNING:tensorflow:Layers in a Sequential model should only have a single input tensor, but we receive a <class 'dict'> input: {'longitude': <tf.Tensor 'ExpandDims_3:0' shape=(None, 1) dtype=float64>, 'latitude': <tf.Tensor 'ExpandDims_2:0' shape=(None, 1) dtype=float64>, 'housing_median_age': <tf.Tensor 'ExpandDims_1:0' shape=(None, 1) dtype=float64>, 'total_rooms': <tf.Tensor 'ExpandDims_9:0' shape=(None, 1) dtype=float64>, 'total_bedrooms': <tf.Tensor 'ExpandDims_8:0' shape=(None, 1) dtype=float64>, 'population': <tf.Tensor 'ExpandDims_7:0' shape=(None, 1) dtype=float64>, 'households': <tf.Tensor 'ExpandDims:0' shape=(None, 1) dtype=float64>, 'median_income': <tf.Tensor 'ExpandDims_5:0' shape=(None, 1) dtype=float64>, 'median_house_value': <tf.Tensor 'ExpandDims_4:0' shape=(None, 1) dtype=float64>, 'ocean_proximity': <tf.Tensor 'ExpandDims_6:0' shape=(None, 1) dtype=string>}\n",
            "Consider rewriting this model with the Functional API.\n"
          ],
          "name": "stdout"
        }
      ]
    },
    {
      "cell_type": "markdown",
      "metadata": {
        "id": "HFXK1SKPDYgD"
      },
      "source": [
        "Next, we run two predictions in separate cells - one where ocean_proximity=INLAND and one where ocean_proximity= NEAR OCEAN. "
      ]
    },
    {
      "cell_type": "code",
      "metadata": {
        "colab": {
          "base_uri": "https://localhost:8080/"
        },
        "id": "xepss0vhoHge",
        "outputId": "66148c87-6c4f-4472-d58b-01cfbc4d1e0d"
      },
      "source": [
        "# Ocean_proximity is INLAND\n",
        "model.predict({\n",
        "    'longitude': tf.convert_to_tensor([-121.86]),\n",
        "    'latitude': tf.convert_to_tensor([39.78]),\n",
        "    'housing_median_age': tf.convert_to_tensor([12.0]),\n",
        "    'total_rooms': tf.convert_to_tensor([7653.0]),\n",
        "    'total_bedrooms': tf.convert_to_tensor([1578.0]),\n",
        "    'population': tf.convert_to_tensor([3628.0]),\n",
        "    'households': tf.convert_to_tensor([1494.0]),\n",
        "    'median_income': tf.convert_to_tensor([3.0905]),\n",
        "    'ocean_proximity': tf.convert_to_tensor(['INLAND'])\n",
        "}, steps=1)"
      ],
      "execution_count": 28,
      "outputs": [
        {
          "output_type": "stream",
          "text": [
            "WARNING:tensorflow:Layers in a Sequential model should only have a single input tensor, but we receive a <class 'dict'> input: {'longitude': <tf.Tensor 'ExpandDims_3:0' shape=(1, 1) dtype=float32>, 'latitude': <tf.Tensor 'ExpandDims_2:0' shape=(1, 1) dtype=float32>, 'housing_median_age': <tf.Tensor 'ExpandDims_1:0' shape=(1, 1) dtype=float32>, 'total_rooms': <tf.Tensor 'ExpandDims_8:0' shape=(1, 1) dtype=float32>, 'total_bedrooms': <tf.Tensor 'ExpandDims_7:0' shape=(1, 1) dtype=float32>, 'population': <tf.Tensor 'ExpandDims_6:0' shape=(1, 1) dtype=float32>, 'households': <tf.Tensor 'ExpandDims:0' shape=(1, 1) dtype=float32>, 'median_income': <tf.Tensor 'ExpandDims_4:0' shape=(1, 1) dtype=float32>, 'ocean_proximity': <tf.Tensor 'ExpandDims_5:0' shape=(1, 1) dtype=string>}\n",
            "Consider rewriting this model with the Functional API.\n"
          ],
          "name": "stdout"
        },
        {
          "output_type": "execute_result",
          "data": {
            "text/plain": [
              "array([[218842.1]], dtype=float32)"
            ]
          },
          "metadata": {
            "tags": []
          },
          "execution_count": 28
        }
      ]
    },
    {
      "cell_type": "code",
      "metadata": {
        "colab": {
          "base_uri": "https://localhost:8080/"
        },
        "id": "qPssm8p4EZHh",
        "outputId": "afe3ec09-928a-4454-a502-5adc21f0c20b"
      },
      "source": [
        "# Ocean_proximity is NEAR OCEAN\n",
        "model.predict({\n",
        "    'longitude': tf.convert_to_tensor([-122.43]),\n",
        "    'latitude': tf.convert_to_tensor([37.63]),\n",
        "    'housing_median_age': tf.convert_to_tensor([34.0]),\n",
        "    'total_rooms': tf.convert_to_tensor([4135.0]),\n",
        "    'total_bedrooms': tf.convert_to_tensor([687.0]),\n",
        "    'population': tf.convert_to_tensor([2154.0]),\n",
        "    'households': tf.convert_to_tensor([742.0]),\n",
        "    'median_income': tf.convert_to_tensor([4.9732]),\n",
        "    'ocean_proximity': tf.convert_to_tensor(['NEAR OCEAN'])\n",
        "}, steps=1)"
      ],
      "execution_count": 29,
      "outputs": [
        {
          "output_type": "execute_result",
          "data": {
            "text/plain": [
              "array([[233901.62]], dtype=float32)"
            ]
          },
          "metadata": {
            "tags": []
          },
          "execution_count": 29
        }
      ]
    },
    {
      "cell_type": "markdown",
      "metadata": {
        "id": "Txl-MRuLFE_8"
      },
      "source": [
        "The arrays returns a predicted value.  What do these numbers mean?  Let's compare this value to the test set.  \n",
        "\n",
        "Go to the test.csv you read in a few cells up.  Locate the first line and find the median_house_value - which should be 249,000 dollars near the ocean. What value did your model predicted for the median_house_value? Was it a solid model performance? Let's see if we can improve this a bit with feature engineering!  \n"
      ]
    },
    {
      "cell_type": "markdown",
      "metadata": {
        "id": "TgGFqDoFlWbG"
      },
      "source": [
        "## Lab Task 2: Engineer features to create categorical and numerical features"
      ]
    },
    {
      "cell_type": "markdown",
      "metadata": {
        "id": "78F1XH1Qwvbt"
      },
      "source": [
        "Now we create a cell that indicates which features will be used in the model.  \n",
        "Note:  Be sure to bucketize 'housing_median_age' and ensure that 'ocean_proximity' is one-hot encoded.  And, don't forget your numeric values!"
      ]
    },
    {
      "cell_type": "code",
      "metadata": {
        "id": "ZxSatLUxUmvI"
      },
      "source": [
        "# TODO 2a -- Your code here\n",
        "numeric_cols = ['longitude', 'latitude', 'housing_median_age', 'total_rooms',\n",
        "                'total_bedrooms', 'population', 'households', 'median_income']\n",
        "\n",
        "bucketized_cols = ['housing_median_age']\n",
        "\n",
        "categorical_cols = ['ocean_proximity']"
      ],
      "execution_count": 30,
      "outputs": []
    },
    {
      "cell_type": "markdown",
      "metadata": {
        "id": "5HbypkYHxxwt"
      },
      "source": [
        "Next, we scale the numerical, bucktized, and categorical feature columns that we assigned to the variables in the preceding cell."
      ]
    },
    {
      "cell_type": "code",
      "metadata": {
        "id": "ExX5Akz0UnE-"
      },
      "source": [
        "# Scalar def get_scal(feature):\n",
        "def get_scal(feature):\n",
        "    def minmax(x):\n",
        "        mini = train[feature].min()\n",
        "        maxi = train[feature].max()\n",
        "        return (x - mini)/(maxi-mini)\n",
        "        return(minmax)"
      ],
      "execution_count": 31,
      "outputs": []
    },
    {
      "cell_type": "code",
      "metadata": {
        "id": "wzqcddUQUnKn"
      },
      "source": [
        "# All numerical features - scaling\n",
        "feature_columns = []\n",
        "for header in numeric_cols:\n",
        "    scal_input_fn = get_scal(header)\n",
        "    feature_columns.append(fc.numeric_column(header,\n",
        "                                             normalizer_fn=scal_input_fn))"
      ],
      "execution_count": 32,
      "outputs": []
    },
    {
      "cell_type": "markdown",
      "metadata": {
        "id": "yYUpUZvgwrPe"
      },
      "source": [
        "### Categorical Feature\n",
        "In this dataset, 'ocean_proximity' is represented as a string.  We cannot feed strings directly to a model. Instead, we must first map them to numeric values. The categorical vocabulary columns provide a way to represent strings as a one-hot vector."
      ]
    },
    {
      "cell_type": "markdown",
      "metadata": {
        "id": "sZnlnFZkyEbe"
      },
      "source": [
        "Next, we create a categorical feature using 'ocean_proximity'."
      ]
    },
    {
      "cell_type": "code",
      "metadata": {
        "id": "3Cf6SoFTUnc6"
      },
      "source": [
        "# TODO 2b -- Your code here\n",
        "for feature_name in categorical_cols:\n",
        "    vocabulary = housing_df[feature_name].unique()\n",
        "    categorical_c = fc.categorical_column_with_vocabulary_list(feature_name, vocabulary)\n",
        "    one_hot = fc.indicator_column(categorical_c)\n",
        "    feature_columns.append(one_hot)"
      ],
      "execution_count": 33,
      "outputs": []
    },
    {
      "cell_type": "markdown",
      "metadata": {
        "id": "qnGyWaijzShj"
      },
      "source": [
        "### Bucketized Feature\n",
        "\n",
        "Often, you don't want to feed a number directly into the model, but instead split its value into different categories based on numerical ranges. Consider our raw data that represents a homes' age. Instead of representing the house age as a numeric column, we could split the home age into several buckets using a [bucketized column](https://www.tensorflow.org/api_docs/python/tf/feature_column/bucketized_column). Notice the one-hot values below describe which age range each row matches."
      ]
    },
    {
      "cell_type": "markdown",
      "metadata": {
        "id": "7ZRlFyP7fOw-"
      },
      "source": [
        "Next we create a bucketized column using 'housing_median_age'\n"
      ]
    },
    {
      "cell_type": "code",
      "metadata": {
        "id": "xB-yiVLmUnXp"
      },
      "source": [
        "# TODO 2c -- Your code here\n",
        "age = fc.numeric_column(\"housing_median_age\")\n",
        "\n",
        "age_buckets = fc.bucketized_column(age, boundaries=[10, 20, 30, 40, 50, 60, 80, 100])\n",
        "feature_columns.append(age_buckets)"
      ],
      "execution_count": 34,
      "outputs": []
    },
    {
      "cell_type": "markdown",
      "metadata": {
        "id": "Ri4_wssOg943"
      },
      "source": [
        "### Feature Cross\n",
        "\n",
        "Combining features into a single feature, better known as [feature crosses](https://developers.google.com/machine-learning/glossary/#feature_cross), enables a model to learn separate weights for each combination of features."
      ]
    },
    {
      "cell_type": "markdown",
      "metadata": {
        "id": "a6HHJl3J0j0T"
      },
      "source": [
        "Next, we create a feature cross of 'housing_median_age' and 'ocean_proximity'."
      ]
    },
    {
      "cell_type": "code",
      "metadata": {
        "id": "JVLnG0WbUnkl"
      },
      "source": [
        "# TODO 2d -- Your code here\n",
        "vocabulary = housing_df['ocean_proximity'].unique()\n",
        "ocean_proximity = fc.categorical_column_with_vocabulary_list('ocean_proximity',\n",
        "                                                             vocabulary)\n",
        "\n",
        "crossed_feature = fc.crossed_column([age_buckets, ocean_proximity],\n",
        "                                    hash_bucket_size=1000)\n",
        "crossed_feature = fc.indicator_column(crossed_feature)\n",
        "feature_columns.append(crossed_feature)"
      ],
      "execution_count": 35,
      "outputs": []
    },
    {
      "cell_type": "markdown",
      "metadata": {
        "id": "hiz6HCWg1CXO"
      },
      "source": [
        "Next, we should validate the total number of feature columns.  Compare this number to the number of numeric features you input earlier."
      ]
    },
    {
      "cell_type": "code",
      "metadata": {
        "colab": {
          "base_uri": "https://localhost:8080/"
        },
        "id": "6P3Ewc3_Unsv",
        "outputId": "7327733c-e264-440b-a988-1b24cef8416b"
      },
      "source": [
        "print('Total number of feature columns: ', len(feature_columns))"
      ],
      "execution_count": 36,
      "outputs": [
        {
          "output_type": "stream",
          "text": [
            "Total number of feature columns:  11\n"
          ],
          "name": "stdout"
        }
      ]
    },
    {
      "cell_type": "markdown",
      "metadata": {
        "id": "lNr00mP41sJp"
      },
      "source": [
        "Next, we will run this cell to compile and fit the Keras Sequential model.  This is the same model we ran earlier."
      ]
    },
    {
      "cell_type": "code",
      "metadata": {
        "colab": {
          "base_uri": "https://localhost:8080/"
        },
        "id": "4Dwal3oxUoCe",
        "outputId": "6eb6343d-2dab-4e6d-fdef-54a68a596c27"
      },
      "source": [
        "# Model create\n",
        "feature_layer = tf.keras.layers.DenseFeatures(feature_columns,\n",
        "                                              dtype='float64')\n",
        "\n",
        "model = tf.keras.Sequential([\n",
        "  feature_layer,\n",
        "  layers.Dense(12, input_dim=8, activation='relu'),\n",
        "  layers.Dense(8, activation='relu'),\n",
        "  layers.Dense(1, activation='linear',  name='median_house_value')\n",
        "])\n",
        "\n",
        "# Model compile\n",
        "model.compile(optimizer='adam',\n",
        "              loss='mse',\n",
        "              metrics=['mse'])\n",
        "\n",
        "# Model Fit\n",
        "history = model.fit(train_ds,\n",
        "                    validation_data=val_ds,\n",
        "                    epochs=32)"
      ],
      "execution_count": 41,
      "outputs": [
        {
          "output_type": "stream",
          "text": [
            "Epoch 1/32\n",
            "WARNING:tensorflow:Layers in a Sequential model should only have a single input tensor, but we receive a <class 'dict'> input: {'longitude': <tf.Tensor 'ExpandDims_3:0' shape=(None, 1) dtype=float64>, 'latitude': <tf.Tensor 'ExpandDims_2:0' shape=(None, 1) dtype=float64>, 'housing_median_age': <tf.Tensor 'ExpandDims_1:0' shape=(None, 1) dtype=float64>, 'total_rooms': <tf.Tensor 'ExpandDims_8:0' shape=(None, 1) dtype=float64>, 'total_bedrooms': <tf.Tensor 'ExpandDims_7:0' shape=(None, 1) dtype=float64>, 'population': <tf.Tensor 'ExpandDims_6:0' shape=(None, 1) dtype=float64>, 'households': <tf.Tensor 'ExpandDims:0' shape=(None, 1) dtype=float64>, 'median_income': <tf.Tensor 'ExpandDims_4:0' shape=(None, 1) dtype=float64>, 'ocean_proximity': <tf.Tensor 'ExpandDims_5:0' shape=(None, 1) dtype=string>}\n",
            "Consider rewriting this model with the Functional API.\n",
            "WARNING:tensorflow:Layers in a Sequential model should only have a single input tensor, but we receive a <class 'dict'> input: {'longitude': <tf.Tensor 'ExpandDims_3:0' shape=(None, 1) dtype=float64>, 'latitude': <tf.Tensor 'ExpandDims_2:0' shape=(None, 1) dtype=float64>, 'housing_median_age': <tf.Tensor 'ExpandDims_1:0' shape=(None, 1) dtype=float64>, 'total_rooms': <tf.Tensor 'ExpandDims_8:0' shape=(None, 1) dtype=float64>, 'total_bedrooms': <tf.Tensor 'ExpandDims_7:0' shape=(None, 1) dtype=float64>, 'population': <tf.Tensor 'ExpandDims_6:0' shape=(None, 1) dtype=float64>, 'households': <tf.Tensor 'ExpandDims:0' shape=(None, 1) dtype=float64>, 'median_income': <tf.Tensor 'ExpandDims_4:0' shape=(None, 1) dtype=float64>, 'ocean_proximity': <tf.Tensor 'ExpandDims_5:0' shape=(None, 1) dtype=string>}\n",
            "Consider rewriting this model with the Functional API.\n",
            "393/409 [===========================>..] - ETA: 0s - loss: 55043468290.6056 - mse: 55043468290.6056WARNING:tensorflow:Layers in a Sequential model should only have a single input tensor, but we receive a <class 'dict'> input: {'longitude': <tf.Tensor 'ExpandDims_3:0' shape=(None, 1) dtype=float64>, 'latitude': <tf.Tensor 'ExpandDims_2:0' shape=(None, 1) dtype=float64>, 'housing_median_age': <tf.Tensor 'ExpandDims_1:0' shape=(None, 1) dtype=float64>, 'total_rooms': <tf.Tensor 'ExpandDims_8:0' shape=(None, 1) dtype=float64>, 'total_bedrooms': <tf.Tensor 'ExpandDims_7:0' shape=(None, 1) dtype=float64>, 'population': <tf.Tensor 'ExpandDims_6:0' shape=(None, 1) dtype=float64>, 'households': <tf.Tensor 'ExpandDims:0' shape=(None, 1) dtype=float64>, 'median_income': <tf.Tensor 'ExpandDims_4:0' shape=(None, 1) dtype=float64>, 'ocean_proximity': <tf.Tensor 'ExpandDims_5:0' shape=(None, 1) dtype=string>}\n",
            "Consider rewriting this model with the Functional API.\n",
            "409/409 [==============================] - 2s 3ms/step - loss: 54887225443.9024 - mse: 54887225443.9024 - val_loss: 40339685376.0000 - val_mse: 40339685376.0000\n",
            "Epoch 2/32\n",
            "409/409 [==============================] - 1s 2ms/step - loss: 34124680656.5463 - mse: 34124680656.5463 - val_loss: 26401234944.0000 - val_mse: 26401234944.0000\n",
            "Epoch 3/32\n",
            "409/409 [==============================] - 1s 3ms/step - loss: 26575869277.6585 - mse: 26575869277.6585 - val_loss: 25911869440.0000 - val_mse: 25911869440.0000\n",
            "Epoch 4/32\n",
            "409/409 [==============================] - 1s 3ms/step - loss: 26442752339.6683 - mse: 26442752339.6683 - val_loss: 25367556096.0000 - val_mse: 25367556096.0000\n",
            "Epoch 5/32\n",
            "409/409 [==============================] - 1s 3ms/step - loss: 26652091037.3463 - mse: 26652091037.3463 - val_loss: 24691800064.0000 - val_mse: 24691800064.0000\n",
            "Epoch 6/32\n",
            "409/409 [==============================] - 1s 3ms/step - loss: 24997568087.4146 - mse: 24997568087.4146 - val_loss: 23912081408.0000 - val_mse: 23912081408.0000\n",
            "Epoch 7/32\n",
            "409/409 [==============================] - 1s 3ms/step - loss: 24021875392.3122 - mse: 24021875392.3122 - val_loss: 23049924608.0000 - val_mse: 23049924608.0000\n",
            "Epoch 8/32\n",
            "409/409 [==============================] - 1s 3ms/step - loss: 23574725067.5512 - mse: 23574725067.5512 - val_loss: 22060351488.0000 - val_mse: 22060351488.0000\n",
            "Epoch 9/32\n",
            "409/409 [==============================] - 1s 3ms/step - loss: 22597715138.8098 - mse: 22597715138.8098 - val_loss: 20878727168.0000 - val_mse: 20878727168.0000\n",
            "Epoch 10/32\n",
            "409/409 [==============================] - 1s 3ms/step - loss: 20664129713.3268 - mse: 20664129713.3268 - val_loss: 19362914304.0000 - val_mse: 19362914304.0000\n",
            "Epoch 11/32\n",
            "409/409 [==============================] - 1s 3ms/step - loss: 19106395473.1707 - mse: 19106395473.1707 - val_loss: 17590953984.0000 - val_mse: 17590953984.0000\n",
            "Epoch 12/32\n",
            "409/409 [==============================] - 1s 3ms/step - loss: 17158591353.1317 - mse: 17158591353.1317 - val_loss: 15699479552.0000 - val_mse: 15699479552.0000\n",
            "Epoch 13/32\n",
            "409/409 [==============================] - 1s 2ms/step - loss: 15430064882.2634 - mse: 15430064882.2634 - val_loss: 14008999936.0000 - val_mse: 14008999936.0000\n",
            "Epoch 14/32\n",
            "409/409 [==============================] - 1s 3ms/step - loss: 13728220789.3854 - mse: 13728220789.3854 - val_loss: 12684254208.0000 - val_mse: 12684254208.0000\n",
            "Epoch 15/32\n",
            "409/409 [==============================] - 1s 2ms/step - loss: 12556145540.3707 - mse: 12556145540.3707 - val_loss: 11810078720.0000 - val_mse: 11810078720.0000\n",
            "Epoch 16/32\n",
            "409/409 [==============================] - 1s 2ms/step - loss: 11796492138.1463 - mse: 11796492138.1463 - val_loss: 11293479936.0000 - val_mse: 11293479936.0000\n",
            "Epoch 17/32\n",
            "409/409 [==============================] - 1s 2ms/step - loss: 11755534413.4244 - mse: 11755534413.4244 - val_loss: 11089383424.0000 - val_mse: 11089383424.0000\n",
            "Epoch 18/32\n",
            "409/409 [==============================] - 1s 3ms/step - loss: 11157769573.1512 - mse: 11157769573.1512 - val_loss: 11022894080.0000 - val_mse: 11022894080.0000\n",
            "Epoch 19/32\n",
            "409/409 [==============================] - 1s 2ms/step - loss: 10887313210.6927 - mse: 10887313210.6927 - val_loss: 10880688128.0000 - val_mse: 10880688128.0000\n",
            "Epoch 20/32\n",
            "409/409 [==============================] - 1s 3ms/step - loss: 11031239342.8293 - mse: 11031239342.8293 - val_loss: 10812954624.0000 - val_mse: 10812954624.0000\n",
            "Epoch 21/32\n",
            "409/409 [==============================] - 1s 3ms/step - loss: 10838099690.7707 - mse: 10838099690.7707 - val_loss: 10790769664.0000 - val_mse: 10790769664.0000\n",
            "Epoch 22/32\n",
            "409/409 [==============================] - 1s 2ms/step - loss: 10980958933.5415 - mse: 10980958933.5415 - val_loss: 10714742784.0000 - val_mse: 10714742784.0000\n",
            "Epoch 23/32\n",
            "409/409 [==============================] - 1s 3ms/step - loss: 10939659688.5854 - mse: 10939659688.5854 - val_loss: 10620436480.0000 - val_mse: 10620436480.0000\n",
            "Epoch 24/32\n",
            "409/409 [==============================] - 1s 3ms/step - loss: 10631812124.7220 - mse: 10631812124.7220 - val_loss: 10596870144.0000 - val_mse: 10596870144.0000\n",
            "Epoch 25/32\n",
            "409/409 [==============================] - 1s 2ms/step - loss: 10431502542.0488 - mse: 10431502542.0488 - val_loss: 10524865536.0000 - val_mse: 10524865536.0000\n",
            "Epoch 26/32\n",
            "409/409 [==============================] - 1s 3ms/step - loss: 10555811185.6390 - mse: 10555811185.6390 - val_loss: 10424094720.0000 - val_mse: 10424094720.0000\n",
            "Epoch 27/32\n",
            "409/409 [==============================] - 1s 3ms/step - loss: 10670097250.6537 - mse: 10670097250.6537 - val_loss: 10357462016.0000 - val_mse: 10357462016.0000\n",
            "Epoch 28/32\n",
            "409/409 [==============================] - 1s 2ms/step - loss: 10503783683.7463 - mse: 10503783683.7463 - val_loss: 10315494400.0000 - val_mse: 10315494400.0000\n",
            "Epoch 29/32\n",
            "409/409 [==============================] - 1s 3ms/step - loss: 10341111111.1805 - mse: 10341111111.1805 - val_loss: 10253302784.0000 - val_mse: 10253302784.0000\n",
            "Epoch 30/32\n",
            "409/409 [==============================] - 1s 3ms/step - loss: 10276475661.7366 - mse: 10276475661.7366 - val_loss: 10180889600.0000 - val_mse: 10180889600.0000\n",
            "Epoch 31/32\n",
            "409/409 [==============================] - 1s 3ms/step - loss: 10368961103.9220 - mse: 10368961103.9220 - val_loss: 10133144576.0000 - val_mse: 10133144576.0000\n",
            "Epoch 32/32\n",
            "409/409 [==============================] - 1s 2ms/step - loss: 10110234024.5854 - mse: 10110234024.5854 - val_loss: 10026179584.0000 - val_mse: 10026179584.0000\n"
          ],
          "name": "stdout"
        }
      ]
    },
    {
      "cell_type": "markdown",
      "metadata": {
        "id": "3LdUQszM16Oj"
      },
      "source": [
        "Next, we show loss and mean squared error then plot the model."
      ]
    },
    {
      "cell_type": "code",
      "metadata": {
        "colab": {
          "base_uri": "https://localhost:8080/"
        },
        "id": "ZtFSpkd9UoAW",
        "outputId": "9f90d948-5de3-4b01-a8f6-f2129b23abcb"
      },
      "source": [
        "loss, mse = model.evaluate(train_ds)\n",
        "print(\"Mean Squared Error\", mse)"
      ],
      "execution_count": 42,
      "outputs": [
        {
          "output_type": "stream",
          "text": [
            "409/409 [==============================] - 1s 2ms/step - loss: 10150929408.0000 - mse: 10150929408.0000\n",
            "Mean Squared Error 10150929408.0\n"
          ],
          "name": "stdout"
        }
      ]
    },
    {
      "cell_type": "code",
      "metadata": {
        "colab": {
          "base_uri": "https://localhost:8080/",
          "height": 350
        },
        "id": "O8kWMa6xUn-M",
        "outputId": "6b997c37-01cd-4b99-8c03-e7b716b05682"
      },
      "source": [
        "plot_curves(history, ['loss', 'mse'])"
      ],
      "execution_count": 43,
      "outputs": [
        {
          "output_type": "display_data",
          "data": {
            "image/png": "[encoded data removed]",
            "text/plain": [
              "<Figure size 720x360 with 2 Axes>"
            ]
          },
          "metadata": {
            "tags": [],
            "needs_background": "light"
          }
        }
      ]
    },
    {
      "cell_type": "markdown",
      "metadata": {
        "id": "C4tWwOQt2e-P"
      },
      "source": [
        "Next we create a prediction model.  Note:  You may use the same values from the previous prediciton.  "
      ]
    },
    {
      "cell_type": "code",
      "metadata": {
        "colab": {
          "base_uri": "https://localhost:8080/"
        },
        "id": "stc05DJslWbK",
        "outputId": "09b54f13-3858-40da-dae0-e8059bb37642"
      },
      "source": [
        "# TODO 2e -- Your code here\n",
        "model.predict({\n",
        "    'longitude': tf.convert_to_tensor([-122.43]),\n",
        "    'latitude': tf.convert_to_tensor([37.63]),\n",
        "    'housing_median_age': tf.convert_to_tensor([34.0]),\n",
        "    'total_rooms': tf.convert_to_tensor([4135.0]),\n",
        "    'total_bedrooms': tf.convert_to_tensor([687.0]),\n",
        "    'population': tf.convert_to_tensor([2154.0]),\n",
        "    'households': tf.convert_to_tensor([742.0]),\n",
        "    'median_income': tf.convert_to_tensor([4.9732]),\n",
        "    'ocean_proximity': tf.convert_to_tensor(['NEAR OCEAN'])\n",
        "}, steps=1)"
      ],
      "execution_count": 44,
      "outputs": [
        {
          "output_type": "stream",
          "text": [
            "WARNING:tensorflow:Layers in a Sequential model should only have a single input tensor, but we receive a <class 'dict'> input: {'longitude': <tf.Tensor 'ExpandDims_3:0' shape=(1, 1) dtype=float32>, 'latitude': <tf.Tensor 'ExpandDims_2:0' shape=(1, 1) dtype=float32>, 'housing_median_age': <tf.Tensor 'ExpandDims_1:0' shape=(1, 1) dtype=float32>, 'total_rooms': <tf.Tensor 'ExpandDims_8:0' shape=(1, 1) dtype=float32>, 'total_bedrooms': <tf.Tensor 'ExpandDims_7:0' shape=(1, 1) dtype=float32>, 'population': <tf.Tensor 'ExpandDims_6:0' shape=(1, 1) dtype=float32>, 'households': <tf.Tensor 'ExpandDims:0' shape=(1, 1) dtype=float32>, 'median_income': <tf.Tensor 'ExpandDims_4:0' shape=(1, 1) dtype=float32>, 'ocean_proximity': <tf.Tensor 'ExpandDims_5:0' shape=(1, 1) dtype=string>}\n",
            "Consider rewriting this model with the Functional API.\n"
          ],
          "name": "stdout"
        },
        {
          "output_type": "execute_result",
          "data": {
            "text/plain": [
              "array([[233544.7]], dtype=float32)"
            ]
          },
          "metadata": {
            "tags": []
          },
          "execution_count": 44
        }
      ]
    },
    {
      "cell_type": "markdown",
      "metadata": {
        "id": "rcbdA3arXkej"
      },
      "source": [
        "### Analysis \n",
        "\n",
        "The array returns a predicted value.  Compare this value to the test set you ran earlier. Your predicted value may be a bit better.\n",
        "\n",
        "Now that you have your \"feature engineering template\" setup, you can experiment by creating additional features.  For example, you can create derived features, such as households per population, and see how they impact the model.  You can also experiment with replacing the features you used to create the feature cross.\n",
        " "
      ]
    },
    {
      "cell_type": "markdown",
      "metadata": {
        "id": "25MfuoR7lWbL"
      },
      "source": [
        "Copyright 2020 Google Inc.\n",
        "Licensed under the Apache License, Version 2.0 (the \"License\"); you may not use this file except in compliance with the License. You may obtain a copy of the License at\n",
        "http://www.apache.org/licenses/LICENSE-2.0\n",
        "Unless required by applicable law or agreed to in writing, software distributed under the License is distributed on an \"AS IS\" BASIS, WITHOUT WARRANTIES OR CONDITIONS OF ANY KIND, either express or implied. See the License for the specific language governing permissions and limitations under the License."
      ]
    }
  ]
}