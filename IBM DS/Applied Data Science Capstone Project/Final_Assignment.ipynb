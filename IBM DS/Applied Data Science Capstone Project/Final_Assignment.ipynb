{
  "nbformat": 4,
  "nbformat_minor": 0,
  "metadata": {
    "colab": {
      "name": "Final Assignment",
      "provenance": [],
      "authorship_tag": "ABX9TyMNvEj49JaTljDKsvgZWGAL",
      "include_colab_link": true
    },
    "kernelspec": {
      "name": "python3",
      "display_name": "Python 3"
    }
  },
  "cells": [
    {
      "cell_type": "markdown",
      "metadata": {
        "id": "view-in-github",
        "colab_type": "text"
      },
      "source": [
        "<a href=\"https://colab.research.google.com/github/QuanPhamAnh/Coursera_Capstone/blob/main/IBM%20DS/Applied%20Data%20Science%20Capstone%20Project/Final_Assignment.ipynb\" target=\"_parent\"><img src=\"https://colab.research.google.com/assets/colab-badge.svg\" alt=\"Open In Colab\"/></a>"
      ]
    },
    {
      "cell_type": "markdown",
      "metadata": {
        "id": "nv2BFZTazATO"
      },
      "source": [
        "# <center>IBM Data Science Course Capstone Project</center>\r\n"
      ]
    },
    {
      "cell_type": "markdown",
      "metadata": {
        "id": "Ptf7Bw6OzSbP"
      },
      "source": [
        "## Introduction"
      ]
    },
    {
      "cell_type": "markdown",
      "metadata": {
        "id": "1cRF43-mzUZ1"
      },
      "source": [
        "This is my final effort for my first steps in Data Science career by finishing IBM Data Science Professional Certificate course. Here is my report for the capstone project of that course. I will use data science toolset I have learned on a real-life problem. I used Python to perform analysis and you can find the notebook at the end of the post for more information."
      ]
    },
    {
      "cell_type": "markdown",
      "metadata": {
        "id": "83n6TT6Z0YyV"
      },
      "source": [
        "## Business Problem"
      ]
    },
    {
      "cell_type": "markdown",
      "metadata": {
        "id": "Mip_JVGM021L"
      },
      "source": [
        "Assume there is a businessman who wants to open a brand new restaurant in Vietnam. So, he wants to know where should he open his restaurant and what cuisine it would serves. Therefore, he as me to analyse and solve that problem\r\n",
        "\r\n"
      ]
    },
    {
      "cell_type": "markdown",
      "metadata": {
        "id": "AdMU81uN5YOv"
      },
      "source": [
        "The assumption behind the analysis is that we use unsupervised machine learning, in this case is k-means cluster, to create clusters of pin location in two biggest city in Vietnam (Ha Noi and Ho Chi Minh City) and that will provide us with areas for consideration for the restaurant and which cuisine it should serve."
      ]
    },
    {
      "cell_type": "markdown",
      "metadata": {
        "id": "SbdUq2-F4SQM"
      },
      "source": [
        "## Data"
      ]
    },
    {
      "cell_type": "markdown",
      "metadata": {
        "id": "KIFDhdhU4aRx"
      },
      "source": [
        "For this project, we need the following data:\r\n",
        "\r\n",
        "\r\n",
        "1.   Information of restaurants in Ha Noi and Ho Chi Minh City: We can get this data from Foursquare like what we have learned. But in Vietnam, Foursquare data is not good as [Foody](https://foody.vn). <br><br>\r\n",
        "Foody is a Vietnam-based company provides food recommendations, restaurant listings and value added services such as order delivery, reservations, vouchers or coupons to create culinary experiences for the customers in the local market. With more than 12,842,743 monthly web visitors, Foody.vn is ranked 16,868 among websites globally (March 7th, 2021). <br><br>\r\n",
        "However, foody doesn't public there API (or I don't know where it is), so I have to crawl data using *requests* and *BeautifulSoup*.\r\n",
        "\r\n",
        "\r\n",
        "2.   List of post location in Ha Noi and Ho Chi Minh City: postcode system in Vietnam is not very useful and I can't use geocode to get latitude and longitude from address. Therefore, I use data from [postcodequery](https://postcodequery.com) to get address and GPS coordinates of location.\r\n",
        "\r\n"
      ]
    },
    {
      "cell_type": "markdown",
      "metadata": {
        "id": "w_eplXkD5Ue3"
      },
      "source": [
        ""
      ]
    },
    {
      "cell_type": "code",
      "metadata": {
        "id": "t_xdRJRbzQqi"
      },
      "source": [
        ""
      ],
      "execution_count": null,
      "outputs": []
    }
  ]
}