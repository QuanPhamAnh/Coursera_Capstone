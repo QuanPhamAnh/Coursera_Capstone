{
  "nbformat": 4,
  "nbformat_minor": 0,
  "metadata": {
    "colab": {
      "name": "Final Assignment",
      "provenance": [],
      "authorship_tag": "ABX9TyPIBdeFun0XPKhyWUpc0P3O",
      "include_colab_link": true
    },
    "kernelspec": {
      "name": "python3",
      "display_name": "Python 3"
    }
  },
  "cells": [
    {
      "cell_type": "markdown",
      "metadata": {
        "id": "view-in-github",
        "colab_type": "text"
      },
      "source": [
        "<a href=\"https://colab.research.google.com/github/QuanPhamAnh/Coursera_Capstone/blob/main/Coursera_Capstone/IBM%20DS/Applied%20Data%20Science%20Capstone%20Project/Week%204-5/Final_Assignment.ipynb\" target=\"_parent\"><img src=\"https://colab.research.google.com/assets/colab-badge.svg\" alt=\"Open In Colab\"/></a>"
      ]
    },
    {
      "cell_type": "markdown",
      "metadata": {
        "id": "nv2BFZTazATO"
      },
      "source": [
        "# <center>IBM Data Science Course Capstone Project</center>\r\n"
      ]
    },
    {
      "cell_type": "markdown",
      "metadata": {
        "id": "Ptf7Bw6OzSbP"
      },
      "source": [
        "## Introduction"
      ]
    },
    {
      "cell_type": "markdown",
      "metadata": {
        "id": "1cRF43-mzUZ1"
      },
      "source": [
        "This is my final effort for my first steps in Data Science career by finishing IBM Data Science Professional Certificate course. Here is my report for the capstone project of that course. I will use data science toolset I have learned on a real-life problem. I used Python to perform analysis and you can find the notebook at the end of the post for more information."
      ]
    },
    {
      "cell_type": "markdown",
      "metadata": {
        "id": "83n6TT6Z0YyV"
      },
      "source": [
        "## Business Problem"
      ]
    },
    {
      "cell_type": "markdown",
      "metadata": {
        "id": "Mip_JVGM021L"
      },
      "source": [
        "Assume there is a businessman who wants to open a brand new restaurant in Vietnam. So, he wants to know where should he open his restaurant and what cuisine it would serves. Therefore, he as me to analyse and solve that problem\r\n",
        "\r\n"
      ]
    },
    {
      "cell_type": "markdown",
      "metadata": {
        "id": "AdMU81uN5YOv"
      },
      "source": [
        "The assumption behind the analysis is that we use unsupervised machine learning, in this case is k-means cluster, to create clusters of pin location in two biggest city in Vietnam (Ha Noi and Ho Chi Minh City) and that will provide us with areas for consideration for the restaurant and which cuisine it should serve."
      ]
    },
    {
      "cell_type": "markdown",
      "metadata": {
        "id": "SbdUq2-F4SQM"
      },
      "source": [
        "## Data"
      ]
    },
    {
      "cell_type": "markdown",
      "metadata": {
        "id": "KIFDhdhU4aRx"
      },
      "source": [
        "For this project, we need the following data:\r\n",
        "\r\n",
        "\r\n",
        "1.   Information of restaurants in Ha Noi and Ho Chi Minh City: We can get this data from Foursquare like what we have learned. But in Vietnam, Foursquare data is not good as [Foody](https://foody.vn). <br><br>\r\n",
        "Foody is a Vietnam-based company provides food recommendations, restaurant listings and value added services such as order delivery, reservations, vouchers or coupons to create culinary experiences for the customers in the local market. With more than 12,842,743 monthly web visitors, Foody.vn is ranked 16,868 among websites globally (March 7th, 2021). <br><br>\r\n",
        "However, foody doesn't public there API (or I don't know where it is), so I have to crawl data using *requests* and *BeautifulSoup*.<br><br>\r\n",
        "Data from Foody contain many features of restaurants we can use in our project: location, cuisine, rating, number of reviews, check in,...\r\n",
        "\r\n"
      ]
    },
    {
      "cell_type": "code",
      "metadata": {
        "colab": {
          "base_uri": "https://localhost:8080/",
          "height": 204
        },
        "id": "nViCY7yIAZQF",
        "outputId": "a8adc838-41ec-4ec9-f54d-b2fb77deee84"
      },
      "source": [
        "sub_result.head()"
      ],
      "execution_count": 8,
      "outputs": [
        {
          "output_type": "execute_result",
          "data": {
            "text/html": [
              "<div>\n",
              "<style scoped>\n",
              "    .dataframe tbody tr th:only-of-type {\n",
              "        vertical-align: middle;\n",
              "    }\n",
              "\n",
              "    .dataframe tbody tr th {\n",
              "        vertical-align: top;\n",
              "    }\n",
              "\n",
              "    .dataframe thead th {\n",
              "        text-align: right;\n",
              "    }\n",
              "</style>\n",
              "<table border=\"1\" class=\"dataframe\">\n",
              "  <thead>\n",
              "    <tr style=\"text-align: right;\">\n",
              "      <th></th>\n",
              "      <th>Name</th>\n",
              "      <th>Address</th>\n",
              "      <th>District</th>\n",
              "      <th>City</th>\n",
              "      <th>Rating</th>\n",
              "      <th>Cuisine</th>\n",
              "      <th>Latitude</th>\n",
              "      <th>Longitude</th>\n",
              "      <th>Total Check-in</th>\n",
              "    </tr>\n",
              "  </thead>\n",
              "  <tbody>\n",
              "    <tr>\n",
              "      <th>0</th>\n",
              "      <td>Pizza 4P’s - Pizza Kiểu Nhật - Lê Thánh Tôn</td>\n",
              "      <td>8/15 Lê Thánh Tôn, P. Bến Nghé</td>\n",
              "      <td>Quận 1</td>\n",
              "      <td>TP. HCM</td>\n",
              "      <td>8.0</td>\n",
              "      <td>Ý</td>\n",
              "      <td>10.781878</td>\n",
              "      <td>106.705055</td>\n",
              "      <td>516</td>\n",
              "    </tr>\n",
              "    <tr>\n",
              "      <th>1</th>\n",
              "      <td>Pizza 4P's - Pizza Kiểu Nhật - Thủ Khoa Huân</td>\n",
              "      <td>8 Thủ Khoa Huân, P. Bến Thành</td>\n",
              "      <td>Quận 1</td>\n",
              "      <td>TP. HCM</td>\n",
              "      <td>8.4</td>\n",
              "      <td>Ý</td>\n",
              "      <td>10.773458</td>\n",
              "      <td>106.697516</td>\n",
              "      <td>53</td>\n",
              "    </tr>\n",
              "    <tr>\n",
              "      <th>2</th>\n",
              "      <td>Pizza 4P’s - Pizza Kiểu Nhật - Nguyễn Văn Linh</td>\n",
              "      <td>Lô MD2, Nguyễn Văn Linh, P Tân Phú</td>\n",
              "      <td>Quận 7</td>\n",
              "      <td>TP. HCM</td>\n",
              "      <td>8.1</td>\n",
              "      <td>Ý</td>\n",
              "      <td>10.731467</td>\n",
              "      <td>106.715654</td>\n",
              "      <td>59</td>\n",
              "    </tr>\n",
              "    <tr>\n",
              "      <th>3</th>\n",
              "      <td>Pizza 4P's - Pizza Kiểu Nhật - Hai Bà Trưng</td>\n",
              "      <td>151 Hai Bà Trưng</td>\n",
              "      <td>Quận 3</td>\n",
              "      <td>TP. HCM</td>\n",
              "      <td>8.2</td>\n",
              "      <td>Món Nhật</td>\n",
              "      <td>10.783351</td>\n",
              "      <td>106.697177</td>\n",
              "      <td>36</td>\n",
              "    </tr>\n",
              "    <tr>\n",
              "      <th>4</th>\n",
              "      <td>Pizza 4P's - Pizza Kiểu Nhật - Saigon Centre</td>\n",
              "      <td>01 - 2 Lầu 6 Saigon Centre, 65 Lê Lợi, P. Bến ...</td>\n",
              "      <td>Quận 1</td>\n",
              "      <td>TP. HCM</td>\n",
              "      <td>8.5</td>\n",
              "      <td>Món Nhật</td>\n",
              "      <td>10.773726</td>\n",
              "      <td>106.700877</td>\n",
              "      <td>26</td>\n",
              "    </tr>\n",
              "  </tbody>\n",
              "</table>\n",
              "</div>"
            ],
            "text/plain": [
              "                                             Name  ... Total Check-in\n",
              "0     Pizza 4P’s - Pizza Kiểu Nhật - Lê Thánh Tôn  ...            516\n",
              "1    Pizza 4P's - Pizza Kiểu Nhật - Thủ Khoa Huân  ...             53\n",
              "2  Pizza 4P’s - Pizza Kiểu Nhật - Nguyễn Văn Linh  ...             59\n",
              "3     Pizza 4P's - Pizza Kiểu Nhật - Hai Bà Trưng  ...             36\n",
              "4    Pizza 4P's - Pizza Kiểu Nhật - Saigon Centre  ...             26\n",
              "\n",
              "[5 rows x 9 columns]"
            ]
          },
          "metadata": {
            "tags": []
          },
          "execution_count": 8
        }
      ]
    },
    {
      "cell_type": "markdown",
      "metadata": {
        "id": "kLd9j_QzAcPR"
      },
      "source": [
        "\r\n",
        "2.   List of post location in Ha Noi and Ho Chi Minh City: postcode system in Vietnam is not very useful and I can't use geocode to get latitude and longitude from address. Therefore, I use data from [postcodequery](https://postcodequery.com) to get address and GPS coordinates of location.\r\n"
      ]
    },
    {
      "cell_type": "code",
      "metadata": {
        "colab": {
          "base_uri": "https://localhost:8080/",
          "height": 204
        },
        "id": "eXkGgoPLBVhk",
        "outputId": "595a20ed-9a2c-4849-b0e5-138ba91e98bc"
      },
      "source": [
        "pin_df.head()"
      ],
      "execution_count": 21,
      "outputs": [
        {
          "output_type": "execute_result",
          "data": {
            "text/html": [
              "<div>\n",
              "<style scoped>\n",
              "    .dataframe tbody tr th:only-of-type {\n",
              "        vertical-align: middle;\n",
              "    }\n",
              "\n",
              "    .dataframe tbody tr th {\n",
              "        vertical-align: top;\n",
              "    }\n",
              "\n",
              "    .dataframe thead th {\n",
              "        text-align: right;\n",
              "    }\n",
              "</style>\n",
              "<table border=\"1\" class=\"dataframe\">\n",
              "  <thead>\n",
              "    <tr style=\"text-align: right;\">\n",
              "      <th></th>\n",
              "      <th>Pin</th>\n",
              "      <th>Latitude</th>\n",
              "      <th>Longitude</th>\n",
              "    </tr>\n",
              "  </thead>\n",
              "  <tbody>\n",
              "    <tr>\n",
              "      <th>0</th>\n",
              "      <td>Cong Vi, Ba Dinh, Ha Noi (21.03482, 105.80894)</td>\n",
              "      <td>21.03482</td>\n",
              "      <td>105.80894</td>\n",
              "    </tr>\n",
              "    <tr>\n",
              "      <th>1</th>\n",
              "      <td>Giang Vo, Ba Dinh, Ha Noi (21.02755, 105.81743)</td>\n",
              "      <td>21.02755</td>\n",
              "      <td>105.81743</td>\n",
              "    </tr>\n",
              "    <tr>\n",
              "      <th>2</th>\n",
              "      <td>Kim Ma, Ba Dinh, Ha Noi (21.03080, 105.82352)</td>\n",
              "      <td>21.03080</td>\n",
              "      <td>105.82352</td>\n",
              "    </tr>\n",
              "    <tr>\n",
              "      <th>3</th>\n",
              "      <td>Lieu Giai, Ba Dinh, Ha Noi (21.03836, 105.81676)</td>\n",
              "      <td>21.03836</td>\n",
              "      <td>105.81676</td>\n",
              "    </tr>\n",
              "    <tr>\n",
              "      <th>4</th>\n",
              "      <td>Ngoc Ha, Ba Dinh, Ha Noi (21.03872, 105.82751)</td>\n",
              "      <td>21.03872</td>\n",
              "      <td>105.82751</td>\n",
              "    </tr>\n",
              "  </tbody>\n",
              "</table>\n",
              "</div>"
            ],
            "text/plain": [
              "                                                Pin  Latitude  Longitude\n",
              "0    Cong Vi, Ba Dinh, Ha Noi (21.03482, 105.80894)  21.03482  105.80894\n",
              "1   Giang Vo, Ba Dinh, Ha Noi (21.02755, 105.81743)  21.02755  105.81743\n",
              "2     Kim Ma, Ba Dinh, Ha Noi (21.03080, 105.82352)  21.03080  105.82352\n",
              "3  Lieu Giai, Ba Dinh, Ha Noi (21.03836, 105.81676)  21.03836  105.81676\n",
              "4    Ngoc Ha, Ba Dinh, Ha Noi (21.03872, 105.82751)  21.03872  105.82751"
            ]
          },
          "metadata": {
            "tags": []
          },
          "execution_count": 21
        }
      ]
    }
  ]
}